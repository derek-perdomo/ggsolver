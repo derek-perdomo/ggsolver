{
 "cells": [
  {
   "cell_type": "markdown",
   "source": [
    "# Logic of Preference over LTL Specifications\n",
    "\n",
    "This example demonstrates how to\n",
    "* define a PrefLTL formula (syntax)\n",
    "* visualize the preference model induced by PrefLTL formula.\n",
    "\n",
    "\n",
    "**Syntax**:\n",
    "PrefLTL formulas are defined over LTL formulas, whereas PrefScLTL formulas restrict the LTL formulas to be\n",
    "\"guarantee\" formulas only (see Manna Pnueli Hierarchy).\n",
    "\n",
    "Here we will focus on PrefScLTL formulas.\n",
    "\n",
    "PrefScLTL formulas:\n",
    "* atoms: Any string acceptable by `/[a-z][A-Za-z0-9_]/`.\n",
    "* propositional operators:\n",
    "    - `!` Negation\n",
    "    - `&` And\n",
    "    - `|` Or\n",
    "* temporal operators:\n",
    "    - `F` Eventually\n",
    "    - `U` Until\n",
    "    - `G` Always\n",
    "* preference operators:\n",
    "    - `>=` weak preference\n",
    "    - `>` strict preference\n",
    "    - `~` indifference\n",
    "    - `<>` incomparable\n",
    "    - `&&` generalized-And.\n",
    "    - `||` generalized-Or.  (Note: current model doesn't support Or-ing of preference formulas).\n"
   ],
   "metadata": {
    "collapsed": false,
    "pycharm": {
     "name": "#%% md\n"
    }
   }
  },
  {
   "cell_type": "code",
   "execution_count": 2,
   "outputs": [
    {
     "name": "stderr",
     "output_type": "stream",
     "text": [
      "ERROR:root:\u001B[91m[ERROR] logic.pl could not be loaded. Logic functionality will not work. \n",
      "Error: cannot import name 'Automaton' from partially initialized module 'ggsolver.models' (most likely due to a circular import) (/home/ggsolver/ggsolver/models.py)\u001B[0m\n"
     ]
    }
   ],
   "source": [
    "import os\n",
    "import sys\n",
    "\n",
    "sys.path.append(\"/home/ggsolver\")\n",
    "from ggsolver.logic.prefltl import PrefScLTL, ParsingError"
   ],
   "metadata": {
    "collapsed": false,
    "pycharm": {
     "name": "#%%\n"
    }
   }
  },
  {
   "cell_type": "markdown",
   "source": [
    "## Default construction of PrefScLTL formulas.\n"
   ],
   "metadata": {
    "collapsed": false,
    "pycharm": {
     "name": "#%% md\n"
    }
   }
  },
  {
   "cell_type": "code",
   "execution_count": 3,
   "outputs": [
    {
     "name": "stdout",
     "output_type": "stream",
     "text": [
      "Fa >= Fb\n",
      "Fb > a U Fb\n"
     ]
    }
   ],
   "source": [
    "f0 = PrefScLTL(\"Fa >= Fb\")\n",
    "f1 = PrefScLTL(\"Fb > a U Fb\")\n",
    "\n",
    "print(f0)\n",
    "print(f1)"
   ],
   "metadata": {
    "collapsed": false,
    "pycharm": {
     "name": "#%%\n"
    }
   }
  },
  {
   "cell_type": "markdown",
   "source": [
    "If input LTL formulas are not guarantee formulas, a ParsingError will be raised."
   ],
   "metadata": {
    "collapsed": false,
    "pycharm": {
     "name": "#%% md\n"
    }
   }
  },
  {
   "cell_type": "code",
   "execution_count": 4,
   "outputs": [
    {
     "name": "stdout",
     "output_type": "stream",
     "text": [
      "ParsingError: Given formula: Gb is not an ScLTL formula.\n"
     ]
    }
   ],
   "source": [
    "try:\n",
    "    f2 = PrefScLTL(\"Fa > Gb\")\n",
    "except ParsingError as err:\n",
    "    print(f\"ParsingError: {err}\")"
   ],
   "metadata": {
    "collapsed": false,
    "pycharm": {
     "name": "#%%\n"
    }
   }
  },
  {
   "cell_type": "markdown",
   "source": [
    "## Basic properties of PrefScLTL formula\n",
    "\n",
    "An instance of PrefScLTL automatically collects all atoms and outcomes (i.e. LTL formulas) appearing in it.\n",
    "It also generates a preference model."
   ],
   "metadata": {
    "collapsed": false,
    "pycharm": {
     "name": "#%% md\n"
    }
   }
  },
  {
   "cell_type": "code",
   "execution_count": 5,
   "outputs": [
    {
     "name": "stdout",
     "output_type": "stream",
     "text": [
      "f.atoms()={'a', 'b'}\n",
      "f.outcomes()=[LTL((! Fb) & (!Fa )), LTL( Fb), LTL(Fa )]\n",
      "f.model()=<ggsolver.logic.prefltl.PrefModel object at 0x7fc8592e6e20>\n"
     ]
    }
   ],
   "source": [
    "f = PrefScLTL(\"Fa >= Fb\")\n",
    "print(f\"{f.atoms()=}\")\n",
    "print(f\"{f.outcomes()=}\")\n",
    "print(f\"{f.model()=}\")"
   ],
   "metadata": {
    "collapsed": false,
    "pycharm": {
     "name": "#%%\n"
    }
   }
  },
  {
   "cell_type": "markdown",
   "source": [
    "The preference model is a PrefModel object, which represents the following tuple\n",
    "$$P = \\langle U, \\succeq\\rangle$$\n",
    "\n",
    "In addition, it also stores the same set of atoms as PrefScLTL formula."
   ],
   "metadata": {
    "collapsed": false,
    "pycharm": {
     "name": "#%% md\n"
    }
   }
  },
  {
   "cell_type": "code",
   "execution_count": 6,
   "outputs": [
    {
     "name": "stdout",
     "output_type": "stream",
     "text": [
      "model.outcomes()=[LTL((! Fb) & (!Fa )), LTL( Fb), LTL(Fa )]\n",
      "model.relation()={(2, 1), (0, 0), (1, 1), (2, 0), (2, 2), (1, 0)}\n",
      "model.atoms()={'a', 'b'}\n"
     ]
    }
   ],
   "source": [
    "model = f.model()\n",
    "\n",
    "print(f\"{model.outcomes()=}\")\n",
    "print(f\"{model.relation()=}\")\n",
    "print(f\"{model.atoms()=}\")"
   ],
   "metadata": {
    "collapsed": false,
    "pycharm": {
     "name": "#%%\n"
    }
   }
  },
  {
   "cell_type": "markdown",
   "source": [
    "We note two facts regarding outcomes and relation.\n",
    "\n",
    "1. The set of outcomes is complete. That is, the formula `LTL((! Fb) & (!Fa ))` which is not in formula is added.\n",
    "2. The relation contains tuples `(i, j)` representing that `outcomes[i]` is weakly preferred to `outcomes[j]`. The relation is reflexive and transitive. By default, satisfying some outcome is assumed to be strictly preferred to satisfying none of the outcomes in formula.\n",
    "\n",
    "The following code prints the preference relations as formulas.\n"
   ],
   "metadata": {
    "collapsed": false,
    "pycharm": {
     "name": "#%% md\n"
    }
   }
  },
  {
   "cell_type": "code",
   "execution_count": 7,
   "outputs": [
    {
     "name": "stdout",
     "output_type": "stream",
     "text": [
      "Fa  >=  Fb\n",
      "(! Fb) & (!Fa ) >= (! Fb) & (!Fa )\n",
      " Fb >=  Fb\n",
      "Fa  >= (! Fb) & (!Fa )\n",
      "Fa  >= Fa \n",
      " Fb >= (! Fb) & (!Fa )\n"
     ]
    }
   ],
   "source": [
    "for out1, out2 in model.relation():\n",
    "    print(f\"{model.index2outcome(out1)} >= {model.index2outcome(out2)}\")"
   ],
   "metadata": {
    "collapsed": false,
    "pycharm": {
     "name": "#%%\n"
    }
   }
  },
  {
   "cell_type": "markdown",
   "source": [
    "The model can also be visualized as a graph."
   ],
   "metadata": {
    "collapsed": false,
    "pycharm": {
     "name": "#%% md\n"
    }
   }
  },
  {
   "cell_type": "code",
   "execution_count": 8,
   "outputs": [],
   "source": [
    "img_path = os.path.join(\"home\", \"ggsolver\", \"examples\", \"notebooks\", \"logic\", \"out\")"
   ],
   "metadata": {
    "collapsed": false,
    "pycharm": {
     "name": "#%%\n"
    }
   }
  },
  {
   "cell_type": "code",
   "execution_count": 9,
   "outputs": [],
   "source": [
    "graph = model.graphify()\n",
    "graph.to_png(os.path.join(img_path, \"graph.png\"), nlabel=[\"state\"])"
   ],
   "metadata": {
    "collapsed": false,
    "pycharm": {
     "name": "#%%\n"
    }
   }
  },
  {
   "cell_type": "code",
   "execution_count": 10,
   "outputs": [
    {
     "data": {
      "image/png": "[encoded data removed]",
      "text/plain": "<IPython.core.display.Image object>"
     },
     "execution_count": 10,
     "metadata": {},
     "output_type": "execute_result"
    }
   ],
   "source": [
    "from IPython.display import Image\n",
    "Image(filename=os.path.join(img_path, \"graph.png\"))"
   ],
   "metadata": {
    "collapsed": false,
    "pycharm": {
     "name": "#%%\n"
    }
   }
  },
  {
   "cell_type": "markdown",
   "source": [
    "## Construction Parameters\n",
    "\n",
    "PrefScLTL Constructor takes two optional parameters.\n",
    "\n",
    "1. `atoms: set(str)` which allows users to specify atoms that do not appear in PrefScLTL formula.\n",
    "2. `null_assumption: bool` which allows users to specify if satisfying some outcome should be considered to be strictly preferred to satisfying none of them.\n",
    "\n",
    "We illustrate each parameter separately."
   ],
   "metadata": {
    "collapsed": false,
    "pycharm": {
     "name": "#%% md\n"
    }
   }
  },
  {
   "cell_type": "code",
   "execution_count": 11,
   "outputs": [
    {
     "data": {
      "text/plain": "{'a', 'b', 'c'}"
     },
     "execution_count": 11,
     "metadata": {},
     "output_type": "execute_result"
    }
   ],
   "source": [
    "f = PrefScLTL(\"Fa > Fb\", atoms={'c'})\n",
    "f.atoms()"
   ],
   "metadata": {
    "collapsed": false,
    "pycharm": {
     "name": "#%%\n"
    }
   }
  },
  {
   "cell_type": "markdown",
   "source": [
    "As seen in above example, the user provided atoms are added to set of atoms collected from given formula.\n",
    "\n",
    "Next, we show a model generated with and without the null assumption."
   ],
   "metadata": {
    "collapsed": false,
    "pycharm": {
     "name": "#%% md\n"
    }
   }
  },
  {
   "cell_type": "code",
   "execution_count": 12,
   "outputs": [
    {
     "name": "stdout",
     "output_type": "stream",
     "text": [
      "model1.relation()={(2, 1), (0, 0), (1, 1), (2, 2)}\n",
      "model2.relation()={(2, 1), (0, 0), (1, 1), (2, 0), (2, 2), (1, 0)}\n"
     ]
    }
   ],
   "source": [
    "f1 = PrefScLTL(\"Fa > Fb\", null_assumption=False)\n",
    "f2 = PrefScLTL(\"Fa > Fb\", null_assumption=True)\n",
    "\n",
    "model1 = f1.model()\n",
    "model2 = f2.model()\n",
    "\n",
    "print(f\"{model1.relation()=}\")\n",
    "print(f\"{model2.relation()=}\")"
   ],
   "metadata": {
    "collapsed": false,
    "pycharm": {
     "name": "#%%\n"
    }
   }
  },
  {
   "cell_type": "markdown",
   "source": [
    "As we can see, model1 does not contain preferences `(1, 0), (2, 0)`."
   ],
   "metadata": {
    "collapsed": false,
    "pycharm": {
     "name": "#%% md\n"
    }
   }
  },
  {
   "cell_type": "code",
   "execution_count": null,
   "outputs": [],
   "source": [],
   "metadata": {
    "collapsed": false,
    "pycharm": {
     "name": "#%%\n"
    }
   }
  },
  {
   "cell_type": "markdown",
   "source": [],
   "metadata": {
    "collapsed": false,
    "pycharm": {
     "name": "#%% md\n"
    }
   }
  }
 ],
 "metadata": {
  "kernelspec": {
   "display_name": "Python 3",
   "language": "python",
   "name": "python3"
  },
  "language_info": {
   "codemirror_mode": {
    "name": "ipython",
    "version": 2
   },
   "file_extension": ".py",
   "mimetype": "text/x-python",
   "name": "python",
   "nbconvert_exporter": "python",
   "pygments_lexer": "ipython2",
   "version": "2.7.6"
  }
 },
 "nbformat": 4,
 "nbformat_minor": 0
}