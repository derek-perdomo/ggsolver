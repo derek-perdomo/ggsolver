{
 "cells": [
  {
   "cell_type": "markdown",
   "metadata": {
    "pycharm": {
     "name": "#%% md\n"
    }
   },
   "source": [
    "# Deterministic Transition System\n",
    "\n",
    "Represents a transition system [Principles of Model Checking, Def. 2.1].\n",
    "$$\n",
    "    TSys = (S, A, T, AP, L)\n",
    "$$\n",
    "In the `TSys` class, each component is represented as a function.\n",
    "\n",
    "- The set of states $S$ is represented by `TSys.states` function,\n",
    "- The set of actions $A$ is represented by `TSys.actions` function,\n",
    "- The transition function $T$ is represented by `TSys.delta` function,\n",
    "- The set of atomic propositions is represented by `TSys.atoms` function,\n",
    "- The labeling function $L$ is represented by `TSys.label` function.\n",
    "\n",
    "All of the above functions are marked abstract. The recommended way to use `TSys` class is by subclassing it and implementing its component functions.\n",
    "\n",
    "The example shows an example of defining a deterministic transition system.\n",
    "\n",
    "\n",
    "## Car Parking Transition System\n",
    "\n",
    "Consider a car parking with $n$ slots where cars can `enter` or `exit`.\n",
    "There are two properties of interest, namely whether the parking lot is empty or full.\n",
    "\n",
    "The `CarParking` class demonstrates how a parameterized transition system can be defined.\n",
    "\n"
   ]
  },
  {
   "cell_type": "code",
   "execution_count": 1,
   "metadata": {
    "pycharm": {
     "name": "#%%\n"
    }
   },
   "outputs": [],
   "source": [
    "# This code block is necessary only when using `ggsolver:v0.1` docker image.\n",
    "import sys\n",
    "sys.path.append('/home/ggsolver/')\n",
    "sys.path.append('/home/jovyan/ggsolver/')\n",
    "\n",
    "from examples.notebooks.jupyter_patch import *"
   ]
  },
  {
   "cell_type": "code",
   "execution_count": 2,
   "metadata": {
    "pycharm": {
     "name": "#%%\n"
    }
   },
   "outputs": [],
   "source": [
    "import logging\n",
    "logger = logging.getLogger()\n",
    "# logger.setLevel(logging.ERROR)\n",
    "logger.setLevel(logging.DEBUG)"
   ]
  },
  {
   "cell_type": "markdown",
   "metadata": {
    "pycharm": {
     "name": "#%% md\n"
    }
   },
   "source": [
    "A *deterministic* transition system is defined as follows:\n",
    "\n",
    "- First we define a class that inherits from `ggsolver.models.TSys` class.\n",
    "  We will call it `CarParking`.\n",
    "- Define its `__init__` method to define instance variables that store input parameters.\n",
    "  In our case, the only input parameter is the number of slots in parking lot: `num_slots`.\n",
    "- Implement the component functions `states, actions, delta, atoms, label` that define the transition system.\n",
    "\n",
    "<div class=\"alert alert-block alert-warning\">\n",
    "<b>Note:</b> If `__init__` method is defined for your derived class, then a call to `super(DerivedTSys, self).__init__()` must be made.\n",
    "</div>\n"
   ]
  },
  {
   "cell_type": "code",
   "execution_count": 3,
   "metadata": {
    "pycharm": {
     "name": "#%%\n"
    }
   },
   "outputs": [],
   "source": [
    "from ggsolver.models import TSys\n",
    "\n",
    "class CarParking(TSys):\n",
    "    def __init__(self, num_slots):\n",
    "        super(CarParking, self).__init__()\n",
    "        self.num_slots = num_slots\n",
    "\n",
    "    def states(self):\n",
    "        \"\"\"\n",
    "        To determine whether parking is full or empty, we can maintain a count of the number of cars\n",
    "        in the parking lot. Hence, the states can be represented by integers from 0 to num_slots.\n",
    "        \"\"\"\n",
    "        return list(range(self.num_slots + 1))\n",
    "\n",
    "    def actions(self):\n",
    "        \"\"\"\n",
    "        There are two actions: enter and exit, that represent a car has entered or exited.\n",
    "        \"\"\"\n",
    "        return [\"enter\", \"exit\"]\n",
    "\n",
    "    def delta(self, state, act):\n",
    "        \"\"\"\n",
    "        The transition function should determine the next state, i.e. how many cars will be there in the parking lot, based on how many cars are currently in the parking lot and the action: whether a car is entering or exiting.\n",
    "        \"\"\"\n",
    "        if state == 0 and act == \"exit\":\n",
    "            return 0\n",
    "        elif state == self.num_slots and act == \"enter\":\n",
    "            return self.num_slots\n",
    "        elif act == \"enter\":\n",
    "            return state + 1\n",
    "        else:   # if act == \"exit\":\n",
    "            return state - 1\n",
    "\n",
    "    def atoms(self):\n",
    "        \"\"\"\n",
    "        We care about two properties: whether the parking lot is \"empty\" or it is \"full\".\n",
    "        Hence, we will define two atomic propositions.\n",
    "        \"\"\"\n",
    "        return [\"empty\", \"full\"]\n",
    "\n",
    "    def label(self, state):\n",
    "        \"\"\"\n",
    "        The parking lot is empty if count is 0, and it is full when count is equal to num_slots.\n",
    "        \"\"\"\n",
    "        if state == 0:\n",
    "            return [\"empty\"]\n",
    "        elif state == self.num_slots:\n",
    "            return [\"full\"]\n",
    "        else:\n",
    "            return []"
   ]
  },
  {
   "cell_type": "markdown",
   "metadata": {
    "pycharm": {
     "name": "#%% md\n"
    }
   },
   "source": [
    "Note that our class definition closely follows the mathematical definition of a transition system. This provides an easy interface to implement various real-life or research paper based transition sysetsm models directly.\n",
    "\n",
    "Moreover, the ability to define parameters such as `num_slots` allows us to define a family of parameterized transition systems. This is particularly useful when running batch simulations.\n",
    "\n",
    "However, the above style of defining transition system is inefficient. Especially, when running planning algorithms on large transition system, a large number of calls are made to `states` and `delta` function. Since there is non-trivial computation occurring in these functions, it slows the algorithms.\n",
    "\n",
    "In such cases, it is efficient to use discrete graph representation of the transition system. We provide an easy interface to construct and visualize the equivalent graph representation of the defined transition system. This involves three steps:\n",
    "\n",
    "- **Instantiate** your derived transition system class.\n",
    "- **Graphify** the instance.\n",
    "- **Save to PNG** the graph to a PNG for visualization.\n",
    "\n",
    "**Note:** Graphs with more than 500 nodes cannot be saved to PNG. At present the best way to\n",
    "visualize such graphs is to `serialize` them and manually check them.\n",
    "\n",
    "We demonstrate these steps next.\n",
    "\n",
    "### Instantiate CarParking\n",
    "This is same as instantiating any class in Python."
   ]
  },
  {
   "cell_type": "code",
   "execution_count": 4,
   "metadata": {
    "pycharm": {
     "name": "#%%\n"
    }
   },
   "outputs": [],
   "source": [
    "tsys = CarParking(num_slots=5)"
   ]
  },
  {
   "cell_type": "markdown",
   "metadata": {
    "pycharm": {
     "name": "#%% md\n"
    }
   },
   "source": [
    "In case the initial state of the transition system is known, it can be set by calling `initialize` function as shown below. In our case, assume that parking lot starts empty.\n",
    "\n",
    "The initial state of the transition system can be checked using `init_state` property."
   ]
  },
  {
   "cell_type": "code",
   "execution_count": 5,
   "metadata": {
    "pycharm": {
     "name": "#%%\n"
    }
   },
   "outputs": [
    {
     "name": "stdout",
     "output_type": "stream",
     "text": [
      "init_state: 0\n"
     ]
    }
   ],
   "source": [
    "tsys.initialize(0)\n",
    "print(\"init_state:\", tsys.init_state())"
   ]
  },
  {
   "cell_type": "markdown",
   "metadata": {
    "pycharm": {
     "name": "#%% md\n"
    }
   },
   "source": [
    "### Graphify\n",
    "\n",
    "The `graphify` function returns a `ggsolver.graph.Graph` object that represents a multi-digraph. See [Graph Class API](https://akulkarni.me/ggsolver/modules/graph.html) and [Graph Class Example](https://akulkarni.me/ggsolver/examples/graphs.html) for more information about Graph class.\n",
    "\n",
    "**Note:** If any changes are made to the transition system after a call to graphify, the changes will not reflect in the graph. The `graphify` must be called again."
   ]
  },
  {
   "cell_type": "code",
   "execution_count": 6,
   "metadata": {
    "pycharm": {
     "name": "#%%\n"
    }
   },
   "outputs": [
    {
     "name": "stderr",
     "output_type": "stream",
     "text": [
      "INFO:root:\u001B[95m[INFO] Globbed node properties: {'label'}\u001B[0m\n",
      "INFO:root:\u001B[95m[INFO] Globbed edge properties: set()\u001B[0m\n",
      "INFO:root:\u001B[95m[INFO] Globbed graph properties: {'is_probabilistic', 'is_deterministic', 'actions', 'init_state', 'atoms'}\u001B[0m\n",
      "INFO:root:\u001B[95m[INFO] Duplicate node, edge properties: set()\u001B[0m\n",
      "INFO:root:\u001B[95m[INFO] Duplicate edge, graph properties: set()\u001B[0m\n",
      "INFO:root:\u001B[95m[INFO] Duplicate graph, node properties: set()\u001B[0m\n",
      "INFO:root:\u001B[96m[INFO] Processed node property: states. Added 6 states. [OK]\u001B[0m\n",
      "INFO:root:\u001B[96m[INFO] Input domain function detected as 'actions'. [OK]\u001B[0m\n",
      "INFO:root:\u001B[96m[INFO] Processed graph property: input_domain. [OK]\u001B[0m\n",
      "Unpointed graphify adding edges: 100% 12/12 [00:00<00:00, 43614.95it/s]\n",
      "INFO:root:\u001B[96m[INFO] Processed edge property: input. [OK]\u001B[0m\n",
      "INFO:root:\u001B[96m[INFO] Processed graph property: prob. [OK]\u001B[0m\n",
      "INFO:root:\u001B[96m[INFO] Processed node property: label. [OK]\u001B[0m\n",
      "INFO:root:\u001B[96m[INFO] Processed graph property: is_probabilistic. [OK]\u001B[0m\n",
      "INFO:root:\u001B[96m[INFO] Processed graph property: is_deterministic. [OK]\u001B[0m\n",
      "INFO:root:\u001B[96m[INFO] Processed graph property: actions. [OK]\u001B[0m\n",
      "INFO:root:\u001B[96m[INFO] Processed graph property: init_state. [OK]\u001B[0m\n",
      "INFO:root:\u001B[96m[INFO] Processed graph property: atoms. [OK]\u001B[0m\n"
     ]
    },
    {
     "name": "stdout",
     "output_type": "stream",
     "text": [
      "\u001B[92m [SUCCESS] <Graph with |V|=6, |E|=12> generated. \u001B[0m\n"
     ]
    }
   ],
   "source": [
    "graph = tsys.graphify()"
   ]
  },
  {
   "cell_type": "code",
   "execution_count": 7,
   "metadata": {
    "pycharm": {
     "name": "#%%\n"
    }
   },
   "outputs": [
    {
     "name": "stderr",
     "output_type": "stream",
     "text": [
      "INFO:root:\u001B[95m[INFO] Globbed node properties: {'label'}\u001B[0m\n",
      "INFO:root:\u001B[95m[INFO] Globbed edge properties: set()\u001B[0m\n",
      "INFO:root:\u001B[95m[INFO] Globbed graph properties: {'is_probabilistic', 'is_deterministic', 'actions', 'init_state', 'atoms'}\u001B[0m\n",
      "INFO:root:\u001B[95m[INFO] Duplicate node, edge properties: set()\u001B[0m\n",
      "INFO:root:\u001B[95m[INFO] Duplicate edge, graph properties: set()\u001B[0m\n",
      "INFO:root:\u001B[95m[INFO] Duplicate graph, node properties: set()\u001B[0m\n",
      "INFO:root:\u001B[96m[INFO] Running graphify UNPOINTED.\u001B[0m\n",
      "INFO:root:\u001B[96m[INFO] Input domain function detected as 'actions'. [OK]\u001B[0m\n",
      "INFO:root:\u001B[96m[INFO] Processed graph property: input_domain. [OK]\u001B[0m\n",
      "Pointed graphify adding edges: 100% 6/6 [00:00<00:00, 17319.91it/s]\n",
      "INFO:root:\u001B[96m[INFO] Processed edge property: input. [OK]\u001B[0m\n",
      "INFO:root:\u001B[96m[INFO] Processed graph property: prob. [OK]\u001B[0m\n",
      "INFO:root:\u001B[96m[INFO] Processed node property: label. [OK]\u001B[0m\n",
      "INFO:root:\u001B[96m[INFO] Processed graph property: is_probabilistic. [OK]\u001B[0m\n",
      "INFO:root:\u001B[96m[INFO] Processed graph property: is_deterministic. [OK]\u001B[0m\n",
      "INFO:root:\u001B[96m[INFO] Processed graph property: actions. [OK]\u001B[0m\n",
      "INFO:root:\u001B[96m[INFO] Processed graph property: init_state. [OK]\u001B[0m\n",
      "INFO:root:\u001B[96m[INFO] Processed graph property: atoms. [OK]\u001B[0m\n"
     ]
    },
    {
     "name": "stdout",
     "output_type": "stream",
     "text": [
      "\u001B[92m [SUCCESS] <Graph with |V|=6, |E|=12> generated. \u001B[0m\n"
     ]
    }
   ],
   "source": [
    "tsys.initialize(1)\n",
    "graph = tsys.graphify(pointed=True)"
   ]
  },
  {
   "cell_type": "markdown",
   "metadata": {
    "pycharm": {
     "name": "#%% md\n"
    }
   },
   "source": [
    "### Visualize using to_png function\n",
    "\n",
    "A graph with less than 500 nodes can be visualized using `to_png` function. The `to_png` function requires one positional argument:\n",
    "\n",
    "- `fpath`: Path to where the generated PNG should be stored."
   ]
  },
  {
   "cell_type": "code",
   "execution_count": 8,
   "metadata": {
    "pycharm": {
     "name": "#%%\n"
    }
   },
   "outputs": [
    {
     "name": "stderr",
     "output_type": "stream",
     "text": [
      "DEBUG:PIL.PngImagePlugin:STREAM b'IHDR' 16 13\n",
      "DEBUG:PIL.PngImagePlugin:STREAM b'bKGD' 41 6\n",
      "DEBUG:PIL.PngImagePlugin:b'bKGD' 41 6 (unknown)\n",
      "DEBUG:PIL.PngImagePlugin:STREAM b'IDAT' 59 8192\n"
     ]
    },
    {
     "data": {
      "text/html": [
       "<img src=\"data:image/png;base64,iVBORw0KGgoAAAANSUhEUgAAAMsAAAG7CAYAAABtrmFGAABS9klEQVR4nO2deViU19n/v8+sgKyDsikuBJEAasSiYhCkGndpotIYNCGYuNUsRmNNG02qtrGhGoxGmzRxibxWAyZUjRKRRkARFBVfRU0EEwRFFlkEWWaYee7fH3nhF2QdZnmG4Xyui+tq55m5z3dO5us5z3nOuW+OiAgMBqMz4kVCK2AwegrMLAxGF2FmYTC6iERoAeaERqNBSUkJSkpKUFVVBY1Gg5qaGqjValhZWUEul8PS0hL29vZwdXWFQqEQWjJDC5hZukF9fT2ysrJw9epV5OTk4Pr167h9+zZKS0uh0Wi6HMfCwgIDBgzAsGHD4OfnB19fX/j7+8PHxwccxxnwGzC6A8dWwzqH53mcP38eJ06cQEpKCrKysqBUKqFQKJp/5MOGDYOrqyvc3Nzg7OwMhUIBkUgEGxsbSCQS1NXVQalUoqGhARUVFSgqKsL9+/dRWFiIGzdu4Pr167h58yZUKhX69euHCRMmIDQ0FGFhYRg4cKDQXcAA4plZOiA9PR0HDhzAkSNHUFRUhCeeeAITJ05ESEgIQkJC9P4jVqvVuHLlCtLS0pCamorU1FRUV1dj9OjRmDt3Ll566SW4ubnptU1Gl4kHMVpQU1NDO3fupOHDhxMAGjFiBG3YsIGuXr1qdC1KpZISExNpyZIl1LdvX5JIJPTcc89RUlKS0bUwKI6Z5f+oqamhbdu2kYuLC1lYWFB4eDidOnVKaFnNKJVKiouLo8mTJxPHcTRixAiKi4sjnueFltZbYGbRaDS0a9cucnR0JFtbW1q3bh2Vl5cLLatDLl26RGFhYcRxHI0ZM4YuXLggtKTeQO82y6VLlyggIICkUim9/fbbJm+Sx7l8+TJNnDiRRCIRLVu2jCorK4WWZM70TrPwPE8ffvghSaVSCg4OppycHKEldRue5yk2NpZcXFxo0KBBlJ6eLrQkc6X3maWiooKmTJlCUqmUoqOjzWbOX1ZWRjNnziSJRELR0dFCyzFHepdZCgoKyNfXl9zd3c1yns/zPG3dupXEYjEtX76c1Gq10JLMibhe8wQ/Ly8PoaGhcHBwQEZGBvr37y+0JL3DcRxWrVoFDw8PREREoKysDAcPHoRE0mv+MxuUXrGR8v79+5g6dSrc3NyQlpZmlkb5Nc8++yxOnjyJEydOYOnSpSD23FkvmL1Z6urqMH36dMhkMhw/fhz29vZCSzIKEyZMQHx8PGJjY7Fhwwah5ZgFZm+W1atXo6CgAN999x369u0rtByjMmPGDOzYsQObNm1CSkqK0HJ6PGa9N+zYsWP43e9+h/j4eMydO1doOYIRHh6OzMxMXLt2rdeMrAbAfI8Vq1QqvPXWW4iIiBDEKFeuXMHMmTNhb28PGxsbTJ48Genp6UbXAQD/+te/oFQq8cEHHwjSvrlgtmbZtWsXioqKsHnzZqO3ff78eYwfPx42Nja4efMmfv75Z3h4eGDixIlISkoyuh4HBwesX78eO3bswJ07d4zevrlgltMwnucxZMgQzJs3D1u3bjV62yNGjEBFRQVu374NS0tLAL+covT19UVdXR1yc3Mhl8uNqkulUmHo0KF4/vnnER0dbdS2zQTznIYlJyejoKAAixcvNnrbaWlpuH79OubNm9dsFAAQi8V44YUXUFhYiG+//dboumQyGaKiorB//340NjYavX1zwCzNcujQIQQGBsLb29vobX///fcAgN/85jetrjW99t///teompqIiopCaWkpTp8+LUj7PR2zNMuZM2fwzDPPCNL2Dz/8AAAYMGBAq2tND0Nv3bplVE1NDBo0CJ6enjh79qwg7fd0zM4sDx48wO3btxEYGChI+1VVVQCAPn36tLpmbW0NAKisrDSmpBaMHz8eGRkZgrXfkzE7s9y5cwdEhGHDhgktpRVNaylCZm7x8vJCfn6+YO33ZMzOLA8ePAAAODo6CtJ+00O/2traVteaXhPywaCjoyPKy8sFa78nY3Zmqa+vB4AWK1HGpGlR4e7du62u3bt3D8Av/7oLhbW1dZtGZnSO2ZnFwcEBgHD3BaGhoQCAS5cutbrW9NqkSZOMqunXlJeXs0yY3cTszNI0/SorKxOk/ZCQEPj4+ODw4cNoaGhofl2j0eDQoUNwd3fHzJkzBdEG/NIvQk1RezpmZ5ahQ4fCwsIC2dnZgrQvEomwe/duVFRUICoqCsXFxSgvL8eKFSuQm5uLzz//HBYWFoJoA4DLly9j+PDhgrXfkzE7s8jlcowaNQrnzp0TTMO4ceNw7tw5PHz4EMOGDcPgwYORm5uLlJQUTJ06VTBdRITMzEzBltV7Oma5N2z9+vXYt28f8vPzIRaLhZZjMqSmpmLixIm4du0a/Pz8hJbT0zDPvWFRUVG4d+8eTp06JbQUk2L37t0ICAhgRukmZmkWDw8PBAcHIyYmRmgpJsPdu3dx+PBhvPrqq0JL6bGY5TQM+GX3b0hICE6ePIkpU6YILUdwoqKikJKSgh9++MHoxwPMBPMuOREWFoaffvoJFy9eFHQFSmgyMzMRFBSE/fv3IyIiQmg5PRXzNkthYSFGjhyJhQsXYvv27ULLEYRHjx7B398fHh4eSExMZBXFuo953uA34e7ujl27duGTTz7BV199JbQco8PzPCIjI1FTU4Mvv/ySGUVHzD5V4fz583H+/HlERkaib9++gm41MTavvfYaTpw4gaSkJDg7Owstp+dj/JSxxkej0dCCBQvIxsaGvv/+e6HlGBye52n16tUkFospISFBaDnmQu9JDK5SqWj+/Pkkl8vp4MGDQssxGEqlkiIiIkgmk9GBAweElmNO9B6zEP0ywqxatYo4jqO1a9eSSqUSWpJeyc/Pp/Hjx5Otra1JlfgzE3qXWZrYvXs39enTh8aNG0d5eXlCy9EL8fHx5ODgQL6+vj26OJMJE2fWq2HtsWjRImRlZaG+vh7Dhw/Hpk2boFQqhZbVLX7++WfMnj0b4eHhCA8PR1ZWFnx9fYWWZZ4IbVchUalUFB0dTdbW1uTp6UmxsbE9pgBQaWkprV27liwtLcnHx4dOnz4ttCRzp3dOwx6nsLCQIiMjSSKR0LBhw2jv3r1UX18vtKwW1NXVEdEv1cvWrFlD1tbW5OTkRDExMWZ372WiMLP8mtzcXHr55ZdJJpORQqGglStXmsT8X6VS0dNPP02TJ08msVhMLi4utGXLFqqtrRVaWm+CmaUtiouL6fXXXycbGxsCQN7e3vTuu+9SVlaW0aZp1dXVdOTIEYqMjCSFQkEASCaT0d/+9jdSKpVG0cBoQZxZ7w3rLkSEoKAgNDY24h//+Af+85//ICEhAXfu3IGdnR2CgoIQFBQEf39/+Pn5wc3NrcXn1Wo1CgsLMWTIkC61p1arkZubi5ycHGRmZuLMmTPIzs4Gz/MIDAzEnDlz8PDhQ2zcuBFSqRSff/45IiMjDfHVGe1j3hspu8sXX3yBZcuWISsrC6NGjWp+PScnB6mpqUhLS8PZs2dRVFQEAFAoFPDy8oKLiwvc3d2Rnp6OcePGYeTIkbCysoJcLkdNTQ3UajVqampQXV2NwsJClJSUoKCgALdu3YJKpYJEIsGTTz6JkJAQBAcHIzg4uHmbyrlz5/D00083a/njH/+IzZs3QyTqlQuaQsDM8jjl5eXw9vbGiy++iI8++qjT9167dg3Xr19HXl4eiouLkZqaivv378PR0RE8z6O2thYqlQrW1taQSqWQyWSorq5GUFAQ3NzcMGDAAHh7e8PX1xc+Pj7tnjVpaGiAtbU1NBoNgF+y8k+aNAlxcXGws7PTez8wWhHP7lkeY9GiReTi4kJVVVVaf/bPf/4zASAAdOfOnTbfU1RURDKZjPbu3at1fF9f3+b4AEgikZCHhwf9+OOPWsdiaA27wf81Z8+eJY7jKC4uTuvPRkdHt/ghd7RSFRERQU899ZTWbSxdupSkUmmLdqRSKdnZ2dF///tfreMxtIKZpYnGxkYaOXIkTZkyRevP7tu3jziOa/4BW1hYdPj+ixcvEgBKTU3Vqp0vvviCxGJxC7MAIJFIRGKxmLZv3661dkaXYWZp4h//+AfJ5XL64YcftPrc119/TSKRqMWP18XFpdPPjRs3jubOnatVW1evXm1llF//cRxHixcvZg8pDQMzC9EvT/Ctra1pw4YNWn0uKSmJJBJJi1EFAPn5+XX62YMHD5JYLKaffvqpy+2p1WqysLDo0DBisZgmTpxIFRUVWn0XRqcwsxARvfDCC+Tp6anVFpdz586RhYVFq1EFAE2aNKnTzzc2NtKAAQNozZo1WmkNDAzs0CxNf9OnTyee57WKzeiQ3rnr+NdkZmbi0KFD2Lp1a5czwFy9ehVTp06FSqUCz/MtrolEIri4uHQaQyKRYPny5fj888+1KgHx9NNPQyaTtXmtaWn6/fffxzfffMPO3OuZXm0WIsLbb7+NkJAQhIWFdekzubm5CA0NRV1dXSujAL+YoF+/fl2KtWzZMqhUKsTGxnZZc0BAQKtqw00PJoOCgnD16lX85S9/6dWpnwxFrzbLwYMHkZGRgS1btnTp/Xfv3sXEiRNRXV3d/HDwcTiO63JJB4VCgYiICGzbtq1N47VFQEBAc7k94Bdz2trawsrKCgcPHjTJ8oBmg9ATQaGoq6ujQYMG0SuvvNKl99fW1pK3t3en9wpSqZT++c9/dlnHDz/8QCKRiOLj47v8GXt7e+I4jiQSCa1bt44ePHhAAwcOpGXLlnU5BkNreu8N/qZNm8ja2pqKioq6/Jnc3Fx6/fXXydLSkiQSSbvLt9r88ImI5s2bR0899VSXb8inTZtGv/3tb1s8ud+7dy+JxWKTOFJgpvROsxQXF5OtrS399a9/7dbnHz58SNu2bSMHBwfiOK7Vg8KUlBSt4mVnZxPHcZSYmNil9xcUFLR6TaPRkL+/P82aNUurthldpneaZdGiRTRgwACdDk/dv3+fLC0t6ZVXXqHRo0c379UCQNeuXdM63rRp0ygwMLDbeoiIvv/+ewLAMrsYht5nlitXrpBYLNY5p9bKlSvJ1dW1+dlMRkYGzZs3jyQSCd2/f1/reOfOnSMAlJaWppOuadOm0VNPPUUajUanOIxW9D6z/Pa3v6WxY8fq9MCuuLiYrKys6OOPP2517c6dO90+TTlhwgSaPn16t3UREd24cYMkEgnFxsbqFIfRit5llu+++44A0JkzZ3SKs2bNGnJ2dm5OIqEvTpw4QQDo4sWLOsV55ZVXdJ5mMlrRe8zC8zyNGTOGZs6cqVOcBw8ekI2NDW3ZskVPyloyevRoCg8P1ynGvXv3qE+fPvT3v/9dT6oY1JvMEh8fTxzH0eXLl3WK8+c//5kcHR2ppqZGT8paEhcXRyKRiK5fv65TnPfee4/s7OyorKxMT8p6Pb3DLGq1mp588kl64YUXdIpTVVVF9vb2tHnzZj0pa41GoyFvb29auHChTnFqamrIyclJ642ajHbpHWbZvXs3SSQSrc+qPM77779PCoWCqqur9aSsbQ4cOEBisVjn0WXr1q1kaWlJd+/e1ZOyXo35m0WpVNKQIUNo6dKlOsV5+PAhOTg40MaNG/WkrH00Gg2NHDlS53uX+vp6GjBgAL3xxht6UtarMX+zbNu2jSwsLNp86q0NGzduJDs7O6qsrNSPsE74+uuvieM4ys7O1inOzp07SSaT0c8//6wXXb0Y8zbLo0ePyNnZmd5++22d4lRUVBhtVGmiafUuLCxMpzgqlYo8PDxoyZIlelLWazFvs2zatIlsbGyopKREpzhr1qyhvn37Gvxe5XGOHz9OACgjI0OnOLt37yapVGo2tWgEwnzNUl5eTnZ2dlqfq3+coqIisrKyom3btulJmXZMmDChWxlnfo1arSZvb2966aWX9KSqV2K+ZnnvvffI0dFR59Fg6dKlNHDgQGpoaNCTMu1ITk4mADrXX2laYbtx44Z+hPU+zNMsTStXmzZt0inOTz/9RDKZjHbv3q0nZd0jNDSUnn76aZ1iNK2w/f73v9eTql6HeZpl06ZNelm5ioiIIC8vL2psbNSPsG6Snp5OACgpKUmnOE0rbFeuXNGTsl6F+Znl0aNH1K9fP3rvvfd0inP16lUSiUTdSuVqCKZPn04BAQE67ZbmeZ5GjRpF8+bN06OyXoP5meXDDz8ka2trnfdEzZo1i0aOHGky50L+93//l8RiMf373//WKY6+9p71QszLLLW1teTk5ETvvPOOTnHOnz+v1TFfYxEVFUWDBw/Wqd6lRqMhHx8fioqK0qOyXoF5meWjjz4iKysrnZ+rTJgwgYKDg/WkSn80bb2Pjo7WKc6ePXtIKpVSfn6+npT1CnqmWVJTU2nbtm0tloUbGhqof//+tHr1ap1iN23lP3/+vK4yDcK6devI3t6eHjx40O0YKpWKBg0aRK+99poelZk9PdMsn376KQGgPn360OrVqyk/P58++eQTsrCwoHv37nU7rlKpJE9PT523xxuSmpoacnFxoZUrV+oUZ8eOHWRhYaFVKqheTs80y1//+leSyWTNGVVEIhG5urrqvMoTHR1NlpaW7VbtMhX++c9/klQqpVu3bnU7Rn19Pbm6uup8f9eL6JlmefPNN5vN8utMkABoxIgR9OWXX2pdo6S0tJTs7Ox0XnI2Bmq1mnx9fdv8xyEuLq7LifY2b95Mtra2rDxF1+iZZlmwYEGbpR7wf1WwOI4jV1dX2rlzZ5djLl++nJydnY2+WbK7HD16tEXyjR9//JFCQ0MJAO3YsaNLMfS106GX0DPNMmnSpE4rYEml0i4/8W5KH9SdoqhCMmnSJAoICKA///nPJJVKSSqVkkgkohdffLHLMdatW0d9+/ZlmWA6p2ea5fGqvW2NLto8ee+piek++ugjsrGxaZV32cPDo8sxSktLydLSUqtk5r2UnmkWZ2fnDkeVL774osuxmnb1JicnG1Cxfrl9+zZNmzat+R+GtvpAm31xr776Knl5ebFKYR3TM83y+M39r/+0yefV2NhIvr6+9NxzzxlQrf6or6+n999/n2QyWasS34//aVPqOycnhziOo++++86A6ns8Pa9MXm1tLVQqVavXOY7Dhg0bsHr16i7H2rlzJ/Ly8hAdHa1PiQajoqICR48eRWNjY6vqX79GJpPhwoULXY7r6+uL0NBQfPzxx/qQab4IbVdt+fnnn9u8R1mxYoVWce7fv092dna0fv16Ayk1DPX19RQREdGqQvLj/fHss89qFffIkSPEcRw7HNY+PW8alpWV1aqU9Ysvvqj1zfnzzz9PgwYN6pGrQDzP09///nfiOK7dJXQnJyetYmo0GvLy8qI//OEPBlLd4+l5ZklMTGz+QUgkEpo9e7bWh7OSkpIIAB07dsxAKo3Dt99+S1ZWVu1WIdN268+2bdvIysqKysvLDaS4R9Pz7lkePHgA4JfCo8HBwTh8+DAkEkmXP69SqfD6669jzpw5mDVrlqFkGoWZM2ciIyMDzs7OkEqlLa5xHIesrCyt4i1atAhSqRR79uzRp0yzoeu/MiOg0WhQUlKCkpISVFVVQaPRoKamBmq1GlZWVpDL5c0/gBEjRuDo0aPt1oRvj7///e8oLCzEd999Z4ivYHRGjBiBK1eu4Nlnn0VmZmZzFWWZTIasrCz87ne/63IsKysrzJs3Dx999BGeeuopAGjV/5aWlrC3t4erqysUCoUhvpLJwhH9qk60kaivr0dWVhauXr2KnJwcXL9+Hbdv30ZpaWm7JbPbwsLCAgMGDMCwYcPg5+cHX19f+Pv7w8fHBxzHtXr/nTt34OPjg7/85S9Ys2aNPr+S4CiVSixduhRffvklgF9GltDQUPz3v/9t9V6h+r+HE28Us/A8j/Pnz+PEiRNISUlBVlYWlEolFApFcycPGzYMrq6ucHNzg7OzMxQKBUQiEWxsbCCRSFBXVwelUomPPvoIkydPhkqlwv3791FYWIgbN27g+vXruHnzJlQqFfr164cJEyYgNDQUYWFhGDhwIABg1qxZyM/PR3Z2dqtpi7mwdetW/PGPfwTP87CxscHDhw9BRHrr/4aGBlRUVKCoqEjr/u/hxBv0Bv/s2bO0fPlycnNzIwD0xBNP0CuvvEL79+/v9jb4jla9GhsbKSsri7Zu3UphYWFkZ2dHHMfRb37zG1q0aBFxHEepqand/To9huPHj1OfPn0IAEVEROi1/zuio/7fvHmzTmeNTAD9r4bV1NTQzp07afjw4c1b5jds2EBXr17Vd1OdolQqKTExkZYsWUJ9+/YlsVhMzz33nM4phUyZpv738vIiADRw4ECT6X+JRNKT+19/ZqmpqaFt27aRi4sLWVhYUHh4uEmVmFYqlRQXF0eTJ08mjuNoxIgRFBcXZzb7odrq/2+++YYSEhKElkZEZtH/uptFo9HQrl27yNHRkWxtbWndunUmv05/6dIlCgsLI47jaMyYMXThwgWhJXWb3tD/Go2GioqK6OrVq3T69Gk6fPgwxcXFUVxcHB07dowyMjLo1q1bhn7ArJtZLl26RAEBASSVSuntt982+f9Ij3P58mWaOHEiiUQiWrZsmdFqr+gLc+z/yspKSkxMpPfff5+ee+458vPzI7lc3uGm0aY/juNo8ODBNGPGDHr//fcpLS2NlEqlvuR2zyw8z9OHH35IUqmUgoODu3yM1RTheZ5iY2PJxcWFBg0aROnp6UJL6hRz7X83N7fmPW+enp4UHh5Of/7zn2nfvn2UlpZG169fp5KSElKr1c2fr62tpYKCAsrOzqb//Oc/tHnzZlqwYAENHjyYAJC1tTVFRkZSSkqKrlM+7c1SUVFBU6ZMIalUStHR0T1pztkhZWVlNHPmTJJIJDrn5TIk5tz/M2bMILFYTO+//75eYubl5dH27dtp9OjRBID8/Pzom2++6W6faWeWgoIC8vX1JXd39x49z28Pnudp69atJBaLafny5S3+BTMFWP93nytXrtDvf/97EolENHbs2O6kr+26WXJzc2nAgAE0fPhws69+m5CQQJaWljRv3jzBM+g3wfpfP1y5coXGjh1LFhYWtH37dm0+2jWzFBUVkYeHB40ZM6bH3QR3l7S0NLKysqJFixYJPtVh/a/f/m9sbKSNGzeSSCSilStXdjV+52apra2lkSNHkre3t86Z6Xsax48fJ6lUqrc5dHdg/W+4/v/qq69ILpd3tex752ZZtmwZOTg49Nok0p9++imJRCKdy9R1F9b/hu3/o0ePkkgk6kqutY7NcvToUeI4jg4fPqw/dT2QefPm0YABA4w+BWL9/wuG7v+//e1vJJFI6PLlyx29rX2zKJVKeuKJJ2jBggX6V9dFjh8/TkOHDiWxWCyYBqJflmv79etHa9asMVqbQvV/RUUF/fOf/6TQ0FBycHAgCwsL8vT0pIiICMHK6xm6/3mepwkTJtD48eM7un9p3ywxMTFkaWlJBQUFBhHYEXl5eTR79mwaMWIE2draCm4WIqLt27eThYWF0aZDQvX/K6+8QhKJhLZt20b379+n2tpaSktLIx8fHxKLxYLtNTN0/2dlZZFIJKL//Oc/7b2lbbNoNBoaOHAgrVq1yiDCOuOFF16gzZs3U2NjI/Xv398kzKJUKmngwIFGGV2E7P9XXnmFlixZ0ur1K1euEAAaOnSo0TURGaf/p0+fTjNmzGjvcttmOXnyJAGgmzdvGkxYR9TV1TX/b1MxCxHR+++/T87Ozlpn6NcWofu/PSwtLUkkEgm2lG7o/j98+DCJxeL2nmO1nbDi0KFDCAwMhLe3tyFPnrWLpaWlIO12RlRUFEpLS3H69GmDtiN0/7dFbW0t6uvr4efnJ9iRYUP3/+zZsyGTyZCcnNzm9TbNcubMGTzzzDMGEdSTGTRoEDw9PXH27FmDtmOK/R8fHw8AePfddwXTYOj+l8lk8Pf3x/nz59u83sosDx48wO3btxEYGGgQQT2d8ePHIyMjw2DxTbH/S0pK8M477+DVV1/F73//e0G1GLr/AwICcOnSpTavtTLLnTt3QEQYNmyYwQT1ZLy8vJCfn2+w+KbW/+Xl5Zg2bRomTpyITz/9VGg5Bu9/V1dXlJaWtnmtzZEFABwdHQ0mqCfj6OiI8vJyg8U3pf6vra3F1KlT4ePjgwMHDkAsFgstyeD9r1AoUFlZ2ea1Vmapr68HYLo32UJjbW2N2tpag8U3lf5Xq9UIDw9H//798eWXX5qEUQDD97+VlVW78VuZxcHBAQDadVdvp7y83KCZGE2l/5cuXQqlUom4uLgW6XE9PT2RmZkpmC5D9/+jR49gbW3d5rVWZmka/svKygwmqCdTVlZm0CmSKfT/X/7yF1y/fh1HjhyBXC4XTEdbGLr/y8vLm//BepxWuY6HDh0KCwsLZGdnw9fX12CieiqXL1/G8OHDDRZf6P7ft28fNmzYAACwsbExevudYej+v3XrFoYOHdrmtVYji1wux6hRo3Du3DmDCeqMb7/9FhzHgeM43Lt3DxqNpvn/f/HFF4LpIiJkZmYadFlX6P4/fPiwIO12BWP0/+XLl+Hn59eugFasW7eOBgwYYHJn0IUmJSWFANC1a9cM2g7r/7YxdP8XFxcTx3H07bfftnW57b1ht2/fJo7jKDEx0SCieiovvvgiBQQEGLwd1v9tY+j+37ZtG9nY2NCjR4/autz+Fv2QkBCaMmWKwYT1NAoLC8nS0pI+++wzo7TH+r8lhu5/tVpNTz75JC1evLi9t7RvltTUVAJAJ0+eNIi4nsbLL79MgwcPpoaGBqO0x/q/JYbu/3379pFEIulop3fHx4pnz55Nvr6+VF9fr391PYiMjAwSi8V04MABo7bL+v8XDN3/paWl5OzsTMuWLevobR2bpaCggBwcHOj111/Xr7oeRE1NDQ0dOpSmTp1q9HMcrP8N3/9qtZqmT59OgwYNoocPH3b01s6zuxw8eJA4jqNDhw7pT2EPQaPR0Jw5c8jFxYWKi4sF0cD633D9r9FoaPHixWRpaUmZmZmdvb1rSfZWrlxJcrmckpOTdVfYg1i+fDlZWFhQWlqaoDpY/3fc/6WlpVRaWqpV7IaGBlq4cCHJZDI6cuRIVz7SNbNoNBpasGAB2djY0Pfff6+VqJ4Iz/O0evVqQRM0/BrW/y0pLCykAwcO0LJly8jT05M4jqPvvvuuy/F//PFHGj16NNna2mqzgNL1XMcqlYrmz59PcrmcDh482GVhPQ2lUkkREREkk8mMfkPfEb25/2/dukW7d++myMhIcnd3JwAkEola1G3pShnAhw8f0vr160kul9Po0aMpNzdXG2naZdHXaDS0atUq4jiO1q5da/DEDcYmPz+fxo8fT7a2tiZV4q+J3tL/1tbWtHLlSlq4cCG5uro2m0MikbRbyOjBgwftxv3pp5/oT3/6Ezk4OJC9vT3FxMR0J+F494oZ7d69m/r06UPjxo2jvLy87oQwOeLj48nBwYF8fX1NvjiQufW/RqOhZcuWkVQqJZFIRABIIpGQWCzuUsUvqVTaYqVMqVRSSkoKvfvuuzRmzBgSiUTk6upKGzdu1CWrZffL5N24cYNGjhxJlpaWtHHjRqM9rNM3P/30E82aNYsA0JIlS1qkYTJlzLH/x4wZQwqFgjiOazZNV/4UCgW9+eabFBYWRn5+fmRpadlcPWz58uV09OhRfZSu0K2mpEqloujoaLK2tiZPT0+KjY3tMZv/SktLae3atWRpaUk+Pj6CJf7WBXPsf6VSSV9++SU98cQTxHFcl0YXV1dXCgwMpAULFtC6deto37599PPPP+tbsn5KexcWFlJkZCRJJBIaNmwY7d2712SfOhcUFNCaNWvI2tqanJycKCYmpsfP/c2x/zUaDR09epT8/f2bp2VtGYXjOJozZ44xpOvHLE3k5ubSyy+/TDKZjBQKBa1cudIk5v8qlYqOHTtGs2fPJrFYTC4uLrRlyxZDl4I2Ouba/2fOnKFp06YRx3EklUpbmEUmkxlrh4N+zdJEcXExffDBBzRkyBACQN7e3vTuu+9SVlaW3qcJarW6zW0Q1dXVdOTIEYqMjGyeB0+aNIni4uL0We7ZJDFm/7eHIfr/4sWLNHfuXBKJRCSTyZrN8re//U3P6tskjiMi6taRsi7A8zzS09PxzTffICEhAXfu3IGdnR2CgoIQFBQEf39/+Pn5wc3NrdttnDt3DuXl5fD09EROTg4yMzNx5swZZGdng+d5BAYGYs6cOZgzZw4GDx6svy/XAzBG/wO/ZILJzc01Wv/n5eXhH//4B/bu3YvGxkbs2bMHUVFReondAfEGNcvj5OTkIDU1FWlpaTh79iyKiooAALa2tvD29oabmxvc3d3h5OQEOzs7yOVyWFlZQS6Xo6amBmq1GjU1NaiurkZhYSFKSkpw8eJFPHjwADzPQyKR4Mknn0RISAiCg4MRHBwMZ2dnY309k6e9/lcoFPDy8oKLi4vW/V9QUIBbt25BpVIZvf+Li4vx8ccfY+bMmQgKCjJYO/+Hcc3yOOXl5UhISMDixYsRGRkJpVKJe/fuoaSkBNXV1VAqlaitrYVKpYK1tTWkUilsbGxga2uL/v37w8XFBcnJybh37x6+/vprzJw50+SykZgy5eXluHbtGq5fv468vDwUFxdr3f8DBgyAt7c3fH194ePjY879L6xZACApKQlTp05FRUVFuylo2qO6uhoKhQI8z2PJkiUmkV6UYbbEt5lF35iUlpZCJpPB3t5e68+ePn0aGo0GRIR9+/YZNK0ng2ESZnFycupWzY9Tp05BJpMBADQaDfbs2aNveQxGM4KbpaysDE5OTt367PHjx6FSqQD8siITExMDtVqtT3kMRjOCm6VpZNGWgoKCVqUHiouLceTIET0pYzBa0mPNcurUKYhELeWLRCJs2bJFX9IYjBb0WLMkJSW1MotGo0FmZiYuXryoL3kMRjOCm6WyslLrJWOe55GUlNTm/YlUKsX27dv1JY/BaEZws3RUD6M9srOzUVVV1ea1xsZGHDp0CMXFxXpQx2D8f0zCLH369NHqM6dOnYJUKu3wPZ999pkushiMVghqFiJCXV2d1iNLYmJih0vEjY2N+Pjjj9HQ0KCrRAajGUHNUl9fD41Go9XIUldXh4yMDLS1S0ckEkEqlUIqlaKysrK5djuDoQ9aVf4yJo8ePQIArUaWtLQ0NDY2AgD69OkDe3t7SKVSSCQSjBkzBgqFAgqFAo6Ojhg4cKBBdDN6J4KapakqrDZmCQwMRElJCRwdHZsr6L7zzjtITk7GgQMHDKKTwQBMZGTRZhpmZ2fX6jWZTNa87YXBMBSC3rM0jSzaroY9jlQqZWZhGBxBzaJUKgFA5wNDbGRhGANBzcLzPAA033t0F2YWhjEQ1CwajQYAMwujZ2ASZnl8Q6S2MLMwjAGbhjEYXcQkRhZ9mKXpQSWDYShMwiy6TsM0Go3OMRiMzjCLaRjP88wsDINjNiOLroZjMDpDULM0pT/SNc8fG1kYxkDQX1hTzi9dV7KYWRjGwCTM0rTtpbuwaRjDGAhqlqY9YWxkYfQETGJkYWZh9ATMwixqtRoSiaBHcxi9ALMwS21trc5nYhiMzmBmYTC6iNHmLhqNBhcuXEBFRUXz3+3btwEAa9euhVqtRllZGSoqKiASiZCbm9tpbrAmamtrtU6nxGBoi9HMIhaL8frrr+PSpUsQiUSQSCTgOA5SqRRJSUnNW184jsOMGTO6bBSAjSwM42DUadibb74JkUgEnuehUqmgVCrR2NjYbBTgF1NNnz5dq7jdyWrJYGiLUc3y/PPPd5oEXK1W45lnntEqLpuGMYyBUc0ik8nw2muvdTjFcnV1hZeXl1Zx2TSMYQyMvhr2hz/8od1rUqkUs2bN0jomMwvDGBjdLE5OTnj++efbHF26MwUDgIcPH8LW1lYf8hiMdhHkOctbb73V5jFgjuMwadIkreN1t3oYg6ENgpjF398fAQEBrXYKjxw5EgqFQqtYarUaVVVV6Nevnz4lMhitEOwJ/urVq1ssGctkMsycOVPrOGVlZSAiZhaGwRHMLHPnzm0xdVKpVN26XykrKwMAZhaGwRHMLBKJBG+88UbzbmELCwuMHTtW6zjMLAxjIehGyiVLljSfww8NDe1WgvCysjKIxWKtKx4zGNoi6CGQvn37YuHChdi7dy+mTZsGjUaDkpISlJSUoKqqChqNBjU1NVCr1bCysoJcLoelpSXs7e3h6uoKhUKBsrIyODo6ssNfDIPDka6pVbpBfX09srKycPXqVaSmpuLw4cPo168fKioqmtMjdQULCws4OTlBoVBg6tSp8PX1hb+/P3x8fJpHLAZDT8QbxSw8z+P8+fM4ceIEUlJSkJWVBaVSCYVCAT8/P9y/fx8rVqyAq6sr3Nzc4OzsDIVCAZFIBBsbG0gkEtTV1UGpVKKhoQEVFRUoKirC/fv3UVhYiBs3buD69eu4efMmVCoV+vXrhwkTJiA0NBRhYWGstiRDHxjWLOnp6Thw4ACOHDmCoqIiPPHEE5g4cSJCQkIQEhLS/CN++PBhm+XvtEWtVuPKlStIS0tDamoqUlNTUV1djdGjR2Pu3Ll46aWX4ObmpnM7jF5JPEjP1NTU0M6dO2n48OEEgEaMGEEbNmygq1ev6rupTlEqlZSYmEhLliyhvn37kkQioeeee46SkpKMroXR44nTm1lqampo27Zt5OLiQhYWFhQeHk6nTp3SV3idUSqVFBcXR5MnTyaO42jEiBEUFxdHPM8LLY3RM9DdLBqNhnbt2kWOjo5ka2tL69ato/Lycn2IMxiXLl2isLAw4jiOxowZQxcuXBBaEsP00c0sly5dooCAAJJKpfT222+bvEke5/LlyzRx4kQSiUS0bNkyqqysFFoSw3Tpnll4nqcPP/yQpFIpBQcHU05Ojr6FGQ2e5yk2NpZcXFxo0KBBlJ6eLrQkhmmivVkqKipoypQpJJVKKTo62mzm/GVlZTRz5kySSCQUHR0ttByG6aGdWQoKCsjX15fc3d3Ncp7P8zxt3bqVxGIxLV++nNRqtdCSGKZDXJe3u+Tl5SE0NBQODg7IyMhA//79DbikLQwcx2HVqlXw8PBAREQEysrKcPDgQZYalgGgixsp79+/j6lTp8LNzQ1paWlmaZRf8+yzz+LkyZM4ceIEli5dqnOxJYZ50KlZ6urqMH36dMhkMhw/fhz29vZGkCU8EyZMQHx8PGJjY7Fhwwah5TBMgE7Nsnr1ahQUFOC7775D3759jaHJZJgxYwZ27NiBTZs2ISUlRWg5DIHpcG/YsWPH8Lvf/Q7x8fGYO3euMXWZFOHh4cjMzMS1a9d6zcjKaEV8uyOLSqXCW2+9hYiICKMahYiQnp6OFStWwMvLC3K5HE5OTggKCsL//M//CHL/8K9//QtKpRIffPCB0dtmmBDtrZPFxMSQpaUlFRQUGGll7hdu3rxJAGjy5Mn0v//7v1RfX0+3b9+mF154gQDQ6tWrjaqnie3bt5OFhQXl5+cL0j5DcNp+zqLRaGjgwIG0atUqYwuimzdvkkQioYqKihavK5VKcnR0JLlcTg0NDUbXpVQqaeDAgbRmzRqjt80wCeLanIYlJyejoKAAixcvNu4wB8Db2xuNjY2tztTLZDK4u7s3HwAzNjKZDFFRUdi/f3+bCQIZ5k+bZjl06BACAwPh7e1tbD3tUlVVhdzcXIwaNUovB8W6Q1RUFEpLS3H69GlB2mcIS5tmOXPmTLdyeBmC6upqpKenIywsDC4uLti/f79gWgYNGgRPT0+cPXtWMA0M4WhllgcPHuD27dsIDAwUQk8L/vrXv8LOzg5BQUEQi8VISEiAn5+foJrGjx+PjIwMQTUwhKGVWe7cuQMiwrBhw4TQ04J169ZBqVTi5s2b8Pb2xqhRo7Bp0yZBNXl5eSE/P19QDQxhaHNkAQBHR0eji2kLmUwGb29v/POf/0RYWBjee+89JCcnC6bH0dER5eXlgrXPEI5WZqmvrwcAWFpaGl1MZ8yePRsA8O233wqmwdraGrW1tYK1zxCOVmZpWrKtrKw0upjOaErvWlFRIZiG8vJyrctiMMyDVmZpmn41Jdw2Nm+//TYWLlzY5rXExEQAQEBAgDEltaApXSyj99HKLEOHDoWFhQWys7OF0AMA+Pe//42NGzciPz8fSqUS+fn5WLt2Lf7nf/4Ho0ePxquvviqYtsuXL2P48OGCtc8QjlZmkcvlGDVqFM6dOyeEHrz33nv4/PPPce7cOYSGhsLW1hbDhw/Hf//7X2zevBlnzpwR7H6KiJCZmWkSy+oM49PmFv3169dj3759yM/Pb1XKrjeTmpqKiRMn4tq1a4I/72EYnba36EdFReHevXs4deqUsQWZNLt370ZAQAAzSi+lTbN4eHggODgYMTExxtZjsty9exeHDx8W9H6JISztnpRMS0tDSEgITp48iSlTphhbl8kRFRWFlJQU/PDDD92qUMbo8XRcciIsLAw//fQTLl68CAsLC2MKMykyMzMRFBSE/fv3IyIiQmg5DGHo2CyFhYUYOXIkFi5ciO3btxtTmMnw6NEj+Pv7w8PDA4mJiayiWO+l/TP4AODu7o5du3bhk08+wVdffWUsUSYDz/OIjIxETU0NvvzyS2aUXk6nqRbnz5+P8+fPIzIyEn379sWkSZOMocskeO2113DixAkkJSXB2dlZaDkMoenK4WONRkMLFiwgGxsb+v777w1zwtmE4HmeVq9eTWKxmBISEoSWwzANup4YXKVS0fz580kul9PBgwcNKUpQlEolRUREkEwmowMHDggth2E6aJdFX6PR0KpVq4jjOFq7di2pVCpDCROE/Px8Gj9+PNna2ppUiT+GSdC9Yka7d++mPn360Lhx4ygvL0/fogQhPj6eHBwcyNfXt0cXZ2IYjLZTIXXGokWLkJWVhfr6egwfPhybNm2CUqnU9+2UUfj5558xe/ZshIeHIzw8HFlZWfD19RVaFsMU0cVqKpWKoqOjydramjw9PSk2NrbHFAAqLS2ltWvXkqWlJfn4+NDp06eFlsQwbfRT2ruwsJAiIyNJIpHQsGHDaO/evVRfX6+P0HqnoKCA1qxZQ9bW1uTk5EQxMTFmd+/FMAj6MUsTubm59PLLL5NMJiOFQkErV640ifm/SqWiY8eO0ezZs0ksFpOLiwtt2bKFamtrhZbG6Dno1yxNFBcX0wcffEBDhgwhAOTt7U3vvvsuZWVl6X2aplar2ywCW11dTUeOHKHIyEhSKBTEcRxNmjSJ4uLiSKlU6lUDo1cQ1+HeMF3heR7p6en45ptvkJCQgDt37jQnzQsKCoK/vz/8/Pzg5ubW7TbOnTuH8vJyeHp6IicnB5mZmThz5gyys7PB8zwCAwMxZ84czJkzB4MHD9bfl2P0NjreSKlvcnJykJqairS0NJw9exZFRUUAAFtbW3h7e8PNzQ3u7u5wcnKCnZ0d5HI5rKysIJfLUVNTA7VajZqaGlRXV6OwsBAlJSW4ePEiHjx4AJ7nIZFI8OSTTyIkJATBwcEIDg5m21QY+sK4Znmc8vJyJCQkYPHixYiMjIRSqcS9e/dQUlKC6upqKJVK1NbWQqVSwdraGlKpFDY2NrC1tUX//v3h4uKC5ORk3Lt3D19//TVmzpzJzpowDEW8oDWrHR0dMXDgQABATExMqzITnVFdXQ2FQgGO45CUlIQ5c+YYQiaDAaCLpb0NSWlpKWQyWbdqNZ4+fRoajQZEhH379rG0qgyDYhJmcXJy6tZZkVOnTkEmkwEANBoN9uzZo295DEYzgpulrKwMTk5O3frs8ePHoVKpAABqtRoxMTFQq9X6lMdgNCO4WZpGFm0pKChoVfqhuLgYR44c0ZMyBqMlPdYsp06dgkjUUr5IJMKWLVv0JY3BaEGPNUtSUlIrs2g0GmRmZuLixYv6ksdgNCO4WSorK7VeMuZ5HklJSW3en0il0l6biYZhWAQ3y6NHj2Btba3VZ7Kzs1FVVdXmtcbGRhw6dAjFxcV6UMdg/H9Mwix9+vTR6jOnTp2CVCrt8D2fffaZLrIYjFYIahYiQl1dndYjS2JiYodLxI2Njfj444/R0NCgq0QGoxlBzVJfXw+NRqPVyFJXV4eMjAy0taVNJBJBKpVCKpWisrIS8fHx+pTL6OUIujfs0aNHAKDVyJKWlobGxkYAQJ8+fWBvbw+pVAqJRIIxY8ZAoVBAoVC02HfGYOgDQc3SVPVXG7MEBgaipKQEjo6OzYWW3nnnHSQnJ+PAgQMG0clgACYysmgzDbOzs2v1mkwma972wmAYCkHvWZpGFm1Xwx5HKpUyszAMjqBmaco1puuBLTayMIyBoGbheR4AdC7yyszCMAaCmkWj0QBgZmH0DEzCLI9viNQWZhaGMWDTMAaji5jEyKIPszQ9qGQwDIVJmEXXaZhGo9E5BoPRGWYxDeN5npmFYXDMZmTR1XAMRmcIapam9Ee6JsVkIwvDGAj6C2vK+aXrShYzC8MYmIRZdC2xx6ZhDGMgqFma9oSxkYXREzCJkYWZhdETMAuzqNVqSCSCHs1h9ALMwiy1tbU6n4lhMDqDmYXB6CJGm7toNBpcuHABFRUVzX+3b98GAKxduxZqtRplZWWoqKiASCRCbm5up7nBmqitrdU6nRKDoS1GM4tYLMbrr7+OS5cuQSQSQSKRgOM4SKVSJCUlNW994TgOM2bM6LJRADayMIyDUadhb775JkQiEXieh0qlglKpRGNjY7NRgF9MNX36dK3idierJYOhLUY1y/PPP99pEnC1Wo1nnnlGq7hsGsYwBkY1i0wmw2uvvdbhFMvV1RVeXl5axWXTMIYxMPpq2B/+8Id2r0mlUsyaNUvrmMwsDGNgdLM4OTnh+eefb3N06c4UDAAePnwIW1tbfchjMNpFkOcsb731VpvHgDmOw6RJk7SO193qYQyGNghiFn9/fwQEBLTaKTxy5EgoFAqtYqnValRVVaFfv376lMhgtEKwJ/irV69usWQsk8kwc+ZMreOUlZWBiJhZGAZHMLPMnTu3xdRJpVJ1636lrKwMAJhZGAZHMLNIJBK88cYbzbuFLSwsMHbsWK3jMLMwjIWgGymXLFnSfA4/NDS0WwnCy8rKIBaLta54zGBoi6CHQPr27YuFCxdi7969mDZtGjQaDUpKSlBSUoKqqipoNBrU1NRArVbDysoKcrkclpaWsLe3h6urKxQKBcrKyuDo6MgOfzEMDke6plbpBvX19cjKysLVq1eRmpqKw4cPo1+/fqioqGhOj9QVLCws4OTkBIVCgalTp8LX1xf+/v7w8fFpHrEYDD0RbxSz8DyP8+fP48SJE0hJSUFWVhaUSiUUCgX8/Pxw//59rFixAq6urnBzc4OzszMUCgVEIhFsbGwgkUhQV1cHpVKJhoYGVFRUoKioCPfv30dhYSFu3LiB69ev4+bNm1CpVOjXrx8mTJiA0NBQhIWFsdqSDH1gWLOkp6fjwIEDOHLkCIqKivDEE09g4sSJCAkJQUhISPOP+OHDh22Wv9MWtVqNK1euIC0tDampqUhNTUV1dTVGjx6NuXPn4qWXXoKbm5vO7TB6JfEgPVNTU0M7d+6k4cOHEwAaMWIEbdiwga5evarvpjpFqVRSYmIiLVmyhPr27UsSiYSee+45SkpKMroWRo8nTm9mqampoW3btpGLiwtZWFhQeHg4nTp1Sl/hdUapVFJcXBxNnjyZOI6jESNGUFxcHPE8L7Q0Rs9Ad7NoNBratWsXOTo6kq2tLa1bt47Ky8v1Ic5gXLp0icLCwojjOBozZgxduHBBaEkM00c3s1y6dIkCAgJIKpXS22+/bfImeZzLly/TxIkTSSQS0bJly6iyslJoSQzTpXtm4XmePvzwQ5JKpRQcHEw5OTn6FmY0eJ6n2NhYcnFxoUGDBlF6errQkhimifZmqaiooClTppBUKqXo6GizmfOXlZXRzJkzSSKRUHR0tNByGKaHdmYpKCggX19fcnd3N8t5Ps/ztHXrVhKLxbR8+XJSq9VCS2KYDnFd3u6Sl5eH0NBQODg4ICMjA/379zfgkrYwcByHVatWwcPDAxERESgrK8PBgwdZalgGgC5upLx//z6mTp0KNzc3pKWlmaVRfs2zzz6LkydP4sSJE1i6dKnOxZYY5kGnZqmrq8P06dMhk8lw/Phx2NvbG0GW8EyYMAHx8fGIjY3Fhg0bhJbDMAE6Ncvq1atRUFCA7777Dn379jWGJpNhxowZ2LFjBzZt2oSUlBSh5TAEpsO9YceOHcPvfvc7xMfHY+7cucbUZVKEh4cjMzMT165d6zUjK6MV8e2OLCqVCm+99RYiIiIEN0pYWBg4jsNf//pXQdr/17/+BaVSiQ8++ECQ9hmmQbtm2bVrF4qKirB582Zj6mnF/v37cezYMUE1ODg4YP369dixYwfu3LkjqBaGcLRpFp7nERMTg+XLl8Pd3d3YmpopKirCypUr8eKLLwqmoYmlS5fCyckJO3fuFFoKQyDaNEtycjIKCgqwePFiY+tpweLFixEeHo4pU6YIqgP4JVVTVFQU9u/f32aCQIb506ZZDh06hMDAQHh7extbTzN79uzB9evXsWXLFsE0PE5UVBRKS0tx+vRpoaUwBKBNs5w5c6ZbObz0xd27d7F69Wrs2bMHNjY2gul4nEGDBsHT0xNnz54VWgpDAFqZ5cGDB7h9+zYCAwOF0AMAePXVVxEREYHf/va3gmloj/HjxyMjI0NoGQwBaLXp6c6dOyAiDBs2TAg9+Pzzz5Gbm4uvv/5akPY7w8vLC+np6ULLYAhAK7M8ePAAAODo6Gh0MQUFBVizZg2OHDlisvVWHB0dUV5eLrQMhgC0mobV19cDACwtLY0u5tixY3j48CEmTpwIjuOa/5qWjtevX9/8Wl5entH1AYC1tTVqa2sFaZshLK3M0pQGtbKy0uhiVqxYASJq9RcbGwsA2LRpU/Nrnp6eRtcHAOXl5VqXxWCYB63M0jT9akq4zWhJU7pYRu+jlVmGDh0KCwsLZGdnC6HH5Ll8+TKGDx8utAyGALQyi1wux6hRo3Du3Dkh9LRg2bJlbd6zTJs2TRA9RITMzExBl9UZwtHmQ8lJkybh2LFjWiXpNgSffvppm/cw3333nSB60tLSUFFRYZLPfxiGp02zREVF4d69ezh16pSx9Zg0u3fvRkBAAPz8/ISWwhCANs3i4eGB4OBgxMTEGFuPyXL37l0cPnwYr776qtBSGALR7knJtLQ0hISE4OTJkyax61dooqKikJKSgh9++KFbFcoYPZ6OS06EhYXhp59+wsWLF2FhYWFMYSZFZmYmgoKCsH//fkRERAgthyEMHZulsLAQI0eOxMKFC7F9+3ZjCjMZHj16BH9/f3h4eCAxMZFVFOu9tH8GHwDc3d2xa9cufPLJJ/jqq6+MJcpk4HkekZGRqKmpwZdffsmM0svpNNXi/Pnzcf78eURGRqJv376YNGmSMXSZBK+99hpOnDiBpKQkODs7Cy2HITRdSfKq0WhowYIFZGNjQ99//73ekseaKjzP0+rVq0ksFlNCQoLQchimQdcTg6tUKpo/fz7J5XI6ePCgIUUJilKppIiICJLJZHTgwAGh5TBMB+2y6Gs0Glq1ahVxHEdr164llUplKGGCkJ+fT+PHjydbW1uTKvHHMAm6V8xo9+7d1KdPHxo3bhzl5eXpW5QgxMfHk4ODA/n6+vbo4kwMgxHXpSz6j7No0SJkZWWhvr4ew4cPx6ZNm6BUKvV9O2UUfv75Z8yePRvh4eEIDw9HVlYWfH19hZbFMEV0sZpKpaLo6GiytrYmT09Pio2N7TEFgEpLS2nt2rVkaWlJPj4+dPr0aaElMUwb/ZT2LiwspMjISJJIJDRs2DDau3cv1dfX6yO03ikoKKA1a9aQtbU1OTk5UUxMjNndezEMgn7M0kRubi69/PLLJJPJSKFQ0MqVK01i/q9SqejYsWM0e/ZsEovF5OLiQlu2bKHa2lqhpTF6Dvo1SxPFxcX0wQcf0JAhQwgAeXt707vvvktZWVl6n6ap1eo2i8BWV1fTkSNHKDIykhQKBXEcR5MmTaK4uDhSKpV61cDoFcR1uDdMV3ieR3p6Or755hskJCTgzp07sLOzQ1BQEIKCguDv7w8/Pz+4ubl1u41z586hvLwcnp6eyMnJQWZmJs6cOYPs7GzwPI/AwEDMmTMHc+bMweDBg/X35Ri9jY43UuqbnJwcpKamIi0tDWfPnkVRUREAwNbWFt7e3nBzc4O7uzucnJxgZ2cHuVwOKysryOVy1NTUQK1Wo6amBtXV1SgsLERJSQkuXryIBw8egOd5SCQSPPnkkwgJCUFwcDCCg4PZNhWGvjCuWR6nvLwcCQkJWLx4MSIjI6FUKnHv3j2UlJSguroaSqUStbW1UKlUsLa2hlQqhY2NDWxtbdG/f3+4uLggOTkZ9+7dw9dff42ZM2eysyYMQxEvaM1qR0dHDBw4EAAQExPTnLOsq1RXV0OhUIDjOCQlJWHOnDmGkMlgAOhiaW9DUlpaCplM1q1ajadPn4ZGowERYd++fSytKsOgmIRZnJycunVW5NSpU5DJZAAAjUaDPXv26Fseg9GM4GYpKyuDk5NTtz57/PhxqFQqAIBarUZMTAzUarU+5TEYzQhulqaRRVsKCgqQn5/f4rXi4mIcOXJET8oYjJb0WLOcOnUKIlFL+SKRyKTK6jHMix5rlqSkpFZm0Wg0yMzMxMWLF/Ulj8FoRnCzVFZWar1kzPM8kpKS2rw/kUqlvTYTDcOwCG6WR48ewdraWqvPZGdno6qqqs1rjY2NOHToEIqLi/WgjsH4/5iEWbQtiXfq1ClIpdIO3/PZZ5/pIovBaIWgZiEi1NXVaT2yJCYmdrhE3NjYiI8//hgNDQ26SmQwmhHULPX19dBoNFqNLHV1dcjIyEBbW9pEIhGkUimkUikqKysRHx+vT7mMXo6ge8OaCplqM7KkpaWhsbERANCnTx/Y29tDKpVCIpFgzJgxUCgUUCgULfadMRj6QFCzPHr0CAC0GlkCAwNRUlICR0dHiMViAMA777yD5ORkHDhwwCA6GQzARMyizchiZ2fX6jWZTNa87YXBMBSC3rM0TcO0XQ17HKlUyszCMDiCmqUp15iuB7bYyMIwBoKahed5AGi+9+guzCwMYyCoWZqqITOzMHoCJmGWxzdEagszC8MYsGkYg9FFzGZkaXpQyWAYCpMwi64ji0aj0dlwDEZnmMU0jOd5ZhaGwTGJkUXXH7pGo9HZcAxGZwhqliaTNI0w3YWNLAxjIOgvrOkAl64358wsDGMg6C+sKUGeriX22DSMYQwENUvTnjBdn5GwkYVhDExiZGFmYfQEzMIsarUaEomgR3MYvQCzMEttba3OZ2IYjM5gZmEwuojR5i4ajQZZWVmoqKho/rt9+zYAYO3ateB5HmVlZSgvL4dIJEJubm6Xp1a1tbVap1NiMLTFaGYRi8VYsWIFLl++DJFIBIlEAo7jIJVKkZSU1PxgkuM4zJgxQ6t7EDayMIyBUadhK1euhEgkAs/zUKlUUCqVaGxsbPEEXywWY9q0aVrF7U5WSwZDW4xqlueff77TJOBqtRpTpkzRKi6bhjGMgVHNIpPJ8Nprr3U4xXJ1dYWXl5dWcdk0jGEMjL4a9oc//KHd+pFSqRSzZs3SOiYzC8MYGN0sTk5O+P3vf99mFny1Wo1nnnlG65gPHz6Era2tPuQxGO0iyHOWVatWtbnTmOM4TJo0Set43a0exmBogyBm8ff3R0BAQKudwiNHjoRCodAqllqtRlVVFfr166dPiQxGKwR7gr9q1aoWS8YymQwzZszQOk5ZWRmIiJmFYXAEM8u8efNaTJ1UKlW37lfKysoAgJmFYXAEM4tEIsHrr7/evIxsYWGBcePGaR2HmYVhLATdSLlkyZLmZeTQ0NBuJQgvKyuDWCzWuuIxg6Etgh4C6devHxYuXIi9e/di2rRp0Gg0KCkpQUlJCaqqqqDRaFBTUwO1Wg0rKyvI5XJYWlrC3t4erq6uUCgUKCsrg6OjIzv8xTA4HLVVnNHA1NfXIysrC1evXkVqaioOHz6Mfv36oaKiojk9UlewsLCAk5MTFAoFpk6dCl9fX/j7+8PHx6fdB58MRjeJN4pZeJ7H+fPnceLECaSkpCArKwtKpRIKhQJ+fn64f/8+VqxYAVdXV7i5ucHZ2RkKhQIikQg2NjaQSCSoq6uDUqlEQ0MDKioqUFRUhPv376OwsBA3btzA9evXcfPmTahUKvTr1w8TJkxAaGgowsLCWG1Jhj4wrFnS09Nx4MABHDlyBEVFRXjiiScwceJEhISEICQkpPlH/PDhwzbL32mLWq3GlStXkJaWhtTUVKSmpqK6uhqjR4/G3Llz8dJLL8HNzU3ndhi9kniQnqmpqaGdO3fS8OHDCQCNGDGCNmzYQFevXtV3U52iVCopMTGRlixZQn379iWJRELPPfccJSUlGV0Lo8cTpzez1NTU0LZt28jFxYUsLCwoPDycTp06pa/wOqNUKikuLo4mT55MHMfRiBEjKC4ujnieF1oao2cQp/M0jOd5fPbZZ1i/fj0aGxvxxhtv4K233tJ624oxuXz5MjZs2IBjx44hICAAn3zyCQICAtp9P8/zKC4uRnl5OcrLy/HgwQM0dZulpSX69u0LR0dH9O/fH1ZWVsb6Ggzjots07NKlSxQQEEBSqZTefvttKi8v14uFjcXly5dp4sSJJBKJaNmyZVRZWUnl5eV04sQJeu+99+jZZ58lHx8fksvlBKDTP47jaMiQITRz5kz6y1/+QmfOnCGVSiX012Toh+6NLESEf/zjH1i3bh0CAwOxa9cu+Pr66tHExoOIcODAAaxZswYcx6G4uBhEhKFDh2LUqFEYOnQovLy8MGTIEDg6OjaPIk2bQOvq6ppHm4KCAty4cQM5OTk4e/YsCgoKYGNjg7lz52LRokUICgpiS9o9F+1HloqKCpoyZQpJpVKKjo42mzl/WVkZzZgxg8RiMb3//vt6iXnr1i36+OOPyd/fnwDQ8OHDKSEhwWz6rJeh3Q1+QUEB+fr6kru7O124cMFQogSD53naunUricViWr58OanVar3Fzs7OpvDwcOI4jsaOHUs3btzQW2yGUei6WXJzc2nAgAE0fPhwunv3riFFCU5CQgJZWlrSvHnzqLGxUa+xs7OzaezYsWRpaUnbt2/Xa2yGQemaWYqKisjDw4PGjBlDlZWVBtZkGqSlpZGVlRUtWrRI79OmxsZG2rhxI4lEIlq5ciWblvUMOjdLbW0tjRw5kry9vamsrMwYokyG48ePk1Qq1ds9zON89dVXJJfLaenSpQaJz9ArnZtl2bJl5ODgQPn5+cYQZHJ8+umnJBKJ6PTp0waJf/ToURKJRLRjxw6DxGfojY7NcvToUeI4jg4fPmwsQSbJvHnzaMCAAQabgv7tb38jiURCly9fNkh8hl5o3yxKpZKeeOIJWrBggTEFERHR008/3e6DvzfffNPoeioqKqhfv360Zs0ag8TneZ4mTJhA48ePZ/cvpktcuyemdu3ahaKiImzevNkoT3xMGQcHB6xfvx47duzAnTt39B6f4zh89NFHyMzMxNGjR/Uen6En2rKQRqOhgQMH0qpVq4ztXiL6ZWTJysoSpO32UCqVNHDgQIONLkRE06dPpxkzZhgsPkMn2h5ZkpOTUVBQgMWLFxvbuyaLTCZDVFQU9u/fr3Mp8vZ45ZVXcPLkSdy7d88g8Rm60aZZDh06hMDAQHh7extbj0kTFRWF0tJSnD592iDxZ8+eDZlMhuTkZIPEZ+hGm2Y5c+ZMt3J46ZPY2Fg89dRT6NOnD+zs7DBhwgT8+9//FlTToEGD4OnpibNnzxokvkwmg7+/P86fP2+Q+AzdaGWWBw8e4Pbt2wgMDBRCTzOVlZXYs2cPSktLceHCBQwZMgQLFizAG2+8Iaiu8ePHIyMjw2DxAwICcOnSJYPFZ3SfVqmQ7ty5AyLCsGHDhNADAK3+5R42bBj279+PH3/8ETt27MCCBQswduxYQbR5eXkhPT3dYPFdXV1RWlpqsPiM7tPmyAIAjo6ORhfTGfPmzQMAHDt2TDANjo6OKC8vN1h8hUKByspKg8VndJ9WZqmvrwfwy3FZU8PV1RUABP2X19raGrW1tQaLb2VlZdD4jO7TyixNaVBN8V+3oqIiABC0Fkt5eblB8ws8evSI1cc0UVqZpWn61ZRw29h88cUXGD16dKvXiQhxcXEAflliFYqmdLGGory8nOVtNlFamWXo0KGwsLBAdna2EHoA/JJ9ZcWKFcjLy0NDQwN+/PFHvPjii7h06RJef/11wW7um7QNHz7cYPFv3bqFoUOHGiw+o/u0MotcLseoUaNw7tw5IfTgxRdfRHx8PO7fv49p06bB3t4eY8eOxb179/Dvf/8b27dvF0QX8MvolpmZadBl9cuXL8PPz89g8Rk60NYmmHXr1tGAAQP0egbdHEhJSSEAdO3aNYPELy4uJo7j6NtvvzVIfIZOtL03LCoqCvfu3cOpU6eMbF3TZvfu3QgICDDYv/yHDh2CtbU1Jk6caJD4DN1o0yweHh4IDg5GTEyMsfWYLHfv3sXhw4fx6quvGiS+RqPBZ599hvnz56NPnz4GaYOhI+2NOampqQSATp48acyhzmR5+eWXafDgwdTQ0GCQ+Pv27SOJREI3b940SHyGznR8rHj27Nnk6+tL9fX1xhJkkmRkZJBYLKYDBw4YJH5paSk5OzvTsmXLDBKfoRc6Tt9aWFiIkSNHYuHChYKuQgnJo0eP4O/vDw8PDyQmJuo9/apGo8Hs2bNx48YNXL16Fba2tnqNz9AbnadvPXjwIHEcR4cOHTK8d00MjUZDc+bMIRcXFyouLjZI/MWLF5OVlRVlZmbqPT5Dr3Qtyd7KlStJLpdTcnKyoQWZFMuXLycLCwtKS0vr8H3FxcVUWlqqVeyGhgZauHAhyeVyOnr0qC4yGcaha2bRaDS0YMECsrGxoe+//97QogSH53lavXo1icViSkhIaHW9oKCAYmNjafHixeTh4UEAtKom9sMPP5C/vz/Z2tqyKmQ9h67nOlapVDR//nySy+V08OBBQ4oSFKVSSRERESSTyZpv6H/88Uf64osv6KWXXqIBAwYQABKJRC3qtuTk5HQau6qqit59912Sy+X0m9/8hnJzcw39dRj6Q7ss+hqNhlatWkUcx9HatWvNrlBPfn4+jR8/nqytrWnlypW0cOFCcnFxIQAkFotJIpG0m8+soqKi3bi3b9+mtWvXkr29Pdnb21NMTIzeE44zDE73akru3r2b+vTpQ+PGjaO8vDx9izI6Go2Gli5dSlKplEQiEQEgiURCYrG4SxW/ZDJZi+R4DQ0N9P3339Of/vQn+s1vfkMikYj69+9PmzZtoqqqKgG/KUMHul+A9caNGzRy5EiytLSkjRs3GuxhnaH56aefaNasWQSAAgICSKFQEMdxxHFcl4wCgBwdHemNN96gWbNmtSir5+XlRStWrKBvv/2WjSQ9H92qFatUKoqOjiZra2vy9PSk2NjYHrP5srS0lNauXUuWlpbk4+PTnPi7oaGBvvzyS/Lw8CCO47o0uri6utLTTz9NL774Ir333nsUGxtLd+7cEfYLMvSNfkp7FxYWUmRkJEkkEho2bBjt3bvXZJ/6FxQU0Jo1a8ja2pqcnJwoJiamzXsvjUZDR48ebS5x1979CsdxNG/ePAG+CcPI6McsTeTm5tLLL79MMpmMFAoFrVy5skurRIZGpVLRsWPHaPbs2SQWi8nFxYW2bNlCtbW1Xfr8mTNnaNq0acRxHEml0lb3K2+88YaBvwHDBNCvWZooLi6mDz74gIYMGUIAyNvbm959913Kysoy2jSturqajhw5QpGRkc33IZMmTaK4uDhSKpXdinnx4kWaN28eiUSiZtPIZDL64IMP9KyeYYJ0r7R3V+F5Hunp6fjmm2+QkJCAO3fuwM7ODkFBQQgKCoK/vz/8/Pzg5uamUztqtRq5ubnIyclBZmYmzpw5g+zsbPA8j8DAQMyZMwdz5szB4MGD9fK98vLysGXLFuzZsweNjY3Yt28fIiMj9RKbYbLEG9Qsj5OTk4PU1FSkpaXh7NmzzdlaFAoFvLy84OLiAnd3dzg5OcHOzg5yuRxWVlaQy+WoqamBWq1GTU0NqqurUVhYiJKSEhQUFODWrVtQqVSQSCR48sknERISguDgYAQHB8PZ2dlg36ekpAQff/wxZs6ciaefftpg7TBMAuOa5XHKy8tx7do1XL9+HXl5eSguLsa9e/dQUlKC6upqKJVK1NbWQqVSwdraGlKpFDY2NrC1tUX//v3h4uKCAQMGwNvbG76+vvDx8YFcLhfq6zDMG2HNwmD0IOLbrfzFYDBawszCYHQRZhYGo4tIAMQLLYLB6AFk/j+ys8/BNsv62QAAAABJRU5ErkJggg==\"/>"
      ],
      "text/plain": [
       "<IPython.core.display.HTML object>"
      ]
     },
     "execution_count": 8,
     "metadata": {},
     "output_type": "execute_result"
    }
   ],
   "source": [
    "# Define path where to save the generated PNG.\n",
    "fpath = \"figures/tsys/car_parking_nolabels.png\"\n",
    "\n",
    "# Generate a PNG\n",
    "graph.to_png(fpath)\n",
    "\n",
    "# Show PNG in Jupyter Notebook\n",
    "html = img2html(fpath)\n",
    "IPython.display.HTML(html)"
   ]
  },
  {
   "cell_type": "markdown",
   "metadata": {
    "pycharm": {
     "name": "#%% md\n"
    }
   },
   "source": [
    "As you may notice, the generated PNG has the structure as expected. However, it would be nice to be visualize what atomic propositions hold in which state and which edges correspond to which actions.\n",
    "\n",
    "For this purpose, we pass two optional arguments to `to_png` function."
   ]
  },
  {
   "cell_type": "code",
   "execution_count": 9,
   "metadata": {
    "pycharm": {
     "name": "#%%\n"
    }
   },
   "outputs": [
    {
     "name": "stderr",
     "output_type": "stream",
     "text": [
      "DEBUG:PIL.PngImagePlugin:STREAM b'IHDR' 16 13\n",
      "DEBUG:PIL.PngImagePlugin:STREAM b'bKGD' 41 6\n",
      "DEBUG:PIL.PngImagePlugin:b'bKGD' 41 6 (unknown)\n",
      "DEBUG:PIL.PngImagePlugin:STREAM b'IDAT' 59 8192\n"
     ]
    },
    {
     "data": {
      "text/html": [
       "<img src=\"data:image/png;base64,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\"/>"
      ],
      "text/plain": [
       "<IPython.core.display.HTML object>"
      ]
     },
     "execution_count": 9,
     "metadata": {},
     "output_type": "execute_result"
    }
   ],
   "source": [
    "# Define path where to save the generated PNG.\n",
    "fpath = \"figures/tsys/car_parking_labeled.png\"\n",
    "\n",
    "# Generate a PNG\n",
    "graph.to_png(fpath, nlabel=[\"state\", \"label\"], elabel=[\"input\"])\n",
    "\n",
    "# Show PNG in Jupyter Notebook\n",
    "html = img2html(fpath)\n",
    "IPython.display.HTML(html)"
   ]
  },
  {
   "cell_type": "markdown",
   "metadata": {
    "pycharm": {
     "name": "#%% md\n"
    }
   },
   "source": [
    "## Serialization\n",
    "\n",
    "The graph of a transition system can be serialized into a dictionary. This allows us to save it or share it easily over a communication channel.\n",
    "\n",
    "See [Graph.Serialize() API Documentation](https://akulkarni.me/ggsolver/modules/models.html#ggsolver.models.TSys.serialize) to understand the components of generated dictionary."
   ]
  },
  {
   "cell_type": "code",
   "execution_count": 10,
   "metadata": {
    "pycharm": {
     "name": "#%%\n"
    }
   },
   "outputs": [
    {
     "data": {
      "text/plain": [
       "{'graph': {'nodes': 6,\n",
       "  'edges': {0: {1: 1, 2: 1},\n",
       "   1: {3: 1, 0: 1},\n",
       "   2: {0: 1, 2: 1},\n",
       "   3: {4: 1, 1: 1},\n",
       "   4: {5: 1, 3: 1},\n",
       "   5: {5: 1, 4: 1}},\n",
       "  'node_properties': {'state': {'default': None,\n",
       "    'dict': {0: 1, 2: 0, 1: 2, 3: 3, 4: 4, 5: 5}},\n",
       "   'label': {'default': None,\n",
       "    'dict': {0: [], 1: [], 2: ['empty'], 3: [], 4: [], 5: ['full']}}},\n",
       "  'edge_properties': {'input': {'default': None,\n",
       "    'dict': [{'edge': (0, 1, 0), 'pvalue': 'enter'},\n",
       "     {'edge': (0, 2, 0), 'pvalue': 'exit'},\n",
       "     {'edge': (2, 0, 0), 'pvalue': 'enter'},\n",
       "     {'edge': (2, 2, 0), 'pvalue': 'exit'},\n",
       "     {'edge': (1, 3, 0), 'pvalue': 'enter'},\n",
       "     {'edge': (1, 0, 0), 'pvalue': 'exit'},\n",
       "     {'edge': (3, 4, 0), 'pvalue': 'enter'},\n",
       "     {'edge': (3, 1, 0), 'pvalue': 'exit'},\n",
       "     {'edge': (4, 5, 0), 'pvalue': 'enter'},\n",
       "     {'edge': (4, 3, 0), 'pvalue': 'exit'},\n",
       "     {'edge': (5, 5, 0), 'pvalue': 'enter'},\n",
       "     {'edge': (5, 4, 0), 'pvalue': 'exit'}]},\n",
       "   'prob': {'default': None, 'dict': []}},\n",
       "  'graph_properties': {'input_domain': 'actions',\n",
       "   'is_probabilistic': False,\n",
       "   'is_deterministic': True,\n",
       "   'actions': ['enter', 'exit'],\n",
       "   'init_state': 1,\n",
       "   'atoms': ['empty', 'full']}}}"
      ]
     },
     "execution_count": 10,
     "metadata": {},
     "output_type": "execute_result"
    }
   ],
   "source": [
    "graph.serialize()"
   ]
  }
 ],
 "metadata": {
  "kernelspec": {
   "display_name": "Python 3 (ipykernel)",
   "language": "python",
   "name": "python3"
  },
  "language_info": {
   "codemirror_mode": {
    "name": "ipython",
    "version": 3
   },
   "file_extension": ".py",
   "mimetype": "text/x-python",
   "name": "python",
   "nbconvert_exporter": "python",
   "pygments_lexer": "ipython3",
   "version": "3.9.13"
  }
 },
 "nbformat": 4,
 "nbformat_minor": 1
}