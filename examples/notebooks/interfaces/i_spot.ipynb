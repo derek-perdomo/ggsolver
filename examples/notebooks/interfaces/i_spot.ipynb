{
 "cells": [
  {
   "cell_type": "markdown",
   "metadata": {
    "pycharm": {
     "name": "#%% md\n"
    }
   },
   "source": [
    "# SpotAutomaton Interface\n",
    "\n",
    "`SpotAutomaton` class provides an interface between `spot` and `ggsolver`.\n",
    "Given an LTL formula, `SpotAutomaton` determines the best options for `spot.translate()` function\n",
    "to generate a deterministic automaton in `ggsolver.Automaton` format."
   ]
  },
  {
   "cell_type": "code",
   "execution_count": 1,
   "metadata": {
    "pycharm": {
     "name": "#%%\n"
    }
   },
   "outputs": [],
   "source": [
    "# This code block is necessary when running in `ggsolver:v0.1` docker image.\n",
    "import sys\n",
    "sys.path.append('/home/ggsolver/')"
   ]
  },
  {
   "cell_type": "markdown",
   "metadata": {
    "pycharm": {
     "name": "#%% md\n"
    }
   },
   "source": [
    "`SpotAutomaton` class is available in the interfaces subpackage."
   ]
  },
  {
   "cell_type": "code",
   "execution_count": 2,
   "metadata": {
    "pycharm": {
     "name": "#%%\n"
    }
   },
   "outputs": [],
   "source": [
    "from ggsolver.interfaces.i_spot import *"
   ]
  },
  {
   "cell_type": "markdown",
   "metadata": {
    "pycharm": {
     "name": "#%% md\n"
    }
   },
   "source": [
    "The constructor takes two arguments: `formula` and `options`. If `options` are not provided, then options are\n",
    "selected based on where the LTL formula lies in Manna-Pnueli Hierarchy.\n",
    "\n",
    "See documentation []() to understand how options are selected."
   ]
  },
  {
   "cell_type": "code",
   "execution_count": 3,
   "metadata": {
    "pycharm": {
     "name": "#%%\n"
    }
   },
   "outputs": [
    {
     "name": "stdout",
     "output_type": "stream",
     "text": [
      "[INFO] Translating Fa & Gb with options=('Buchi', 'Deterministic', 'High', 'Complete', 'Unambiguous', 'SBAcc').\n"
     ]
    }
   ],
   "source": [
    "aut = SpotAutomaton(\"Fa & Gb\")"
   ]
  },
  {
   "cell_type": "code",
   "execution_count": 4,
   "metadata": {
    "pycharm": {
     "name": "#%%\n"
    }
   },
   "outputs": [
    {
     "name": "stdout",
     "output_type": "stream",
     "text": [
      "[INFO] Translating FGa with options=('coBuchi', 'Deterministic', 'High', 'Complete', 'Unambiguous', 'SBAcc').\n"
     ]
    }
   ],
   "source": [
    "aut1 = SpotAutomaton(\"FGa\")"
   ]
  },
  {
   "cell_type": "code",
   "execution_count": 5,
   "metadata": {
    "pycharm": {
     "name": "#%%\n"
    }
   },
   "outputs": [
    {
     "name": "stdout",
     "output_type": "stream",
     "text": [
      "[INFO] Translating FGa & GFb with options=('parity min even', 'Deterministic', 'High', 'Complete', 'Unambiguous', 'SBAcc', 'colored').\n"
     ]
    }
   ],
   "source": [
    "aut2 = SpotAutomaton(\"FGa & GFb\")"
   ]
  },
  {
   "cell_type": "markdown",
   "metadata": {
    "pycharm": {
     "name": "#%% md\n"
    }
   },
   "source": [
    "`SpotAutomaton` is a `GraphicalModel` that inherits from `Automaton` model.\n",
    "Hence, we can access `states, sigma, delta, init_state, final` functions as usual.\n",
    "\n",
    "**Note:** By default, `Automaton` defines `atoms()` to be the set of atomic propositions and\n",
    "    `sigma()` as the powerset of atomic propositions.\n",
    "\n",
    "<div class=\"alert alert-block alert-warning\">\n",
    "<b>Warning:</b> Currently, the size of atoms() set is limited to 16 atoms because sigma() explicitly constructs the powerset of atoms().\n",
    "</div>"
   ]
  },
  {
   "cell_type": "code",
   "execution_count": 6,
   "metadata": {
    "pycharm": {
     "name": "#%%\n"
    }
   },
   "outputs": [
    {
     "data": {
      "text/plain": "[0, 1, 2]"
     },
     "execution_count": 6,
     "metadata": {},
     "output_type": "execute_result"
    }
   ],
   "source": [
    "aut.states()"
   ]
  },
  {
   "cell_type": "code",
   "execution_count": 7,
   "metadata": {
    "pycharm": {
     "name": "#%%\n"
    }
   },
   "outputs": [
    {
     "data": {
      "text/plain": "['b', 'a']"
     },
     "execution_count": 7,
     "metadata": {},
     "output_type": "execute_result"
    }
   ],
   "source": [
    "aut.atoms()"
   ]
  },
  {
   "cell_type": "code",
   "execution_count": 8,
   "metadata": {
    "pycharm": {
     "name": "#%%\n"
    }
   },
   "outputs": [
    {
     "data": {
      "text/plain": "[(), ('b',), ('a',), ('b', 'a')]"
     },
     "execution_count": 8,
     "metadata": {},
     "output_type": "execute_result"
    }
   ],
   "source": [
    "aut.sigma()"
   ]
  },
  {
   "cell_type": "markdown",
   "metadata": {
    "pycharm": {
     "name": "#%% md\n"
    }
   },
   "source": [
    "The input to `delta` function is an element of `sigma`. It should either be a list or tuple of atoms."
   ]
  },
  {
   "cell_type": "code",
   "execution_count": 9,
   "metadata": {
    "pycharm": {
     "name": "#%%\n"
    }
   },
   "outputs": [
    {
     "name": "stdout",
     "output_type": "stream",
     "text": [
      "2\n",
      "2\n",
      "1\n"
     ]
    }
   ],
   "source": [
    "print(aut.delta(0, []))\n",
    "print(aut.delta(0, ['a']))\n",
    "print(aut.delta(1, ['b']))"
   ]
  },
  {
   "cell_type": "code",
   "execution_count": 10,
   "metadata": {
    "pycharm": {
     "name": "#%%\n"
    }
   },
   "outputs": [
    {
     "data": {
      "text/plain": "1"
     },
     "execution_count": 10,
     "metadata": {},
     "output_type": "execute_result"
    }
   ],
   "source": [
    "aut.init_state()"
   ]
  },
  {
   "cell_type": "markdown",
   "metadata": {
    "pycharm": {
     "name": "#%% md\n"
    }
   },
   "source": [
    "Since the definition of final states varies based on acceptance condition, we follow spot's convention and\n",
    "define `final` to be a function that maps each state to a list (or tuple) of acceptance sets."
   ]
  },
  {
   "cell_type": "code",
   "execution_count": 11,
   "metadata": {
    "pycharm": {
     "name": "#%%\n"
    }
   },
   "outputs": [
    {
     "name": "stdout",
     "output_type": "stream",
     "text": [
      "[0]\n",
      "[]\n",
      "[]\n"
     ]
    }
   ],
   "source": [
    "print(aut.final(0))\n",
    "print(aut.final(1))\n",
    "print(aut.final(2))"
   ]
  },
  {
   "cell_type": "code",
   "execution_count": 12,
   "metadata": {
    "pycharm": {
     "name": "#%%\n"
    }
   },
   "outputs": [
    {
     "name": "stdout",
     "output_type": "stream",
     "text": [
      "[1]\n",
      "[3]\n",
      "[3]\n"
     ]
    }
   ],
   "source": [
    "print(aut2.final(0))\n",
    "print(aut2.final(1))\n",
    "print(aut2.final(2))"
   ]
  },
  {
   "cell_type": "markdown",
   "metadata": {
    "pycharm": {
     "name": "#%% md\n"
    }
   },
   "source": [
    "In addition, `SpotAutomaton` also exposes the properties assigned by spot to the automaton."
   ]
  },
  {
   "cell_type": "code",
   "execution_count": 13,
   "metadata": {
    "pycharm": {
     "name": "#%%\n"
    }
   },
   "outputs": [
    {
     "name": "stdout",
     "output_type": "stream",
     "text": [
      "formula:  Fa & Gb\n",
      "acc_name:  Büchi\n",
      "spot_acc_cond:  Inf(0)\n",
      "num_acc_sets:  1\n",
      "is_deterministic:  True\n",
      "is_unambiguous:  True\n",
      "is_state_based_acc:  True\n",
      "is_terminal:  False\n",
      "is_weak:  True\n",
      "is_inherently_weak:  True\n",
      "is_stutter_invariant:  True\n",
      "is_complete:  True\n"
     ]
    }
   ],
   "source": [
    "print(\"formula: \", aut.formula())\n",
    "print(\"acc_name: \", aut.acc_name())\n",
    "print(\"spot_acc_cond: \", aut.spot_acc_cond())\n",
    "print(\"num_acc_sets: \", aut.num_acc_sets())\n",
    "print(\"is_deterministic: \", aut.is_deterministic())\n",
    "print(\"is_unambiguous: \", aut.is_unambiguous())\n",
    "print(\"is_state_based_acc: \", aut.is_state_based_acc())\n",
    "print(\"is_terminal: \", aut.is_terminal())\n",
    "print(\"is_weak: \", aut.is_weak())\n",
    "print(\"is_inherently_weak: \", aut.is_inherently_weak())\n",
    "print(\"is_stutter_invariant: \", aut.is_stutter_invariant())\n",
    "print(\"is_complete: \", aut.is_complete())"
   ]
  },
  {
   "cell_type": "markdown",
   "source": [],
   "metadata": {
    "collapsed": false,
    "pycharm": {
     "name": "#%% md\n"
    }
   }
  },
  {
   "cell_type": "markdown",
   "source": [
    "Since `SpotAutomaton` is a `GraphicalModel`, it can be serialized or converted to PNG in the same way as any other graphical model."
   ],
   "metadata": {
    "collapsed": false,
    "pycharm": {
     "name": "#%% md\n"
    }
   }
  },
  {
   "cell_type": "markdown",
   "source": [
    "## SpotAutomaton Optional Parameter: `atoms`\n"
   ],
   "metadata": {
    "collapsed": false,
    "pycharm": {
     "name": "#%% md\n"
    }
   }
  },
  {
   "cell_type": "code",
   "execution_count": 14,
   "outputs": [
    {
     "name": "stdout",
     "output_type": "stream",
     "text": [
      "[INFO] Translating Fa with options=('Buchi', 'Deterministic', 'High', 'Complete', 'Unambiguous', 'SBAcc').\n"
     ]
    }
   ],
   "source": [
    "aut = SpotAutomaton(\"Fa\", atoms=[\"a\", \"b\"])"
   ],
   "metadata": {
    "collapsed": false,
    "pycharm": {
     "name": "#%%\n"
    }
   }
  },
  {
   "cell_type": "code",
   "execution_count": 15,
   "outputs": [
    {
     "data": {
      "text/plain": "['b', 'a']"
     },
     "execution_count": 15,
     "metadata": {},
     "output_type": "execute_result"
    }
   ],
   "source": [
    "aut.atoms()"
   ],
   "metadata": {
    "collapsed": false,
    "pycharm": {
     "name": "#%%\n"
    }
   }
  },
  {
   "cell_type": "code",
   "execution_count": null,
   "outputs": [],
   "source": [],
   "metadata": {
    "collapsed": false,
    "pycharm": {
     "name": "#%%\n"
    }
   }
  }
 ],
 "metadata": {
  "kernelspec": {
   "display_name": "Python 3 (ipykernel)",
   "language": "python",
   "name": "python3"
  },
  "language_info": {
   "codemirror_mode": {
    "name": "ipython",
    "version": 3
   },
   "file_extension": ".py",
   "mimetype": "text/x-python",
   "name": "python",
   "nbconvert_exporter": "python",
   "pygments_lexer": "ipython3",
   "version": "3.9.13"
  }
 },
 "nbformat": 4,
 "nbformat_minor": 1
}