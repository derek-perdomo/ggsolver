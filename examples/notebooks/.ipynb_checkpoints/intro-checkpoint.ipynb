{
 "cells": [
  {
   "cell_type": "markdown",
   "metadata": {
    "pycharm": {
     "name": "#%% md\n"
    }
   },
   "source": [
    "# Introduction: `ggsolver`\n",
    "\n",
    "ggsolver is a library of solvers for creating, manipulating, solving and simulating various classes of games on graphs.\n",
    "\n",
    "\n",
    "**Important Links:**\n",
    "* Documentation: [https://akulkarni.me/ggsolver/](https://akulkarni.me/ggsolver/)\n",
    "* GitHub: [https://github.com/abhibp1993/ggsolver](https://github.com/abhibp1993/ggsolver)"
   ]
  },
  {
   "cell_type": "markdown",
   "metadata": {},
   "source": [
    "# GraphicalModel\n",
    "\n",
    "`GraphicalModel` is the abstract base class of all graph-based models represented in ggsolver. \n",
    "Formally, it represents a transition system defined as\n",
    "\n",
    "$$ M = (S, I, \\delta), $$\n",
    "\n",
    "where \n",
    "* $S$: is a set of states;\n",
    "* $I$: is a set of inputs;\n",
    "* $\\delta$: is a transition function.\n",
    "\n",
    "\n",
    "Each of the three elements are represented by a function in $M$.\n",
    "\n",
    "For example, $M.states()$ returns a list of states in $M$. $M.actions()$ a list of inputs, and \n",
    "$M.delta(s, i)$ returns the successors of state $s \\in S$ under input $i \\in I$. \n",
    "The models that derive from `GraphicalModel` implement these functions. \n"
   ]
  },
  {
   "cell_type": "markdown",
   "metadata": {},
   "source": [
    "### Common Methods\n",
    "\n",
    "All GraphicalModels possess the following three methods. \n",
    "\n",
    "* `graphify`: Generates an \"equivalent\" graph of the defined graphical model.\n",
    "* `serialize`: Serializes the model.\n",
    "* `deserialize`: Reconstructs the model from serialized form. "
   ]
  },
  {
   "cell_type": "markdown",
   "metadata": {},
   "source": [
    "### Extending GraphicalModel\n",
    "\n",
    "GraphicalModels may possess additional properties. For example, consider a labeled transition system \n",
    "\n",
    "$$ TSys = (S, I, \\delta, AP, L), $$ \n",
    "\n",
    "where the components \n",
    "* $AP$ is a set of atoms; and \n",
    "* $L: S \\rightarrow 2^{AP}$ is a labeling function \n",
    "extend a GraphicalModel to TSys. \n",
    "\n",
    "In this case, the new properties also become functions of the TSys class. Thus, `TSys` class must define two new functions: `TSys.atoms()` and `TSys.label(state)`. "
   ]
  },
  {
   "cell_type": "code",
   "execution_count": null,
   "metadata": {},
   "outputs": [],
   "source": []
  }
 ],
 "metadata": {
  "kernelspec": {
   "display_name": "Python 3 (ipykernel)",
   "language": "python",
   "name": "python3"
  },
  "language_info": {
   "codemirror_mode": {
    "name": "ipython",
    "version": 3
   },
   "file_extension": ".py",
   "mimetype": "text/x-python",
   "name": "python",
   "nbconvert_exporter": "python",
   "pygments_lexer": "ipython3",
   "version": "3.9.13"
  }
 },
 "nbformat": 4,
 "nbformat_minor": 1
}
