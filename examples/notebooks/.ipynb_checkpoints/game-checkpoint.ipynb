{
 "cells": [
  {
   "cell_type": "markdown",
   "metadata": {
    "pycharm": {
     "name": "#%% md\n"
    }
   },
   "source": [
    "# Games\n",
    "\n",
    "Represents a game transition system (see [Principles of Model Checking, Def. 2.1]). \n",
    "\n",
    "$$\n",
    "    G = \\langle S, A, T, (AP, L), (F, Acc), \\varphi \\rangle,\n",
    "$$\n",
    "\n",
    "\n",
    "In the `Game` class, each component is represented as a function.\n",
    "\n",
    "- The set of states $S$ is represented by `Game.states()` function,\n",
    "- The set of actions $A$ is represented by `Game.actions()` function,\n",
    "- The transition function $T$ is represented by `Game.delta(state, inp)` function,\n",
    "- The set of atomic propositions is represented by `Game.atoms()` function,\n",
    "- The labeling function $L$ is represented by `Game.label()` function,\n",
    "- The final states $F$ is represented by `Game.final(state)` function.\n",
    "- The acceptance condition $Acc$ is represented by `Game.acc_cond()` function.\n",
    "- The logic-based objective $\\varphi$ is represented by `Game.objective()` function.\n",
    "\n",
    "All of the above functions are marked abstract. The recommended way to use `Game` class is by subclassing it and implementing its component functions.\n",
    "\n",
    "\n",
    "## Categorization of a Game:\n",
    "\n",
    "A game is categorized by three types:\n",
    "\n",
    "#### Deterministic vs. Non-Deterministic vs. Probabilistic\n",
    "\n",
    "A game can be either deterministic or non-deterministic or probabilistic.\n",
    "To define a **deterministic** transition system, provide a keyword argument `is_deterministic=True` to the\n",
    "constructor. To define a **nondeterministic** transition system, provide a keyword argument `is_deterministic=False`\n",
    "to the constructor. To define a **probabilistic** transition system, provide a keyword arguments\n",
    "`is_deterministic=False, is_probabilistic=True` to the constructor.\n",
    "\n",
    "The design of `Game` class closely follows its mathematical definition.\n",
    "Hence, the signatures of `delta` function for deterministic, nondeterministic, probabilistic games are different.\n",
    "\n",
    "- **deterministic:**  `delta(state, act) -> single state`\n",
    "- **non-deterministic:**  `delta(state, act) -> a list of states`\n",
    "- **probabilistic:**  `delta(state, act) -> a distribution over states`\n",
    "\n",
    "#### Turn-based vs. Concurrent \n",
    "\n",
    "A game can be turn-based or concurrent. To define a **concurrent** game, provide a keyword argument `is_turn_based=False`. The game is `turn_based` by default.\n",
    "\n",
    "#### Number of players: 1/1.5/2/2.5 \n",
    "\n",
    "A game can be a 1/1.5/2/2.5-player game. A one-player game models a deterministic motion planning-type problem in\n",
    "a static environment. A 1.5-player game is an MDP. A two-player game models a deterministic interaction between\n",
    "two strategic players. And, a 2.5-player game models a stochastic interaction between two strategic players.\n",
    "\n",
    "If a game is one or two player, then the :py:meth:`Game.delta` is `deterministic`.\n",
    "If a game is 1.5 or 2.5 player, then the :py:meth:`Game.delta` is either `non-deterministic` (when\n",
    "transition probabilities are unknown), and `probabilistic` (when transition probabilities are known).\n",
    "\n",
    "Every state in a turn-based game is controlled by a player. To define which player controls which state, define\n",
    "a game component :py:meth:`Game.turn` which takes in a state and returns a value between 0 and 3 to indicate\n",
    "which player controls the state."
   ]
  },
  {
   "cell_type": "code",
   "execution_count": 1,
   "metadata": {
    "pycharm": {
     "name": "#%%\n"
    }
   },
   "outputs": [],
   "source": [
    "# This code block is necessary only when using `ggsolver:v0.1` docker image.\n",
    "import sys\n",
    "sys.path.append('/home/ggsolver/')\n",
    "sys.path.append('/home/jovyan/ggsolver/')\n",
    "\n",
    "from examples.notebooks.jupyter_patch import *"
   ]
  },
  {
   "cell_type": "code",
   "execution_count": 2,
   "metadata": {
    "pycharm": {
     "name": "#%%\n"
    }
   },
   "outputs": [],
   "source": [
    "import logging\n",
    "import itertools \n",
    "logger = logging.getLogger()\n",
    "# logger.setLevel(logging.ERROR)\n",
    "logger.setLevel(logging.DEBUG)"
   ]
  },
  {
   "cell_type": "code",
   "execution_count": 3,
   "metadata": {},
   "outputs": [],
   "source": [
    "import scipy.stats as stats \n",
    "import ggsolver.models as models"
   ]
  },
  {
   "cell_type": "markdown",
   "metadata": {},
   "source": [
    "# Defining Games\n",
    "\n",
    "\n",
    "There are two ways to define a game. \n",
    "\n",
    "1. Direct Instantiation\n",
    "2. Parameterized Game Definition\n",
    "\n",
    "We illustrate the two methods next for a deterministic two-player turn-based game.  \n"
   ]
  },
  {
   "cell_type": "markdown",
   "metadata": {},
   "source": [
    "\n",
    "### Direct Instantiation: Two-player turn-based game (deterministic)\n",
    "Consider a game defined by following parameters. \n",
    "\n"
   ]
  },
  {
   "cell_type": "code",
   "execution_count": 4,
   "metadata": {},
   "outputs": [],
   "source": [
    "states = list(range(3))\n",
    "actions = [\"a\", \"b\"]\n",
    "trans_dict = {\n",
    "    0: {\"a\": 1, \"b\": 2},\n",
    "    1: {\"a\": 1, \"b\": 1},\n",
    "    2: {\"a\": 2, \"b\": 0},\n",
    "}\n",
    "atoms = [f\"p{i}\" for i in states]\n",
    "label = {i: [f\"p{i}\"] for i in states}\n",
    "turn = {\n",
    "    0: 2,\n",
    "    1: 2,\n",
    "    2: 1,\n",
    "}"
   ]
  },
  {
   "cell_type": "markdown",
   "metadata": {},
   "source": [
    "To define a game, we instantiate `models.Game` class."
   ]
  },
  {
   "cell_type": "code",
   "execution_count": 5,
   "metadata": {},
   "outputs": [
    {
     "data": {
      "text/plain": [
       "<ggsolver.models.Game at 0x7fcd48bbb820>"
      ]
     },
     "execution_count": 5,
     "metadata": {},
     "output_type": "execute_result"
    }
   ],
   "source": [
    "game = models.Game(states=states, actions=actions, trans_dict=trans_dict, atoms=atoms, label=label, turn=turn)\n",
    "game"
   ]
  },
  {
   "cell_type": "markdown",
   "metadata": {},
   "source": [
    "Internally, the defaults are used for defining the class of game. "
   ]
  },
  {
   "cell_type": "code",
   "execution_count": 6,
   "metadata": {},
   "outputs": [
    {
     "name": "stdout",
     "output_type": "stream",
     "text": [
      "game.is_deterministic()=True\n",
      "game.is_probabilistic()=False\n",
      "game.is_turn_based()=True\n"
     ]
    }
   ],
   "source": [
    "print(f\"{game.is_deterministic()=}\")\n",
    "print(f\"{game.is_probabilistic()=}\")\n",
    "print(f\"{game.is_turn_based()=}\")"
   ]
  },
  {
   "cell_type": "markdown",
   "metadata": {},
   "source": [
    "A transition system-like model is also defined automatically. "
   ]
  },
  {
   "cell_type": "code",
   "execution_count": 7,
   "metadata": {},
   "outputs": [
    {
     "name": "stdout",
     "output_type": "stream",
     "text": [
      "game.states()=[0, 1, 2]\n",
      "game.actions()=['a', 'b']\n",
      "game.atoms()=['p0', 'p1', 'p2']\n",
      "game.delta(0, 'a')=1\n",
      "game.label(0)=['p0']\n",
      "game.turn(0)=2\n"
     ]
    }
   ],
   "source": [
    "print(f\"{game.states()=}\")\n",
    "print(f\"{game.actions()=}\")\n",
    "print(f\"{game.atoms()=}\")\n",
    "print(f\"{game.delta(0, 'a')=}\")\n",
    "print(f\"{game.label(0)=}\")\n",
    "print(f\"{game.turn(0)=}\")"
   ]
  },
  {
   "cell_type": "markdown",
   "metadata": {},
   "source": [
    "### Direct Instantiation: Two-player turn-based game (non-deterministic) \n",
    "\n",
    "When defining a non-deterministic game, the transition function must return a list of next-states and the  `is_deterministic` should be set to `False`, and `is_probabilistic` flag should be set to `False`. "
   ]
  },
  {
   "cell_type": "code",
   "execution_count": 8,
   "metadata": {},
   "outputs": [],
   "source": [
    "states = list(range(3))\n",
    "actions = [\"a\", \"b\"]\n",
    "trans_dict = {\n",
    "    0: {\"a\": [0, 1], \"b\": [2]},\n",
    "    1: {\"a\": [1], \"b\": [1]},\n",
    "    2: {\"a\": [2], \"b\": [0]},\n",
    "}\n",
    "atoms = [f\"p{i}\" for i in states]\n",
    "label = {i: [f\"p{i}\"] for i in states}\n",
    "turn = {\n",
    "    0: 2,\n",
    "    1: 2,\n",
    "    2: 1,\n",
    "}"
   ]
  },
  {
   "cell_type": "code",
   "execution_count": 9,
   "metadata": {},
   "outputs": [
    {
     "data": {
      "text/plain": [
       "<ggsolver.models.Game at 0x7fcd48bd3880>"
      ]
     },
     "execution_count": 9,
     "metadata": {},
     "output_type": "execute_result"
    }
   ],
   "source": [
    "game = models.Game(\n",
    "    states=states, \n",
    "    actions=actions, \n",
    "    trans_dict=trans_dict, \n",
    "    atoms=atoms, \n",
    "    label=label, \n",
    "    turn=turn, \n",
    "    is_deterministic=False,\n",
    "    is_probabilistic=False,\n",
    ")\n",
    "game"
   ]
  },
  {
   "cell_type": "code",
   "execution_count": 10,
   "metadata": {},
   "outputs": [
    {
     "name": "stdout",
     "output_type": "stream",
     "text": [
      "game.is_deterministic()=False\n",
      "game.is_probabilistic()=False\n",
      "game.is_turn_based()=True\n"
     ]
    }
   ],
   "source": [
    "print(f\"{game.is_deterministic()=}\")\n",
    "print(f\"{game.is_probabilistic()=}\")\n",
    "print(f\"{game.is_turn_based()=}\")"
   ]
  },
  {
   "cell_type": "code",
   "execution_count": 11,
   "metadata": {},
   "outputs": [
    {
     "name": "stdout",
     "output_type": "stream",
     "text": [
      "game.states()=[0, 1, 2]\n",
      "game.actions()=['a', 'b']\n",
      "game.atoms()=['p0', 'p1', 'p2']\n",
      "game.delta(0, 'a')=[0, 1]\n",
      "game.label(0)=['p0']\n",
      "game.turn(0)=2\n"
     ]
    }
   ],
   "source": [
    "print(f\"{game.states()=}\")\n",
    "print(f\"{game.actions()=}\")\n",
    "print(f\"{game.atoms()=}\")\n",
    "print(f\"{game.delta(0, 'a')=}\")\n",
    "print(f\"{game.label(0)=}\")\n",
    "print(f\"{game.turn(0)=}\")"
   ]
  },
  {
   "cell_type": "markdown",
   "metadata": {},
   "source": [
    "### Direct Instantiation: Two-player turn-based game (probabilistic) \n",
    "\n",
    "When defining a stochastic game (quantitative probabilities are known), the transition function must return a distribution over next states and the  `is_deterministic` should be set to `False`, and `is_probabilistic` flag should be set to `True`. "
   ]
  },
  {
   "cell_type": "code",
   "execution_count": 12,
   "metadata": {},
   "outputs": [],
   "source": [
    "states = list(range(3))\n",
    "actions = [\"a\", \"b\"]\n",
    "trans_dict = {\n",
    "    0: {\"a\": stats.rv_discrete([0, 1], [0.1, 0.9]), \"b\": stats.rv_discrete([0, 2], [0, 1])},\n",
    "    1: {\"a\": [1], \"b\": [1]},\n",
    "    2: {\"a\": [2], \"b\": [0]},\n",
    "}\n",
    "atoms = [f\"p{i}\" for i in states]\n",
    "label = {i: [f\"p{i}\"] for i in states}\n",
    "turn = {\n",
    "    0: 2,\n",
    "    1: 2,\n",
    "    2: 1,\n",
    "}"
   ]
  },
  {
   "cell_type": "code",
   "execution_count": 13,
   "metadata": {},
   "outputs": [
    {
     "data": {
      "text/plain": [
       "<ggsolver.models.Game at 0x7fcdd027d4f0>"
      ]
     },
     "execution_count": 13,
     "metadata": {},
     "output_type": "execute_result"
    }
   ],
   "source": [
    "game = models.Game(\n",
    "    states=states, \n",
    "    actions=actions, \n",
    "    trans_dict=trans_dict, \n",
    "    atoms=atoms, \n",
    "    label=label, \n",
    "    turn=turn, \n",
    "    is_deterministic=False,\n",
    "    is_probabilistic=True,\n",
    ")\n",
    "game"
   ]
  },
  {
   "cell_type": "code",
   "execution_count": 14,
   "metadata": {},
   "outputs": [
    {
     "name": "stdout",
     "output_type": "stream",
     "text": [
      "game.is_deterministic()=False\n",
      "game.is_probabilistic()=True\n",
      "game.is_turn_based()=True\n"
     ]
    }
   ],
   "source": [
    "print(f\"{game.is_deterministic()=}\")\n",
    "print(f\"{game.is_probabilistic()=}\")\n",
    "print(f\"{game.is_turn_based()=}\")"
   ]
  },
  {
   "cell_type": "code",
   "execution_count": 15,
   "metadata": {},
   "outputs": [
    {
     "name": "stdout",
     "output_type": "stream",
     "text": [
      "game.states()=[0, 1, 2]\n",
      "game.actions()=['a', 'b']\n",
      "game.atoms()=['p0', 'p1', 'p2']\n",
      "game.delta(0, 'a')=<scipy.stats._distn_infrastructure.rv_discrete object at 0x7fcd48bde820>\n",
      "game.label(0)=['p0']\n",
      "game.turn(0)=2\n"
     ]
    }
   ],
   "source": [
    "print(f\"{game.states()=}\")\n",
    "print(f\"{game.actions()=}\")\n",
    "print(f\"{game.atoms()=}\")\n",
    "print(f\"{game.delta(0, 'a')=}\")\n",
    "print(f\"{game.label(0)=}\")\n",
    "print(f\"{game.turn(0)=}\")"
   ]
  },
  {
   "cell_type": "markdown",
   "metadata": {},
   "source": [
    "### Parameterized Game Definition: Two-player turn-based game (deterministic) \n",
    "\n",
    "Many applications require a game definition that changes according to input parameters. For example, a two-player game in a gridworld is parameterized by the size of gridworld and goal cells of P1. In such cases, we derive a class from `Game` and specialize its methods. "
   ]
  },
  {
   "cell_type": "code",
   "execution_count": 16,
   "metadata": {},
   "outputs": [],
   "source": [
    "class Gridworld(models.Game):\n",
    "    def __init__(self, rows, cols, goal, **kwargs):\n",
    "        super(Gridworld, self).__init__(**kwargs)\n",
    "        self._rows = rows\n",
    "        self._cols = cols \n",
    "        self._goal = goal\n",
    "        \n",
    "    def states(self):\n",
    "        return list(itertools.product(range(self._rows), range(self._cols), range(self._rows), range(self._cols), range(2)))\n",
    "    \n",
    "    def actions(self):\n",
    "        return [\"N\", \"E\", \"S\", \"W\"]\n",
    "    \n",
    "    def delta(self, state, act):\n",
    "        p1r, p1c, p2r, p2c, turn = state\n",
    "        next_p1r, next_p1c = self.apply_action((p1r, p1c), act)\n",
    "        next_p2r, next_p2c = self.apply_action((p2r, p2c), act)\n",
    "\n",
    "        return next_p1r, next_p1c, next_p2r, next_p2c, 1 if turn == 2 else 2\n",
    "    \n",
    "    def atoms(self):\n",
    "        return [\"goal\"] \n",
    "    \n",
    "    def label(self, state):\n",
    "        if state[:2] in self._goal:\n",
    "            return [\"goal\"]\n",
    "        return []\n",
    "    \n",
    "    def turn(self, state):\n",
    "        return state[-1]\n",
    "    \n",
    "    def apply_action(self, cell, act):\n",
    "        row, col = cell\n",
    "\n",
    "        if act == \"N\":\n",
    "            return (row + 1, col) if 0 <= row + 1 < self.dim[0] else (row, col)\n",
    "        elif act == \"E\":\n",
    "            return (row, col + 1) if 0 <= col + 1 < self.dim[1] else (row, col)\n",
    "        elif act == \"S\":\n",
    "            return (row - 1, col) if 0 <= row - 1 < self.dim[0] else (row, col)\n",
    "        else:  # inp == \"W\":\n",
    "            return (row, col - 1) if 0 <= col - 1 < self.dim[1] else (row, col)"
   ]
  },
  {
   "cell_type": "code",
   "execution_count": 17,
   "metadata": {},
   "outputs": [
    {
     "data": {
      "text/plain": [
       "<__main__.Gridworld at 0x7fcd48be9370>"
      ]
     },
     "execution_count": 17,
     "metadata": {},
     "output_type": "execute_result"
    }
   ],
   "source": [
    "game = Gridworld(rows=2, cols=2, goal=[(0, 0)])\n",
    "game"
   ]
  },
  {
   "cell_type": "code",
   "execution_count": 18,
   "metadata": {},
   "outputs": [
    {
     "ename": "TypeError",
     "evalue": "range expected at most 3 arguments, got 5",
     "output_type": "error",
     "traceback": [
      "\u001b[0;31m---------------------------------------------------------------------------\u001b[0m",
      "\u001b[0;31mTypeError\u001b[0m                                 Traceback (most recent call last)",
      "Input \u001b[0;32mIn [18]\u001b[0m, in \u001b[0;36m<cell line: 1>\u001b[0;34m()\u001b[0m\n\u001b[0;32m----> 1\u001b[0m \u001b[38;5;28mprint\u001b[39m(\u001b[38;5;124mf\u001b[39m\u001b[38;5;124m\"\u001b[39m\u001b[38;5;132;01m{\u001b[39;00mgame\u001b[38;5;241m.\u001b[39mstates()\u001b[38;5;132;01m=}\u001b[39;00m\u001b[38;5;124m\"\u001b[39m)\n\u001b[1;32m      2\u001b[0m \u001b[38;5;28mprint\u001b[39m(\u001b[38;5;124mf\u001b[39m\u001b[38;5;124m\"\u001b[39m\u001b[38;5;132;01m{\u001b[39;00mgame\u001b[38;5;241m.\u001b[39mactions()\u001b[38;5;132;01m=}\u001b[39;00m\u001b[38;5;124m\"\u001b[39m)\n\u001b[1;32m      3\u001b[0m \u001b[38;5;28mprint\u001b[39m(\u001b[38;5;124mf\u001b[39m\u001b[38;5;124m\"\u001b[39m\u001b[38;5;132;01m{\u001b[39;00mgame\u001b[38;5;241m.\u001b[39matoms()\u001b[38;5;132;01m=}\u001b[39;00m\u001b[38;5;124m\"\u001b[39m)\n",
      "Input \u001b[0;32mIn [16]\u001b[0m, in \u001b[0;36mGridworld.states\u001b[0;34m(self)\u001b[0m\n\u001b[1;32m      8\u001b[0m \u001b[38;5;28;01mdef\u001b[39;00m \u001b[38;5;21mstates\u001b[39m(\u001b[38;5;28mself\u001b[39m):\n\u001b[0;32m----> 9\u001b[0m     \u001b[38;5;28;01mreturn\u001b[39;00m \u001b[38;5;28mlist\u001b[39m(itertools\u001b[38;5;241m.\u001b[39mproduct(\u001b[38;5;28;43mrange\u001b[39;49m\u001b[43m(\u001b[49m\u001b[38;5;28;43mself\u001b[39;49m\u001b[38;5;241;43m.\u001b[39;49m\u001b[43m_rows\u001b[49m\u001b[43m,\u001b[49m\u001b[43m \u001b[49m\u001b[38;5;28;43mself\u001b[39;49m\u001b[38;5;241;43m.\u001b[39;49m\u001b[43m_cols\u001b[49m\u001b[43m,\u001b[49m\u001b[43m \u001b[49m\u001b[38;5;28;43mself\u001b[39;49m\u001b[38;5;241;43m.\u001b[39;49m\u001b[43m_rows\u001b[49m\u001b[43m,\u001b[49m\u001b[43m \u001b[49m\u001b[38;5;28;43mself\u001b[39;49m\u001b[38;5;241;43m.\u001b[39;49m\u001b[43m_cols\u001b[49m\u001b[43m,\u001b[49m\u001b[43m \u001b[49m\u001b[38;5;28;43mrange\u001b[39;49m\u001b[43m(\u001b[49m\u001b[38;5;241;43m2\u001b[39;49m\u001b[43m)\u001b[49m\u001b[43m)\u001b[49m))\n",
      "\u001b[0;31mTypeError\u001b[0m: range expected at most 3 arguments, got 5"
     ]
    }
   ],
   "source": [
    "print(f\"{game.states()=}\")\n",
    "print(f\"{game.actions()=}\")\n",
    "print(f\"{game.atoms()=}\")\n",
    "print(f\"{game.delta((0, 0, 1, 1), 'N')=}\")\n",
    "print(f\"{game.label((0, 0, 1, 1))=}\")\n",
    "print(f\"{game.turn((0, 0, 1, 1))=}\")"
   ]
  },
  {
   "cell_type": "code",
   "execution_count": null,
   "metadata": {},
   "outputs": [],
   "source": []
  }
 ],
 "metadata": {
  "kernelspec": {
   "display_name": "Python 3 (ipykernel)",
   "language": "python",
   "name": "python3"
  },
  "language_info": {
   "codemirror_mode": {
    "name": "ipython",
    "version": 3
   },
   "file_extension": ".py",
   "mimetype": "text/x-python",
   "name": "python",
   "nbconvert_exporter": "python",
   "pygments_lexer": "ipython3",
   "version": "3.9.13"
  }
 },
 "nbformat": 4,
 "nbformat_minor": 1
}
