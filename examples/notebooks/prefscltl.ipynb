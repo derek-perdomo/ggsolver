{
 "cells": [
  {
   "cell_type": "markdown",
   "id": "a0a72a1d",
   "metadata": {},
   "source": [
    "# Logic of Preference over LTL Specifications\n",
    "\n",
    "This example demonstrates how to\n",
    "* define a PrefLTL formula (syntax)\n",
    "* visualize the preference model induced by PrefLTL formula.\n",
    "\n",
    "\n",
    "**Syntax**:\n",
    "PrefLTL formulas are defined over LTL formulas, whereas PrefScLTL formulas restrict the LTL formulas to be\n",
    "\"guarantee\" formulas only (see Manna Pnueli Hierarchy).\n",
    "\n",
    "Here we will focus on PrefScLTL formulas.\n",
    "\n",
    "PrefScLTL formulas:\n",
    "* atoms: Any string acceptable by `/[a-z][A-Za-z0-9_]/`.\n",
    "* propositional operators:\n",
    "    - `!` Negation\n",
    "    - `&` And\n",
    "    - `|` Or\n",
    "* temporal operators:\n",
    "    - `F` Eventually\n",
    "    - `U` Until\n",
    "    - `G` Always\n",
    "* preference operators:\n",
    "    - `>=` weak preference\n",
    "    - `>` strict preference\n",
    "    - `~` indifference\n",
    "    - `<>` incomparable\n",
    "    - `&&` generalized-And.\n",
    "    - `||` generalized-Or.  (Note: current model doesn't support Or-ing of preference formulas).\n"
   ]
  },
  {
   "cell_type": "code",
   "execution_count": 1,
   "id": "6d6a537e",
   "metadata": {},
   "outputs": [],
   "source": [
    "import os\n",
    "import sys\n",
    "\n",
    "sys.path.append(\"/home/ggsolver\")\n",
    "from ggsolver.logic import PrefScLTL, ParsingError"
   ]
  },
  {
   "cell_type": "markdown",
   "id": "7f7a5ae2",
   "metadata": {},
   "source": [
    "## Formula Examples.\n",
    "\n",
    "Checking parser. \n"
   ]
  },
  {
   "cell_type": "code",
   "execution_count": 2,
   "id": "2826f0fe",
   "metadata": {},
   "outputs": [
    {
     "name": "stdout",
     "output_type": "stream",
     "text": [
      "f=PrefScLTL(true >= false)\n",
      "f.outcomes()=[LTL((! false) & (!true )), LTL( false), LTL(true )]\n"
     ]
    }
   ],
   "source": [
    "f = PrefScLTL(\"true >= false\")\n",
    "\n",
    "print(f\"{f=}\")\n",
    "print(f\"{f.outcomes()=}\")"
   ]
  },
  {
   "cell_type": "code",
   "execution_count": 3,
   "id": "e5918fd5",
   "metadata": {},
   "outputs": [
    {
     "name": "stdout",
     "output_type": "stream",
     "text": [
      "f=PrefScLTL(true >= Fa)\n",
      "f.outcomes()=[LTL((! Fa) & (!true )), LTL( Fa), LTL(true )]\n"
     ]
    }
   ],
   "source": [
    "f = PrefScLTL(\"true >= Fa\")\n",
    "\n",
    "print(f\"{f=}\")\n",
    "print(f\"{f.outcomes()=}\")"
   ]
  },
  {
   "cell_type": "code",
   "execution_count": 4,
   "id": "6132951a",
   "metadata": {},
   "outputs": [
    {
     "name": "stdout",
     "output_type": "stream",
     "text": [
      "f=PrefScLTL(true >= Fa)\n",
      "f.outcomes()=[LTL((! Fa) & (!true )), LTL( Fa), LTL(true )]\n"
     ]
    }
   ],
   "source": [
    "f = PrefScLTL(\"true >= Fa\")\n",
    "\n",
    "print(f\"{f=}\")\n",
    "print(f\"{f.outcomes()=}\")"
   ]
  },
  {
   "cell_type": "code",
   "execution_count": 5,
   "id": "c06bb20b",
   "metadata": {},
   "outputs": [
    {
     "name": "stdout",
     "output_type": "stream",
     "text": [
      "f=PrefScLTL(a & b >= Fa)\n",
      "f.outcomes()=[LTL((!a & b ) & (! Fa)), LTL(a & b ), LTL( Fa)]\n"
     ]
    }
   ],
   "source": [
    "# Symbol & is binary operator over LTL.\n",
    "f = PrefScLTL(\"a & b >= Fa\")\n",
    "\n",
    "print(f\"{f=}\")\n",
    "print(f\"{f.outcomes()=}\")"
   ]
  },
  {
   "cell_type": "code",
   "execution_count": 6,
   "id": "8163e937",
   "metadata": {},
   "outputs": [
    {
     "name": "stdout",
     "output_type": "stream",
     "text": [
      "f=PrefScLTL(a | b >= Fa)\n",
      "f.outcomes()=[LTL((!a | b ) & (! Fa)), LTL(a | b ), LTL( Fa)]\n"
     ]
    }
   ],
   "source": [
    "# Symbol | is binary operator over LTL.\n",
    "f = PrefScLTL(\"a | b >= Fa\")\n",
    "\n",
    "print(f\"{f=}\")\n",
    "print(f\"{f.outcomes()=}\")"
   ]
  },
  {
   "cell_type": "code",
   "execution_count": 7,
   "id": "8e2431dc",
   "metadata": {},
   "outputs": [
    {
     "name": "stdout",
     "output_type": "stream",
     "text": [
      "f=PrefScLTL(a & b >= a U Fb)\n",
      "f.outcomes()=[LTL((!a & b ) & (! a U Fb)), LTL(a & b ), LTL( a U Fb)]\n"
     ]
    }
   ],
   "source": [
    "f = PrefScLTL(\"a & b >= a U Fb\")\n",
    "\n",
    "print(f\"{f=}\")\n",
    "print(f\"{f.outcomes()=}\")"
   ]
  },
  {
   "cell_type": "code",
   "execution_count": 8,
   "id": "9a5816d8",
   "metadata": {},
   "outputs": [
    {
     "name": "stdout",
     "output_type": "stream",
     "text": [
      "f=Tree(Token('RULE', 'start'), [Tree(Token('RULE', 'pref_and'), [Tree(Token('RULE', 'prefltl_strictpref'), [Tree(Token('RULE', 'ltl_formula'), [Token('STRING', 'a ')]), Token('STRICTPREF', '>'), Tree(Token('RULE', 'ltl_formula'), [Token('STRING', ' c')])]), Token('PREF_AND', '&&'), Tree(Token('RULE', 'prefltl_strictpref'), [Tree(Token('RULE', 'ltl_formula'), [Token('STRING', ' a ')]), Token('STRICTPREF', '>'), Tree(Token('RULE', 'ltl_formula'), [Token('STRING', ' c')])]), Token('PREF_AND', '&&'), Tree(Token('RULE', 'prefltl_strictpref'), [Tree(Token('RULE', 'ltl_formula'), [Token('STRING', ' b ')]), Token('STRICTPREF', '>'), Tree(Token('RULE', 'ltl_formula'), [Token('STRING', ' c')])])])])\n"
     ]
    }
   ],
   "source": [
    "# Symbol && is preference operator. \n",
    "from ggsolver.logic.prefltl import * \n",
    "f = LTLPrefParser()(\"a > c && a > c && b > c\")\n",
    "\n",
    "print(f\"{f=}\")\n",
    "# print(f\"{f.outcomes()=}\")"
   ]
  },
  {
   "cell_type": "code",
   "execution_count": 10,
   "id": "407c20cf",
   "metadata": {},
   "outputs": [
    {
     "name": "stdout",
     "output_type": "stream",
     "text": [
      "f=PrefScLTL(a > c && c > b)\n",
      "f.outcomes()=[LTL((! b) & (!a ) & (! c ) & (! c)), LTL( b), LTL(a ), LTL( c ), LTL( c)]\n"
     ]
    }
   ],
   "source": [
    "f = PrefScLTL(\"a > c && c > b\")\n",
    "\n",
    "print(f\"{f=}\")\n",
    "print(f\"{f.outcomes()=}\")"
   ]
  },
  {
   "cell_type": "code",
   "execution_count": null,
   "id": "2ccca776",
   "metadata": {},
   "outputs": [],
   "source": []
  }
 ],
 "metadata": {
  "kernelspec": {
   "display_name": "Python 3 (ipykernel)",
   "language": "python",
   "name": "python3"
  },
  "language_info": {
   "codemirror_mode": {
    "name": "ipython",
    "version": 3
   },
   "file_extension": ".py",
   "mimetype": "text/x-python",
   "name": "python",
   "nbconvert_exporter": "python",
   "pygments_lexer": "ipython3",
   "version": "3.9.2"
  }
 },
 "nbformat": 4,
 "nbformat_minor": 5
}
