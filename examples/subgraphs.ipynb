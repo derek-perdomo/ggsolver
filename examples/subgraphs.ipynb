{
 "cells": [
  {
   "cell_type": "markdown",
   "metadata": {
    "pycharm": {
     "name": "#%% md\n"
    }
   },
   "source": [
    "# SubGraph class"
   ]
  },
  {
   "cell_type": "code",
   "execution_count": 1,
   "metadata": {
    "pycharm": {
     "name": "#%%\n"
    }
   },
   "outputs": [],
   "source": [
    "# This code block is necessary when running in `ggsolver:v0.1` docker image.\n",
    "import sys\n",
    "\n",
    "import networkx as nx\n",
    "\n",
    "sys.path.append('/home/ggsolver/')"
   ]
  },
  {
   "cell_type": "code",
   "execution_count": 2,
   "metadata": {
    "pycharm": {
     "name": "#%%\n"
    }
   },
   "outputs": [
    {
     "name": "stdout",
     "output_type": "stream",
     "text": [
      "import ok.\n"
     ]
    }
   ],
   "source": [
    "from ggsolver.graph import Graph, SubGraph, NodePropertyMap, EdgePropertyMap\n",
    "from pprint import pprint\n",
    "print(\"import ok.\")"
   ]
  },
  {
   "cell_type": "code",
   "execution_count": 3,
   "metadata": {
    "pycharm": {
     "name": "#%%\n"
    }
   },
   "outputs": [
    {
     "name": "stdout",
     "output_type": "stream",
     "text": [
      "[0, 1, 2, 3, 4, 5, 6, 7, 8, 9]\n",
      "[(0, 1, 0), (1, 2, 0), (2, 3, 0), (3, 4, 0), (4, 5, 0), (5, 6, 0), (6, 7, 0), (7, 8, 0)]\n"
     ]
    }
   ],
   "source": [
    "# Creating a graph\n",
    "g = Graph()\n",
    "nodes = g.add_nodes(10)\n",
    "edges = g.add_edges([(i, i+1) for i in range(8)])\n",
    "\n",
    "print(g.nodes())\n",
    "print(g.edges())"
   ]
  },
  {
   "cell_type": "markdown",
   "source": [
    "Create subgraph. We will start with all nodes, edges visible."
   ],
   "metadata": {
    "collapsed": false,
    "pycharm": {
     "name": "#%% md\n"
    }
   }
  },
  {
   "cell_type": "code",
   "execution_count": 4,
   "metadata": {
    "pycharm": {
     "name": "#%%\n"
    }
   },
   "outputs": [
    {
     "name": "stdout",
     "output_type": "stream",
     "text": [
      "[0, 1, 2, 3, 4, 5, 6, 7, 8, 9]\n",
      "[(0, 1, 0), (1, 2, 0), (2, 3, 0), (3, 4, 0), (4, 5, 0), (5, 6, 0), (6, 7, 0), (7, 8, 0)]\n"
     ]
    }
   ],
   "source": [
    "# Create subgraph\n",
    "sg = SubGraph(g)\n",
    "print(sg.nodes())\n",
    "print(sg.edges())"
   ]
  },
  {
   "cell_type": "markdown",
   "source": [
    "Let us hide a first two edges."
   ],
   "metadata": {
    "collapsed": false,
    "pycharm": {
     "name": "#%% md\n"
    }
   }
  },
  {
   "cell_type": "code",
   "execution_count": 5,
   "metadata": {
    "pycharm": {
     "name": "#%%\n"
    }
   },
   "outputs": [
    {
     "name": "stdout",
     "output_type": "stream",
     "text": [
      "[0, 1, 2, 3, 4, 5, 6, 7, 8, 9]\n",
      "[(2, 3, 0), (3, 4, 0), (4, 5, 0), (5, 6, 0), (6, 7, 0), (7, 8, 0)]\n"
     ]
    }
   ],
   "source": [
    "sg.hide_edge(0, 1, 0)\n",
    "sg.hide_edge(1, 2, 0)\n",
    "\n",
    "print(sg.nodes())\n",
    "print(sg.edges())"
   ]
  },
  {
   "cell_type": "markdown",
   "source": [
    "Now, let's hide node 2. Observe that edges incoming or outgoing from node 2 are also hidden."
   ],
   "metadata": {
    "collapsed": false,
    "pycharm": {
     "name": "#%% md\n"
    }
   }
  },
  {
   "cell_type": "code",
   "execution_count": 6,
   "metadata": {
    "pycharm": {
     "name": "#%%\n"
    }
   },
   "outputs": [
    {
     "name": "stdout",
     "output_type": "stream",
     "text": [
      "[0, 1, 3, 4, 5, 6, 7, 8, 9]\n",
      "[(3, 4, 0), (4, 5, 0), (5, 6, 0), (6, 7, 0), (7, 8, 0)]\n"
     ]
    }
   ],
   "source": [
    "sg.hide_node(2)\n",
    "\n",
    "print(sg.nodes())\n",
    "print(sg.edges())"
   ]
  },
  {
   "cell_type": "markdown",
   "source": [
    "Get the successors of a node in SubGraph"
   ],
   "metadata": {
    "collapsed": false,
    "pycharm": {
     "name": "#%% md\n"
    }
   }
  },
  {
   "cell_type": "code",
   "execution_count": 7,
   "outputs": [
    {
     "name": "stdout",
     "output_type": "stream",
     "text": [
      "g.successors(4) -> [5]  ... Node IDs of successors.\n",
      "g.predecessors(4) -> [3]  ... Node IDs of predecessors.\n"
     ]
    }
   ],
   "source": [
    "# Check successors of a node\n",
    "successors = sg.successors(4)\n",
    "print(f\"g.successors(4) -> {list(successors)}  ... Node IDs of successors.\")\n",
    "\n",
    "# Check predecessors of a node\n",
    "predecessors = g.predecessors(4)\n",
    "print(f\"g.predecessors(4) -> {list(predecessors)}  ... Node IDs of predecessors.\")"
   ],
   "metadata": {
    "collapsed": false,
    "pycharm": {
     "name": "#%%\n"
    }
   }
  },
  {
   "cell_type": "markdown",
   "source": [
    "But if we check successors of hidden nodes, we get empty lists.\n",
    "If the input node to successors function is a node in Graph `g`, then no error is thrown.\n",
    "However, if we query for successors of a node not in `g`, then we get NetworkXError."
   ],
   "metadata": {
    "collapsed": false,
    "pycharm": {
     "name": "#%% md\n"
    }
   }
  },
  {
   "cell_type": "code",
   "execution_count": 8,
   "outputs": [
    {
     "name": "stdout",
     "output_type": "stream",
     "text": [
      "g.successors(0) -> []  ... Node IDs of successors.\n",
      "g.predecessors(0) -> []  ... Node IDs of predecessors.\n",
      "Error raised.\n"
     ]
    }
   ],
   "source": [
    "# Check successors of a node\n",
    "successors = sg.successors(0)\n",
    "print(f\"g.successors(0) -> {list(successors)}  ... Node IDs of successors.\")\n",
    "\n",
    "# Check predecessors of a node\n",
    "predecessors = g.predecessors(0)\n",
    "print(f\"g.predecessors(0) -> {list(predecessors)}  ... Node IDs of predecessors.\")\n",
    "\n",
    "try:\n",
    "      # Check predecessors of a node\n",
    "      predecessors = g.predecessors(10)\n",
    "      print(f\"g.predecessors(10) -> {list(predecessors)}  ... Node IDs of predecessors.\")\n",
    "except nx.NetworkXError:\n",
    "      print(\"Error raised.\")"
   ],
   "metadata": {
    "collapsed": false,
    "pycharm": {
     "name": "#%%\n"
    }
   }
  },
  {
   "cell_type": "code",
   "execution_count": 9,
   "metadata": {
    "pycharm": {
     "name": "#%%\n"
    }
   },
   "outputs": [
    {
     "name": "stdout",
     "output_type": "stream",
     "text": [
      "g.out_edges(4) -> [(4, 5, 0)]  ... Edge triples of out edges.\n",
      "g.in_edges(4) -> [(3, 4, 0)]  ... Edge triples of out edges.\n"
     ]
    }
   ],
   "source": [
    "# Check out_edges from a node\n",
    "out_edges = sg.out_edges(4)\n",
    "print(f\"g.out_edges(4) -> {list(out_edges)}  ... Edge triples of out edges.\")\n",
    "\n",
    "# Check in_edges to a node\n",
    "in_edges = g.in_edges(4)\n",
    "print(f\"g.in_edges(4) -> {list(in_edges)}  ... Edge triples of out edges.\")"
   ]
  },
  {
   "cell_type": "code",
   "execution_count": 10,
   "metadata": {
    "pycharm": {
     "name": "#%%\n"
    }
   },
   "outputs": [
    {
     "name": "stdout",
     "output_type": "stream",
     "text": [
      "sg.nodes() -> [0, 1, 3, 4, 5, 6, 7, 8, 9]  ... Node IDs.\n",
      "sg.edges() -> [(3, 4, 0), (4, 5, 0), (5, 6, 0), (6, 7, 0), (7, 8, 0)]  ... Edge triples of edges.\n"
     ]
    }
   ],
   "source": [
    "# Check all nodes\n",
    "nodes = sg.nodes()\n",
    "print(f\"sg.nodes() -> {list(nodes)}  ... Node IDs.\")\n",
    "\n",
    "# Check all edges\n",
    "edges = sg.edges()\n",
    "print(f\"sg.edges() -> {list(edges)}  ... Edge triples of edges.\")\n"
   ]
  },
  {
   "cell_type": "markdown",
   "source": [
    "Unlike most of the above functions, the call to `number_of_nodes, number_of_edges` returns the number of nodes and edges in unfiltered graph."
   ],
   "metadata": {
    "collapsed": false,
    "pycharm": {
     "name": "#%% md\n"
    }
   }
  },
  {
   "cell_type": "code",
   "execution_count": 13,
   "outputs": [
    {
     "name": "stdout",
     "output_type": "stream",
     "text": [
      "sg.number_of_nodes() -> 9 ... shows total nodes in unfiltered graph.\n",
      "sg.number_of_edges() -> 5 ... shows total edges in unfiltered graph.\n",
      "sg.number_of_nodes() -> 8 ... shows total nodes in filtered graph.\n",
      "sg.number_of_edges() -> 3 ... shows total edges in filtered graph.\n"
     ]
    }
   ],
   "source": [
    "# Get number of nodes, edges\n",
    "print(f\"sg.number_of_nodes() -> {sg.number_of_nodes()} ... shows total nodes in unfiltered graph.\")\n",
    "print(f\"sg.number_of_edges() -> {sg.number_of_edges()} ... shows total edges in unfiltered graph.\")\n",
    "\n",
    "print(f\"sg.number_of_nodes() -> {sg.number_of_visible_nodes()} ... shows total nodes in filtered graph.\")\n",
    "print(f\"sg.number_of_edges() -> {sg.number_of_visible_edges()} ... shows total edges in filtered graph.\")"
   ],
   "metadata": {
    "collapsed": false,
    "pycharm": {
     "name": "#%%\n"
    }
   }
  },
  {
   "cell_type": "markdown",
   "source": [
    "## Properties of Graph and SubGraph\n",
    "\n",
    "The properties of graph are shared with the sub-graph. That is, any changes to sub-graph properties will reflect in base graph `g`."
   ],
   "metadata": {
    "collapsed": false,
    "pycharm": {
     "name": "#%% md\n"
    }
   }
  },
  {
   "cell_type": "code",
   "execution_count": null,
   "outputs": [],
   "source": [],
   "metadata": {
    "collapsed": false,
    "pycharm": {
     "name": "#%%\n"
    }
   }
  },
  {
   "cell_type": "markdown",
   "source": [
    "## Serialization\n",
    "\n",
    "SubGraphs can be serialized in exactly the same way as the graph. The serialized form contains the complete graph `g` and the hidden nodes, hidden edges sets.\n"
   ],
   "metadata": {
    "collapsed": false,
    "pycharm": {
     "name": "#%% md\n"
    }
   }
  },
  {
   "cell_type": "code",
   "execution_count": null,
   "metadata": {
    "pycharm": {
     "name": "#%%\n"
    }
   },
   "outputs": [],
   "source": [
    "# A graph object can be serialized into a dictionary.\n",
    "g_dict = g.serialize()\n",
    "pprint(g_dict)"
   ]
  },
  {
   "cell_type": "code",
   "execution_count": null,
   "metadata": {
    "pycharm": {
     "name": "#%%\n"
    }
   },
   "outputs": [],
   "source": [
    "# A dictionary can be deserialized to get a graph object.\n",
    "new_g = Graph.deserialize(g_dict)\n",
    "pprint(new_g.serialize())"
   ]
  },
  {
   "cell_type": "code",
   "execution_count": null,
   "metadata": {
    "pycharm": {
     "name": "#%%\n"
    }
   },
   "outputs": [],
   "source": [
    "# A graph can be saved and loaded to/from a file\n",
    "#   fpath: gives a complete path of the file to which the graph will be saved. (include extension)\n",
    "#   overwrite: if the file should overwrite an existing file.\n",
    "#   protocol: either json or pickle.\n",
    "g.save(fpath=\"mygraph.graph\", overwrite=True, protocol=\"json\")\n",
    "loaded_g = Graph.load(fpath=\"mygraph.graph\", protocol=\"json\")"
   ]
  },
  {
   "cell_type": "markdown",
   "source": [
    "## Drawing SubGraph\n",
    "\n",
    "SubGraphs can be drawn in the same way as Graphs."
   ],
   "metadata": {
    "collapsed": false,
    "pycharm": {
     "name": "#%% md\n"
    }
   }
  },
  {
   "cell_type": "code",
   "execution_count": null,
   "outputs": [],
   "source": [
    "# Draw graph. Saves to the given location as PNG image. \n",
    "loaded_g.to_png(\"graph1.png\")"
   ],
   "metadata": {
    "collapsed": false,
    "pycharm": {
     "name": "#%%\n"
    }
   }
  },
  {
   "cell_type": "code",
   "execution_count": null,
   "outputs": [],
   "source": [
    "# Jupyter notebook setup to export images in HTML. \n",
    "import base64, io, IPython\n",
    "from PIL import Image as PILImage\n",
    "from IPython.display import Image\n",
    "from IPython.core.display import HTML\n",
    "\n",
    "image = PILImage.open(\"graph1.png\")\n",
    "output = io.BytesIO()\n",
    "image.save(output, format='PNG')\n",
    "encoded_string = base64.b64encode(output.getvalue()).decode()\n",
    "\n",
    "html = '<img src=\"data:image/png;base64,{}\"/>'.format(encoded_string)\n",
    "IPython.display.HTML(html)"
   ],
   "metadata": {
    "collapsed": false,
    "pycharm": {
     "name": "#%%\n"
    }
   }
  },
  {
   "cell_type": "code",
   "execution_count": null,
   "outputs": [],
   "source": [
    "# If nlabel, elabel is specified, the corresponding node and edge properties are used to label \n",
    "#   the nodes and edges of the generated graph.\n",
    "# Note: If the mapping from nodes to selected node-properties is not 1-1, then the generated graph can be different\n",
    "#   from the true graph. For example, note the difference between the `graph1.png` and `graph2.png`.\n",
    "loaded_g.to_png(\"graph2.png\", nlabel=[\"name\"], elabel=[\"label\"])"
   ],
   "metadata": {
    "collapsed": false,
    "pycharm": {
     "name": "#%%\n"
    }
   }
  },
  {
   "cell_type": "code",
   "execution_count": null,
   "outputs": [],
   "source": [
    "# Jupyter notebook setup to export images in HTML. \n",
    "image = PILImage.open(\"graph2.png\")\n",
    "output = io.BytesIO()\n",
    "image.save(output, format='PNG')\n",
    "encoded_string = base64.b64encode(output.getvalue()).decode()\n",
    "\n",
    "html = '<img src=\"data:image/png;base64,{}\"/>'.format(encoded_string)\n",
    "IPython.display.HTML(html)"
   ],
   "metadata": {
    "collapsed": false,
    "pycharm": {
     "name": "#%%\n"
    }
   }
  }
 ],
 "metadata": {
  "kernelspec": {
   "display_name": "Python 3 (ipykernel)",
   "language": "python",
   "name": "python3"
  },
  "language_info": {
   "codemirror_mode": {
    "name": "ipython",
    "version": 3
   },
   "file_extension": ".py",
   "mimetype": "text/x-python",
   "name": "python",
   "nbconvert_exporter": "python",
   "pygments_lexer": "ipython3",
   "version": "3.9.13"
  }
 },
 "nbformat": 4,
 "nbformat_minor": 1
}