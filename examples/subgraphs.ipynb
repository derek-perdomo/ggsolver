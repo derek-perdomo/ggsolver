{
 "cells": [
  {
   "cell_type": "markdown",
   "metadata": {
    "pycharm": {
     "name": "#%% md\n"
    }
   },
   "source": [
    "# SubGraph class"
   ]
  },
  {
   "cell_type": "markdown",
   "metadata": {
    "pycharm": {
     "name": "#%% md\n"
    }
   },
   "source": []
  },
  {
   "cell_type": "code",
   "execution_count": 23,
   "metadata": {
    "pycharm": {
     "name": "#%%\n"
    }
   },
   "outputs": [],
   "source": [
    "# This code block is necessary when running in `ggsolver:v0.1` docker image.\n",
    "import sys\n",
    "\n",
    "import networkx as nx\n",
    "\n",
    "sys.path.append('/home/ggsolver/')"
   ]
  },
  {
   "cell_type": "code",
   "execution_count": 24,
   "metadata": {
    "pycharm": {
     "name": "#%%\n"
    }
   },
   "outputs": [
    {
     "name": "stdout",
     "output_type": "stream",
     "text": [
      "import ok.\n"
     ]
    }
   ],
   "source": [
    "from ggsolver.graph import Graph, SubGraph, NodePropertyMap, EdgePropertyMap\n",
    "from pprint import pprint\n",
    "print(\"import ok.\")"
   ]
  },
  {
   "cell_type": "code",
   "execution_count": 25,
   "metadata": {
    "pycharm": {
     "name": "#%%\n"
    }
   },
   "outputs": [
    {
     "name": "stdout",
     "output_type": "stream",
     "text": [
      "[0, 1, 2, 3, 4, 5, 6, 7, 8, 9]\n",
      "[(0, 1, 0), (1, 2, 0), (2, 3, 0), (3, 4, 0), (4, 5, 0), (5, 6, 0), (6, 7, 0), (7, 8, 0)]\n"
     ]
    }
   ],
   "source": [
    "# Creating a graph\n",
    "g = Graph()\n",
    "nodes = g.add_nodes(10)\n",
    "edges = g.add_edges([(i, i+1) for i in range(8)])\n",
    "\n",
    "print(g.nodes())\n",
    "print(g.edges())"
   ]
  },
  {
   "cell_type": "markdown",
   "metadata": {
    "pycharm": {
     "name": "#%% md\n"
    }
   },
   "source": [
    "Create subgraph. We will start with all nodes, edges visible."
   ]
  },
  {
   "cell_type": "code",
   "execution_count": 26,
   "metadata": {
    "pycharm": {
     "name": "#%%\n"
    }
   },
   "outputs": [
    {
     "name": "stdout",
     "output_type": "stream",
     "text": [
      "[0, 1, 2, 3, 4, 5, 6, 7, 8, 9]\n",
      "[(0, 1, 0), (1, 2, 0), (2, 3, 0), (3, 4, 0), (4, 5, 0), (5, 6, 0), (6, 7, 0), (7, 8, 0)]\n"
     ]
    }
   ],
   "source": [
    "# Create subgraph\n",
    "sg = SubGraph(g)\n",
    "print(sg.nodes())\n",
    "print(sg.edges())"
   ]
  },
  {
   "cell_type": "markdown",
   "metadata": {
    "pycharm": {
     "name": "#%% md\n"
    }
   },
   "source": [
    "Let us hide a first two edges."
   ]
  },
  {
   "cell_type": "code",
   "execution_count": 27,
   "metadata": {
    "pycharm": {
     "name": "#%%\n"
    }
   },
   "outputs": [
    {
     "name": "stdout",
     "output_type": "stream",
     "text": [
      "[0, 1, 2, 3, 4, 5, 6, 7, 8, 9]\n",
      "[(2, 3, 0), (3, 4, 0), (4, 5, 0), (5, 6, 0), (6, 7, 0), (7, 8, 0)]\n"
     ]
    }
   ],
   "source": [
    "sg.hide_edge(0, 1, 0)\n",
    "sg.hide_edge(1, 2, 0)\n",
    "\n",
    "print(sg.nodes())\n",
    "print(sg.edges())"
   ]
  },
  {
   "cell_type": "markdown",
   "metadata": {
    "pycharm": {
     "name": "#%% md\n"
    }
   },
   "source": [
    "Now, let's hide node 2. Observe that edges incoming or outgoing from node 2 are also hidden."
   ]
  },
  {
   "cell_type": "code",
   "execution_count": 28,
   "metadata": {
    "pycharm": {
     "name": "#%%\n"
    }
   },
   "outputs": [
    {
     "name": "stdout",
     "output_type": "stream",
     "text": [
      "[0, 1, 3, 4, 5, 6, 7, 8, 9]\n",
      "[(3, 4, 0), (4, 5, 0), (5, 6, 0), (6, 7, 0), (7, 8, 0)]\n"
     ]
    }
   ],
   "source": [
    "sg.hide_node(2)\n",
    "\n",
    "print(sg.nodes())\n",
    "print(sg.edges())"
   ]
  },
  {
   "cell_type": "markdown",
   "metadata": {
    "pycharm": {
     "name": "#%% md\n"
    }
   },
   "source": [
    "Get the successors of a node in SubGraph"
   ]
  },
  {
   "cell_type": "code",
   "execution_count": 29,
   "metadata": {
    "pycharm": {
     "name": "#%%\n"
    }
   },
   "outputs": [
    {
     "name": "stdout",
     "output_type": "stream",
     "text": [
      "g.successors(4) -> [5]  ... Node IDs of successors.\n",
      "g.predecessors(4) -> [3]  ... Node IDs of predecessors.\n"
     ]
    }
   ],
   "source": [
    "# Check successors of a node\n",
    "successors = sg.successors(4)\n",
    "print(f\"g.successors(4) -> {list(successors)}  ... Node IDs of successors.\")\n",
    "\n",
    "# Check predecessors of a node\n",
    "predecessors = g.predecessors(4)\n",
    "print(f\"g.predecessors(4) -> {list(predecessors)}  ... Node IDs of predecessors.\")"
   ]
  },
  {
   "cell_type": "markdown",
   "metadata": {
    "pycharm": {
     "name": "#%% md\n"
    }
   },
   "source": [
    "But if we check successors of hidden nodes, we get empty lists.\n",
    "If the input node to successors function is a node in Graph `g`, then no error is thrown.\n",
    "However, if we query for successors of a node not in `g`, then we get NetworkXError."
   ]
  },
  {
   "cell_type": "code",
   "execution_count": 30,
   "metadata": {
    "pycharm": {
     "name": "#%%\n"
    }
   },
   "outputs": [
    {
     "name": "stdout",
     "output_type": "stream",
     "text": [
      "g.successors(0) -> []  ... Node IDs of successors.\n",
      "g.predecessors(0) -> []  ... Node IDs of predecessors.\n",
      "Error raised.\n"
     ]
    }
   ],
   "source": [
    "# Check successors of a \"hidden\" node, but which is present in base graph.\n",
    "successors = sg.successors(0)\n",
    "print(f\"g.successors(0) -> {list(successors)}  ... Node IDs of successors.\")\n",
    "\n",
    "# Check predecessors of a \"hidden\" node, but which is present in base graph.\n",
    "predecessors = g.predecessors(0)\n",
    "print(f\"g.predecessors(0) -> {list(predecessors)}  ... Node IDs of predecessors.\")\n",
    "\n",
    "try:\n",
    "      # Check predecessors of a node not in base graph\n",
    "      predecessors = g.predecessors(10)\n",
    "      print(f\"g.predecessors(10) -> {list(predecessors)}  ... Node IDs of predecessors.\")\n",
    "except nx.NetworkXError:\n",
    "      print(\"Error raised.\")"
   ]
  },
  {
   "cell_type": "code",
   "execution_count": 31,
   "metadata": {
    "pycharm": {
     "name": "#%%\n"
    }
   },
   "outputs": [
    {
     "name": "stdout",
     "output_type": "stream",
     "text": [
      "g.out_edges(4) -> [(4, 5, 0)]  ... Edge triples of out edges.\n",
      "g.in_edges(4) -> [(3, 4, 0)]  ... Edge triples of out edges.\n"
     ]
    }
   ],
   "source": [
    "# Check out_edges from a node\n",
    "out_edges = sg.out_edges(4)\n",
    "print(f\"g.out_edges(4) -> {list(out_edges)}  ... Edge triples of out edges.\")\n",
    "\n",
    "# Check in_edges to a node\n",
    "in_edges = g.in_edges(4)\n",
    "print(f\"g.in_edges(4) -> {list(in_edges)}  ... Edge triples of out edges.\")"
   ]
  },
  {
   "cell_type": "code",
   "execution_count": 32,
   "metadata": {
    "pycharm": {
     "name": "#%%\n"
    }
   },
   "outputs": [
    {
     "name": "stdout",
     "output_type": "stream",
     "text": [
      "sg.nodes() -> [0, 1, 3, 4, 5, 6, 7, 8, 9]  ... Node IDs.\n",
      "sg.edges() -> [(3, 4, 0), (4, 5, 0), (5, 6, 0), (6, 7, 0), (7, 8, 0)]  ... Edge triples of edges.\n"
     ]
    }
   ],
   "source": [
    "# Check all nodes\n",
    "nodes = sg.nodes()\n",
    "print(f\"sg.nodes() -> {list(nodes)}  ... Node IDs.\")\n",
    "\n",
    "# Check all edges\n",
    "edges = sg.edges()\n",
    "print(f\"sg.edges() -> {list(edges)}  ... Edge triples of edges.\")\n"
   ]
  },
  {
   "cell_type": "markdown",
   "metadata": {
    "pycharm": {
     "name": "#%% md\n"
    }
   },
   "source": [
    "Unlike most of the above functions, the call to `number_of_nodes, number_of_edges` returns the number of nodes and edges in unfiltered graph."
   ]
  },
  {
   "cell_type": "code",
   "execution_count": 33,
   "metadata": {
    "pycharm": {
     "name": "#%%\n"
    }
   },
   "outputs": [
    {
     "name": "stdout",
     "output_type": "stream",
     "text": [
      "sg.number_of_nodes() -> 9 ... shows total nodes in unfiltered graph.\n",
      "sg.number_of_edges() -> 5 ... shows total edges in unfiltered graph.\n",
      "sg.number_of_nodes() -> 8 ... shows total nodes in filtered graph.\n",
      "sg.number_of_edges() -> 3 ... shows total edges in filtered graph.\n"
     ]
    }
   ],
   "source": [
    "# Get number of nodes, edges\n",
    "print(f\"sg.number_of_nodes() -> {sg.number_of_nodes()} ... shows total nodes in unfiltered graph.\")\n",
    "print(f\"sg.number_of_edges() -> {sg.number_of_edges()} ... shows total edges in unfiltered graph.\")\n",
    "\n",
    "print(f\"sg.number_of_nodes() -> {sg.number_of_visible_nodes()} ... shows total nodes in filtered graph.\")\n",
    "print(f\"sg.number_of_edges() -> {sg.number_of_visible_edges()} ... shows total edges in filtered graph.\")"
   ]
  },
  {
   "cell_type": "markdown",
   "metadata": {
    "pycharm": {
     "name": "#%% md\n"
    }
   },
   "source": [
    "## Properties of Graph and SubGraph\n",
    "\n",
    "The properties of graph are shared with the sub-graph. That is, any changes to sub-graph properties will reflect in base graph `g` and vice versa.\n",
    "\n",
    "In the next code block, we associate a `name` property with graph `g`. The same property is now available in the subgraph `sg`."
   ]
  },
  {
   "cell_type": "code",
   "execution_count": 34,
   "metadata": {
    "pycharm": {
     "name": "#%%\n"
    }
   },
   "outputs": [
    {
     "name": "stdout",
     "output_type": "stream",
     "text": [
      "{'hidden_nodes': <NodePropertyMap graph=<ggsolver.graph.Graph object at 0x7f0889231640>>, 'name': <NodePropertyMap graph=<ggsolver.graph.Graph object at 0x7f0889231640>>}\n",
      "{'hidden_nodes': <NodePropertyMap graph=<ggsolver.graph.Graph object at 0x7f0889231640>>, 'name': <NodePropertyMap graph=<ggsolver.graph.Graph object at 0x7f0889231640>>}\n"
     ]
    }
   ],
   "source": [
    "name = NodePropertyMap(g)\n",
    "for i in nodes:\n",
    "      name[i] = f\"n{i}\"\n",
    "g[\"name\"] = name\n",
    "print(g.node_properties)\n",
    "print(sg.node_properties)"
   ]
  },
  {
   "cell_type": "code",
   "execution_count": 35,
   "metadata": {
    "pycharm": {
     "name": "#%%\n"
    }
   },
   "outputs": [
    {
     "name": "stdout",
     "output_type": "stream",
     "text": [
      "{'hidden_nodes': <NodePropertyMap graph=<ggsolver.graph.Graph object at 0x7f0889231640>>, 'name': <NodePropertyMap graph=<ggsolver.graph.Graph object at 0x7f0889231640>>, 'name2': <NodePropertyMap graph=<ggsolver.graph.SubGraph object at 0x7f08892223d0>>}\n",
      "{'hidden_nodes': <NodePropertyMap graph=<ggsolver.graph.Graph object at 0x7f0889231640>>, 'name': <NodePropertyMap graph=<ggsolver.graph.Graph object at 0x7f0889231640>>, 'name2': <NodePropertyMap graph=<ggsolver.graph.SubGraph object at 0x7f08892223d0>>}\n"
     ]
    }
   ],
   "source": [
    "name = NodePropertyMap(sg)\n",
    "for i in nodes:\n",
    "      name[i] = f\"n{i}\"\n",
    "sg[\"name2\"] = name\n",
    "print(g.node_properties)\n",
    "print(sg.node_properties)"
   ]
  },
  {
   "cell_type": "markdown",
   "metadata": {
    "pycharm": {
     "name": "#%% md\n"
    }
   },
   "source": [
    "## Serialization\n",
    "\n",
    "SubGraphs can be serialized in exactly the same way as the graph. The serialized form contains the complete graph `g` and the `hidden_nodes` as a node property and `hidden_edges` as an edge property.\n"
   ]
  },
  {
   "cell_type": "code",
   "execution_count": 36,
   "metadata": {
    "pycharm": {
     "name": "#%%\n"
    }
   },
   "outputs": [
    {
     "name": "stdout",
     "output_type": "stream",
     "text": [
      "{'graph': {'edge_properties': {'hidden_edges': {'default': False,\n",
      "                                                'dict': [{'edge': (0, 1, 0),\n",
      "                                                          'pvalue': True},\n",
      "                                                         {'edge': (1, 2, 0),\n",
      "                                                          'pvalue': True}]}},\n",
      "           'edges': {0: {1: 1},\n",
      "                     1: {2: 1},\n",
      "                     2: {3: 1},\n",
      "                     3: {4: 1},\n",
      "                     4: {5: 1},\n",
      "                     5: {6: 1},\n",
      "                     6: {7: 1},\n",
      "                     7: {8: 1}},\n",
      "           'graph_properties': {},\n",
      "           'node_properties': {'hidden_nodes': {'default': False,\n",
      "                                                'dict': {2: True}},\n",
      "                               'name': {'default': None,\n",
      "                                        'dict': {0: 'n0',\n",
      "                                                 1: 'n1',\n",
      "                                                 3: 'n3',\n",
      "                                                 4: 'n4',\n",
      "                                                 5: 'n5',\n",
      "                                                 6: 'n6',\n",
      "                                                 7: 'n7',\n",
      "                                                 8: 'n8',\n",
      "                                                 9: 'n9'}},\n",
      "                               'name2': {'default': None,\n",
      "                                         'dict': {0: 'n0',\n",
      "                                                  1: 'n1',\n",
      "                                                  3: 'n3',\n",
      "                                                  4: 'n4',\n",
      "                                                  5: 'n5',\n",
      "                                                  6: 'n6',\n",
      "                                                  7: 'n7',\n",
      "                                                  8: 'n8',\n",
      "                                                  9: 'n9'}}},\n",
      "           'nodes': 10}}\n"
     ]
    }
   ],
   "source": [
    "# A graph object can be serialized into a dictionary.\n",
    "g_dict = sg.serialize()\n",
    "pprint(g_dict)"
   ]
  },
  {
   "cell_type": "code",
   "execution_count": 37,
   "metadata": {
    "pycharm": {
     "name": "#%%\n"
    }
   },
   "outputs": [
    {
     "name": "stdout",
     "output_type": "stream",
     "text": [
      "{'graph': {'edge_properties': {'hidden_edges': {'default': False,\n",
      "                                                'dict': [{'edge': (0, 1, 0),\n",
      "                                                          'pvalue': True},\n",
      "                                                         {'edge': (1, 2, 0),\n",
      "                                                          'pvalue': True}]}},\n",
      "           'edges': {0: {1: 1},\n",
      "                     1: {2: 1},\n",
      "                     2: {3: 1},\n",
      "                     3: {4: 1},\n",
      "                     4: {5: 1},\n",
      "                     5: {6: 1},\n",
      "                     6: {7: 1},\n",
      "                     7: {8: 1}},\n",
      "           'graph_properties': {},\n",
      "           'node_properties': {'hidden_nodes': {'default': False,\n",
      "                                                'dict': {2: True}},\n",
      "                               'name': {'default': None,\n",
      "                                        'dict': {0: 'n0',\n",
      "                                                 1: 'n1',\n",
      "                                                 3: 'n3',\n",
      "                                                 4: 'n4',\n",
      "                                                 5: 'n5',\n",
      "                                                 6: 'n6',\n",
      "                                                 7: 'n7',\n",
      "                                                 8: 'n8',\n",
      "                                                 9: 'n9'}},\n",
      "                               'name2': {'default': None,\n",
      "                                         'dict': {0: 'n0',\n",
      "                                                  1: 'n1',\n",
      "                                                  3: 'n3',\n",
      "                                                  4: 'n4',\n",
      "                                                  5: 'n5',\n",
      "                                                  6: 'n6',\n",
      "                                                  7: 'n7',\n",
      "                                                  8: 'n8',\n",
      "                                                  9: 'n9'}}},\n",
      "           'nodes': 10}}\n"
     ]
    }
   ],
   "source": [
    "# A dictionary can be deserialized to get a graph object.\n",
    "new_g = Graph.deserialize(g_dict)\n",
    "pprint(new_g.serialize())"
   ]
  },
  {
   "cell_type": "code",
   "execution_count": 38,
   "metadata": {
    "pycharm": {
     "name": "#%%\n"
    }
   },
   "outputs": [],
   "source": [
    "# A graph can be saved and loaded to/from a file\n",
    "#   fpath: gives a complete path of the file to which the graph will be saved. (include extension)\n",
    "#   overwrite: if the file should overwrite an existing file.\n",
    "#   protocol: either json or pickle.\n",
    "g.save(fpath=\"mygraph.graph\", overwrite=True, protocol=\"json\")\n",
    "loaded_g = Graph.load(fpath=\"mygraph.graph\", protocol=\"json\")"
   ]
  },
  {
   "cell_type": "markdown",
   "metadata": {
    "pycharm": {
     "name": "#%% md\n"
    }
   },
   "source": [
    "## Drawing SubGraph\n",
    "\n",
    "SubGraphs can be drawn in the same way as Graphs."
   ]
  },
  {
   "cell_type": "code",
   "execution_count": 39,
   "metadata": {
    "pycharm": {
     "name": "#%%\n"
    }
   },
   "outputs": [],
   "source": [
    "# Draw graph. Saves to the given location as PNG image. \n",
    "loaded_g.to_png(\"base_graph.png\")\n",
    "sg.to_png(\"sub_graph.png\")\n"
   ]
  },
  {
   "cell_type": "markdown",
   "metadata": {
    "pycharm": {
     "name": "#%% md\n"
    }
   },
   "source": [
    "Show base graph."
   ]
  },
  {
   "cell_type": "code",
   "execution_count": 40,
   "metadata": {
    "pycharm": {
     "name": "#%%\n"
    }
   },
   "outputs": [
    {
     "data": {
      "text/html": [
       "<img src=\"data:image/png;base64,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\"/>"
      ],
      "text/plain": [
       "<IPython.core.display.HTML object>"
      ]
     },
     "execution_count": 40,
     "metadata": {},
     "output_type": "execute_result"
    }
   ],
   "source": [
    "# Jupyter notebook setup to export images in HTML.\n",
    "import base64, io, IPython\n",
    "from PIL import Image as PILImage\n",
    "from IPython.display import Image\n",
    "from IPython.core.display import HTML\n",
    "\n",
    "image = PILImage.open(\"base_graph.png\")\n",
    "output = io.BytesIO()\n",
    "image.save(output, format='PNG')\n",
    "encoded_string = base64.b64encode(output.getvalue()).decode()\n",
    "\n",
    "html = '<img src=\"data:image/png;base64,{}\"/>'.format(encoded_string)\n",
    "IPython.display.HTML(html)"
   ]
  },
  {
   "cell_type": "markdown",
   "metadata": {
    "pycharm": {
     "name": "#%% md\n"
    }
   },
   "source": [
    "Show sub-graph"
   ]
  },
  {
   "cell_type": "code",
   "execution_count": 41,
   "metadata": {
    "pycharm": {
     "name": "#%%\n"
    }
   },
   "outputs": [
    {
     "data": {
      "text/html": [
       "<img src=\"data:image/png;base64,iVBORw0KGgoAAAANSUhEUgAAAXMAAAIbCAYAAAAZ9X44AABO/0lEQVR4nO3da1RUZ549/l3cQbyAqIBiDFFBCxLBYCDhImoS8Y7AaCPi4Bht2rTGazvz0+5xGDWjzWKWGFvxjjEacTQMESUabopiE8UJoI6CCEQUECWAwSqKOv8X/nWQi6BCPUWxP2v5giqXz65vwqY4dc55ZJIkSSAioq4sTk90AiIienMscyIiHcAyJyLSAQaiAzTW0NCAsrIylJWVoaqqCg0NDaipqYFKpYKZmRmMjY1hamqKPn36wMbGBpaWlqIj6xTOXyzOX6yuPn8hZV5XV4esrCz8/PPPyM3NRV5eHgoKClBeXo6GhoZ2/zsmJiYYNGgQHBwc4OTkBLlcDldXV4wcORIymawTX0HXxvmLxfmLpavzl2nibBa1Wo1Lly4hMTERqampyMrKgkKhgKWl5fMhODg4wMbGBra2thgwYAAsLS2hp6eHnj17wsDAAL/99hsUCgWePHmChw8forS0FPfu3UNJSQmuXbuGvLw8XL9+HUqlEv369YOXlxd8fX0xbdo0DB48uLNfolbj/MXi/MXqJvOP69Qyz8jIwKFDhxAfH4/S0lK88847GDt2LHx8fODj49PhL1KlUuHq1atIT09HWloa0tLSUF1djdGjRyMgIAChoaGwtbXt0DW1GecvFucvVjebfxykDlZTUyN99dVXkrOzswRAevfdd6X169dLP//8c0cv1SaFQiGdOnVKWrhwoWRlZSUZGBhI/v7+0g8//KDxLJrC+YvF+YvVjed/tMPKvKamRvrP//xPydraWjIxMZGCgoKkM2fOdNQ//8YUCoV09OhRacKECZJMJpPeffdd6ejRo5JarRYdrUNw/mJx/mJx/h1Q5g0NDdL27dulvn37Sr169ZLWrl0rVVZWdkS4TnP58mVp2rRpkkwmk8aMGSP9/e9/Fx3ptXH+YnH+YnH+z71ZmV++fFlyc3OTDA0NpZUrV2r9EJu6cuWKNHbsWElPT0/6/e9/Lz169Eh0pFfC+YvF+YvF+b/g9cpcrVZL//Ef/yEZGhpK3t7eUm5u7puEEEqtVksHDx6UrK2tpbfeekvKyMgQHalNnL9YnL9YnH+LXr3MHz58KH3yySeSoaGhtHnzZp055lZRUSFNnjxZMjAwkDZv3iw6Tqs4f7E4f7E4/1a9WpkXFxdLcrlcsrOz69LH2VqjVqulyMhISV9fXwoPD5dUKpXoSC/g/MXi/MXi/F+q/WV+69YtadCgQZKzs7P0yy+/vHrSLuTEiROSqampFBgYKNXX14uOI0kS5y8a5y8W59+m9pV5aWmpZG9vL40ZM6bLfUjyutLT0yUzMzNp/vz5wn+V4/w5f03j/MV6jfm3XeaPHz+W3nvvPcnR0VGqqKh485RdyMmTJyVDQ0PpL3/5i7AMnD/nLwrnL9Yrzr/tMv/9738vWVhYSHfu3HnjcF3Rjh07JD09PSklJUXI+pw/5y8S5y/WK8z/5WX+3//935JMJpOOHTvWYeG6osDAQGnQoEEa/xWP83+K8xeL8xernfNvvcwVCoX0zjvvSHPmzOnwcO2RnZ0tTZo0Serdu7dkbm4ujR8/Xjp//ryQLA8fPpT69esnrVq1SmNrip6/JD39NW/YsGGSvr6+sAyS1L3mr1arpfPnz0t/+MMfpGHDhklGRkZSv379pI8++kg6ePCgkOPX3Wn+kiRJKpVKioqKkt577z3J1NRU6tWrl+Tr6yvs9gDtnH/rZR4VFSWZmppKxcXFHZ+uDZmZmZKpqak0a9YsqbS0VKqoqJA+++wzycDAQEpKStJ4HkmSpK1bt0omJiYa+3VP5Pzz8/OlqVOnSu+++67Uq1cv4WUuSd1n/tevX5cASBMmTJD+53/+R6qrq5MKCgqk3/3udxIAacWKFRrN80x3mb9KpZKmTJkiGRoaStHR0dKDBw+k27dvS2FhYZJMJpMOHz6s0TzPtGP+LZd5Q0ODNHjwYGn58uWdl64VDQ0Nklwul2xsbKTffvvt+eMqlUpycHCQ7OzspCdPnmg8l0KhkAYPHqyRdyci5y9JkvS73/1O2rRpk1RfXy8NHDhQK8q8u8z/+vXrkoGBgfTw4cMXHlcoFFLfvn0lY2Nj/v/fifbv3y8BkP74xz++8LharZYcHR0lCwsLIWfUtGP+LZd5UlKSBEC6fv1656VrRUpKSovDlCRJ+td//VcJgLBjaH/5y1+kAQMGSEqlslPXETl/SZJe+CGqLWUuSd1n/q0ZNWqUBECqqqoSsn53mP/06dMlAC3epvZPf/qTBEDatWuXxnNJUpvzP9rihs5HjhyBh4cHHB0dO+tG6q1KTk4GALz//vvNnnv22I8//qjRTM+EhYWhvLwcKSkpnbqOyPkDgKmpqZB129Jd5t+Sqqoq3Lp1Cy4uLujdu7eQDN1h/mVlZQCA/v37N3vOxsYGAHD+/HmNZnqmrfm3WObnzp3Dxx9/3KnBWnPjxg0AwKBBg5o9N3DgQADAzZs3NZrpmbfeegtDhw7t9P+YIuevzbrj/Kurq5GRkYFp06bB2toasbGxwrJ0h/lbWVkB+L9Sb6yiogIAcOfOHU1Geq6t+Tcr8wcPHqCgoAAeHh6dHq4lVVVVAIAePXo0e87c3BwA8OjRI01GesGHH36Iixcvdtq/L3r+2q47zf/f//3f0bt3b3h6ekJfXx8nTpyAk5OT0Ey6Pv9PP/0UAPD99983e+706dMAgMePH2s0U2Mvm3+zMi8qKoIkSXBwcOj0YK9K+v+3KxW58/jw4cM79SezNs9fG3Sn+a9duxYKhQLXr1+Ho6MjXFxcEBERITSTrs9/wYIFGD16NHbs2IGvvvoKlZWVKC4uxueff467d+8CEHsY8mXzb/GdOQD07du3U0O1pk+fPgBa/un37LFnf0eEvn37orKystP+fdHz13bdbf5GRkZwdHTE3/72N0ybNg1//vOfcfbsWWF5dH3+JiYmSElJwdKlS/HXv/4VNjY2+OCDDyBJEuLi4gAA1tbWQrIBL59/szKvq6sDIO6nz7MPPX755Zdmzz37yTh8+HCNZmrM3Ny8U3/NEj1/bded5z916lQALR8C0JTuMP+ePXtiy5YtKCwshFKpxL179/DVV189f92urq7Csr1s/s3K3MLCAoC449K+vr4AgMuXLzd77tlj48eP12imxiorK2Fpadlp/77o+Wu77jx/Y2NjAMDDhw+FZejO83/2wePMmTOFZXjZ/JuV+bNfb559cqtpPj4+GDlyJI4dO4YnT548f7yhoQFHjhyBnZ0dJk+eLCQb8HQunfkroOj5aztdn//KlSsREhLS4nOnTp0CALi5uWky0gt0ff4PHjyAnp4eSktLX3i8uroau3fvxuzZs4UeGXjZ/JuV+bBhw2BiYoLs7OxOD9YSPT097NmzBw8fPkRYWBju37+PyspKLF68GLdu3cKuXbtgYmIiJBsAXLlyBc7Ozp3274uev7brDvP/5ptv8G//9m+4c+cOFAoF7ty5gz/96U/4+uuvMXr0aCxYsEBYtu4wf0mSEBYWhvz8fCgUCvz973/HxIkTMWDAAHz11VfCcgEvn3+zMjc2NoaLiwsuXLjQ6cFa4+7ujgsXLuDXX3+Fg4MDhgwZglu3biE1NfX5qUMiSJKEzMzMTj1tShvm//3330Mmk0Emk+Hu3btoaGh4/vXu3buF5eoO8//zn/+MXbt24cKFC/D19UWvXr3g7OyMH3/8EZs2bcK5c+eEHU/uDvO3srLCmTNnYGJiAi8vL1hYWOCf/umfMGnSJFy8eLFTDzG1pc35t3Rd6Nq1a6VBgwZp3R6AoqWmpkoApJycnE5dh/NvGecvFucvVhvzb/neLAUFBZJMJpNOnTrVuem6mLlz50pubm6dvg7n3zLOXyzOX6w25t/6LXB9fHykTz75pHNSdUElJSWSqamptHPnTo2sx/m/iPMXi/MXqx3zb73M09LSJADC7h+ubf7xH/9RGjJkiMZuP8r5v4jzF4vzF6sd83/5tnFTp06V5HK5VFdX1/HpupCLFy9K+vr60qFDhzS6Luf/FOcvFucvVjvn//IyLy4uliwsLFq8t3h3UVNTIw0bNkz69NNPNb5lF+fP+YvG+Yv1CvN/eZlLkiQdPnxYkslk0pEjRzouYRfR0NAgzZw5U7K2tpbu378vJAPnz/mLwvmL9Yrzb7vMJUmSvvjiC8nY2Fg6e/bsmyfsQsLDwyUTExMpPT1daA7On/MXgfMX6xXn374yb2hokObMmSP17NlTSk5OfrOEXYBarZZWrFgh6evrSydOnBAdh/MXjPMXi/Nvl/aVuSRJklKplGbPni0ZGxsL26FaExQKhRQcHCwZGRlp/AOfl+H8xeL8xeL829T+Mpekpz8hly9fLslkMulPf/pTp2/sqml37tyRPvzwQ6lXr17SmTNnRMdphvMXi/MXi/N/qVcr82f27Nkj9ejRQ3J3d5fy8/Nf55/QOnFxcZKFhYUkl8ul3Nxc0XFeivMXi/MXi/Nv0euVuSRJ0rVr16T33ntPMjU1lf7t3/5NYxcTdLTbt29LU6ZMkQBICxculH777TfRkdqF8xeL8xeL82/m9ctckp4ex9q8ebNkbm4uDR06VDp48GCXuTlOeXm59Kc//UkyNTWVRo4cKaWkpIiO9Mo4f7E4f7E4/xe8WZk/U1JSIs2bN08yMDCQHBwcpH379mntVVvFxcXSqlWrJHNzc6l///5SVFRUlz/2xvmLxfmLxflLktRRZf7MrVu3pH/8x3+UjIyMJEtLS+mLL77QiuNvSqVSSkhIkKZOnSrp6+tL1tbW0l//+lfp8ePHoqN1KM5fLM5frG4+/44t82fu378vbdy4UXr77bclAJKjo6P0//7f/5OysrI09mtQdXW1FB8fL82bN0+ytLSUZDKZNH78eOno0aOSQqHQSAZROH+xOH+xuun8j8okSZI6a2cMtVqNjIwMHD9+HCdOnEBRURF69+4NT09PeHp6wtXVFU5OTrC1tX2jdVQqFW7duoXc3FxkZmbi3LlzyM7OhlqthoeHB2bOnImZM2diyJAhHfPCugjOXyzOX6xuNv+4Ti3zpnJzc5GWlob09HScP3/++aaplpaWGD58OKytrWFnZ4f+/fujd+/eMDY2hpmZGYyNjVFTUwOVSoWamhpUV1ejpKQEZWVlKC4uxs2bN6FUKmFgYIARI0bAx8cH3t7e8Pb2xoABAzT18rQe5y8W5y+Wjs9fs2XeVGVlJXJycpCXl4f8/Hzcv38fd+/eRVlZGaqrq6FQKPD48WMolUqYm5vD0NAQPXv2RK9evTBw4EBYW1tj0KBBcHR0hFwux8iRI2FsbCzq5XQ5nL9Y7Zl/bW0t6uvrOf9OoGP//4stcyJ6uaNHj2LWrFngtym1IU5PdAIiInpzLHMiIh3AMici0gEscyIiHcAyJyLSASxzIiIdwDInItIBLHMiIh3AMici0gEscyIiHcAyJyLSASxzIiIdwDInItIBLHMiIh3AMici0gEscyIiHcAyJyLSASxzIiIdwDInItIBLHMiIh3AMici0gEscyIiHcAyJyLSASxzIiIdwDInItIBLHMiIh3AMici0gEscyIiHcAyJyLSASxzIiIdwDInItIBLHMiIh1gIDoAET1VWlqKKVOmoL6+/vljNTU1MDIygrOz8wt/d9SoUTh48KCmI5IWY5kTaQlbW1soFApcu3at2XO5ubkvfD179mxNxaIugodZiLRIaGgoDAzafo81a9YsDaShroRlTqRFgoOD0dDQ0OrzMpkM77//PoYOHarBVNQVsMyJtIidnR3GjBkDPb2WvzX19fURGhqq4VTUFbDMibRMaGgoZDJZi8+p1WoEBQVpOBF1BSxzIi3TWlnr6+vDx8cH1tbWGk5EXQHLnEjL9OvXD+PGjYO+vn6z5+bOnSsgEXUFLHMiLRQSEgJJkl54TE9PD/7+/oISkbZjmRNpIX9/fxgaGj7/2sDAAJMmTUKfPn3EhSKtxjIn0kI9e/bElClTnhe6Wq1GSEiI4FSkzVjmRFpqzpw5UKlUAABjY2NMnjxZcCLSZixzIi01adIk9OjRAwAQGBgIU1NTwYlIm/HeLERaoqGhAWVlZSgrK0NVVRUaGhowZswYJCcnY9iwYTh79ixMTU3Rp08f2NjYwNLSUnRk0iIyqelH5kTUqerq6pCVlYWff/4Zubm5yMvLQ0FBAcrLy196KX9TJiYmGDRoEBwcHODk5AS5XA5XV1eMHDmy1YuOSGfFscyJOplarcalS5eQmJiI1NRUZGVlQaFQwNLS8nkJOzg4wMbGBra2thgwYAAsLS2hp6eHHj16IDIyEkuXLoVCocCTJ0/w8OFDlJaW4t69eygpKcG1a9eQl5eH69evQ6lUol+/fvDy8oKvry+mTZuGwYMHix4BdT6WOVFnycjIwKFDhxAfH4/S0lK88847GDt2LHx8fODj49PuklWpVO26k6JKpcLVq1eRnp6OtLQ0pKWlobq6GqNHj0ZAQABCQ0Nha2v7pi+LtBPLnKgj1dbWIjY2Fjt27EBOTg7effddBAQEwN/fv9kGE51NqVQiOTkZJ06cwPHjx1FVVYWpU6ciPDwcH3/8sUazUKdjmRN1hNraWuzZswdffvnl89JcuHAhJkyYIDoagKfFHh8fj5iYGPz4449wdnbG2rVrERgYyOPruoFlTvQm1Go1du7ciXXr1qG+vh5LlizBsmXLtPpMkytXrmD9+vVISEiAm5sbtm3bBjc3N9Gx6M3E8Txzotd05coVuLu7Y+nSpQgLC0NhYSEiIiK0usgBwNXVFfHx8bh8+TLMzMzg7u6O8PBwVFVViY5Gb4BlTvSKJEnC5s2b4e7uDlNTU2RnZ2PLli1aX+JNubi4IDk5GQcOHMB3332HUaNG4cKFC6Jj0WtimRO9gkePHmHixIlYu3YtNmzYgNTUVMjlctGxXptMJkNISAhycnLg5OQEHx8fbNmyRXQseg28ApSonUpKSuDn54fq6mpkZGTo1HFmKysrJCQkICoqCqtXr0ZhYSGio6NbvKc6aSeWOVE75Ofnw9fXFxYWFrh48SIGDhwoOlKHk8lkWL58Oezt7REcHIyKigocPny4Xee4k3g8zELUhnv37uHTTz+Fra0t0tPTdbLIG5sxYwaSkpKQmJiIRYsWNdskg7QTy5zoJX777Tf4+fnByMgIJ0+e7DabQ3h5eSEuLg4HDx7E+vXrRcehdmCZE73EihUrUFxcjNOnT8PKykp0HI2aNGkSoqOjERERgdTUVNFxqA28aIioFQkJCZg+fTri4uIQEBAgOo4wQUFByMzMRE5OTrf5zaQL4kVDRC1RKpVYtmwZgoODhRf5tGnTIJPJ8O///u9C1o+JiYFCocDGjRuFrE/twzInasH27dtRWlqKTZs2Cc0RGxuLhIQEoRksLCywbt06REdHo6ioSGgWah3LnKgJtVqNqKgohIeHw87OTliO0tJSfPHFF5g7d66wDM8sWrQI/fv3x1dffSU6CrWCZU7UxNmzZ1FcXIzPPvtMaI7PPvsMQUFB+OSTT4TmAAAjIyOEhYUhNjYW9fX1ouNQC1jmRE0cOXIEHh4ecHR0FJZh7969yMvLw1//+ldhGZoKCwtDeXk5UlJSREehFrDMiZo4d+6c0M0bfvnlF6xYsQJ79+5Fz549heVo6q233sLQoUNx/vx50VGoBSxzokYePHiAgoICeHh4CMuwYMECBAcHY9y4ccIytObDDz/ExYsXRcegFvCmC0SNFBUVQZIkODg4CFl/165duHXrFv7rv/5LyPptGT58ODIyMkTHoBawzIkaefDgAQCgb9++Gl+7uLgYq1atQnx8PHr06KHx9dujb9++qKysFB2DWsDDLESN1NXVAQBMTU01vnZCQgJ+/fVXjB07FjKZ7PmfZ6cmrlu37vlj+fn5Gs8HAObm5nj8+LGQtenlWOZEjVhYWAB4ugmFpi1evBiSJDX7c/DgQQBARETE88eGDh2q8XwAUFlZ2eV2VOouWOZEjTw7vFJRUSE4iXaqqKgQcgiK2sYyJ2pk2LBhMDExQXZ2tugoWunKlStwdnYWHYNawDInasTY2BguLi5asbHx73//+xaPmU+cOFFIHkmSkJmZKfS0TWody5yoifHjxyMhIQENDQ1Cc+zYsaPFY+inT58Wkic9PR0PHz7UyvPfiWVO1ExYWBju3r2LM2fOiI6iVfbs2QM3Nzc4OTmJjkItYJkTNWFvbw9vb29ERUWJjqI1fvnlFxw7dgwLFiwQHYVawZ2GiFqQnp4OHx8fJCUlacVdC0ULCwtDamoqbty4AWNjY9FxqLk4ljlRK6ZNm4bbt2/jp59+gomJieg4wmRmZsLT0xOxsbEIDg4WHYdaxjInak1JSQnee+89hISEYOvWraLjCFFbWwtXV1fY29vj1KlTkMlkoiNRy7gHKFFr7OzssH37dmzbtg3ffvut6Dgap1arMW/ePNTU1ODAgQMsci3HG20RvcTs2bNx6dIlzJs3D1ZWVhg/frzoSBrz+eefIzExET/88AMGDBggOg61ge/MidoQGRmJwMBA+Pv7d4tddiRJwsqVKxETE4PDhw/Dy8tLdCRqB5Y5URv09PSwb98+TJ48GX5+fjhy5IjoSJ1GqVQiJCQE0dHRiI2NxYwZM0RHonZimRO1g6GhIQ4dOoTFixcjODgYa9as0bmNjYuKiuDr64vvv/8eJ0+e5JkrXQzLnKid9PT0EBkZid27d2Pbtm3w9vZGQUGB6Fgd4tixY3BxccGvv/6KCxcuYMKECaIj0StimRO9ovnz5yMrKwt1dXVwdnZGREQEFAqF6FivpbCwEFOnTkVQUBCCgoKQlZUFuVwuOha9BpY50WsYMWIEsrKysH79emzevBlOTk74+uuvhd+cq70qKiqwZs0ayOVy3L59GykpKdi5c6eQHZaoY7DMiV6ToaEhVq1ahevXr+Ojjz5CWFgY5HI59u/fjydPnoiO16KSkhKsXr0a9vb22LdvHzZu3IirV69i7NixoqPRG+IVoEQdJD8/Hxs2bMA333wDc3NzhIaGYsGCBcIPW9TX1yMpKQkxMTFITExEv379sHLlSoSHh8PMzExoNuowvJyfqKOVlZVh79692LVrFwoLC+Ho6IiAgADMmDEDLi4u0NfX7/QMNTU1SElJwfHjx5GQkIBHjx5h3LhxWLRoEaZPnw4jI6NOz0AaxTIn6ixqtRoZGRk4fvw4Tpw4gaKiIvTu3Ruenp7w9PSEq6srnJycYGtr+0brqFQq3Lp1C7m5ucjMzMS5c+eQnZ0NtVoNDw8PzJw5EzNnzsSQIUM65oWRNmKZE2lKbm4u0tLSkJ6ejvPnz6O0tBQAYGlpieHDh8Pa2hp2dnbo378/evfuDWNjY5iZmcHY2Bg1NTVQqVSoqalBdXU1SkpKUFZWhuLiYty8eRNKpRIGBgYYMWIEfHx84O3tDW9vb16G332wzIlEqaysRE5ODvLy8pCfn4/79+/j7t27KCsrQ3V1NRQKBWpra1FfXw9zc3MYGhqiZ8+e6NWrFwYOHAhra2sMGjQIjo6OkMvlGDlyJO813n2xzIm02dGjRzFr1izw25TawFvgEhHpApY5EZEOYJkTEekAljkRkQ5gmRMR6QCWORGRDmCZExHpAJY5EZEOYJkTEekAljkRkQ5gmRMR6QCWORGRDmCZExHpAJY5EZEOYJkTEekAljkRkQ5gmRMR6QCWORGRDmCZExHpAJY5EZEOYJkTEekAljkRkQ5gmRMR6QCWORGRDmCZExHpAJY5EZEOYJkTEekAljkRkQ5gmRMR6QCWORGRDmCZExHpAJY5EZEOMBAdgIieKi0txZQpU1BfX//8sZqaGhgZGcHZ2fmFvztq1CgcPHhQ0xFJi7HMibSEra0tFAoFrl271uy53NzcF76ePXu2pmJRF8HDLERaJDQ0FAYGbb/HmjVrlgbSUFfCMifSIsHBwWhoaGj1eZlMhvfffx9Dhw7VYCrqCljmRFrEzs4OY8aMgZ5ey9+a+vr6CA0N1XAq6gpY5kRaJjQ0FDKZrMXn1Go1goKCNJyIugKWOZGWaa2s9fX14ePjA2traw0noq6AZU6kZfr164dx48ZBX1+/2XNz584VkIi6ApY5kRYKCQmBJEkvPKanpwd/f39BiUjbscyJtJC/vz8MDQ2ff21gYIBJkyahT58+4kKRVmOZE2mhnj17YsqUKc8LXa1WIyQkRHAq0mYscyItNWfOHKhUKgCAsbExJk+eLDgRaTOWOZGWmjRpEnr06AEACAwMhKmpqeBEpM14bxYiLdHQ0ICysjKUlZWhqqoKDQ0NGDNmDJKTkzFs2DCcPXsWpqam6NOnD2xsbGBpaSk6MmkRmdT0I3Mi6lR1dXXIysrCzz//jNzcXOTl5aGgoADl5eUvvZS/KRMTEwwaNAgODg5wcnKCXC6Hq6srRo4c2epFR6Sz4ljmRJ1MrVbj0qVLSExMRGpqKrKysqBQKGBpafm8hB0cHGBjYwNbW1sMGDAAlpaW0NPTQ48ePRAZGYmlS5dCoVDgyZMnePjwIUpLS3Hv3j2UlJTg2rVryMvLw/Xr16FUKtGvXz94eXnB19cX06ZNw+DBg0WPgDofy5yos2RkZODQoUOIj49HaWkp3nnnHYwdOxY+Pj7w8fFpd8mqVKp23UlRpVLh6tWrSE9PR1paGtLS0lBdXY3Ro0cjICAAoaGhsLW1fdOXRdqJZU7UkWpraxEbG4sdO3YgJycH7777LgICAuDv799sg4nOplQqkZycjBMnTuD48eOoqqrC1KlTER4ejo8//lijWajTscyJOkJtbS327NmDL7/88nlpLly4EBMmTBAdDcDTYo+Pj0dMTAx+/PFHODs7Y+3atQgMDOTxdd3AMid6E2q1Gjt37sS6detQX1+PJUuWYNmyZVp9psmVK1ewfv16JCQkwM3NDdu2bYObm5voWPRm4nieOdFrunLlCtzd3bF06VKEhYWhsLAQERERWl3kAODq6or4+HhcvnwZZmZmcHd3R3h4OKqqqkRHozfAMid6RZIkYfPmzXB3d4epqSmys7OxZcsWrS/xplxcXJCcnIwDBw7gu+++w6hRo3DhwgXRseg1scyJXsGjR48wceJErF27Fhs2bEBqairkcrnoWK9NJpMhJCQEOTk5cHJygo+PD7Zs2SI6Fr0GXgFK1E4lJSXw8/NDdXU1MjIydOo4s5WVFRISEhAVFYXVq1ejsLAQ0dHRLd5TnbQTy5yoHfLz8+Hr6wsLCwtcvHgRAwcOFB2pw8lkMixfvhz29vYIDg5GRUUFDh8+3K5z3Ek8HmYhasO9e/fw6aefwtbWFunp6TpZ5I3NmDEDSUlJSExMxKJFi5ptkkHaiWVO9BK//fYb/Pz8YGRkhJMnT3abzSG8vLwQFxeHgwcPYv369aLjUDuwzIleYsWKFSguLsbp06dhZWUlOo5GTZo0CdHR0YiIiEBqaqroONQGXjRE1IqEhARMnz4dcXFxCAgIEB1HmKCgIGRmZiInJ6fb/GbSBfGiIaKWKJVKLFu2DMHBwRovck9PT8hkshb/fPHFFxrNAgAxMTFQKBTYuHGjxtem9mOZE7Vg+/btKC0txaZNm0RHEc7CwgLr1q1DdHQ0ioqKRMehVrDMiZpQq9WIiopCeHg47OzshGTIysqCJEnN/vznf/6nkDyLFi1C//798dVXXwlZn9rGMidq4uzZsyguLsZnn30mOorWMDIyQlhYGGJjY1FfXy86DrWAZU7UxJEjR+Dh4QFHR0fRUbRKWFgYysvLkZKSIjoKtYBlTtTEuXPnhG/ecPDgQYwaNQo9evRA79694eXlhW+++UZoprfeegtDhw7F+fPnheaglrHMiRp58OABCgoK4OHhITTHo0ePsHfvXpSXl+Pvf/873n77bcyZMwdLliwRmuvDDz/ExYsXhWaglvGmC0SNFBUVQZIkODg4CMvQ9J2vg4MDYmNj8b//+7+Ijo7GnDlz8MEHHwjJNnz4cGRkZAhZm16O78yJGnnw4AEAoG/fvoKTNBcYGAjg6cVMovTt2xeVlZXC1qfWscyJGqmrqwMAmJqaCk7SnI2NDQCgvLxcWAZzc3M8fvxY2PrUOpY5USMWFhYAnh6z1jalpaUAgP79+wvLUFlZ2eV2VOouWOZEjTw7vFJRUSFk/d27d2P06NHNHpckCUePHgUATJ06VdOxnquoqNDKQ1DEMid6wbBhw2BiYoLs7GxhGa5cuYLFixcjPz8fT548wf/+7/9i7ty5uHz5Mv74xz8K+/DzWTZnZ2dh61PrWOZEjRgbG8PFxUXYxsZz585FXFwc7t27h4kTJ6JPnz744IMPcPfuXXzzzTfYunWrkFzA098OMjMzhZ+2SS3jLXCJmli3bh3279+PO3fucA/MRtLS0jB27Njnmz+TVuEtcImaCgsLw927d3HmzBnRUbTKnj174ObmxiLXUixzoibs7e3h7e2NqKgo0VG0xi+//IJjx45hwYIFoqNQK3iYhagF6enp8PHxQVJSEj755BPRcYQLCwtDamoqbty4AWNjY9FxqLk4ljlRK6ZNm4bbt2/jp59+gomJieg4wmRmZsLT0xOxsbEIDg4WHYdaxjInak1JSQnee+89hISECD2LRKTa2lq4urrC3t4ep06dgkwmEx2JWsYPQIlaY2dnh+3bt2Pbtm349ttvRcfROLVajXnz5qGmpgYHDhxgkWs53jWR6CVmz56NS5cuYd68ebCyssL48eNFR9KYzz//HImJifjhhx8wYMAA0XGoDXxnTtSGyMhIBAYGwt/fv1vssiNJElauXImYmBgcPnwYXl5eoiNRO7DMidqgp6eHffv2YfLkyfDz88ORI0dER+o0SqUSISEhiI6ORmxsLGbMmCE6ErUTy5yoHQwNDXHo0CEsXrwYwcHBWLNmjc5tbFxUVARfX198//33OHnyJM9c6WJY5kTtpKenh8jISOzevRvbtm2Dt7c3CgoKRMfqEMeOHYOLiwt+/fVXXLhwARMmTBAdiV4Ry5zoFc2fPx9ZWVmoq6uDs7MzIiIioFAoRMd6LYWFhZg6dSqCgoIQFBSErKwsyOVy0bHoNbDMiV7DiBEjkJWVhfXr12Pz5s1wcnLC119/jYaGBtHR2qWiogJr1qyBXC7H7du3kZKSgp07d2rlDkvUPixzotdkaGiIVatW4fr16/joo48QFhYGuVyO/fv348mTJ6LjtaikpASrV6+Gvb099u3bh40bN+Lq1asYO3as6Gj0hngFKFEHyc/Px4YNG/DNN9/A3NwcoaGhWLBggfDDFvX19UhKSkJMTAwSExPRr18/rFy5EuHh4TAzMxOajToML+cn6mhlZWXYu3cvdu3ahcLCQjg6OiIgIAAzZsyAi4uLRu6RXlNTg5SUFBw/fhwJCQl49OgRxo0bh0WLFmH69OkwMjLq9AykUSxzos6iVquRkZGB48eP48SJEygqKkLv3r3h6ekJT09PuLq6wsnJCba2tm+0jkqlwq1bt5Cbm4vMzEycO3cO2dnZUKvV8PDwwMyZMzFz5kwMGTKkY14YaSOWOZGm5ObmIi0tDenp6Th//jxKS0sBAJaWlhg+fDisra1hZ2eH/v37o3fv3jA2NoaZmRmMjY1RU1MDlUqFmpoaVFdXo6SkBGVlZSguLsbNmzehVCphYGCAESNGwMfHB97e3vD29uZl+N0Hy5xIlMrKSuTk5CAvLw/5+fm4f/8+7t69i7KyMlRXV0OhUKC2thb19fUwNzeHoaEhevbsiV69emHgwIGwtrbGoEGD4OjoCLlcjpEjR/Je490Xy5xImx09ehSzZs0Cv02pDbwFLhGRLmCZExHpAJY5EZEOYJkTEekAljkRkQ5gmRMR6QCWORGRDmCZExHpAJY5EZEOYJkTEekAljkRkQ5gmRMR6QCWORGRDmCZExHpAJY5EZEOYJkTEekAljkRkQ5gmRMR6QCWORGRDmCZExHpAJY5EZEOYJkTEekAljkRkQ5gmRMR6QCWORGRDmCZExHpAJY5EZEOYJkTEekAljkRkQ5gmRMR6QCWORGRDmCZExHpAAPRAYjoqdLSUkyZMgX19fXPH6upqYGRkRGcnZ1f+LujRo3CwYMHNR2RtBjLnEhL2NraQqFQ4Nq1a82ey83NfeHr2bNnayoWdRE8zEKkRUJDQ2Fg0PZ7rFmzZmkgDXUlLHMiLRIcHIyGhoZWn5fJZHj//fcxdOhQDaairoBlTqRF7OzsMGbMGOjptfytqa+vj9DQUA2noq6AZU6kZUJDQyGTyVp8Tq1WIygoSMOJqCtgmRNpmdbKWl9fHz4+PrC2ttZwIuoKWOZEWqZfv34YN24c9PX1mz03d+5cAYmoK2CZE2mhkJAQSJL0wmN6enrw9/cXlIi0HcucSAv5+/vD0NDw+dcGBgaYNGkS+vTpIy4UaTWWOZEW6tmzJ6ZMmfK80NVqNUJCQgSnIm3GMifSUnPmzIFKpQIAGBsbY/LkyYITkTZjmRNpqUmTJqFHjx4AgMDAQJiamgpORNqM92Yh0hINDQ0oKytDWVkZqqqq0NDQgDFjxiA5ORnDhg3D2bNnYWpqij59+sDGxgaWlpaiI5MWkUlNPzInok5VV1eHrKws/Pzzz8jNzUVeXh4KCgpQXl7+0kv5mzIxMcGgQYPg4OAAJycnyOVyuLq6YuTIka1edEQ6K45lTtTJ1Go1Ll26hMTERKSmpiIrKwsKhQKWlpbPS9jBwQE2NjawtbXFgAEDYGlpCT09PfTo0QORkZFYunQpFAoFnjx5gocPH6K0tBT37t1DSUkJrl27hry8PFy/fh1KpRL9+vWDl5cXfH19MW3aNAwePFj0CKjzscyJOktGRgYOHTqE+Ph4lJaW4p133sHYsWPh4+MDHx+fdpesSqVq150UVSoVrl69ivT0dKSlpSEtLQ3V1dUYPXo0AgICEBoaCltb2zd9WaSdWOZEHam2thaxsbHYsWMHcnJy8O677yIgIAD+/v7NNpjobEqlEsnJyThx4gSOHz+OqqoqTJ06FeHh4fj44481moU6HcucqCPU1tZiz549+PLLL5+X5sKFCzFhwgTR0QA8Lfb4+HjExMTgxx9/hLOzM9auXYvAwEAeX9cNLHOiN6FWq7Fz506sW7cO9fX1WLJkCZYtW6bVZ5pcuXIF69evR0JCAtzc3LBt2za4ubmJjkVvJo7nmRO9pitXrsDd3R1Lly5FWFgYCgsLERERodVFDgCurq6Ij4/H5cuXYWZmBnd3d4SHh6Oqqkp0NHoDLHOiVyRJEjZv3gx3d3eYmpoiOzsbW7Zs0foSb8rFxQXJyck4cOAAvvvuO4waNQoXLlwQHYteE8uc6BU8evQIEydOxNq1a7FhwwakpqZCLpeLjvXaZDIZQkJCkJOTAycnJ/j4+GDLli2iY9Fr4BWgRO1UUlICPz8/VFdXIyMjQ6eOM1tZWSEhIQFRUVFYvXo1CgsLER0d3eI91Uk7scyJ2iE/Px++vr6wsLDAxYsXMXDgQNGROpxMJsPy5cthb2+P4OBgVFRU4PDhw+06x53E42EWojbcu3cPn376KWxtbZGenq6TRd7YjBkzkJSUhMTERCxatKjZJhmknVjmRC/x22+/wc/PD0ZGRjh58mS32RzCy8sLcXFxOHjwINavXy86DrUDy5zoJVasWIHi4mKcPn0aVlZWouNo1KRJkxAdHY2IiAikpqaKjkNt4EVDRK1ISEjA9OnTERcXh4CAANFxhAkKCkJmZiZycnK6zW8mXRAvGiJqiVKpxLJlyxAcHCykyOvr6xEVFYXRo0ejZ8+e6N+/P/z8/JCQkKDxY9gxMTFQKBTYuHGjRtelV8MyJ2rB9u3bUVpaik2bNml87cePH2PcuHHYv38/oqKiUF5ejp9++gnm5uaYNm0a8vLyNJrHwsIC69atQ3R0NIqKijS6NrUfD7MQNaFWq/H2228jMDAQkZGRGl//D3/4Aw4dOoSbN29iwIABzx9//Pgx+vbti59++glOTk4azaRUKjFs2DDMmjULmzdv1uja1C48zELU1NmzZ1FcXIzPPvtM42uXlZUhJiYGc+bMeaHIAaBHjx548uSJxoscAIyMjBAWFobY2FjU19drfH1qG8ucqIkjR47Aw8MDjo6OGl/7v//7v9HQ0ABPT0+Nr92WsLAwlJeXIyUlRXQUagHLnKiJc+fOCdu84cqVKwCeHqdesWIF7OzsYGRkhLfeegtLlizBw4cPheQCgLfeegtDhw7F+fPnhWWg1rHMiRp58OABCgoK4OHhIWT9e/fuAQDmz5+PsrIypKWloby8HBEREdi7dy88PDzw66+/CskGAB9++CEuXrwobH1qHcucqJGioiJIkgQHBwch6z958gQAYGpqiv3798Pe3h59+vRBaGgo/vmf/xk3b94U8qHsM8OHD8edO3eErU+tY5kTNfLgwQMAQN++fYWs36NHDwDAhAkTmt3gaurUqQCApKQkjed6pm/fvqisrBS2PrWOZU7USF1dHYCn74xFGDJkCICWf5j0798fAFBRUaHJSC8wNzfH48ePha1PrWOZEzViYWEB4OkmFCI8O4vl2bHzxsrLywGg2SmLmlRZWdnldlTqLljmRI08e0cs6t3vpEmTMHDgQJw+ffr58fNnEhISADy9Ra0oFRUVwg5B0cuxzIkaGTZsGExMTJCdnS1kfWNjY+zevRuVlZWYPXs2bt26haqqKhw8eBCbNm3CBx98gCVLlgjJBjw9ddLZ2VnY+tQ6ljlRI8bGxnBxcRG6sfHEiRORnp6OJ0+ewM3NDQMGDMDGjRuxatUqpKSkCDueL0kSMjMzhZ22SS/He7MQNbFu3Trs378fd+7c4R6YjaSlpWHs2LHPN38mrcJ7sxA1FRYWhrt37+LMmTOio2iVPXv2wM3NjUWupVjmRE3Y29vD29sbUVFRoqNojV9++QXHjh3DggULREehVvAwC1EL0tPT4ePjg6SkJHzyySei4wgXFhaG1NRU3LhxA8bGxqLjUHNxLHOiVkybNg23b9/GTz/9BBMTE9FxhMnMzISnpydiY2MRHBwsOg61jGVO1JqSkhK89957CAkJwdatW0XHEaK2thaurq6wt7fHqVOnIJPJREeilvEDUKLW2NnZYfv27di2bRu+/fZb0XE0Tq1WY968eaipqcGBAwdY5FrOoO2/QtR9zZ49G5cuXcK8efNgZWWF8ePHi46kMZ9//jkSExPxww8/CL2FALUP35kTtSEyMhKBgYHw9/fvFrvsSJKElStXIiYmBocPH4aXl5foSNQOLHOiNujp6WHfvn2YPHky/Pz8cOTIEdGROo1SqURISAiio6MRGxsr9D4w9GpY5kTtYGhoiEOHDmHx4sUIDg7GmjVrdG5j46KiIvj6+uL777/HyZMneeZKF8MyJ2onPT09REZGYvfu3di2bRu8vb1RUFAgOlaHOHbsGFxcXPDrr7/iwoULmDBhguhI9IpY5kSvaP78+cjKykJdXR2cnZ0REREBhUIhOtZrKSwsxNSpUxEUFISgoCBkZWVBLpeLjkWvgWVO9BpGjBiBrKwsrF+/Hps3b4aTkxO+/vprNDQ0iI7WLhUVFVizZg3kcjlu376NlJQU7Ny5U9gdGenNscyJXpOhoSFWrVqF69ev46OPPkJYWBjkcjn279/fbGMJbVFSUoLVq1fD3t4e+/btw8aNG3H16lWMHTtWdDR6Q7wClKiD5OfnY8OGDfjmm29gbm6O0NBQLFiwQPhhi/r6eiQlJSEmJgaJiYno168fVq5cifDwcJiZmQnNRh2Gl/MTdbSysjLs3bsXu3btQmFhIRwdHREQEIAZM2bAxcVFI/dIr6mpQUpKCo4fP46EhAQ8evQI48aNw6JFizB9+nQYGRl1egbSKJY5UWdRq9XIyMjA8ePHceLECRQVFaF3797w9PSEp6cnXF1d4eTkBFtb2zdaR6VS4datW8jNzUVmZibOnTuH7OxsqNVqeHh4YObMmZg5cyaGDBnSMS+MtBHLnEhTcnNzkZaWhvT0dJw/fx6lpaUAAEtLSwwfPhzW1taws7ND//790bt3bxgbG8PMzAzGxsaoqamBSqVCTU0NqqurUVJSgrKyMhQXF+PmzZtQKpUwMDDAiBEj4OPjA29vb3h7e/My/O6DZU4kSmVlJXJycpCXl4f8/Hzcv38fd+/eRVlZGaqrq6FQKFBbW4v6+nqYm5vD0NAQPXv2RK9evTBw4EBYW1tj0KBBcHR0hFwux8iRI3mv8e6LZU6kzY4ePYpZs2aB36bUBt4Cl4hIF7DMiYh0AMuciEgHsMyJiHQAy5yISAewzImIdADLnIhIB7DMiYh0AMuciEgHsMyJiHQAy5yISAewzImIdADLnIhIB7DMiYh0AMuciEgHsMyJiHQAy5yISAewzImIdADLnIhIB7DMiYh0AMuciEgHsMyJiHQAy5yISAewzImIdADLnIhIB7DMiYh0AMuciEgHsMyJiHQAy5yISAewzImIdADLnIhIB7DMiYh0gIHoAET0VGlpKaZMmYL6+vrnj9XU1MDIyAjOzs4v/N1Ro0bh4MGDmo5IWoxlTqQlbG1toVAocO3atWbP5ebmvvD17NmzNRWLuggeZiHSIqGhoTAwaPs91qxZszSQhroSljmRFgkODkZDQ0Orz8tkMrz//vsYOnSoBlNRV8AyJ9IidnZ2GDNmDPT0Wv7W1NfXR2hoqIZTUVfAMifSMqGhoZDJZC0+p1arERQUpOFE1BWwzIm0TGtlra+vDx8fH1hbW2s4EXUFLHMiLdOvXz+MGzcO+vr6zZ6bO3eugETUFbDMibRQSEgIJEl64TE9PT34+/sLSkTajmVOpIX8/f1haGj4/GsDAwNMmjQJffr0EReKtBrLnEgL9ezZE1OmTHle6Gq1GiEhIYJTkTZjmRNpqTlz5kClUgEAjI2NMXnyZMGJSJuxzIm01KRJk9CjRw8AQGBgIExNTQUnIm3Ge7MQaYmGhgaUlZWhrKwMVVVVaGhowJgxY5CcnIxhw4bh7NmzMDU1RZ8+fWBjYwNLS0vRkUmLyKSmH5kTUaeqq6tDVlYWfv75Z+Tm5iIvLw8FBQUoLy9/6aX8TZmYmGDQoEFwcHCAk5MT5HI5XF1dMXLkyFYvOiKdFccyJ+pkarUaly5dQmJiIlJTU5GVlQWFQgFLS8vnJezg4AAbGxvY2tpiwIABsLS0hJ6eHnr06IHIyEgsXboUCoUCT548wcOHD1FaWop79+6hpKQE165dQ15eHq5fvw6lUol+/frBy8sLvr6+mDZtGgYPHix6BNT5WOZEnSUjIwOHDh1CfHw8SktL8c4772Ds2LHw8fGBj49Pu0tWpVK1606KKpUKV69eRXp6OtLS0pCWlobq6mqMHj0aAQEBCA0Nha2t7Zu+LNJOLHOijlRbW4vY2Fjs2LEDOTk5ePfddxEQEAB/f/9mG0x0NqVSieTkZJw4cQLHjx9HVVUVpk6divDwcHz88ccazUKdjmVO1BFqa2uxZ88efPnll89Lc+HChZgwYYLoaACeFnt8fDxiYmLw448/wtnZGWvXrkVgYCCPr+sGljnRm1Cr1di5cyfWrVuH+vp6LFmyBMuWLdPqM02uXLmC9evXIyEhAW5ubti2bRvc3NxEx6I3E8fzzIle05UrV+Du7o6lS5ciLCwMhYWFiIiI0OoiBwBXV1fEx8fj8uXLMDMzg7u7O8LDw1FVVSU6Gr0BljnRK5IkCZs3b4a7uztMTU2RnZ2NLVu2aH2JN+Xi4oLk5GQcOHAA3333HUaNGoULFy6IjkWviWVO9AoePXqEiRMnYu3atdiwYQNSU1Mhl8tFx3ptMpkMISEhyMnJgZOTE3x8fLBlyxbRseg18ApQonYqKSmBn58fqqurkZGRoVPHma2srJCQkICoqCisXr0ahYWFiI6ObvGe6qSdWOZE7ZCfnw9fX19YWFjg4sWLGDhwoOhIHU4mk2H58uWwt7dHcHAwKioqcPjw4Xad407i8TALURvu3buHTz/9FLa2tkhPT9fJIm9sxowZSEpKQmJiIhYtWtRskwzSTixzopf47bff4OfnByMjI5w8ebLbbA7h5eWFuLg4HDx4EOvXrxcdh9qBZU70EitWrEBxcTFOnz4NKysr0XE0atKkSYiOjkZERARSU1NFx6E28KIholYkJCRg+vTpiIuLQ0BAgOg4wgQFBSEzMxM5OTnd5jeTLogXDRG1RKlUYtmyZQgODtZoke/YsQMymeylf/z8/DSWBwBiYmKgUCiwceNGja5Lr4ZlTtSC7du3o7S0FJs2bRIdpZkPP/xQo+tZWFhg3bp1iI6ORlFRkUbXpvZjmRM1oVarERUVhfDwcNjZ2Wl8/enTp0OSpGZ/bt68CWNjY3z22Wcaz7Ro0SL0798fX331lcbXpvZhmRM1cfbsWRQXFwspzaFDh8LLy6vF56KjozFjxgxYW1trOBVgZGSEsLAwxMbGor6+XuPrU9v4AShRE/Pnz8eNGze06j4lNTU1GDRoEBISEuDt7S0kQ1FREd5++22cPn0an3zyiZAM1Cp+AErU1Llz57Ru84Z9+/Zh8ODBwoocAN566y0MHToU58+fF5aBWscyJ2rkwYMHKCgogIeHh+goz0mShK+++gp/+MMfREfBhx9+iIsXL4qOQS1gmRM1UlRUBEmS4ODgIDrKc6dOncK9e/cwd+5c0VEwfPhw3LlzR3QMagHLnKiRBw8eAAD69u0rOMn/2bp1K0JDQ2Fubi46Cvr27YvKykrRMagFLHOiRurq6gAApqamgpM8dfPmTfzwww9acYgFAMzNzfH48WPRMagFLHOiRiwsLAA83YRCG2zduhXe3t4YOXKk6CgAgMrKyi63o1J3wTInauTZ4ZWKigrBSYDq6mrExsZi8eLFoqM8V1FRoVWHoOj/sMyJGhk2bBhMTEyQnZ0tOgr27t0Lc3Nz+Pv7i47y3JUrV+Ds7Cw6BrWAZU7UiLGxMVxcXIRfMPTsdMTPPvtMa3b6kSQJmZmZWnXaJv0fljlRE+PHj0dCQgIaGhqEZZDJZLh165ZWbQyRnp6Ohw8fYty4caKjUAtY5kRNhIWF4e7duzhz5ozoKFplz549cHNzg5OTk+go1AKWOVET9vb28Pb2RlRUlOgoWuOXX37BsWPHsGDBAtFRqBW80RZRC9LT0+Hj44OkpCTeVApPf1tJTU3FjRs3YGxsLDoONRfHMidqxbRp03D79m389NNPMDExER1HmMzMTHh6eiI2NhbBwcGi41DLWOZErSkpKcF7772HkJAQbN26VXQcIWpra+Hq6gp7e3ucOnUKMplMdCRqGW+BS9QaOzs7bN++Hdu2bcO3334rOo7GqdVqzJs3DzU1NThw4ACLXMtpxwmsRFpq9uzZuHTpEubNmwcrKyuMHz9edCSN+fzzz5GYmIgffvgBAwYMEB2H2sB35kRtiIyMRGBgIPz9/ZGSkiI6TqeTJAkrV65ETEwMDh8+3Oo2dqRdWOZEbdDT08O+ffswefJk+Pn54ciRI6IjdRqlUomQkBBER0cjNjYWM2bMEB2J2ollTtQOhoaGOHToEBYvXozg4GCsWbNG5zY2Lioqgq+vL77//nucPHmSZ650MSxzonbS09NDZGQkdu/ejW3btsHb2xsFBQWiY3WIY8eOwcXFBb/++isuXLiACRMmiI5Er4hlTvSK5s+fj6ysLNTV1cHZ2RkRERFQKBSiY72WwsJCTJ06FUFBQQgKCkJWVhbkcrnoWPQaWOZEr2HEiBHIysrC+vXrsXnzZjg5OeHrr78WenOuV1FRUYE1a9ZALpfj9u3bSElJwc6dO7VmhyV6dSxzotdkaGiIVatW4fr16/joo48QFhYGuVyO/fv348mTJ6LjtaikpASrV6+Gvb099u3bh40bN+Lq1asYO3as6Gj0hngFKFEHyc/Px4YNG/DNN9/A3NwcoaGhWLBggfDDFvX19UhKSkJMTAwSExPRr18/rFy5EuHh4TAzMxOajToML+cn6mhlZWXYu3cvdu3ahcLCQjg6OiIgIAAzZsyAi4sL9PX1Oz1DTU0NUlJScPz4cSQkJODRo0cYN24cFi1ahOnTp8PIyKjTM5BGscyJOotarUZGRgaOHz+OEydOoKioCL1794anpyc8PT3h6uoKJycn2NravtE6KpUKt27dQm5uLjIzM3Hu3DlkZ2dDrVbDw8MDM2fOxMyZMzFkyJCOeWGkjVjmRJqSm5uLtLQ0pKen4/z58ygtLQUAWFpaYvjw4bC2toadnR369++P3r17w9jYGGZmZjA2NkZNTQ1UKhVqampQXV2NkpISlJWVobi4GDdv3oRSqYSBgQFGjBgBHx8feHt7w9vbm5fhdx8scyJRKisrkZOTg7y8POTn5+P+/fu4e/cuysrKUF1dDYVCgdraWtTX18Pc3ByGhobo2bMnevXqhYEDB8La2hqDBg2Co6Mj5HI5Ro4cyXuNd18scyJtdvToUcyaNQv8NqU28Ba4RES6gGVORKQDWOZERDqAZU5EpANY5kREOoBlTkSkA1jmREQ6gGVORKQDWOZERDqAZU5EpANY5kREOoBlTkSkA1jmREQ6gGVORKQDWOZERDqAZU5EpANY5kREOoBlTkSkA1jmREQ6gGVORKQDWOZERDqAZU5EpANY5kREOoBlTkSkA1jmREQ6gGVORKQDWOZERDqAZU5EpANY5kREOoBlTkSkA1jmREQ6gGVORKQDDEQHIKKnSktLMWXKFNTX1z9/rKamBkZGRnB2dn7h744aNQoHDx7UdETSYixzIi1ha2sLpVKJvLy8Zs/l5ua+8PXs2bM1FYu6CB5mIdIioaGhMDBo+z3WrFmzNJCGuhKWOZEW+d3vfoeGhoZWn5fJZHj//fcxdOhQDaairoBlTqRF7Ozs8MEHH0BPr+VvTX19fYSGhmo4FXUFLHMiLTN37lzIZLIWn1Or1QgKCtJwIuoKWOZEWuYf/uEfWnxcX18fY8eOhbW1tYYTUVfAMifSMlZWVhg/fjz09fWbPTd37lwBiagrYJkTaaGQkBBIkvTCY3p6epgxY4aYQKT1WOZEWmjGjBkwNDR8/rWBgQEmTZqEPn36iAtFWo1lTqSFevbsialTpz4vdLVajZCQEMGpSJuxzIm01Jw5c6BSqQAAJiYmmDx5suBEpM1Y5kRays/PDz169AAABAQEwNTUVHAi0ma8NwuRlmhoaEBZWRnKyspQVVWFhoYGjBkzBsnJyRg2bBjOnj0LU1NT9OnTBzY2NrC0tBQdmbSITGr6kTkRdaq6ujpkZWXh559/Rm5uLvLy8lBQUIDy8vKXXsrflImJCQYNGgQHBwc4OTlBLpfD1dUVI0eObPWiI9JZcSxzok6mVqtx6dIlJCYmIjU1FVlZWVAoFLC0tHxewg4ODrCxsYGtrS0GDBgAS0tL6OnpoUePHoiMjMTSpUuhUCjw5MkTPHz4EKWlpbh37x5KSkpw7do15OXl4fr161AqlejXrx+8vLzg6+uLadOmYfDgwaJHQJ2PZU7UWTIyMnDo0CHEx8ejtLQU77zzDsaOHQsfHx/4+Pi0u2RVKlW77qSoUqlw9epVpKenIy0tDWlpaaiursbo0aMREBCA0NBQ2NravunLIu3EMifqSLW1tYiNjcWOHTuQk5ODd999FwEBAfD392+2wURnUyqVSE5OxokTJ3D8+HFUVVVh6tSpCA8Px8cff6zRLNTpWOZEHaG2thZ79uzBl19++bw0Fy5ciAkTJoiOBuBpscfHxyMmJgY//vgjnJ2dsXbtWgQGBvL4um5gmRO9CbVajZ07d2LdunWor6/HkiVLsGzZMq0+0+TKlStYv349EhIS4Obmhm3btsHNzU10LHozcTzPnOg1XblyBe7u7li6dCnCwsJQWFiIiIgIrS5yAHB1dUV8fDwuX74MMzMzuLu7Izw8HFVVVaKj0RtgmRO9IkmSsHnzZri7u8PU1BTZ2dnYsmWL1pd4Uy4uLkhOTsaBAwfw3XffYdSoUbhw4YLoWPSaWOZEr+DRo0eYOHEi1q5diw0bNiA1NRVyuVx0rNcmk8kQEhKCnJwcODk5wcfHB1u2bBEdi14DrwAlaqeSkhL4+fmhuroaGRkZOnWc2crKCgkJCYiKisLq1atRWFiI6OjoFu+pTtqJZU7UDvn5+fD19YWFhQUuXryIgQMHio7U4WQyGZYvXw57e3sEBwejoqIChw8fbtc57iQeD7MQteHevXv49NNPYWtri/T0dJ0s8sZmzJiBpKQkJCYmYtGiRc02ySDtxDIneonffvsNfn5+MDIywsmTJ7vN5hBeXl6Ii4vDwYMHsX79etFxqB1Y5kQvsWLFChQXF+P06dOwsrISHUejJk2ahOjoaERERCA1NVV0HGoDLxoiakVCQgKmT5+OuLg4BAQEiI4jTFBQEDIzM5GTk9NtfjPpgnjREFFLlEolli1bhuDgYI0XuUqlwp49ezBmzBj07dsXFhYWGD16NLZt2walUqnRLAAQExMDhUKBjRs3anxtaj+WOVELtm/fjtLSUmzatEnja4eFhWHBggWYMGECrl+/jvz8fMyaNQt//OMfhfyGYGFhgXXr1iE6OhpFRUUaX5/ah4dZiJpQq9V4++23ERgYiMjISI2uffv2bbzzzjtwcXHBlStXXnjuk08+wZkzZ/D3v/9d4+e4K5VKDBs2DLNmzcLmzZs1uja1Cw+zEDV19uxZFBcX47PPPtP42iUlJQCAESNGNHvO0dERAFBcXKzRTABgZGSEsLAwxMbGor6+XuPrU9tY5kRNHDlyBB4eHs/LU5McHR1haGiIGzduNHvuxo0bkMlkGr8v+jNhYWEoLy9HSkqKkPXp5VjmRE2cO3dO2OYNAwYMwF//+lf8z//8D/7lX/4FFRUVePjwITZv3oyzZ8/iz3/+M4YPHy4k21tvvYWhQ4fi/PnzQtanl+N1ukSNPHjwAAUFBfDw8BCWYcmSJbCxscHy5cuffwBrZWWF3bt3Y/78+cJyAcCHH36IixcvCs1ALeM7c6JGioqKIEkSHBwchKwvSRIWLlyIOXPmYPny5bh//z4qKiqwYcMGfP7555g9ezZUKpWQbAAwfPhw3LlzR9j61Dq+Mydq5MGDBwCAvn37Cln/4MGD2LVrF/74xz9i2bJlzx9fuHAh7t+/j7/85S9wd3fHF198ISRf3759UVlZKWRtejm+MydqpK6uDgBgamoqZP3Tp08DQIt7h44fPx4AcOrUKY1maszc3ByPHz8Wtj61jmVO1IiFhQWAp5tQiNCeoqytrdVAkpZVVlZ2uR2VuguWOVEjzw6vVFRUCFn/gw8+AAD8+OOPzZ5LTk4GALi7u2s0U2MVFRXCDkHRy7HMiRoZNmwYTExMkJ2dLWT9P/zhDxg2bBj+9re/YevWrSgvL0dlZSX27NmDL7/8EgMHDsTKlSuFZAOebmIt6jx3ejmWOVEjxsbGcHFxEbaxcZ8+fXDp0iV88cUX+Nvf/obBgwfD1tYWmzZtwvz583H58mXY2NgIySZJEjIzM4Wetkmt471ZiJpYt24d9u/fjzt37nAPzEbS0tIwduzY55s/k1bhvVmImgoLC8Pdu3dx5swZ0VG0yp49e+Dm5sYi11Isc6Im7O3t4e3tjaioKNFRtMYvv/yCY8eOYcGCBaKjUCt4mIWoBenp6fDx8UFSUhI++eQT0XGECwsLQ2pqKm7cuAFjY2PRcai5OJY5USumTZuG27dv46effoKJiYnoOMJkZmbC09MTsbGxCA4OFh2HWsYyJ2pNSUkJ3nvvPYSEhGDr1q2i4whRW1sLV1dX2Nvb49SpU5DJZKIjUcv4AShRa+zs7LB9+3Zs27YN3377reg4GqdWqzFv3jzU1NTgwIEDLHItxxttEb3E7NmzcenSJcybNw9WVlbP74/SHXz++edITEzEDz/8gAEDBoiOQ23gO3OiNkRGRiIwMBD+/v7dYpcdSZKwcuVKxMTE4PDhw/Dy8hIdidqBZU7UBj09Pezbtw+TJ0+Gn58fjhw5IjpSp1EqlQgJCUF0dDRiY2MxY8YM0ZGonVjmRO1gaGiIQ4cOYfHixQgODsaaNWt0bmPjoqIi+Pr64vvvv8fJkyd55koXwzInaic9PT1ERkZi9+7d2LZtG7y9vVFQUCA6Voc4duwYXFxc8Ouvv+LChQst3k+dtBvLnOgVzZ8/H1lZWairq4OzszMiIiKgUChEx3othYWFmDp1KoKCghAUFISsrCzI5XLRseg1sMyJXsOIESOQlZWF9evXY/PmzXBycsLXX3+NhoYG0dHapaKiAmvWrIFcLsft27eRkpKCnTt3Ctthid4cy5zoNRkaGmLVqlW4fv06PvroI4SFhUEul2P//v148uSJ6HgtKikpwerVq2Fvb499+/Zh48aNuHr1KsaOHSs6Gr0hXgFK1EHy8/OxYcMGfPPNNzA3N0doaCgWLFgg/LBFfX09kpKSEBMTg8TERPTr1w8rV65EeHg4zMzMhGajDsPL+Yk6WllZGfbu3Ytdu3ahsLAQjo6OCAgIwIwZM+Di4qKRe6TX1NQgJSUFx48fR0JCAh49eoRx48Zh0aJFmD59OoyMjDo9A2kUy5yos6jVamRkZOD48eM4ceIEioqK0Lt3b3h6esLT0xOurq5wcnKCra3tG62jUqlw69Yt5ObmIjMzE+fOnUN2djbUajU8PDwwc+ZMzJw5E0OGDOmYF0baiGVOpCm5ublIS0tDeno6zp8/j9LSUgCApaUlhg8fDmtra9jZ2aF///7o3bs3jI2NYWZmBmNjY9TU1EClUqGmpgbV1dUoKSlBWVkZiouLcfPmTSiVShgYGGDEiBHw8fGBt7c3vL29eRl+98EyJxKlsrISOTk5yMvLQ35+Pu7fv4+7d++irKwM1dXVUCgUePz4MZRKJczNzWFoaIiePXuiV69eGDhwIKytrTFo0CA4OjpCLpdj5MiRvNd498UyJyLSAbwFLhGRLmCZExHpAJY5EZEOMAAQJzoEERG9kcz/D73o36y6F741AAAAAElFTkSuQmCC\"/>"
      ],
      "text/plain": [
       "<IPython.core.display.HTML object>"
      ]
     },
     "execution_count": 41,
     "metadata": {},
     "output_type": "execute_result"
    }
   ],
   "source": [
    "image = PILImage.open(\"sub_graph.png\")\n",
    "output = io.BytesIO()\n",
    "image.save(output, format='PNG')\n",
    "encoded_string = base64.b64encode(output.getvalue()).decode()\n",
    "\n",
    "html = '<img src=\"data:image/png;base64,{}\"/>'.format(encoded_string)\n",
    "IPython.display.HTML(html)"
   ]
  },
  {
   "cell_type": "code",
   "execution_count": 41,
   "metadata": {
    "pycharm": {
     "name": "#%%\n"
    }
   },
   "outputs": [],
   "source": []
  }
 ],
 "metadata": {
  "kernelspec": {
   "display_name": "Python 3 (ipykernel)",
   "language": "python",
   "name": "python3"
  },
  "language_info": {
   "codemirror_mode": {
    "name": "ipython",
    "version": 3
   },
   "file_extension": ".py",
   "mimetype": "text/x-python",
   "name": "python",
   "nbconvert_exporter": "python",
   "pygments_lexer": "ipython3",
   "version": "3.9.2"
  }
 },
 "nbformat": 4,
 "nbformat_minor": 1
}
