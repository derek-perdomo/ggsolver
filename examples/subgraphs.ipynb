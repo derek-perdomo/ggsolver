{
 "cells": [
  {
   "cell_type": "markdown",
   "metadata": {
    "pycharm": {
     "name": "#%% md\n"
    }
   },
   "source": [
    "# SubGraph class"
   ]
  },
  {
   "cell_type": "code",
   "execution_count": 1,
   "metadata": {
    "pycharm": {
     "name": "#%%\n"
    }
   },
   "outputs": [],
   "source": [
    "# This code block is necessary when running in `ggsolver:v0.1` docker image.\n",
    "import sys\n",
    "\n",
    "import networkx as nx\n",
    "\n",
    "sys.path.append('/home/ggsolver/')"
   ]
  },
  {
   "cell_type": "code",
   "execution_count": 2,
   "metadata": {
    "pycharm": {
     "name": "#%%\n"
    }
   },
   "outputs": [
    {
     "name": "stdout",
     "output_type": "stream",
     "text": [
      "import ok.\n"
     ]
    }
   ],
   "source": [
    "from ggsolver.graph import Graph, SubGraph, NodePropertyMap, EdgePropertyMap\n",
    "from pprint import pprint\n",
    "print(\"import ok.\")"
   ]
  },
  {
   "cell_type": "code",
   "execution_count": 3,
   "metadata": {
    "pycharm": {
     "name": "#%%\n"
    }
   },
   "outputs": [
    {
     "name": "stdout",
     "output_type": "stream",
     "text": [
      "[0, 1, 2, 3, 4, 5, 6, 7, 8, 9]\n",
      "[(0, 1, 0), (1, 2, 0), (2, 3, 0), (3, 4, 0), (4, 5, 0), (5, 6, 0), (6, 7, 0), (7, 8, 0)]\n"
     ]
    }
   ],
   "source": [
    "# Creating a graph\n",
    "g = Graph()\n",
    "nodes = g.add_nodes(10)\n",
    "edges = g.add_edges([(i, i+1) for i in range(8)])\n",
    "\n",
    "print(g.nodes())\n",
    "print(g.edges())"
   ]
  },
  {
   "cell_type": "markdown",
   "source": [
    "Create subgraph. We will start with all nodes, edges visible."
   ],
   "metadata": {
    "collapsed": false,
    "pycharm": {
     "name": "#%% md\n"
    }
   }
  },
  {
   "cell_type": "code",
   "execution_count": 4,
   "metadata": {
    "pycharm": {
     "name": "#%%\n"
    }
   },
   "outputs": [
    {
     "name": "stdout",
     "output_type": "stream",
     "text": [
      "[0, 1, 2, 3, 4, 5, 6, 7, 8, 9]\n",
      "[(0, 1, 0), (1, 2, 0), (2, 3, 0), (3, 4, 0), (4, 5, 0), (5, 6, 0), (6, 7, 0), (7, 8, 0)]\n"
     ]
    }
   ],
   "source": [
    "# Create subgraph\n",
    "sg = SubGraph(g)\n",
    "print(sg.nodes())\n",
    "print(sg.edges())"
   ]
  },
  {
   "cell_type": "markdown",
   "source": [
    "Let us hide a first two edges."
   ],
   "metadata": {
    "collapsed": false,
    "pycharm": {
     "name": "#%% md\n"
    }
   }
  },
  {
   "cell_type": "code",
   "execution_count": 5,
   "metadata": {
    "pycharm": {
     "name": "#%%\n"
    }
   },
   "outputs": [
    {
     "name": "stdout",
     "output_type": "stream",
     "text": [
      "[0, 1, 2, 3, 4, 5, 6, 7, 8, 9]\n",
      "[(2, 3, 0), (3, 4, 0), (4, 5, 0), (5, 6, 0), (6, 7, 0), (7, 8, 0)]\n"
     ]
    }
   ],
   "source": [
    "sg.hide_edge(0, 1, 0)\n",
    "sg.hide_edge(1, 2, 0)\n",
    "\n",
    "print(sg.nodes())\n",
    "print(sg.edges())"
   ]
  },
  {
   "cell_type": "markdown",
   "source": [
    "Now, let's hide node 2. Observe that edges incoming or outgoing from node 2 are also hidden."
   ],
   "metadata": {
    "collapsed": false,
    "pycharm": {
     "name": "#%% md\n"
    }
   }
  },
  {
   "cell_type": "code",
   "execution_count": 6,
   "metadata": {
    "pycharm": {
     "name": "#%%\n"
    }
   },
   "outputs": [
    {
     "name": "stdout",
     "output_type": "stream",
     "text": [
      "[0, 1, 3, 4, 5, 6, 7, 8, 9]\n",
      "[(3, 4, 0), (4, 5, 0), (5, 6, 0), (6, 7, 0), (7, 8, 0)]\n"
     ]
    }
   ],
   "source": [
    "sg.hide_node(2)\n",
    "\n",
    "print(sg.nodes())\n",
    "print(sg.edges())"
   ]
  },
  {
   "cell_type": "markdown",
   "source": [
    "Get the successors of a node in SubGraph"
   ],
   "metadata": {
    "collapsed": false,
    "pycharm": {
     "name": "#%% md\n"
    }
   }
  },
  {
   "cell_type": "code",
   "execution_count": 7,
   "outputs": [
    {
     "name": "stdout",
     "output_type": "stream",
     "text": [
      "g.successors(4) -> [5]  ... Node IDs of successors.\n",
      "g.predecessors(4) -> [3]  ... Node IDs of predecessors.\n"
     ]
    }
   ],
   "source": [
    "# Check successors of a node\n",
    "successors = sg.successors(4)\n",
    "print(f\"g.successors(4) -> {list(successors)}  ... Node IDs of successors.\")\n",
    "\n",
    "# Check predecessors of a node\n",
    "predecessors = g.predecessors(4)\n",
    "print(f\"g.predecessors(4) -> {list(predecessors)}  ... Node IDs of predecessors.\")"
   ],
   "metadata": {
    "collapsed": false,
    "pycharm": {
     "name": "#%%\n"
    }
   }
  },
  {
   "cell_type": "markdown",
   "source": [
    "But if we check successors of hidden nodes, we get empty lists.\n",
    "If the input node to successors function is a node in Graph `g`, then no error is thrown.\n",
    "However, if we query for successors of a node not in `g`, then we get NetworkXError."
   ],
   "metadata": {
    "collapsed": false,
    "pycharm": {
     "name": "#%% md\n"
    }
   }
  },
  {
   "cell_type": "code",
   "execution_count": 8,
   "outputs": [
    {
     "name": "stdout",
     "output_type": "stream",
     "text": [
      "g.successors(0) -> []  ... Node IDs of successors.\n",
      "g.predecessors(0) -> []  ... Node IDs of predecessors.\n",
      "Error raised.\n"
     ]
    }
   ],
   "source": [
    "# Check successors of a node\n",
    "successors = sg.successors(0)\n",
    "print(f\"g.successors(0) -> {list(successors)}  ... Node IDs of successors.\")\n",
    "\n",
    "# Check predecessors of a node\n",
    "predecessors = g.predecessors(0)\n",
    "print(f\"g.predecessors(0) -> {list(predecessors)}  ... Node IDs of predecessors.\")\n",
    "\n",
    "try:\n",
    "      # Check predecessors of a node\n",
    "      predecessors = g.predecessors(10)\n",
    "      print(f\"g.predecessors(10) -> {list(predecessors)}  ... Node IDs of predecessors.\")\n",
    "except nx.NetworkXError:\n",
    "      print(\"Error raised.\")"
   ],
   "metadata": {
    "collapsed": false,
    "pycharm": {
     "name": "#%%\n"
    }
   }
  },
  {
   "cell_type": "code",
   "execution_count": 9,
   "metadata": {
    "pycharm": {
     "name": "#%%\n"
    }
   },
   "outputs": [
    {
     "ename": "NameError",
     "evalue": "name 'n0' is not defined",
     "output_type": "error",
     "traceback": [
      "\u001B[0;31m---------------------------------------------------------------------------\u001B[0m",
      "\u001B[0;31mNameError\u001B[0m                                 Traceback (most recent call last)",
      "Cell \u001B[0;32mIn [9], line 2\u001B[0m\n\u001B[1;32m      1\u001B[0m \u001B[38;5;66;03m# Check out_edges from a node\u001B[39;00m\n\u001B[0;32m----> 2\u001B[0m out_edges \u001B[38;5;241m=\u001B[39m g\u001B[38;5;241m.\u001B[39mout_edges(\u001B[43mn0\u001B[49m)\n\u001B[1;32m      3\u001B[0m \u001B[38;5;28mprint\u001B[39m(\u001B[38;5;124mf\u001B[39m\u001B[38;5;124m\"\u001B[39m\u001B[38;5;124mg.out_edges(n0) -> \u001B[39m\u001B[38;5;132;01m{\u001B[39;00m\u001B[38;5;28mlist\u001B[39m(out_edges)\u001B[38;5;132;01m}\u001B[39;00m\u001B[38;5;124m  ... Edge triples of out edges.\u001B[39m\u001B[38;5;124m\"\u001B[39m)\n\u001B[1;32m      5\u001B[0m \u001B[38;5;66;03m# Check in_edges to a node\u001B[39;00m\n",
      "\u001B[0;31mNameError\u001B[0m: name 'n0' is not defined"
     ]
    }
   ],
   "source": [
    "# Check out_edges from a node\n",
    "out_edges = g.out_edges(n0)\n",
    "print(f\"g.out_edges(n0) -> {list(out_edges)}  ... Edge triples of out edges.\")\n",
    "\n",
    "# Check in_edges to a node\n",
    "in_edges = g.in_edges(n1)\n",
    "print(f\"g.in_edges(n1) -> {list(in_edges)}  ... Edge triples of out edges.\")"
   ]
  },
  {
   "cell_type": "code",
   "execution_count": null,
   "metadata": {
    "pycharm": {
     "name": "#%%\n"
    }
   },
   "outputs": [],
   "source": [
    "# Check all nodes\n",
    "nodes = g.nodes()\n",
    "print(f\"g.nodes() -> {list(nodes)}  ... Node IDs.\")\n",
    "\n",
    "# Check all edges\n",
    "edges = g.edges()\n",
    "print(f\"g.edges() -> {list(edges)}  ... Edge triples of out edges.\")\n",
    "\n",
    "# Get number of nodes, edges\n",
    "print(f\"g.number_of_nodes() -> {g.number_of_nodes()}\")\n",
    "print(f\"g.number_of_edges() -> {g.number_of_edges()}\")"
   ]
  },
  {
   "cell_type": "code",
   "execution_count": null,
   "metadata": {
    "pycharm": {
     "name": "#%%\n"
    }
   },
   "outputs": [],
   "source": [
    "# Associate a property with nodes\n",
    "# Approach 1: Create the property separately and then associate it with graph.\n",
    "name = NodePropertyMap(g)\n",
    "name[n0] = \"n0\"\n",
    "g[\"name\"] = name\n",
    "print(f\"g['name'][n0] -> {g['name'][n0]}  ... If property value is assigned, then the value is returned.\")\n",
    "print(f\"g['name'][n1] -> {g['name'][n1]}  ... If property value is NOT assigned, then default value is returned.\")\n",
    "\n",
    "# Approach 2: Create the property directly.\n",
    "g[\"name\"] = NodePropertyMap(g, default=\"default-name\")\n",
    "g[\"name\"][n0] = \"n0\"\n",
    "print(f\"g['name'][n0] -> {g['name'][n0]}  ... If property value is assigned, then the value is returned.\")\n",
    "print(f\"g['name'][n1] -> {g['name'][n1]}  ... If property value is NOT assigned, then default value is returned.\")"
   ]
  },
  {
   "cell_type": "code",
   "execution_count": null,
   "metadata": {
    "pycharm": {
     "name": "#%%\n"
    }
   },
   "outputs": [],
   "source": [
    "# Associate a property with edges (edge properties can also be associated in two ways like node properties).\n",
    "g[\"label\"] = EdgePropertyMap(g)\n",
    "g[\"label\"][(n0, n1, key0)] = \"(n0, n1, 0)\"\n",
    "print(f\"g['label'][(n0, n1, key0)] -> {g['label'][(n0, n1, key0)]}  \"\n",
    "      f\"... If property value is assigned, then the value is returned.\")\n",
    "print(f\"g['label'][(n0, n1, key1)] -> {g['label'][(n0, n1, key1)]}  \"\n",
    "      f\"... If property value is NOT assigned, then default value is returned.\")"
   ]
  },
  {
   "cell_type": "code",
   "execution_count": null,
   "metadata": {
    "pycharm": {
     "name": "#%%\n"
    }
   },
   "outputs": [],
   "source": [
    "# Graph properties are assigned similarly, except we do not have GraphPropertyMap class.\n",
    "g[\"graph_prop0\"] = 10\n",
    "g[\"graph_prop1\"] = \"I am a graph property!\"\n",
    "\n",
    "print(f'g[\"graph_prop0\"] -> {g[\"graph_prop0\"]}')\n",
    "print(f'g[\"graph_prop1\"] -> {g[\"graph_prop1\"]}')"
   ]
  },
  {
   "cell_type": "code",
   "execution_count": null,
   "metadata": {
    "pycharm": {
     "name": "#%%\n"
    }
   },
   "outputs": [],
   "source": [
    "# A graph object can be serialized into a dictionary.\n",
    "g_dict = g.serialize()\n",
    "pprint(g_dict)"
   ]
  },
  {
   "cell_type": "code",
   "execution_count": null,
   "metadata": {
    "pycharm": {
     "name": "#%%\n"
    }
   },
   "outputs": [],
   "source": [
    "# A dictionary can be deserialized to get a graph object.\n",
    "new_g = Graph.deserialize(g_dict)\n",
    "pprint(new_g.serialize())"
   ]
  },
  {
   "cell_type": "code",
   "execution_count": null,
   "metadata": {
    "pycharm": {
     "name": "#%%\n"
    }
   },
   "outputs": [],
   "source": [
    "# A graph can be saved and loaded to/from a file\n",
    "#   fpath: gives a complete path of the file to which the graph will be saved. (include extension)\n",
    "#   overwrite: if the file should overwrite an existing file.\n",
    "#   protocol: either json or pickle.\n",
    "g.save(fpath=\"mygraph.graph\", overwrite=True, protocol=\"json\")\n",
    "loaded_g = Graph.load(fpath=\"mygraph.graph\", protocol=\"json\")"
   ]
  },
  {
   "cell_type": "code",
   "execution_count": null,
   "outputs": [],
   "source": [
    "# Draw graph. Saves to the given location as PNG image. \n",
    "loaded_g.to_png(\"graph1.png\")"
   ],
   "metadata": {
    "collapsed": false,
    "pycharm": {
     "name": "#%%\n"
    }
   }
  },
  {
   "cell_type": "code",
   "execution_count": null,
   "outputs": [],
   "source": [
    "# Jupyter notebook setup to export images in HTML. \n",
    "import base64, io, IPython\n",
    "from PIL import Image as PILImage\n",
    "from IPython.display import Image\n",
    "from IPython.core.display import HTML\n",
    "\n",
    "image = PILImage.open(\"graph1.png\")\n",
    "output = io.BytesIO()\n",
    "image.save(output, format='PNG')\n",
    "encoded_string = base64.b64encode(output.getvalue()).decode()\n",
    "\n",
    "html = '<img src=\"data:image/png;base64,{}\"/>'.format(encoded_string)\n",
    "IPython.display.HTML(html)"
   ],
   "metadata": {
    "collapsed": false,
    "pycharm": {
     "name": "#%%\n"
    }
   }
  },
  {
   "cell_type": "code",
   "execution_count": null,
   "outputs": [],
   "source": [
    "# If nlabel, elabel is specified, the corresponding node and edge properties are used to label \n",
    "#   the nodes and edges of the generated graph.\n",
    "# Note: If the mapping from nodes to selected node-properties is not 1-1, then the generated graph can be different\n",
    "#   from the true graph. For example, note the difference between the `graph1.png` and `graph2.png`.\n",
    "loaded_g.to_png(\"graph2.png\", nlabel=[\"name\"], elabel=[\"label\"])"
   ],
   "metadata": {
    "collapsed": false,
    "pycharm": {
     "name": "#%%\n"
    }
   }
  },
  {
   "cell_type": "code",
   "execution_count": null,
   "outputs": [],
   "source": [
    "# Jupyter notebook setup to export images in HTML. \n",
    "image = PILImage.open(\"graph2.png\")\n",
    "output = io.BytesIO()\n",
    "image.save(output, format='PNG')\n",
    "encoded_string = base64.b64encode(output.getvalue()).decode()\n",
    "\n",
    "html = '<img src=\"data:image/png;base64,{}\"/>'.format(encoded_string)\n",
    "IPython.display.HTML(html)"
   ],
   "metadata": {
    "collapsed": false,
    "pycharm": {
     "name": "#%%\n"
    }
   }
  },
  {
   "cell_type": "markdown",
   "source": [
    "We can now check if two `Graphs` are isomorphic to each other."
   ],
   "metadata": {
    "collapsed": false,
    "pycharm": {
     "name": "#%% md\n"
    }
   }
  },
  {
   "cell_type": "code",
   "execution_count": null,
   "outputs": [],
   "source": [
    "g1 = Graph()\n",
    "g1.add_nodes(num_nodes=4)\n",
    "g1.add_edges([(0, 1), (1, 2), (2, 3)])\n",
    "\n",
    "g2 = Graph()\n",
    "g2.add_nodes(num_nodes=4)\n",
    "g2.add_edges([(1, 0), (2, 1), (3, 2)])\n",
    "\n",
    "g1.is_isomorphic_to(g2)"
   ],
   "metadata": {
    "collapsed": false,
    "pycharm": {
     "name": "#%%\n"
    }
   }
  },
  {
   "cell_type": "code",
   "execution_count": null,
   "outputs": [],
   "source": [],
   "metadata": {
    "collapsed": false,
    "pycharm": {
     "name": "#%%\n"
    }
   }
  }
 ],
 "metadata": {
  "kernelspec": {
   "display_name": "Python 3 (ipykernel)",
   "language": "python",
   "name": "python3"
  },
  "language_info": {
   "codemirror_mode": {
    "name": "ipython",
    "version": 3
   },
   "file_extension": ".py",
   "mimetype": "text/x-python",
   "name": "python",
   "nbconvert_exporter": "python",
   "pygments_lexer": "ipython3",
   "version": "3.9.13"
  }
 },
 "nbformat": 4,
 "nbformat_minor": 1
}