{
 "cells": [
  {
   "cell_type": "markdown",
   "metadata": {
    "pycharm": {
     "name": "#%% md\n"
    }
   },
   "source": [
    "# SpotAutomaton Interface\n",
    "\n",
    "`SpotAutomaton` class provides an interface between `spot` and `ggsolver`.\n",
    "Given an LTL formula, `SpotAutomaton` determines the best options for `spot.translate()` function\n",
    "to generate a deterministic automaton in `ggsolver.Automaton` format."
   ]
  },
  {
   "cell_type": "code",
   "execution_count": 1,
   "metadata": {
    "pycharm": {
     "name": "#%%\n"
    }
   },
   "outputs": [],
   "source": [
    "# This code block is necessary when running in `ggsolver:v0.1` docker image.\n",
    "import sys\n",
    "sys.path.append('/home/ggsolver/')"
   ]
  },
  {
   "cell_type": "markdown",
   "metadata": {
    "pycharm": {
     "name": "#%% md\n"
    }
   },
   "source": [
    "`SpotAutomaton` class is available in the interfaces subpackage."
   ]
  },
  {
   "cell_type": "code",
   "execution_count": 2,
   "metadata": {
    "pycharm": {
     "name": "#%%\n"
    }
   },
   "outputs": [],
   "source": [
    "from ggsolver.interfaces.i_spot import *"
   ]
  },
  {
   "cell_type": "markdown",
   "metadata": {
    "pycharm": {
     "name": "#%% md\n"
    }
   },
   "source": [
    "The constructor takes two arguments: `formula` and `options`. If `options` are not provided, then options are\n",
    "selected based on where the LTL formula lies in Manna-Pnueli Hierarchy.\n",
    "\n",
    "See documentation []() to understand how options are selected."
   ]
  },
  {
   "cell_type": "code",
   "execution_count": 3,
   "metadata": {
    "pycharm": {
     "name": "#%%\n"
    }
   },
   "outputs": [
    {
     "name": "stdout",
     "output_type": "stream",
     "text": [
      "[INFO] Translating Fa & Gb  with options=('Buchi', 'Deterministic', 'High', 'Complete', 'Unambiguous', 'SBAcc').\n"
     ]
    }
   ],
   "source": [
    "aut = SpotAutomaton(\"Fa & Gb \")"
   ]
  },
  {
   "cell_type": "code",
   "execution_count": 4,
   "metadata": {
    "pycharm": {
     "name": "#%%\n"
    }
   },
   "outputs": [
    {
     "name": "stdout",
     "output_type": "stream",
     "text": [
      "[INFO] Translating FGa with options=('coBuchi', 'Deterministic', 'High', 'Complete', 'Unambiguous', 'SBAcc').\n"
     ]
    }
   ],
   "source": [
    "aut1 = SpotAutomaton(\"FGa\")"
   ]
  },
  {
   "cell_type": "code",
   "execution_count": 5,
   "metadata": {
    "pycharm": {
     "name": "#%%\n"
    }
   },
   "outputs": [
    {
     "name": "stdout",
     "output_type": "stream",
     "text": [
      "[INFO] Translating FGa & GFb with options=('parity', 'Deterministic', 'High', 'Complete', 'Unambiguous', 'SBAcc', 'colored').\n"
     ]
    }
   ],
   "source": [
    "aut2 = SpotAutomaton(\"FGa & GFb\")"
   ]
  },
  {
   "cell_type": "markdown",
   "metadata": {
    "pycharm": {
     "name": "#%% md\n"
    }
   },
   "source": [
    "`SpotAutomaton` is a `GraphicalModel` that inherits from `Automaton` model.\n",
    "Hence, we can access `states, sigma, delta, init_state, final` functions as usual.\n",
    "\n",
    "**Note:** By default, `Automaton` defines `atoms()` to be the set of atomic propositions and\n",
    "    `sigma()` as the powerset of atomic propositions.\n",
    "\n",
    "<div class=\"alert alert-block alert-warning\">\n",
    "<b>Warning:</b> Currently, the size of atoms() set is limited to 16 atoms because sigma() explicitly constructs the powerset of atoms().\n",
    "</div>"
   ]
  },
  {
   "cell_type": "code",
   "execution_count": 6,
   "metadata": {
    "pycharm": {
     "name": "#%%\n"
    }
   },
   "outputs": [
    {
     "data": {
      "text/plain": [
       "[0, 1, 2]"
      ]
     },
     "execution_count": 6,
     "metadata": {},
     "output_type": "execute_result"
    }
   ],
   "source": [
    "aut.states()"
   ]
  },
  {
   "cell_type": "code",
   "execution_count": 7,
   "metadata": {
    "pycharm": {
     "name": "#%%\n"
    }
   },
   "outputs": [
    {
     "data": {
      "text/plain": [
       "['a', 'b']"
      ]
     },
     "execution_count": 7,
     "metadata": {},
     "output_type": "execute_result"
    }
   ],
   "source": [
    "aut.atoms()"
   ]
  },
  {
   "cell_type": "code",
   "execution_count": 8,
   "metadata": {
    "pycharm": {
     "name": "#%%\n"
    }
   },
   "outputs": [
    {
     "data": {
      "text/plain": [
       "[(), ('a',), ('b',), ('a', 'b')]"
      ]
     },
     "execution_count": 8,
     "metadata": {},
     "output_type": "execute_result"
    }
   ],
   "source": [
    "aut.sigma()"
   ]
  },
  {
   "cell_type": "markdown",
   "metadata": {
    "pycharm": {
     "name": "#%% md\n"
    }
   },
   "source": [
    "The input to `delta` function is an element of `sigma`. It should either be a list or tuple of atoms."
   ]
  },
  {
   "cell_type": "code",
   "execution_count": 9,
   "metadata": {
    "pycharm": {
     "name": "#%%\n"
    }
   },
   "outputs": [
    {
     "name": "stdout",
     "output_type": "stream",
     "text": [
      "2\n",
      "2\n",
      "1\n"
     ]
    }
   ],
   "source": [
    "print(aut.delta(0, []))\n",
    "print(aut.delta(0, ['a']))\n",
    "print(aut.delta(1, ['b']))"
   ]
  },
  {
   "cell_type": "code",
   "execution_count": 10,
   "metadata": {
    "pycharm": {
     "name": "#%%\n"
    }
   },
   "outputs": [
    {
     "data": {
      "text/plain": [
       "1"
      ]
     },
     "execution_count": 10,
     "metadata": {},
     "output_type": "execute_result"
    }
   ],
   "source": [
    "aut.init_state()"
   ]
  },
  {
   "cell_type": "markdown",
   "metadata": {
    "pycharm": {
     "name": "#%% md\n"
    }
   },
   "source": [
    "Since the definition of final states varies based on acceptance condition, we follow spot's convention and\n",
    "define `final` to be a function that maps each state to a list (or tuple) of acceptance sets."
   ]
  },
  {
   "cell_type": "code",
   "execution_count": 11,
   "metadata": {
    "pycharm": {
     "name": "#%%\n"
    }
   },
   "outputs": [
    {
     "name": "stdout",
     "output_type": "stream",
     "text": [
      "[0]\n",
      "[]\n",
      "[]\n"
     ]
    }
   ],
   "source": [
    "print(aut.final(0))\n",
    "print(aut.final(1))\n",
    "print(aut.final(2))"
   ]
  },
  {
   "cell_type": "code",
   "execution_count": 12,
   "metadata": {
    "pycharm": {
     "name": "#%%\n"
    }
   },
   "outputs": [
    {
     "name": "stdout",
     "output_type": "stream",
     "text": [
      "[0]\n",
      "[2]\n",
      "[2]\n"
     ]
    }
   ],
   "source": [
    "print(aut2.final(0))\n",
    "print(aut2.final(1))\n",
    "print(aut2.final(2))"
   ]
  },
  {
   "cell_type": "markdown",
   "metadata": {
    "pycharm": {
     "name": "#%% md\n"
    }
   },
   "source": [
    "In addition, `SpotAutomaton` also exposes the properties assigned by spot to the automaton."
   ]
  },
  {
   "cell_type": "code",
   "execution_count": 13,
   "metadata": {
    "pycharm": {
     "name": "#%%\n"
    }
   },
   "outputs": [
    {
     "name": "stdout",
     "output_type": "stream",
     "text": [
      "formula:  Fa & Gb \n",
      "acc_name:  Büchi\n",
      "spot_acc_cond:  Inf(0)\n",
      "num_acc_sets:  1\n",
      "is_deterministic:  True\n",
      "is_unambiguous:  True\n",
      "is_state_based_acc:  True\n",
      "is_terminal:  False\n",
      "is_weak:  True\n",
      "is_inherently_weak:  True\n",
      "is_stutter_invariant:  True\n"
     ]
    },
    {
     "ename": "AttributeError",
     "evalue": "'twa_graph' object has no attribute 'complete'",
     "output_type": "error",
     "traceback": [
      "\u001B[0;31m---------------------------------------------------------------------------\u001B[0m",
      "\u001B[0;31mAttributeError\u001B[0m                            Traceback (most recent call last)",
      "Input \u001B[0;32mIn [13]\u001B[0m, in \u001B[0;36m<cell line: 12>\u001B[0;34m()\u001B[0m\n\u001B[1;32m     10\u001B[0m \u001B[38;5;28mprint\u001B[39m(\u001B[38;5;124m\"\u001B[39m\u001B[38;5;124mis_inherently_weak: \u001B[39m\u001B[38;5;124m\"\u001B[39m, aut\u001B[38;5;241m.\u001B[39mis_inherently_weak())\n\u001B[1;32m     11\u001B[0m \u001B[38;5;28mprint\u001B[39m(\u001B[38;5;124m\"\u001B[39m\u001B[38;5;124mis_stutter_invariant: \u001B[39m\u001B[38;5;124m\"\u001B[39m, aut\u001B[38;5;241m.\u001B[39mis_stutter_invariant())\n\u001B[0;32m---> 12\u001B[0m \u001B[38;5;28mprint\u001B[39m(\u001B[38;5;124m\"\u001B[39m\u001B[38;5;124mis_complete: \u001B[39m\u001B[38;5;124m\"\u001B[39m, \u001B[43maut\u001B[49m\u001B[38;5;241;43m.\u001B[39;49m\u001B[43mis_complete\u001B[49m\u001B[43m(\u001B[49m\u001B[43m)\u001B[49m)\n",
      "File \u001B[0;32m/home/ggsolver/ggsolver/interfaces/i_spot.py:202\u001B[0m, in \u001B[0;36mSpotAutomaton.is_complete\u001B[0;34m(self)\u001B[0m\n\u001B[1;32m    201\u001B[0m \u001B[38;5;28;01mdef\u001B[39;00m \u001B[38;5;21mis_complete\u001B[39m(\u001B[38;5;28mself\u001B[39m):\n\u001B[0;32m--> 202\u001B[0m     \u001B[38;5;28;01mreturn\u001B[39;00m \u001B[38;5;28mbool\u001B[39m(\u001B[38;5;28;43mself\u001B[39;49m\u001B[38;5;241;43m.\u001B[39;49m\u001B[43mspot_aut\u001B[49m\u001B[38;5;241;43m.\u001B[39;49m\u001B[43mcomplete\u001B[49m())\n",
      "\u001B[0;31mAttributeError\u001B[0m: 'twa_graph' object has no attribute 'complete'"
     ]
    }
   ],
   "source": [
    "print(\"formula: \", aut.formula())\n",
    "print(\"acc_name: \", aut.acc_name())\n",
    "print(\"spot_acc_cond: \", aut.spot_acc_cond())\n",
    "print(\"num_acc_sets: \", aut.num_acc_sets())\n",
    "print(\"is_deterministic: \", aut.is_deterministic())\n",
    "print(\"is_unambiguous: \", aut.is_unambiguous())\n",
    "print(\"is_state_based_acc: \", aut.is_state_based_acc())\n",
    "print(\"is_terminal: \", aut.is_terminal())\n",
    "print(\"is_weak: \", aut.is_weak())\n",
    "print(\"is_inherently_weak: \", aut.is_inherently_weak())\n",
    "print(\"is_stutter_invariant: \", aut.is_stutter_invariant())\n",
    "print(\"is_complete: \", aut.is_complete())"
   ]
  },
  {
   "cell_type": "code",
   "execution_count": null,
   "metadata": {
    "pycharm": {
     "name": "#%%\n"
    }
   },
   "outputs": [],
   "source": [
    "Since `SpotAutomaton` is a `GraphicalModel`, it can be serialized or converted to PNG in the same way as any other graphical model."
   ]
  },
  {
   "cell_type": "code",
   "execution_count": null,
   "metadata": {
    "pycharm": {
     "name": "#%%\n"
    }
   },
   "outputs": [],
   "source": []
  },
  {
   "cell_type": "code",
   "execution_count": null,
   "metadata": {
    "pycharm": {
     "name": "#%%\n"
    }
   },
   "outputs": [],
   "source": []
  }
 ],
 "metadata": {
  "kernelspec": {
   "display_name": "Python 3 (ipykernel)",
   "language": "python",
   "name": "python3"
  },
  "language_info": {
   "codemirror_mode": {
    "name": "ipython",
    "version": 3
   },
   "file_extension": ".py",
   "mimetype": "text/x-python",
   "name": "python",
   "nbconvert_exporter": "python",
   "pygments_lexer": "ipython3",
   "version": "3.9.13"
  }
 },
 "nbformat": 4,
 "nbformat_minor": 1
}