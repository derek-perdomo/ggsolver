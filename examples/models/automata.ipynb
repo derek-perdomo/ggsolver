{
 "cells": [
  {
   "cell_type": "markdown",
   "source": [
    "# Automata\n",
    "\n",
    "The `automata` module defines various specialized types of automata with various types of acceptance conditions.\n",
    "\n",
    "The class defines the following automata (list may be incomplete. See documentation for complete list).\n",
    "\n",
    "- `DFA`: Deterministic Finite Automaton\n",
    "- `Monitor`: As the name suggests!\n",
    "- `DBA`: Deterministic Buchi Automaton\n",
    "- `DCBA`: Deterministic co-Buchi Automaton\n",
    "- `DPA`: Deterministic Parity Automaton\n",
    "\n",
    "The following notebook demonstrates useful features of different classes."
   ],
   "metadata": {
    "collapsed": false,
    "pycharm": {
     "name": "#%% md\n"
    }
   }
  },
  {
   "cell_type": "code",
   "execution_count": 17,
   "outputs": [],
   "source": [
    "# This code block is necessary only when using `ggsolver:v0.1` or `ggsolver:devel` docker images.\n",
    "import sys\n",
    "sys.path.append('/home/ggsolver/')\n",
    "\n",
    "from examples.jupyter_patch import *"
   ],
   "metadata": {
    "collapsed": false,
    "pycharm": {
     "name": "#%%\n"
    }
   }
  },
  {
   "cell_type": "code",
   "execution_count": 18,
   "outputs": [],
   "source": [
    "from ggsolver.automata import *"
   ],
   "metadata": {
    "collapsed": false,
    "pycharm": {
     "name": "#%%\n"
    }
   }
  },
  {
   "cell_type": "markdown",
   "source": [
    "## DFA\n",
    "\n",
    "We demonstrate important functionality of all automata using DFA.\n",
    "\n",
    "Automata can be constructed by passing the components of DFA as arguments to the constructor.\n",
    "\n",
    "We now show how to define a DFA corresponding to LTLf formula `F(a) & G(!b)` as shown below.\n",
    "\n"
   ],
   "metadata": {
    "collapsed": false,
    "pycharm": {
     "name": "#%% md\n"
    }
   }
  },
  {
   "cell_type": "code",
   "execution_count": 19,
   "outputs": [
    {
     "data": {
      "text/plain": "<IPython.core.display.HTML object>",
      "text/html": "<img src=\"data:image/png;base64,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\"/>"
     },
     "execution_count": 19,
     "metadata": {},
     "output_type": "execute_result"
    }
   ],
   "source": [
    "# Define path where to save the generated PNG.\n",
    "fpath = \"/home/ggsolver/examples/models/out/LTLf_Fa_and_G_not_b.png\"\n",
    "\n",
    "# Show PNG in Jupyter Notebook\n",
    "html = img2html(fpath)\n",
    "IPython.display.HTML(html)"
   ],
   "metadata": {
    "collapsed": false,
    "pycharm": {
     "name": "#%%\n"
    }
   }
  },
  {
   "cell_type": "code",
   "execution_count": 20,
   "outputs": [],
   "source": [
    "# Define the components of the DFA\n",
    "states = [0, 1, 2]\n",
    "atoms = [\"a\", \"b\"]\n",
    "delta = {\n",
    "    1: {\n",
    "        \"!a & !b\": 1,\n",
    "        \"a & !b\": 0,\n",
    "        \"b\": 2\n",
    "    },\n",
    "    0: {\n",
    "        \"!b\": 0,\n",
    "        \"b\": 2\n",
    "    },\n",
    "    2:{\n",
    "      \"true\": 2\n",
    "    }\n",
    "}\n",
    "init_state = 1\n",
    "final = [0]\n",
    "\n",
    "# Construct DFA\n",
    "dfa = DFA(states=states, atoms=atoms, trans_dict=delta, init_state=init_state, final=final)"
   ],
   "metadata": {
    "collapsed": false,
    "pycharm": {
     "name": "#%%\n"
    }
   }
  },
  {
   "cell_type": "markdown",
   "source": [
    "<div class=\"alert alert-block alert-warning\">\n",
    "<b>Note:</b> It is necessary to pass keyword arguments!\n",
    "</div>\n",
    "\n",
    "That is, a statement like `DFA(states, atoms, delta, init_state, final)` will not construct a correct DFA.\n",
    "\n",
    "\n",
    "### Functions of Automaton\n",
    "Now, we can call inbuilt functions of DFA class to know about its properties.\n"
   ],
   "metadata": {
    "collapsed": false,
    "pycharm": {
     "name": "#%% md\n"
    }
   }
  },
  {
   "cell_type": "code",
   "execution_count": 21,
   "outputs": [
    {
     "name": "stdout",
     "output_type": "stream",
     "text": [
      "Set of states:: dfa.states() =  [0, 1, 2]\n",
      "Set of atoms:: dfa.atoms() =  ['a', 'b']\n",
      "Set of symbols (sigma = powerset(atoms):: dfa.sigma() =  [(), ('a',), ('b',), ('a', 'b')]\n",
      "Initial state:: dfa.init_state() =  1\n"
     ]
    }
   ],
   "source": [
    "print(\"Set of states:: dfa.states() = \", dfa.states())\n",
    "print(\"Set of atoms:: dfa.atoms() = \", dfa.atoms())\n",
    "print(\"Set of symbols (sigma = powerset(atoms):: dfa.sigma() = \", dfa.sigma())\n",
    "print(\"Initial state:: dfa.init_state() = \", dfa.init_state())"
   ],
   "metadata": {
    "collapsed": false,
    "pycharm": {
     "name": "#%%\n"
    }
   }
  },
  {
   "cell_type": "markdown",
   "source": [
    "The accepting conditions of `Automaton` class are represented similar to that in spot (https://spot.lrde.epita.fr/).\n",
    "Hence, for `DFA` which represents a reachability condition, the acceptance condition is defined as `(\"Reach\", 0)` which encodes the condition that $\\mathsf{Last}(\\rho) \\in F$, where $F = \\{q \\in Q \\mid \\mathsf{AccSet}(q) = 0\\}$.\n",
    "\n",
    "The following functions enable us to get the acceptance condition and type of arbitrary automaton.\n"
   ],
   "metadata": {
    "collapsed": false,
    "pycharm": {
     "name": "#%% md\n"
    }
   }
  },
  {
   "cell_type": "code",
   "execution_count": 22,
   "outputs": [
    {
     "name": "stdout",
     "output_type": "stream",
     "text": [
      "Acceptance condition of automaton:  ('Reach', 0)\n",
      "Acceptance type of automaton:  Reach\n"
     ]
    }
   ],
   "source": [
    "print(\"Acceptance condition of automaton: \", dfa.acc_cond())\n",
    "print(\"Acceptance type of automaton: \", dfa.acc_type())"
   ],
   "metadata": {
    "collapsed": false,
    "pycharm": {
     "name": "#%%\n"
    }
   }
  },
  {
   "cell_type": "markdown",
   "source": [
    "Each state in every `Automaton` is associated with an acceptance set. By default, any state that is not final is assigned `-1`. Valid acceptance sets are numbered `0, 1, ...`.\n",
    "\n",
    "`dfa.final(state)` returns the acceptance set of the state."
   ],
   "metadata": {
    "collapsed": false,
    "pycharm": {
     "name": "#%% md\n"
    }
   }
  },
  {
   "cell_type": "code",
   "execution_count": 23,
   "outputs": [
    {
     "name": "stdout",
     "output_type": "stream",
     "text": [
      "Acceptance sets of each state.\n",
      "0 0\n",
      "1 -1\n",
      "2 -1\n"
     ]
    }
   ],
   "source": [
    "print(\"Acceptance sets of each state.\")\n",
    "for st in dfa.states():\n",
    "    print(st, dfa.final(st))"
   ],
   "metadata": {
    "collapsed": false,
    "pycharm": {
     "name": "#%%\n"
    }
   }
  },
  {
   "cell_type": "markdown",
   "source": [
    "In case of DFA, the following line globs the final states, i.e. the states with acceptance set `0`."
   ],
   "metadata": {
    "collapsed": false,
    "pycharm": {
     "name": "#%% md\n"
    }
   }
  },
  {
   "cell_type": "code",
   "execution_count": 24,
   "outputs": [
    {
     "data": {
      "text/plain": "[0]"
     },
     "execution_count": 24,
     "metadata": {},
     "output_type": "execute_result"
    }
   ],
   "source": [
    "final = [st for st in dfa.states() if dfa.final(st) == 0]\n",
    "final"
   ],
   "metadata": {
    "collapsed": false,
    "pycharm": {
     "name": "#%%\n"
    }
   }
  },
  {
   "cell_type": "markdown",
   "source": [
    "We can check the properties of Automaton as follows."
   ],
   "metadata": {
    "collapsed": false,
    "pycharm": {
     "name": "#%% md\n"
    }
   }
  },
  {
   "cell_type": "code",
   "execution_count": 25,
   "outputs": [
    {
     "name": "stdout",
     "output_type": "stream",
     "text": [
      "is_deterministic:  True\n"
     ]
    }
   ],
   "source": [
    "print(\"is_deterministic: \", dfa.is_deterministic())\n",
    "# print(\"num_acc_sets: \", dfa.num_acc_sets())       # Not implemented in v0.1.3.\n",
    "# print(\"is_complete: \", dfa.is_complete())         # Not implemented in v0.1.3."
   ],
   "metadata": {
    "collapsed": false,
    "pycharm": {
     "name": "#%%\n"
    }
   }
  },
  {
   "cell_type": "markdown",
   "source": [
    "Lastly, and most important, we can call the delta function of the automaton, which takes a state and\n",
    " set of true atoms generate the next state.\n",
    "\n",
    "<div class=\"alert alert-block alert-warning\">\n",
    "<b>Note:</b> Automaton.delta() is a function, not a dictionary.\n",
    "</div>"
   ],
   "metadata": {
    "collapsed": false,
    "pycharm": {
     "name": "#%% md\n"
    }
   }
  },
  {
   "cell_type": "code",
   "execution_count": 26,
   "outputs": [
    {
     "name": "stdout",
     "output_type": "stream",
     "text": [
      "dfa.delta(0, ()) -> 0\n",
      "dfa.delta(0, ('a',)) -> 0\n",
      "dfa.delta(0, ('b',)) -> 2\n",
      "dfa.delta(0, ('a', 'b')) -> 2\n",
      "dfa.delta(1, ()) -> 1\n",
      "dfa.delta(1, ('a',)) -> 0\n",
      "dfa.delta(1, ('b',)) -> 2\n",
      "dfa.delta(1, ('a', 'b')) -> 2\n",
      "dfa.delta(2, ()) -> 2\n",
      "dfa.delta(2, ('a',)) -> 2\n",
      "dfa.delta(2, ('b',)) -> 2\n",
      "dfa.delta(2, ('a', 'b')) -> 2\n"
     ]
    }
   ],
   "source": [
    "# Generate delta.\n",
    "for st in dfa.states():\n",
    "    for true_atoms in dfa.sigma():\n",
    "        print(f\"dfa.delta({st}, {true_atoms}) -> {dfa.delta(st, true_atoms)}\")"
   ],
   "metadata": {
    "collapsed": false,
    "pycharm": {
     "name": "#%%\n"
    }
   }
  },
  {
   "cell_type": "markdown",
   "source": [],
   "metadata": {
    "collapsed": false,
    "pycharm": {
     "name": "#%% md\n"
    }
   }
  },
  {
   "cell_type": "code",
   "execution_count": 26,
   "outputs": [],
   "source": [],
   "metadata": {
    "collapsed": false,
    "pycharm": {
     "name": "#%%\n"
    }
   }
  }
 ],
 "metadata": {
  "kernelspec": {
   "display_name": "Python 3",
   "language": "python",
   "name": "python3"
  },
  "language_info": {
   "codemirror_mode": {
    "name": "ipython",
    "version": 2
   },
   "file_extension": ".py",
   "mimetype": "text/x-python",
   "name": "python",
   "nbconvert_exporter": "python",
   "pygments_lexer": "ipython2",
   "version": "2.7.6"
  }
 },
 "nbformat": 4,
 "nbformat_minor": 0
}