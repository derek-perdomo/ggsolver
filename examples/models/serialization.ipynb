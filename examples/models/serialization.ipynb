{
 "cells": [
  {
   "cell_type": "code",
   "execution_count": 4,
   "outputs": [],
   "source": [
    "# This code block is necessary only when using `ggsolver:v0.1` docker image.\n",
    "import sys\n",
    "sys.path.append('/home/ggsolver/')\n",
    "\n",
    "from pprint import pprint\n",
    "from examples.jupyter_patch import *"
   ],
   "metadata": {
    "collapsed": false,
    "pycharm": {
     "name": "#%%\n"
    }
   }
  },
  {
   "cell_type": "code",
   "execution_count": 5,
   "outputs": [],
   "source": [
    "from ggsolver.graph import Graph\n",
    "from ggsolver.models import TSys\n",
    "\n",
    "class CarParking(TSys):\n",
    "    def __init__(self, num_slots):\n",
    "        super(CarParking, self).__init__(inputs=\"actions\")\n",
    "        self.num_slots = num_slots\n",
    "\n",
    "    def states(self):\n",
    "        \"\"\"\n",
    "        To determine whether parking is full or empty, we can maintain a count of the number of cars\n",
    "        in the parking lot. Hence, the states can be represented by integers from 0 to num_slots.\n",
    "        \"\"\"\n",
    "        return list(range(self.num_slots + 1))\n",
    "\n",
    "    def actions(self):\n",
    "        \"\"\"\n",
    "        There are two actions: enter and exit, that represent a car has entered or exited.\n",
    "        \"\"\"\n",
    "        return [\"enter\", \"exit\"]\n",
    "\n",
    "    def delta(self, state, act):\n",
    "        \"\"\"\n",
    "        The transition function should determine the next state, i.e. how many cars will be there in the parking lot, based on how many cars are currently in the parking lot and the action: whether a car is entering or exiting.\n",
    "        \"\"\"\n",
    "        if state == 0 and act == \"exit\":\n",
    "            return 0\n",
    "        elif state == self.num_slots and act == \"enter\":\n",
    "            return self.num_slots\n",
    "        elif act == \"enter\":\n",
    "            return state + 1\n",
    "        else:   # if act == \"exit\":\n",
    "            return state - 1\n",
    "\n",
    "    def atoms(self):\n",
    "        \"\"\"\n",
    "        We care about two properties: whether the parking lot is \"empty\" or it is \"full\".\n",
    "        Hence, we will define two atomic propositions.\n",
    "        \"\"\"\n",
    "        return [\"empty\", \"full\"]\n",
    "\n",
    "    def label(self, state):\n",
    "        \"\"\"\n",
    "        The parking lot is empty if count is 0, and it is full when count is equal to num_slots.\n",
    "        \"\"\"\n",
    "        if state == 0:\n",
    "            return [\"empty\"]\n",
    "        elif state == self.num_slots:\n",
    "            return [\"full\"]\n",
    "        else:\n",
    "            return []"
   ],
   "metadata": {
    "collapsed": false,
    "pycharm": {
     "name": "#%%\n"
    }
   }
  },
  {
   "cell_type": "code",
   "execution_count": 7,
   "outputs": [
    {
     "name": "stdout",
     "output_type": "stream",
     "text": [
      "\u001B[92m [SUCCESS] <Graph with |V|=6, |E|=12> generated. \u001B[0m\n",
      "{'graph': {'edge_properties': {'input': {'default': None,\n",
      "                                         'dict': [{'edge': (0, 1, 0),\n",
      "                                                   'pvalue': 'enter'},\n",
      "                                                  {'edge': (0, 0, 0),\n",
      "                                                   'pvalue': 'exit'},\n",
      "                                                  {'edge': (1, 2, 0),\n",
      "                                                   'pvalue': 'enter'},\n",
      "                                                  {'edge': (1, 0, 0),\n",
      "                                                   'pvalue': 'exit'},\n",
      "                                                  {'edge': (2, 3, 0),\n",
      "                                                   'pvalue': 'enter'},\n",
      "                                                  {'edge': (2, 1, 0),\n",
      "                                                   'pvalue': 'exit'},\n",
      "                                                  {'edge': (3, 4, 0),\n",
      "                                                   'pvalue': 'enter'},\n",
      "                                                  {'edge': (3, 2, 0),\n",
      "                                                   'pvalue': 'exit'},\n",
      "                                                  {'edge': (4, 5, 0),\n",
      "                                                   'pvalue': 'enter'},\n",
      "                                                  {'edge': (4, 3, 0),\n",
      "                                                   'pvalue': 'exit'},\n",
      "                                                  {'edge': (5, 5, 0),\n",
      "                                                   'pvalue': 'enter'},\n",
      "                                                  {'edge': (5, 4, 0),\n",
      "                                                   'pvalue': 'exit'}]},\n",
      "                               'prob': {'default': None, 'dict': []}},\n",
      "           'edges': {0: {0: 1, 1: 1},\n",
      "                     1: {0: 1, 2: 1},\n",
      "                     2: {1: 1, 3: 1},\n",
      "                     3: {2: 1, 4: 1},\n",
      "                     4: {3: 1, 5: 1},\n",
      "                     5: {4: 1, 5: 1}},\n",
      "           'graph_properties': {'actions': ['enter', 'exit'],\n",
      "                                'atoms': ['empty', 'full'],\n",
      "                                'init_state': None,\n",
      "                                'is_deterministic': True,\n",
      "                                'is_probabilistic': False},\n",
      "           'node_properties': {'label': {'default': None,\n",
      "                                         'dict': {0: ['empty'],\n",
      "                                                  1: [],\n",
      "                                                  2: [],\n",
      "                                                  3: [],\n",
      "                                                  4: [],\n",
      "                                                  5: ['full']}},\n",
      "                               'state': {'default': None,\n",
      "                                         'dict': {0: 0,\n",
      "                                                  1: 1,\n",
      "                                                  2: 2,\n",
      "                                                  3: 3,\n",
      "                                                  4: 4,\n",
      "                                                  5: 5}}},\n",
      "           'nodes': 6}}\n"
     ]
    }
   ],
   "source": [
    "tsys = CarParking(5)\n",
    "tsys_graph = tsys.graphify()\n",
    "tsys_dict = tsys_graph.serialize()\n",
    "pprint(tsys_dict)"
   ],
   "metadata": {
    "collapsed": false,
    "pycharm": {
     "name": "#%%\n"
    }
   }
  },
  {
   "cell_type": "code",
   "execution_count": 8,
   "outputs": [],
   "source": [
    "graph2 = Graph.deserialize(tsys_dict)"
   ],
   "metadata": {
    "collapsed": false,
    "pycharm": {
     "name": "#%%\n"
    }
   }
  },
  {
   "cell_type": "code",
   "execution_count": 13,
   "outputs": [
    {
     "name": "stdout",
     "output_type": "stream",
     "text": [
      "6\n",
      "12\n"
     ]
    },
    {
     "data": {
      "text/plain": "dict_items([(0, 0), (1, 1), (2, 2), (3, 3), (4, 4), (5, 5)])"
     },
     "execution_count": 13,
     "metadata": {},
     "output_type": "execute_result"
    }
   ],
   "source": [
    "print(graph2.number_of_nodes())\n",
    "print(graph2.number_of_edges())\n",
    "graph2[\"state\"].items()"
   ],
   "metadata": {
    "collapsed": false,
    "pycharm": {
     "name": "#%%\n"
    }
   }
  },
  {
   "cell_type": "code",
   "execution_count": null,
   "outputs": [],
   "source": [],
   "metadata": {
    "collapsed": false,
    "pycharm": {
     "name": "#%%\n"
    }
   }
  }
 ],
 "metadata": {
  "kernelspec": {
   "display_name": "Python 3",
   "language": "python",
   "name": "python3"
  },
  "language_info": {
   "codemirror_mode": {
    "name": "ipython",
    "version": 2
   },
   "file_extension": ".py",
   "mimetype": "text/x-python",
   "name": "python",
   "nbconvert_exporter": "python",
   "pygments_lexer": "ipython2",
   "version": "2.7.6"
  }
 },
 "nbformat": 4,
 "nbformat_minor": 0
}