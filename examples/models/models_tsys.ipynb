{
 "cells": [
  {
   "cell_type": "markdown",
   "metadata": {
    "pycharm": {
     "name": "#%% md\n"
    }
   },
   "source": [
    "# Deterministic Transition System\n",
    "\n",
    "Represents a transition system [Principles of Model Checking, Def. 2.1].\n",
    "$$\n",
    "    TSys = (S, A, T, AP, L)\n",
    "$$\n",
    "In the `TSys` class, each component is represented as a function.\n",
    "\n",
    "- The set of states $S$ is represented by `TSys.states` function,\n",
    "- The set of actions $A$ is represented by `TSys.actions` function,\n",
    "- The transition function $T$ is represented by `TSys.delta` function,\n",
    "- The set of atomic propositions is represented by `TSys.atoms` function,\n",
    "- The labeling function $L$ is represented by `TSys.label` function.\n",
    "\n",
    "All of the above functions are marked abstract. The recommended way to use `TSys` class is by subclassing it and implementing its component functions.\n",
    "\n",
    "The example shows an example of defining a deterministic transition system.\n",
    "\n",
    "\n",
    "## Car Parking Transition System\n",
    "\n",
    "Consider a car parking with $n$ slots where cars can `enter` or `exit`.\n",
    "There are two properties of interest, namely whether the parking lot is empty or full.\n",
    "\n",
    "The `CarParking` class demonstrates how a parameterized transition system can be defined.\n",
    "\n"
   ]
  },
  {
   "cell_type": "code",
   "execution_count": 1,
   "metadata": {
    "pycharm": {
     "name": "#%%\n"
    }
   },
   "outputs": [],
   "source": [
    "# This code block is necessary only when using `ggsolver:v0.1` docker image.\n",
    "import sys\n",
    "sys.path.append('/home/ggsolver/')\n",
    "\n",
    "from examples.jupyter_patch import *"
   ]
  },
  {
   "cell_type": "code",
   "execution_count": 2,
   "metadata": {
    "pycharm": {
     "name": "#%%\n"
    }
   },
   "outputs": [],
   "source": [
    "import logging\n",
    "logger = logging.getLogger()\n",
    "logger.setLevel(logging.ERROR)"
   ]
  },
  {
   "cell_type": "markdown",
   "metadata": {
    "pycharm": {
     "name": "#%% md\n"
    }
   },
   "source": [
    "A *deterministic* transition system is defined as follows:\n",
    "\n",
    "- First we define a class that inherits from `ggsolver.models.TSys` class.\n",
    "  We will call it `CarParking`.\n",
    "- Define its `__init__` method to define instance variables that store input parameters.\n",
    "  In our case, the only input parameter is the number of slots in parking lot: `num_slots`.\n",
    "- Implement the component functions `states, actions, delta, atoms, label` that define the transition system.\n",
    "\n",
    "<div class=\"alert alert-block alert-warning\">\n",
    "<b>Note:</b> If `__init__` method is defined for your derived class, then a call to `super(DerivedTSys, self).__init__()` must be made.\n",
    "</div>\n"
   ]
  },
  {
   "cell_type": "code",
   "execution_count": 3,
   "metadata": {
    "pycharm": {
     "name": "#%%\n"
    }
   },
   "outputs": [],
   "source": [
    "from ggsolver.models import TSys\n",
    "\n",
    "class CarParking(TSys):\n",
    "    def __init__(self, num_slots):\n",
    "        super(CarParking, self).__init__()\n",
    "        self.num_slots = num_slots\n",
    "\n",
    "    def states(self):\n",
    "        \"\"\"\n",
    "        To determine whether parking is full or empty, we can maintain a count of the number of cars\n",
    "        in the parking lot. Hence, the states can be represented by integers from 0 to num_slots.\n",
    "        \"\"\"\n",
    "        return list(range(self.num_slots + 1))\n",
    "\n",
    "    def actions(self):\n",
    "        \"\"\"\n",
    "        There are two actions: enter and exit, that represent a car has entered or exited.\n",
    "        \"\"\"\n",
    "        return [\"enter\", \"exit\"]\n",
    "\n",
    "    def delta(self, state, act):\n",
    "        \"\"\"\n",
    "        The transition function should determine the next state, i.e. how many cars will be there in the parking lot, based on how many cars are currently in the parking lot and the action: whether a car is entering or exiting.\n",
    "        \"\"\"\n",
    "        if state == 0 and act == \"exit\":\n",
    "            return 0\n",
    "        elif state == self.num_slots and act == \"enter\":\n",
    "            return self.num_slots\n",
    "        elif act == \"enter\":\n",
    "            return state + 1\n",
    "        else:   # if act == \"exit\":\n",
    "            return state - 1\n",
    "\n",
    "    def atoms(self):\n",
    "        \"\"\"\n",
    "        We care about two properties: whether the parking lot is \"empty\" or it is \"full\".\n",
    "        Hence, we will define two atomic propositions.\n",
    "        \"\"\"\n",
    "        return [\"empty\", \"full\"]\n",
    "\n",
    "    def label(self, state):\n",
    "        \"\"\"\n",
    "        The parking lot is empty if count is 0, and it is full when count is equal to num_slots.\n",
    "        \"\"\"\n",
    "        if state == 0:\n",
    "            return [\"empty\"]\n",
    "        elif state == self.num_slots:\n",
    "            return [\"full\"]\n",
    "        else:\n",
    "            return []"
   ]
  },
  {
   "cell_type": "markdown",
   "metadata": {
    "pycharm": {
     "name": "#%% md\n"
    }
   },
   "source": [
    "Note that our class definition closely follows the mathematical definition of a transition system. This provides an easy interface to implement various real-life or research paper based transition sysetsm models directly.\n",
    "\n",
    "Moreover, the ability to define parameters such as `num_slots` allows us to define a family of parameterized transition systems. This is particularly useful when running batch simulations.\n",
    "\n",
    "However, the above style of defining transition system is inefficient. Especially, when running planning algorithms on large transition system, a large number of calls are made to `states` and `delta` function. Since there is non-trivial computation occurring in these functions, it slows the algorithms.\n",
    "\n",
    "In such cases, it is efficient to use discrete graph representation of the transition system. We provide an easy interface to construct and visualize the equivalent graph representation of the defined transition system. This involves three steps:\n",
    "\n",
    "- **Instantiate** your derived transition system class.\n",
    "- **Graphify** the instance.\n",
    "- **Save to PNG** the graph to a PNG for visualization.\n",
    "\n",
    "**Note:** Graphs with more than 500 nodes cannot be saved to PNG. At present the best way to\n",
    "visualize such graphs is to `serialize` them and manually check them.\n",
    "\n",
    "We demonstrate these steps next.\n",
    "\n",
    "### Instantiate CarParking\n",
    "This is same as instantiating any class in Python."
   ]
  },
  {
   "cell_type": "code",
   "execution_count": 4,
   "metadata": {
    "pycharm": {
     "name": "#%%\n"
    }
   },
   "outputs": [],
   "source": [
    "tsys = CarParking(num_slots=5)"
   ]
  },
  {
   "cell_type": "markdown",
   "metadata": {
    "pycharm": {
     "name": "#%% md\n"
    }
   },
   "source": [
    "In case the initial state of the transition system is known, it can be set by calling `initialize` function as shown below. In our case, assume that parking lot starts empty.\n",
    "\n",
    "The initial state of the transition system can be checked using `init_state` property."
   ]
  },
  {
   "cell_type": "code",
   "execution_count": 5,
   "metadata": {
    "pycharm": {
     "name": "#%%\n"
    }
   },
   "outputs": [
    {
     "name": "stdout",
     "output_type": "stream",
     "text": [
      "init_state: 0\n"
     ]
    }
   ],
   "source": [
    "tsys.initialize(0)\n",
    "print(\"init_state:\", tsys.init_state())"
   ]
  },
  {
   "cell_type": "markdown",
   "metadata": {
    "pycharm": {
     "name": "#%% md\n"
    }
   },
   "source": [
    "### Graphify\n",
    "\n",
    "The `graphify` function returns a `ggsolver.graph.Graph` object that represents a multi-digraph. See [Graph Class API](https://akulkarni.me/ggsolver/modules/graph.html) and [Graph Class Example](https://akulkarni.me/ggsolver/examples/graphs.html) for more information about Graph class.\n",
    "\n",
    "**Note:** If any changes are made to the transition system after a call to graphify, the changes will not reflect in the graph. The `graphify` must be called again."
   ]
  },
  {
   "cell_type": "code",
   "execution_count": 6,
   "metadata": {
    "pycharm": {
     "name": "#%%\n"
    }
   },
   "outputs": [
    {
     "name": "stderr",
     "output_type": "stream",
     "text": [
      "ERROR:root:\u001B[91m[ERROR] Input domain of <CarParking object at 139975064780960> is not set. No edges were added.\u001B[0m\n"
     ]
    },
    {
     "name": "stdout",
     "output_type": "stream",
     "text": [
      "\u001B[92m [SUCCESS] <Graph with |V|=6, |E|=0> generated. \u001B[0m\n"
     ]
    }
   ],
   "source": [
    "graph = tsys.graphify()"
   ]
  },
  {
   "cell_type": "markdown",
   "metadata": {
    "pycharm": {
     "name": "#%% md\n"
    }
   },
   "source": [
    "### Visualize using to_png function\n",
    "\n",
    "A graph with less than 500 nodes can be visualized using `to_png` function. The `to_png` function requires one positional argument:\n",
    "\n",
    "- `fpath`: Path to where the generated PNG should be stored."
   ]
  },
  {
   "cell_type": "code",
   "execution_count": 7,
   "metadata": {
    "pycharm": {
     "name": "#%%\n"
    }
   },
   "outputs": [
    {
     "ename": "FileNotFoundError",
     "evalue": "[Errno 2] No such file or directory: 'out/car_parking_nolabels.png'",
     "output_type": "error",
     "traceback": [
      "\u001B[0;31m---------------------------------------------------------------------------\u001B[0m",
      "\u001B[0;31mFileNotFoundError\u001B[0m                         Traceback (most recent call last)",
      "Cell \u001B[0;32mIn [7], line 5\u001B[0m\n\u001B[1;32m      2\u001B[0m fpath \u001B[38;5;241m=\u001B[39m \u001B[38;5;124m\"\u001B[39m\u001B[38;5;124mout/car_parking_nolabels.png\u001B[39m\u001B[38;5;124m\"\u001B[39m\n\u001B[1;32m      4\u001B[0m \u001B[38;5;66;03m# Generate a PNG\u001B[39;00m\n\u001B[0;32m----> 5\u001B[0m \u001B[43mgraph\u001B[49m\u001B[38;5;241;43m.\u001B[39;49m\u001B[43mto_png\u001B[49m\u001B[43m(\u001B[49m\u001B[43mfpath\u001B[49m\u001B[43m)\u001B[49m\n\u001B[1;32m      7\u001B[0m \u001B[38;5;66;03m# Show PNG in Jupyter Notebook\u001B[39;00m\n\u001B[1;32m      8\u001B[0m html \u001B[38;5;241m=\u001B[39m img2html(fpath)\n",
      "File \u001B[0;32m/home/ggsolver/ggsolver/graph.py:619\u001B[0m, in \u001B[0;36mGraph.to_png\u001B[0;34m(self, fpath, nlabel, elabel)\u001B[0m\n\u001B[1;32m    617\u001B[0m dot_graph \u001B[38;5;241m=\u001B[39m nx\u001B[38;5;241m.\u001B[39mnx_agraph\u001B[38;5;241m.\u001B[39mto_agraph(g)\n\u001B[1;32m    618\u001B[0m dot_graph\u001B[38;5;241m.\u001B[39mlayout(\u001B[38;5;124m\"\u001B[39m\u001B[38;5;124mdot\u001B[39m\u001B[38;5;124m\"\u001B[39m)\n\u001B[0;32m--> 619\u001B[0m \u001B[43mdot_graph\u001B[49m\u001B[38;5;241;43m.\u001B[39;49m\u001B[43mdraw\u001B[49m\u001B[43m(\u001B[49m\u001B[43mfpath\u001B[49m\u001B[43m)\u001B[49m\n",
      "File \u001B[0;32m/usr/local/lib/python3.9/dist-packages/pygraphviz/agraph.py:1614\u001B[0m, in \u001B[0;36mAGraph.draw\u001B[0;34m(self, path, format, prog, args)\u001B[0m\n\u001B[1;32m   1611\u001B[0m data \u001B[38;5;241m=\u001B[39m \u001B[38;5;28mself\u001B[39m\u001B[38;5;241m.\u001B[39m_run_prog(prog, args)\n\u001B[1;32m   1613\u001B[0m \u001B[38;5;28;01mif\u001B[39;00m path \u001B[38;5;129;01mis\u001B[39;00m \u001B[38;5;129;01mnot\u001B[39;00m \u001B[38;5;28;01mNone\u001B[39;00m:\n\u001B[0;32m-> 1614\u001B[0m     fh \u001B[38;5;241m=\u001B[39m \u001B[38;5;28;43mself\u001B[39;49m\u001B[38;5;241;43m.\u001B[39;49m\u001B[43m_get_fh\u001B[49m\u001B[43m(\u001B[49m\u001B[43mpath\u001B[49m\u001B[43m,\u001B[49m\u001B[43m \u001B[49m\u001B[38;5;124;43m\"\u001B[39;49m\u001B[38;5;124;43mw+b\u001B[39;49m\u001B[38;5;124;43m\"\u001B[39;49m\u001B[43m)\u001B[49m\n\u001B[1;32m   1615\u001B[0m     fh\u001B[38;5;241m.\u001B[39mwrite(data)\n\u001B[1;32m   1616\u001B[0m     \u001B[38;5;28;01mif\u001B[39;00m \u001B[38;5;28misinstance\u001B[39m(path, \u001B[38;5;28mstr\u001B[39m):\n",
      "File \u001B[0;32m/usr/local/lib/python3.9/dist-packages/pygraphviz/agraph.py:1791\u001B[0m, in \u001B[0;36mAGraph._get_fh\u001B[0;34m(self, path, mode)\u001B[0m\n\u001B[1;32m   1789\u001B[0m         fh \u001B[38;5;241m=\u001B[39m os\u001B[38;5;241m.\u001B[39mpopen(\u001B[38;5;124m\"\u001B[39m\u001B[38;5;124mbzcat \u001B[39m\u001B[38;5;124m\"\u001B[39m \u001B[38;5;241m+\u001B[39m path)  \u001B[38;5;66;03m# probably not portable\u001B[39;00m\n\u001B[1;32m   1790\u001B[0m     \u001B[38;5;28;01melse\u001B[39;00m:\n\u001B[0;32m-> 1791\u001B[0m         fh \u001B[38;5;241m=\u001B[39m \u001B[38;5;28;43mopen\u001B[39;49m\u001B[43m(\u001B[49m\u001B[43mpath\u001B[49m\u001B[43m,\u001B[49m\u001B[43m \u001B[49m\u001B[43mmode\u001B[49m\u001B[38;5;241;43m=\u001B[39;49m\u001B[43mmode\u001B[49m\u001B[43m)\u001B[49m\n\u001B[1;32m   1792\u001B[0m \u001B[38;5;28;01melif\u001B[39;00m \u001B[38;5;28mhasattr\u001B[39m(path, \u001B[38;5;124m\"\u001B[39m\u001B[38;5;124mwrite\u001B[39m\u001B[38;5;124m\"\u001B[39m):\n\u001B[1;32m   1793\u001B[0m     \u001B[38;5;66;03m# Note, mode of file handle is unchanged.\u001B[39;00m\n\u001B[1;32m   1794\u001B[0m     fh \u001B[38;5;241m=\u001B[39m path\n",
      "\u001B[0;31mFileNotFoundError\u001B[0m: [Errno 2] No such file or directory: 'out/car_parking_nolabels.png'"
     ]
    }
   ],
   "source": [
    "# Define path where to save the generated PNG.\n",
    "fpath = \"out/car_parking_nolabels.png\"\n",
    "\n",
    "# Generate a PNG\n",
    "graph.to_png(fpath)\n",
    "\n",
    "# Show PNG in Jupyter Notebook\n",
    "html = img2html(fpath)\n",
    "IPython.display.HTML(html)"
   ]
  },
  {
   "cell_type": "markdown",
   "metadata": {
    "pycharm": {
     "name": "#%% md\n"
    }
   },
   "source": [
    "As you may notice, the generated PNG has the structure as expected. However, it would be nice to be visualize what atomic propositions hold in which state and which edges correspond to which actions.\n",
    "\n",
    "For this purpose, we pass two optional arguments to `to_png` function."
   ]
  },
  {
   "cell_type": "code",
   "execution_count": null,
   "metadata": {
    "pycharm": {
     "name": "#%%\n"
    }
   },
   "outputs": [],
   "source": [
    "# Define path where to save the generated PNG.\n",
    "fpath = \"out/car_parking_labeled.png\"\n",
    "\n",
    "# Generate a PNG\n",
    "graph.to_png(fpath, nlabel=[\"state\", \"label\"], elabel=[\"input\"])\n",
    "\n",
    "# Show PNG in Jupyter Notebook\n",
    "html = img2html(fpath)\n",
    "IPython.display.HTML(html)"
   ]
  },
  {
   "cell_type": "markdown",
   "metadata": {
    "pycharm": {
     "name": "#%% md\n"
    }
   },
   "source": [
    "## Serialization\n",
    "\n",
    "The graph of a transition system can be serialized into a dictionary. This allows us to save it or share it easily over a communication channel.\n",
    "\n",
    "See [Graph.Serialize() API Documentation](https://akulkarni.me/ggsolver/modules/models.html#ggsolver.models.TSys.serialize) to understand the components of generated dictionary."
   ]
  },
  {
   "cell_type": "code",
   "execution_count": null,
   "metadata": {
    "pycharm": {
     "name": "#%%\n"
    }
   },
   "outputs": [],
   "source": [
    "graph.serialize()"
   ]
  }
 ],
 "metadata": {
  "kernelspec": {
   "display_name": "Python 3 (ipykernel)",
   "language": "python",
   "name": "python3"
  },
  "language_info": {
   "codemirror_mode": {
    "name": "ipython",
    "version": 3
   },
   "file_extension": ".py",
   "mimetype": "text/x-python",
   "name": "python",
   "nbconvert_exporter": "python",
   "pygments_lexer": "ipython3",
   "version": "3.9.2"
  }
 },
 "nbformat": 4,
 "nbformat_minor": 1
}