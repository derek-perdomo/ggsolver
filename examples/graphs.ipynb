{
 "cells": [
  {
   "cell_type": "markdown",
   "metadata": {
    "pycharm": {
     "name": "#%% md\n"
    }
   },
   "source": [
    "# Graph class"
   ]
  },
  {
   "cell_type": "code",
   "execution_count": 1,
   "metadata": {
    "pycharm": {
     "name": "#%%\n"
    }
   },
   "outputs": [],
   "source": [
    "# This code block is necessary when running in `ggsolver:v0.1` docker image.\n",
    "import sys\n",
    "sys.path.append('/home/ggsolver/')"
   ]
  },
  {
   "cell_type": "code",
   "execution_count": 2,
   "metadata": {
    "pycharm": {
     "name": "#%%\n"
    }
   },
   "outputs": [
    {
     "name": "stdout",
     "output_type": "stream",
     "text": [
      "import ok.\n"
     ]
    }
   ],
   "source": [
    "from ggsolver.graph import Graph, NodePropertyMap, EdgePropertyMap\n",
    "from pprint import pprint\n",
    "print(\"import ok.\")"
   ]
  },
  {
   "cell_type": "code",
   "execution_count": 3,
   "metadata": {
    "pycharm": {
     "name": "#%%\n"
    }
   },
   "outputs": [
    {
     "name": "stdout",
     "output_type": "stream",
     "text": [
      "<Graph with |V|=0, |E|=0>\n"
     ]
    }
   ],
   "source": [
    "# Creating a graph\n",
    "g = Graph()\n",
    "print(g)"
   ]
  },
  {
   "cell_type": "code",
   "execution_count": 4,
   "metadata": {
    "pycharm": {
     "name": "#%%\n"
    }
   },
   "outputs": [
    {
     "name": "stdout",
     "output_type": "stream",
     "text": [
      "g.add_node() -> 0\n",
      "g.add_nodes(num_nodes=2) -> n1:1, n2:2\n",
      "g.add_nodes(num_nodes=5) -> nodes:[3, 4, 5, 6, 7]\n"
     ]
    }
   ],
   "source": [
    "# Add single node\n",
    "n0 = g.add_node()\n",
    "print(f\"g.add_node() -> {n0}\")\n",
    "\n",
    "# Add multiple nodes\n",
    "n1, n2 = g.add_nodes(num_nodes=2)\n",
    "print(f\"g.add_nodes(num_nodes=2) -> n1:{n1}, n2:{n2}\")\n",
    "\n",
    "nodes = g.add_nodes(num_nodes=5)\n",
    "print(f\"g.add_nodes(num_nodes=5) -> nodes:{nodes}\")"
   ]
  },
  {
   "cell_type": "code",
   "execution_count": 5,
   "metadata": {
    "pycharm": {
     "name": "#%%\n"
    }
   },
   "outputs": [
    {
     "name": "stdout",
     "output_type": "stream",
     "text": [
      "g.add_edge(n0, n1) -> key0:0\n",
      "When two edges are added between same nodes, the key is incremented.\n",
      "Every edge is represented by a unique triple: (uid, vid, key).\n",
      "g.add_edge(n0, n1) -> key1:1\n",
      "g.add_edge(n0, n2) -> key2:0\n",
      "g.add_edges([(n0, n1), (n1, n2)]) -> keys:[2, 0]\n"
     ]
    }
   ],
   "source": [
    "# Create an edge (returns a key corresponding to edge).\n",
    "key0 = g.add_edge(n0, n1)\n",
    "print(f\"g.add_edge(n0, n1) -> key0:{key0}\")\n",
    "\n",
    "key1 = g.add_edge(n0, n1)\n",
    "print(f\"When two edges are added between same nodes, the key is incremented.\")\n",
    "print(f\"Every edge is represented by a unique triple: (uid, vid, key).\")\n",
    "print(f\"g.add_edge(n0, n1) -> key1:{key1}\")\n",
    "\n",
    "key2 = g.add_edge(n0, n2)\n",
    "print(f\"g.add_edge(n0, n2) -> key2:{key2}\")\n",
    "\n",
    "# Add multiple edges\n",
    "keys = g.add_edges([(n0, n1), (n1, n2)])\n",
    "print(f\"g.add_edges([(n0, n1), (n1, n2)]) -> keys:{keys}\")"
   ]
  },
  {
   "cell_type": "code",
   "execution_count": 6,
   "metadata": {
    "pycharm": {
     "name": "#%%\n"
    }
   },
   "outputs": [
    {
     "name": "stdout",
     "output_type": "stream",
     "text": [
      "g.successors(n0) -> [1, 2]  ... Node IDs of successors.\n",
      "g.predecessors(n1) -> [0]  ... Node IDs of predecessors.\n"
     ]
    }
   ],
   "source": [
    "# Check successors of a node\n",
    "successors = g.successors(n0)\n",
    "print(f\"g.successors(n0) -> {list(successors)}  ... Node IDs of successors.\")\n",
    "\n",
    "# Check predecessors of a node\n",
    "predecessors = g.predecessors(n1)\n",
    "print(f\"g.predecessors(n1) -> {list(predecessors)}  ... Node IDs of predecessors.\")"
   ]
  },
  {
   "cell_type": "code",
   "execution_count": 7,
   "metadata": {
    "pycharm": {
     "name": "#%%\n"
    }
   },
   "outputs": [
    {
     "name": "stdout",
     "output_type": "stream",
     "text": [
      "g.out_edges(n0) -> [(0, 1, 0), (0, 1, 1), (0, 1, 2), (0, 2, 0)]  ... Edge triples of out edges.\n",
      "g.in_edges(n1) -> [(0, 1, 0), (0, 1, 1), (0, 1, 2)]  ... Edge triples of out edges.\n"
     ]
    }
   ],
   "source": [
    "# Check out_edges from a node\n",
    "out_edges = g.out_edges(n0)\n",
    "print(f\"g.out_edges(n0) -> {list(out_edges)}  ... Edge triples of out edges.\")\n",
    "\n",
    "# Check in_edges to a node\n",
    "in_edges = g.in_edges(n1)\n",
    "print(f\"g.in_edges(n1) -> {list(in_edges)}  ... Edge triples of out edges.\")"
   ]
  },
  {
   "cell_type": "code",
   "execution_count": 8,
   "metadata": {
    "pycharm": {
     "name": "#%%\n"
    }
   },
   "outputs": [
    {
     "name": "stdout",
     "output_type": "stream",
     "text": [
      "g.nodes() -> [0, 1, 2, 3, 4, 5, 6, 7]  ... Node IDs.\n",
      "g.edges() -> [(0, 1, 0), (0, 1, 1), (0, 1, 2), (0, 2, 0), (1, 2, 0)]  ... Edge triples of out edges.\n",
      "g.number_of_nodes() -> 8\n",
      "g.number_of_edges() -> 5\n"
     ]
    }
   ],
   "source": [
    "# Check all nodes\n",
    "nodes = g.nodes()\n",
    "print(f\"g.nodes() -> {list(nodes)}  ... Node IDs.\")\n",
    "\n",
    "# Check all edges\n",
    "edges = g.edges()\n",
    "print(f\"g.edges() -> {list(edges)}  ... Edge triples of out edges.\")\n",
    "\n",
    "# Get number of nodes, edges\n",
    "print(f\"g.number_of_nodes() -> {g.number_of_nodes()}\")\n",
    "print(f\"g.number_of_edges() -> {g.number_of_edges()}\")"
   ]
  },
  {
   "cell_type": "code",
   "execution_count": 9,
   "metadata": {
    "pycharm": {
     "name": "#%%\n"
    }
   },
   "outputs": [
    {
     "name": "stdout",
     "output_type": "stream",
     "text": [
      "g['name'][n0] -> n0  ... If property value is assigned, then the value is returned.\n",
      "g['name'][n1] -> None  ... If property value is NOT assigned, then default value is returned.\n",
      "g['name'][n0] -> n0  ... If property value is assigned, then the value is returned.\n",
      "g['name'][n1] -> default-name  ... If property value is NOT assigned, then default value is returned.\n"
     ]
    }
   ],
   "source": [
    "# Associate a property with nodes\n",
    "# Approach 1: Create the property separately and then associate it with graph.\n",
    "name = NodePropertyMap(g)\n",
    "name[n0] = \"n0\"\n",
    "g[\"name\"] = name\n",
    "print(f\"g['name'][n0] -> {g['name'][n0]}  ... If property value is assigned, then the value is returned.\")\n",
    "print(f\"g['name'][n1] -> {g['name'][n1]}  ... If property value is NOT assigned, then default value is returned.\")\n",
    "\n",
    "# Approach 2: Create the property directly.\n",
    "g[\"name\"] = NodePropertyMap(g, default=\"default-name\")\n",
    "g[\"name\"][n0] = \"n0\"\n",
    "print(f\"g['name'][n0] -> {g['name'][n0]}  ... If property value is assigned, then the value is returned.\")\n",
    "print(f\"g['name'][n1] -> {g['name'][n1]}  ... If property value is NOT assigned, then default value is returned.\")"
   ]
  },
  {
   "cell_type": "code",
   "execution_count": 10,
   "metadata": {
    "pycharm": {
     "name": "#%%\n"
    }
   },
   "outputs": [
    {
     "name": "stdout",
     "output_type": "stream",
     "text": [
      "g['label'][(n0, n1, key0)] -> (n0, n1, 0)  ... If property value is assigned, then the value is returned.\n",
      "g['label'][(n0, n1, key1)] -> None  ... If property value is NOT assigned, then default value is returned.\n"
     ]
    }
   ],
   "source": [
    "# Associate a property with edges (edge properties can also be associated in two ways like node properties).\n",
    "g[\"label\"] = EdgePropertyMap(g)\n",
    "g[\"label\"][(n0, n1, key0)] = \"(n0, n1, 0)\"\n",
    "print(f\"g['label'][(n0, n1, key0)] -> {g['label'][(n0, n1, key0)]}  \"\n",
    "      f\"... If property value is assigned, then the value is returned.\")\n",
    "print(f\"g['label'][(n0, n1, key1)] -> {g['label'][(n0, n1, key1)]}  \"\n",
    "      f\"... If property value is NOT assigned, then default value is returned.\")"
   ]
  },
  {
   "cell_type": "code",
   "execution_count": 11,
   "metadata": {
    "pycharm": {
     "name": "#%%\n"
    }
   },
   "outputs": [
    {
     "name": "stdout",
     "output_type": "stream",
     "text": [
      "g[\"graph_prop0\"] -> 10\n",
      "g[\"graph_prop1\"] -> I am a graph property!\n"
     ]
    }
   ],
   "source": [
    "# Graph properties are assigned similarly, except we do not have GraphPropertyMap class.\n",
    "g[\"graph_prop0\"] = 10\n",
    "g[\"graph_prop1\"] = \"I am a graph property!\"\n",
    "\n",
    "print(f'g[\"graph_prop0\"] -> {g[\"graph_prop0\"]}')\n",
    "print(f'g[\"graph_prop1\"] -> {g[\"graph_prop1\"]}')"
   ]
  },
  {
   "cell_type": "code",
   "execution_count": 12,
   "metadata": {
    "pycharm": {
     "name": "#%%\n"
    }
   },
   "outputs": [
    {
     "name": "stdout",
     "output_type": "stream",
     "text": [
      "{'graph': {'edge_properties': {'label': {'default': None,\n",
      "                                         'dict': [{'edge': (0, 1, 0),\n",
      "                                                   'pvalue': '(n0, n1, 0)'}]}},\n",
      "           'edges': {0: {1: 3, 2: 1}, 1: {2: 1}},\n",
      "           'graph_properties': {'graph_prop0': 10,\n",
      "                                'graph_prop1': 'I am a graph property!'},\n",
      "           'node_properties': {'name': {'default': 'default-name',\n",
      "                                        'dict': {0: 'n0'}}},\n",
      "           'nodes': 8}}\n"
     ]
    }
   ],
   "source": [
    "# A graph object can be serialized into a dictionary.\n",
    "g_dict = g.serialize()\n",
    "pprint(g_dict)"
   ]
  },
  {
   "cell_type": "code",
   "execution_count": 13,
   "metadata": {
    "pycharm": {
     "name": "#%%\n"
    }
   },
   "outputs": [
    {
     "name": "stdout",
     "output_type": "stream",
     "text": [
      "{'graph': {'edge_properties': {'label': {'default': None,\n",
      "                                         'dict': [{'edge': (0, 1, 0),\n",
      "                                                   'pvalue': '(n0, n1, 0)'}]}},\n",
      "           'edges': {0: {1: 3, 2: 1}, 1: {2: 1}},\n",
      "           'graph_properties': {'graph_prop0': 10,\n",
      "                                'graph_prop1': 'I am a graph property!'},\n",
      "           'node_properties': {'name': {'default': 'default-name',\n",
      "                                        'dict': {0: 'n0'}}},\n",
      "           'nodes': 8}}\n"
     ]
    }
   ],
   "source": [
    "# A dictionary can be deserialized to get a graph object.\n",
    "new_g = Graph.deserialize(g_dict)\n",
    "pprint(new_g.serialize())"
   ]
  },
  {
   "cell_type": "code",
   "execution_count": 14,
   "metadata": {
    "pycharm": {
     "name": "#%%\n"
    }
   },
   "outputs": [],
   "source": [
    "# A graph can be saved and loaded to/from a file\n",
    "#   fpath: gives a complete path of the file to which the graph will be saved. (include extension)\n",
    "#   overwrite: if the file should overwrite an existing file.\n",
    "#   protocol: either json or pickle.\n",
    "g.save(fpath=\"mygraph.graph\", overwrite=True, protocol=\"json\")\n",
    "loaded_g = Graph.load(fpath=\"mygraph.graph\", protocol=\"json\")"
   ]
  },
  {
   "cell_type": "code",
   "execution_count": 15,
   "outputs": [],
   "source": [
    "# Draw graph. Saves to the given location as PNG image. \n",
    "loaded_g.to_png(\"graph1.png\")"
   ],
   "metadata": {
    "collapsed": false,
    "pycharm": {
     "name": "#%%\n"
    }
   }
  },
  {
   "cell_type": "code",
   "execution_count": 16,
   "outputs": [
    {
     "data": {
      "text/plain": "<IPython.core.display.HTML object>",
      "text/html": "<img src=\"data:image/png;base64,iVBORw0KGgoAAAANSUhEUgAAAjMAAAD7CAYAAACfdhUyAAA7z0lEQVR4nO3deViU5d4H8O+wDSCLrAKKmBvIYoq5YAquqaXmgq/mgtJrmdnqUvamncyjdSjznKzcUVHLxDTDLM1EcEPJpQQxlxAIFBFEEGVY5n7/8IITAoIwM/cw8/1cl384A/f9ne91Lvud53nmeRRCCAEiIiKipinaRHYCIiIiosbgMENERERNGocZIiIiatLMZAf4u/LycmRnZyM7Oxv5+fkoLy9HYWEhysrKYG1tDaVSCSsrKzRv3hzu7u5wdHSUHdmgsH+52L9c7F8u9i9XU+9fyjBz7949JCYm4vfff0dSUhKSk5Nx5coV3LhxA+Xl5fVex9LSEq1atYK3tzf8/f3h5+eHwMBA+Pr6QqFQaPETNG3sXy72Lxf7l4v9y2Wo/St08W0mtVqNEydOYO/evTh06BASExOhUqng6OhYWYK3tzfc3d3h4eGBFi1awNHRESYmJrC1tYWZmRnu3r0LlUqF4uJi5OXlISsrC9euXUNGRgbOnz+P5ORkpKSkoKSkBC4uLujbty/69++PkSNHonXr1tr+iHqN/cvF/uVi/3Kxf7mMpP9orQ4zR48exdatW7F7925kZWWhXbt26NevH0JCQhASEqLxD1lWVoazZ88iPj4ecXFxiIuLQ0FBAbp164axY8ciLCwMHh4eGt1Tn7F/udi/XOxfLvYvl5H1Hw2hYYWFheKLL74QAQEBAoDo3LmzWLRokfj99981vVWdVCqV+PHHH8WLL74onJ2dhZmZmRg9erTYv3+/zrPoCvuXi/3Lxf7lYv9yGXH/2zU2zBQWFop///vfws3NTVhaWopx48aJn3/+WVPLN5pKpRLbt28XgwYNEgqFQnTu3Fls375dqNVq2dE0gv3Lxf7lYv9ysX+52L8Ghpny8nLx5ZdfCicnJ2FnZycWLFggcnNzNRFOa06dOiVGjhwpFAqF6NGjhzh58qTsSA3G/uVi/3Kxf7nYv1zsv1LjhplTp06J7t27C3NzczF37ly9L/FBp0+fFv369RMmJibipZdeErdu3ZId6ZGwf7nYv1zsXy72Lxf7r6Jhw4xarRb/+te/hLm5uQgODhZJSUmNCSGVWq0WmzdvFm5ubsLLy0scPXpUdqQ6sX+52L9c7F8u9i8X+6/Row8zeXl54qmnnhLm5uYiIiLCYM455uTkiGeeeUaYmZmJiIgI2XFqxf7lYv9ysX+52L9c7L9WjzbMpKenCz8/P+Hp6dmkzzPWRq1Wi2XLlglTU1Mxc+ZMUVZWJjtSFexfLvYvF/uXi/3Lxf4fqv7DzKVLl0SrVq1EQECA+Ouvvx49aROya9cuYWVlJUJDQ0VpaansOEII9i8b+5eL/cvF/uVi/3Wq3zCTlZUl2rZtK3r06NHkLpJqqPj4eGFtbS2ef/556Yfy2D/71zX2Lxf7l4v9y9WA/useZoqKisTjjz8ufHx8RE5OTuNTNiE//PCDMDc3F//4xz+kZWD/7F8W9i8X+5eL/cv1iP3XPcy89NJLwsHBQVy9erXR4ZqiVatWCRMTExEbGytlf/bP/mVi/3Kxf7nYv1yP0P/Dh5nvv/9eKBQKsWPHDo2Fa4pCQ0NFq1atdH6Ij/3fx/7lYv9ysX+52L9c9ey/9mFGpVKJdu3aiUmTJmk8XH2cOXNGPP3008Le3l7Y2NiIgQMHiiNHjkjJkpeXJ1xcXMS8efN0tqes/tVqtThy5Ih4+eWXRYcOHYSFhYVwcXERTz75pNi8ebOU88fG1H9NRowYIQCIxYsXS9nf2Pp/8sknBYAa/7z++us6z2Ns/QshRElJifj0009FYGCgsLGxES4uLmLo0KHi+++/1/m/QcbU/8qVK2v9337Fn6FDh+o0Uz37r32YWb58ubCyshLp6emaT1eHhIQEYWVlJcaPHy+ysrJETk6OeOGFF4SZmZnYt2+fzvMIIcRnn30mLC0tdXa4T1b/KSkpAoAYNGiQ+O2338S9e/fElStXxHPPPScAiDlz5ug0TwVj6f9BmzZtqvxHRNYwI4Rx9a9vw4wQxtX/nTt3RJ8+fUTnzp1FXFycuHv3rkhLSxOhoaECgDh37pzOMxlL//UZZj744AOdZhKiXv3XPMyUl5eL1q1bi9mzZ2svXS3Ky8uFn5+fcHd3F3fv3q18vaysTHh7ewtPT09RXFys81wqlUq0bt1aJ9O5zP5TUlKEmZmZyMvLq/K6SqUSTk5OQqlUsn8dyczMFA4ODmLKlCnShxlj6v/JJ58UiYmJUvaujTH1P3PmTGFnZyeuX79e5fU7d+4IpVIpZZgxlv5Xrlwpnn322Rrfu3jxolAqleLatWu6DSXq1f92E9TgwIEDSE9PxwsvvFDT21oVHx+P5ORkhIaGwsrKqvJ1U1NTPPfcc8jIyMCePXt0nsvCwgLh4eGIiopCaWmpVveS2b+Pjw9KS0vh4OBQ5XULCwt4enpCpVKhuLhY57mMpf+/e+GFFzBu3Dg89dRTUnMAxtm/PjGW/rOzs7FmzRpMmjQJLVq0qPJes2bNUFxcDH9/f53nMpb+27dvj759+9b43ooVKzBq1Ci4ubnpOFX9+q9xmNm2bRuCgoLg4+Oj1YA1OXjwIADgiSeeqPZexWu//PKLTjNVCA8Px40bNxAbG6vVfWT2X5v8/HxcunQJXbt2hb29vZQMxtR/ZGQkkpOT8cknn0jL8CBj6l8fGUP/33//PcrLy9GnTx+d710XY+h/0KBBmDNnTrXXCwsLsWnTJrz88ss6z1Shrv5rHGYOHz6MwYMHazVYbS5cuAAAaNWqVbX3WrZsCQC4ePGiTjNV8PLyQvv27XHkyBGt7iOz/wcVFBTg6NGjGDlyJNzc3BAVFSUti7H0/9dff2HOnDmIjIyEra2ttBwPMpb+AWDz5s3o0qULmjVrBnt7e/Tt2xdfffWV1EzG0P/p06cBAA4ODpgzZw48PT1hYWEBLy8vvPbaa8jLy5OSCzCO/muzYcMGtG7dGsHBwdIy1NV/tWHm5s2buHLlCoKCgrQerib5+fkA7h9SfJCNjQ0A4NatW7qMVEXv3r1x/Phxra0vu/+/++c//wl7e3v06dMHpqam2LVrl5RDvH9nDP1Pnz4dEydOxIABA6RlqI0x9A/c/zcmMjISN27cwMmTJ/HYY49h0qRJeO2116TmMvT+r127BgB4/vnnkZ2djbi4ONy4cQOLFy9GZGQkgoKCcPv2bSnZAMPvvyZCCHzxxRdSj8pUeFj/1YaZtLQ0CCHg7e2t9WCPSggBAFAoFNIydOzYEVevXtXa+vrU/4IFC6BSqZCSkgIfHx907doVixcvlprJ0Ptfu3YtLl26hIiICCn718XQ+weAI0eOICoqCoGBgWjWrBm8vb0RFRWFHj16YMWKFThx4oS0bIbef8X1eFZWVti4cSPatm2L5s2bIywsDO+88w4uXryIZcuWSckGGH7/Nfnxxx9x7do1TJkyRXaUh/Zf45EZAHByctJqqNo0b94cAFBUVFTtvYrXKn5GBicnJ+Tm5mptfdn9P8jCwgI+Pj5YuXIlRo4ciffeew8HDhyQlseQ+09PT8e8efMQGRlZ45FJfWDI/dclNDQUABATEyMtg6H3X/G/+0GDBsHMzKzKeyNGjAAA7Nu3T+e5Khh6/zX57LPPEBYWVnlmRKaH9V9tmLl37x4AVPkmkS5VXPT0119/VXsvMzMTwP3pTBYbG5saBy1Nkd3/w1T8YyLj22QVDLn/mJgY3L59G/369YNCoaj8U/H/iBYuXFj52uXLl3WeDzDs/uvi7u4OALhx44a0DIbef5s2bQDU/B9zV1dXAEBOTo4uI1Vh6P0/6OLFi9i/f79enGICHt5/tWGm4iu5sq5L6d+/PwDg1KlT1d6reG3gwIE6zfR3ubm5cHR01Nr6svt/GKVSCQBSL8Iz5P5nzZoFIUS1P5s3bwYALF68uPK19u3b6zwfYNj91yUrKwvAf/+jKoOh91/xLaaKa2f+rmKIfPAr27pk6P0/6LPPPkNwcDB8fX1lRwHw8P6rDTMVE7Gs6TckJAS+vr7YsWNHlfuZlJeXY9u2bfD09MQzzzwjJRtwvxdtHgKU3f/cuXMxefLkGt/78ccfAQDdu3fXZaQqDL1/fWfo/a9btw7dunWr9roQAtu3bwfw3yOUMhh6/08//TRatmyJn376qdr9rCpO740aNUpCsvsMvf+/KygoQFRUFGbNmiU7SqWH9V9tmOnQoQMsLS1x5swZrQeriYmJCdavX4+8vDyEh4fj+vXryM3NxaxZs3Dp0iWsXbsWlpaWUrIB9786GBAQoLX1ZfcPAF999RU++OADXL16FSqVClevXsXbb7+NLVu2oFu3bpg+fbq0bMbQvz4zhv5Pnz6NWbNm4fLlyyguLsYff/yBKVOm4NSpU3j11VfRs2dPqdkMuX+lUol169YhNzcXEyZMwKVLl5Cfn4/Nmzfjww8/RM+ePaV+o8zQ+/+7yMhI2NjYYPTo0bKjVHpY/9WGGaVSia5du+LYsWNaD1abXr164dixY7h9+za8vb3Rpk0bXLp0CYcOHcKQIUOk5RJCICEhQatfm5Pd/3vvvYe1a9fi2LFj6N+/P+zs7BAQEIBffvkFH374IQ4fPiztfK4x9P93L730Uo3XzAwdOlRKHmPof8qUKYiOjsa1a9cwdOhQNG/eHD179kRmZia++uorfPbZZ1JyAcbRPwAMHToU8fHxKC4uRvfu3dGiRQssXboU8+bNQ2xsLP/90YGKr2O/8MIL1S7ElqXO/mt6yMGCBQtEq1atRFlZmQaeqmA4Dh06pJMHnbH/mrF/udi/XOxfLvYvVx391/ygyStXrgiFQiF+/PFH7aZrYqZMmSK6d++u9X3Yf83Yv1zsXy72Lxf7l6uO/mseZoQQIiQkRDz11FPaSdUEZWRkCCsrK7F69Wqd7Mf+q2L/crF/udi/XOxfrnr0X/swExcXJwCIffv2aSddEzNt2jTRpk0bUVxcrJP92H9V7F8u9i8X+5eL/ctVj/5rH2aEEGLEiBHCz89P3Lt3T/PpmpDjx48LU1NTsXXrVp3uy/7vY/9ysX+52L9c7F+uevb/8GEmPT1dODg4iFdffVWz6ZqQwsJC0aFDBzFkyBChVqt1ujf7Z/+ysX+52L9c7F+uR+j/4cOMEEJ8/fXXQqFQiG3btmkuYRNRXl4uxowZI9zc3MT169elZGD/7F8W9i8X+5eL/cv1iP3XPcwIIcQbb7whlEqlOHDgQOMTNiEzZ84UlpaWIj4+XmoO9s/+ZWD/crF/udi/XI/Yf/2GmfLycjFp0iRha2srDh482LiETYBarRZz5swRpqamYteuXbLjsH/J2L9c7F8u9i8X+6+X+g0zQghRUlIiJkyYIJRKpfj6668bFLIpUKlUYuLEicLCwkLnF3w9DPuXi/3Lxf7lYv9ysf861X+YEeL+hDh79myhUCjE22+/LUpKSh4tqZ67evWq6N27t7CzsxM///yz7DjVsH+52L9c7F8u9i8X+3+oRxtmKqxfv140a9ZM9OrVS1y+fLkhS+id6Oho4eDgIPz8/ERSUpLsOA/F/uVi/3Kxf7nYv1zsv0YNG2aEEOL8+fPi8ccfF1ZWVuKDDz7Q2c2ENO3PP/8Uw4cPFwDEiy++KO7evSs7Ur2wf7nYv1zsXy72Lxf7r6bhw4wQ98/jRURECBsbG9G+fXuxefPmJvNwrBs3boi3335bWFlZCV9fXxEbGys70iNj/3Kxf7nYv1zsXy72X0XjhpkKGRkZYurUqcLMzEx4e3uLDRs26O1dC9PT08W8efOEjY2NcHV1FcuXL2/y5x7Zv1zsXy72Lxf7l4v9CyE0NcxUuHTpkpg2bZqwsLAQjo6O4o033tCL848lJSUiJiZGjBgxQpiamgo3NzfxySefiKKiItnRNIr9y8X+5WL/crF/uYy8f80OMxWuX78uli5dKh577DEBQPj4+Ih3331XJCYm6uwwWEFBgdi9e7eYOnWqcHR0FAqFQjz++OMiPDxcqFQqnWSQRV/7HzhwoNi+fTv71wH2z/5lYf9yGWn/2xVCCAEtUavVOHr0KN59912cP38eubm5sLe3R58+fdCnTx8EBgbC398fHh4ejdqnrKwMly5dQlJSEhISEnD48GGcOXMGarUarq6uCA0NxZw5c7Br1y7MnTsXe/bswbBhwzT0KfVXRf87d+7Erl27kJaWpvP+g4KCMGbMGIwZMwZt2rTRzAdrIti/XOxfLvYvl5H1H63VYaZCp06dMHbsWEyYMAFxcXGIj4/HkSNHkJWVBQBwdHREx44d4ebmBk9PT7i6usLe3h5KpRLW1tZQKpUoLCxEWVkZCgsLUVBQgIyMDGRnZyM9PR0XL15ESUkJzMzM0KlTJ4SEhCA4OBjBwcF48sknMWXKFPzjH/8AAISHh2P37t04efIk2rdvr+2PrleSkpJ03n+LFi0kf2r9wf7lYv9ysX+5DLx/7Q8zt2/fhqOjI3bu3Ilnn322ynu5ubk4d+4ckpOTcfnyZVy/fh2ZmZnIzs5GQUEBVCoV7ty5g9LSUtjY2MDc3By2traws7NDy5Yt4ebmhlatWsHHxwd+fn7w9fWFUqmsssdzzz2HwsJC7NmzBwBQXFyMvn37oqioCAkJCbCzs9Pmx9dr9em/qKgIJSUlDe6fasf+5WL/crF/uQysf+0PMwcOHMDgwYORmZnZoMNZ27dvx/jx49HQmJ9++ik++ugj3Lhxo/K19PR0PPHEE+jTpw++/fZbKBSKBq1NRERE0kWbaHuHX3/9Fa1atWr0ebmG6t69O3JycpCWllb5WuvWrbFt2zbExMTgk08+kZKLiIiINEPrw0xycjI6d+6s7W1qFRAQUJnj7wYMGIClS5fi//7v/3D06FEZ0YiIiEgDtD7MXLhwAT4+PtreplbNmzeHu7s7Lly4UO29uXPnYvjw4ZgwYQJu3rwpIR0RERE1llaHGSEELl68KHWYAQAfHx+kpKRUe12hUCAyMhLm5uYICwuDWq2WkI6IiIgaQ6vDTGZmJgoKCqQPM506darxyAwAODg4YNu2bfjll18QERGh42RERETUWFodZi5dugQA6Nixoza3qZO3tzcuXrxY6/s9evTAhx9+iIULF+Lw4cM6TEZERESNpdVhJi0tDVZWVnB1ddXmNnXy8vJCTk4O7t27V+vPvPnmmxg+fDgmTZqEW7du6TAdERERNYZWh5mMjAx4enpKv4+Lp6cnhBDIzMys9WcUCgU2bNgAAHjhhRd0FY2IiIgaSSfDjGwVGTIyMh76c82bN8f69euxc+dObN26VRfRiIiIqJG0Osykp6ejdevW2tyiXpydnWFlZVXnMAMAgwcPxquvvopZs2ZVudEeERER6SetDjPXr1+Hu7u7NreoF4VCATc3t8oHa9UlIiICrVu3xpQpU1BeXq7ldERERNQYWh1mcnNz4eTkpM0t6s3JyQl5eXn1+lmlUolNmzbhxIkTWLZsmZaTERERUWNodZjJy8uDo6OjNreoNycnJ+Tm5tb757t27YpFixbhvffew/nz57WYjIiIiBpDa8OMSqXC3bt39erIzKMMMwDw1ltvITAwEM8//zxPNxEREekprQ0zFYODPh2Zqe9ppgomJiZYvXo1zpw5g5UrV2opGRERETWG1oaZgoICAICdnZ22tngk9vb2uH379iP/XkBAAN566y3Mnz8fqampWkhGREREjaG1YabibrvW1tba2uKRWFpaPvQOwA+zYMECeHl5YdasWRpORURERI2l9WHGyspKW1s8EisrqwYPM0qlEuvXr8e+fft4Mz0iIiI9w2Gmnnr16oWXX34Zb7zxxiNfe0NERETao7Vh5u7duwDun97RB405zVRhyZIlMDc3x3vvvaehVERERNRYWhtmSktLAQDm5uba2uKRWFhYVGZqKDs7OyxduhSrVq3Cb7/9pqFkRERE1BhaG2ZkPyn7QUIIjWSaOnUqnnjiCbzyyisQQmggGRERETWGVu8ADEBv/oOvqWFGoVDgiy++wLFjx/Dtt99qIBkRERE1htEcmdGkbt26YfLkyZg9e3bltUFEREQkB4/MNFBERARu376NTz75RGNrEhER0aPT2jBTceFvYy+61ZTy8nKYmZlpbL0WLVrgnXfeQUREBLKzszW2LhERET0arQ0zFfeXaezXoTWlqKhI43cjfuONN9C8eXN89NFHGl2XiIiI6k9rw0zF4KAv15TcvXsXzZo10+ialpaWePvtt7Fq1Sr89ddfGl2biIiI6kdrw0zF4KBPw4w2nhM1Y8YMuLu7Y+nSpRpfm4iIiOpmVEdmtDHMWFhY4J133sG6devw559/anx9IiIiejitDTN2dnYAgIKCAm1t8UgKCwtha2urlbXDw8Px2GOPYcmSJVpZn4iIiGqntWHG0dERJiYmuHnzpra2eCQ5OTlwdnbWytpmZmZYsGABoqKicPHiRa3sQURERDXT3HeVH2BqagoHBwfk5OTU+3eysrIwfPjwKl/nLiwshIWFBQICAqr8bJcuXbB58+Z6r52bmwtfX996//yjmjhxIpYsWYJPPvkEa9as0do+REREVJXWhhkAcHZ2rnJkJj8/HxcuXICHhwdat25d7ec9PDygUqlw/vz5au8lJSVV+fuECRNq3TcxMRHW1tbo0KEDLCwsAAA3b96Ek5NTQz9KnUxNTfH666/jzTffxD//+U+4urpqbS8iIiL6L62cZsrOzkZsbCzKysrw7bffol+/fnBxcYGDgwOCgoKQnp5e6++GhYXV6+Z248ePr/W9LVu2wN/fH9bW1mjTpg1GjRqF1NRUpKam4tSpUygqKmrQ56rL1KlTYWNjg7Vr12plfSIiIqpOITT0vIHt27fj008/xfnz51FYWAjg/rUkCoWiymkjhUKBvLw8NG/evMZ1MjIy4OXlVetjEBQKBbp164bExMRas6xbtw4vvvhi5RoKhQIWFhYoLS2FWq2GQqGAu7s7/P39sXbt2hqPEjXU22+/jS1btiA1NbXyqBARERFpTbTGjsz07NkTp0+frhxkAKCsrKza4wzc3NxqHWQAwNPTEz169ICJSc3RTE1NERYW9tAsnTt3rjIMCSGgUqmgVqsr/37t2jXcuXNHo4MMALz22mvIyclBdHS0RtclIiKimmlsmPHy8sJrr71W+UymmigUCnTt2rXOtcLCwmp9KKRarca4ceMe+vt+fn51PlRSCIGPP/64ziyPqmXLlhg9ejSWL1+u8bWJiIioOo1eM/Puu+9WPpOpJhYWFujSpUud69Q2rJiamiIkJARubm4P/f1mzZrB09Oz1vfNzc0xevRo9O7du84sDfH666/j1KlTOHr0qFbWJyIiov/S6DDj4OCAd999F6ampjW+X1paWu0r1jVxcXHBgAEDalxnypQp9coSGBhY66kqtVqt1Rvc9e7dG926dcPq1au1tgcRERHdp/FvM7322mtwdXWtcZBQq9Xo3LlzvdaZPHlytYuATUxMMHr06Hr9/uOPP17jKS9zc3O8+OKL6NSpU73Waajw8HDs3LmzyjVEREREpHkaH2YsLS2xdOnSGr+NZG5ujo4dO9ZrndGjR1cZRszMzPD0008/9OLhv+vcuTNKSkqqvW5mZob33nuvXms0xnPPPYfy8nJeCExERKRlWrnPTFhYGHx9faudJurYsWO97iEDALa2thg+fHjlQKNWqzF58uR6ZwgICKg2UJmZmeHtt9+u85obTXB0dMTIkSOxadMmre9FRERkzLQyzJiYmOBf//oXysvLK18zMzNDt27dHmmdSZMmoaysDACgVCrxzDPP1Pt327VrB0tLyyqv2djYYPbs2Y+UoTEmTpyII0eOIDMzU2d7EhERGRutPWjymWeeQXBwcOWRGBMTk3pd/Pt3Tz/9NJo1awYACA0Nfeg3pR5kYmICHx+fKn9fsmSJ1p6cXZOhQ4fCxsYGO3fu1NmeRERExkZrwwwAfPLJJ5VHZ0pKSuq8+Le8vBxZWVk4c+YMYmNjcfjwYfTo0QMA0KFDBxw4cABHjx5FcnIy8vLy6ty/W7duMDc3h4mJCVq2bInp06c3/kM9AqVSieHDh2PHjh063ZeIiMiYaPVBk927d8eYMWOwa9cuqNVq+Pv7AwDu3buHxMRE/P7770hKSkJycjKuXLmCGzduVDk19Xc1XbRraWmJVq1awdvbG/7+/vDz80NgYCB8fX2hUCgQEBCA8vJyCCGwbNkyKY8XGDt2LMaNG4ebN2/C2dlZ5/sTEREZOo09m6k2f/75J7y9vWFpaYk33ngDhw4dQmJiIlQqFRwdHSuHEG9vb7i7u8PDwwMtWrSAo6MjTExM0KxZMyxbtgyvv/46VCoViouLkZeXh6ysLFy7dg0ZGRk4f/48kpOTkZKSgpKSEri4uKBv375o1aoVPvvsM3Tt2hWnTp2q867A2lBYWAgnJydERUU99EnfRERE1CDRWh1mjh49iq1btyIqKgpFRUVo164d+vXrh5CQEISEhNT7uUhlZWX1+hZUWVkZzp49i/j4eMTFxeHQoUMoKCiAt7c3pk2bhrCwMHh4eDT2Yz2yvn37okOHDoiMjNT53kRERAZO88PMnTt3EBUVhVWrVuHcuXPo3Lkzhg4dioKCAqxcuVKTW9WppKQEo0aNgqenJ3bu3In8/HyMGDECM2fOxODBg3WWY/HixVi9ejUyMjKkHB0iIiIyYJobZu7cuYP169fjo48+qhwaXnzxRQwaNAgAUFRUVPnNJF2q2LekpAS7d+/GmjVr8MsvvyAgIAALFixAaGio1geMkydPomfPnjh37lzldUNERESkEdGN/jaTWq3GypUr0aZNG7z33nuYPn06MjMzsX379spBBoCUQebv+1pYWGDcuHH4+eef8euvv6JNmzYYP348evXqhcTERK1meOKJJ+Do6IhffvlFq/sQEREZo0YNM6dPn0avXr3w+uuvIzw8HKmpqVi8eDEcHR01lU8rAgMDsXv3bpw6dQrW1tbo1asXZs6cifz8fK3sZ2JigqCgIBw/flwr6xMRERmzBg0zQghERESgV69esLKywpkzZ/Dxxx/r/RDzoK5du+LgwYPYtGkTvvvuO3Tp0gXHjh3Tyl49e/ZEQkKCVtYmIiIyZo88zNy6dQtDhw7FggULsGTJEhw6dAh+fn7ayKYTCoUCkydPrryeJSQkBB9//LHG9+nVqxfS0tKQlZWl8bWJiIiM2SMNMxkZGejbty9SUlJw9OhRzJs3z2C+nePs7IyYmBj861//wjvvvIOXX3651hv4NUTPnj1hYmKCEydOaGxNIiIieoRh5vLly+jduzdMTExw/PhxdO/eXZu5pFAoFJg9ezZ27NiBjRs3YsKECZUPumwsOzs7dOrUCSdPntTIekRERHRfvYaZa9euYciQIfDw8EB8fDxatmyp7VxSjRo1Cvv27cPevXsxY8YMaOpWPI8//jjOnTunkbWIiIjovjqHmbt372LYsGGwsLDADz/8gObNm+sglnx9+/ZFdHQ0Nm/ejEWLFmlkTV9fXyQnJ2tkLSIiIrqvzmFmzpw5SE9Px08//WR0D0p8+umnsWLFCixevBiHDh1q9Hp+fn5IS0vDnTt3Gh+OiIiIANQxzMTExGD16tVYu3YtvLy8dJVJr8yYMQNjxozBlClTGn0fGj8/PwghcOHCBc2EIyIiotqHmZKSErz55puYOHEixo4dq8tMlfbu3YuOHTvW6yGT2rRmzRqoVCosXbq0Ueu0bdsWlpaWPNVERESkQbUOM19++SWysrLw4Ycf6jIPAODKlSsYOXIk3nnnHWRnZ+t8/wc5ODhg4cKFWLFiBdLS0hq8jqmpKdq3b4/Lly9rMB0REZFxq3GYUavVWL58OWbOnAlPT09dZ8LChQvRu3dvnDp1Cra2tjrfvyYzZsyAq6srvvjii0at07p160YNRERERFRVjcPMgQMHkJ6ejhdeeEHXeQAA69evx/z586WfXvo7CwsLhIeHIyoqCqWlpQ1ex8vLi8MMERGRBtU4zGzbtg1BQUHw8fHRdR4AgJWVlZR96xIeHo4bN24gNja2wWtwmCEiItKsGoeZw4cPY/DgwbrOove8vLzQvn17HDlypFFrZGZmauzOwkRERMau2jBz8+ZNXLlyBUFBQTLy6L3evXvj+PHjDf791q1bo6ysDNevX9dgKiIiIuNVbZhJS0uDEALe3t4y8ui9jh074urVqw3+/YobD968eVNDiYiIiIxbjUdmAMDJyUnnYZoCJycn5ObmNvj3OcwQERFpVrVh5t69ewD09yJc2WxsbFBUVNTg33dwcICZmVmjBiIiIiL6r2rDjIODAwDg1q1bOg/TFOTm5sLR0bHBv69QKODg4MAjM0RERBpSbZipOL2Uk5Oj8zBNQU5OTqNPwTk7O/PIDBERkYZUG2Y6dOgAS0tLnDlzRkYevXf69GkEBAQ0ag1bW1s+OZuIiEhDqg0zSqUSXbt2xbFjx2TkAQDs2bMHCoUCCoUCmZmZKC8vr/z7unXrpOUSQiAhIaHRX1u3trbG3bt3NZSKiIjIuNV407yBAwciJiYG5eXlus4DABg+fDiEEDX+mT59upRMABAfH4+8vDwMGDCgUetYW1s36iJiIiIi+q8ah5nw8HBkZmbi559/1nUevbZ+/Xp0794d/v7+jVqHR2aIiIg0p8Zhpm3btggODsby5ct1nUdv/fXXX9ixY4dGjgxxmCEiItKcGocZAPjggw+wf/9+7N+/X5d59NbChQvRokULTJ06tdFrKZVKFBcXayAVERER1TrMBAcHY8SIEZg9e7bR/4c3ISEBmzdvxpIlS6BUKhu9nkKhgBBCA8mIiIio1mEGAL744gtkZWXhrbfe0lUevXPnzh2EhYVh0KBBeO655zSyJocZIiIizXnoMOPp6Ykvv/wSn3/+Ob755htdZdIbarUaU6dORWFhITZt2gSFQqGRdTW1DhEREQFmdf3AhAkTcOLECUydOhXOzs4YOHCgLnLphVdeeQV79+7F/v370aJFC42uzSMzREREmvHQIzMVli1bhtDQUIwePRqxsbHaziSdEAJz587FmjVr8PXXX6Nv374aXZ+nmYiIiDSnXsOMiYkJNmzYgGeeeQbDhg3Dtm3btJ1LmpKSEkyePBkrVqxAVFQURo0apZU9LCwsNL4uERGRMarXMAMA5ubm2Lp1K2bNmoWJEydi/vz5KC0t1WY2nUtLS0P//v2xZ88e/PDDD5g4caJW9lGpVLC0tNTK2kRERMam3sMMcP8IzbJly7Bu3Tp8/vnnCA4OxpUrV7SVTad27NiBrl274vbt2zh27BgGDRqktb2Ki4s5zBAREWnIIw0zFZ5//nkkJibi3r17CAgIwOLFi6FSqTSdTSdSU1MxYsQIjBs3DuPGjUNiYiL8/Py0uiePzBAREWlOg4YZAOjUqRMSExOxaNEiREREwN/fH1u2bJH2cMpHlZOTg/nz58PPzw9//vknYmNjsXr1alhZWWl9b5VKpZGb7xEREVEjhhng/nU08+bNQ0pKCp588kmEh4fDz88PGzdu1Nu7BmdkZOCtt95C27ZtsWHDBixduhRnz55Fv379dJahqKgI1tbWOtuPiIjIkDVqmKnQqlUrbNy4ESkpKQgKCsKMGTPQsmVLvPnmm0hOTtbEFo1SWlqKPXv2YOTIkXjsscewefNmvP/++0hNTcUbb7wBc3NznebJz89H8+bNdbonERGRodLIMFOhffv22LBhA9LT0zF37lzs3r0b/v7+6NSpExYsWIBff/1VZ6ehCgsL8f3332PatGlwc3PDyJEjcffuXXz99ddIS0vDnDlzpB0d4TBDRESkOQqhxbu3qdVqHD16FDt37sSuXbuQlpYGe3t79OnTB3369EFgYCD8/f3h4eHRqH3Kyspw6dIlJCUlISEhAYcPH8aZM2egVqsRFBSEMWPGYMyYMWjTpo1mPlgj2djY4PPPP8e0adNkRyEiImrqorU6zDwoKSkJcXFxiI+Px5EjR5CVlQUAcHR0RMeOHeHm5gZPT0+4urrC3t4eSqUS1tbWUCqVKCwsRFlZGQoLC1FQUICMjAxkZ2cjPT0df/zxB0pLS2FmZoZOnTohJCQEwcHBCA4O1vhjCBqrtLQUFhYW2LVrl1ZuyEdERGRkdDvMPCg3Nxfnzp1DcnIyLl++jOvXryMzMxPZ2dkoKCiASqVCUVERSkpKYGNjA3Nzc9ja2sLOzg4tW7aEm5sbWrVqhcTERPzxxx+4cOGC3n/lOScnB66urjh48CD69+8vOw4REVFTF13ngya1ycnJCf369Wv0N4nOnTuHzp07IzExUePPUdK07OxsANC7I0ZERERNlUYvAJYlICAA3bp1Q2RkpOwodbpx4wYAwNXVVXISIiIiw2AQwwxw/67E33zzDfLz82VHeajs7GyYmZnB0dFRdhQiIiKDYDDDzKRJk6BQKBAdHS07ykNlZ2fDxcUFJiYGUz0REZFUBvNfVHt7e4wePRrr16+XHeWhbty4wVNMREREGmQwwwxw/1TTiRMn8Pvvv8uOUqv09HR4enrKjkFERGQwDGqY6d+/P9q1a4dNmzbJjlKrq1ev6s3N+4iIiAyBQQ0zCoUC06ZNw6ZNm6BSqWTHqVFqaiqHGSIiIg0yqGEGAMLDw5Gfn489e/bIjlKNSqXC9evX8dhjj8mOQkREZDAMbphp2bIlnnrqKb2850xaWhrUajWPzBAREWmQwQ0zwP0LgX/66SdkZGTIjlJFamoqAPDIDBERkQYZ5DAzcuRIODk5ISoqSnaUKq5evQo7Ozs4ODjIjkJERGQwDHKYsbCwwOTJk7F+/Xqo1WrZcSpdvXqVR2WIiIg0zCCHGQD43//9X6SmpiIuLk52lEqpqakcZoiIiDTMYIcZPz8/9OjRQ68uBOY9ZoiIiDTPYIcZ4P7RmW+//Ra3bt2SHQUAcPnyZbRt21Z2DCIiIoNi0MPMhAkTYGJigm3btsmOgqysLOTm5sLf3192FCIiIoNi0MOMnZ0dQkND9eJUU1JSEgBwmCEiItIwgx5mgPv3nPn1119x9uxZqTmSkpLQokULuLi4SM1BRERkaAx+mAkODoaPjw82bNggNUdSUhKPyhAREWmBwQ8zABAWFoYtW7aguLhYWgYOM0RERNphFMNMeHg4CgoKsHv3bin7q9VqnD9/nsMMERGRFhjFMOPm5oahQ4dKuxA4NTUVRUVFHGaIiIi0wCiGGeD+PWcOHDiAtLQ0ne+dlJQEhUIBX19fne9NRERk6IxmmBk+fDhcXV2xceNGne+dlJQELy8v2NnZ6XxvIiIiQ2c0w4yZmRkmT56MDRs26Pzhk2fPnkXnzp11uicREZGxMJphBgCmT5+O9PR0HDx4UKf7njhxAj179tTpnkRERMbCqIYZb29vBAUFYf369Trb8/r168jIyECPHj10ticREZExMaphBrh/R+CdO3fi5s2bOtnvxIkTUCgUeOKJJ3SyHxERkbExumFm/PjxUCqVOnv45MmTJ+Ht7Y3mzZvrZD8iIiJjY3TDjI2NDcaNG4e1a9fqZL+TJ0/yehkiIiItMrphBrh/z5nff/8dp0+f1uo+Qgj8+uuvvF6GiIhIi4xymOnduzc6depU7Y7Av/32G/7zn/80aM3bt28jJSWlymt//PEH8vPzOcwQERFpkVEOM8D95zVt2bIF165dw8qVK9GlSxd06dIFK1asaNB6N2/ehK+vL1xcXDBp0iRERkZiz549UCqVCAgI0HB6IiIiqqAQQgjZIXRNCIHvvvsOEydORHl5OdRqNYQQUKvVcHd3R1ZW1iOvWVhYWHmHX1NTUwBAeXk5bG1tERoaioEDB6J///7w8PDQ6GchIiIyctFGNcxcu3YNUVFRWLlyJdLS0mBhYYGSkpIqP+Pk5NTgr20rlcpq6wGAubl55dDUrl07LFu2DM8++2yD9iAiIqIqos1kJ9CVHTt2YPz48TAxMUFZWRkA1Dh4qFSqBu/h6OiI69evV3u9tLQUAKBQKHDnzh2EhIQ0eA8iIiKqymiumRkzZgxGjRpV58/VNODUl4uLy0PfF0Jgw4YNvOcMERGRBhnNMGNiYoItW7agS5cuMDc3r/XnSktL0dAzbw+7HsbMzAzTpk3DsGHDGrQ2ERER1cxohhkAsLKyQkxMDJydnWFmVvMZNiFEg081ubu7V178+3cmJiZwcHDAp59+2qB1iYiIqHZGNcwAgJubGw4cOAClUgkTk5o/fnFxcYPWdnV1rXFIEkJg06ZNcHBwaNC6REREVDujG2YAwNfXFzt27Kj1/YYOMy4uLtVOUfH0EhERkXYZ5TADAEOHDsW///3vGt9rzDBT8U0p4P7pJUdHRyxbtqxB6xEREVHdjHaYAYBXX30Vs2bNqnadS2NOM6nV6sq/CyGwceNGnl4iIiLSIqMeZgDgP//5D4YMGVLlWpfGDDMVzMzMEB4eztNLREREWmb0w4ypqSm2bduGDh06VB6haewwo1Ao4OzszG8vERER6YDR3AH4YWxtbfHTTz8hMDAQubm5lcNMeXk5srOzkZ2djfz8fJSXl6OwsBBlZWWwtraGUqmElZUVmjdvDnd398qb5gkhEBkZCXt7e5kfi4iIyChwmAFw7949XL16FeHh4fj3v/+NV155BXl5ebhx4wbKy8vrvY6lpSVMTEzQsmVLxMXF4ebNmwgMDISvry8UCoUWPwEREZHxMqoHTVZQq9U4ceIE9u7di0OHDiExMREqlQqOjo5wc3ODl5cXhgwZAnd3d3h4eKBFixZwdHSEiYkJbG1tYWZmhrt370KlUqG4uBh5eXnIysrCtWvX8P7776Nbt264dOkSUlJSUFJSAhcXF/Tt2xf9+/fHyJEj0bp1a9kVEBERGQrjemr20aNHsXXrVuzevRtZWVlo164d+vXrh5CQEISEhFQOGcXFxbC0tGzQHmlpafDy8gIAlJWV4ezZs4iPj0dcXBzi4uJQUFCAbt26YezYsQgLC3voIxCIiIioToY/zNy5cwdRUVFYtWoVzp07h86dO2Ps2LEYPXo0AgICdJqlpKQEBw8exK5du7Bz507k5+djxIgRmDlzJgYPHqzTLERERAbCcIeZO3fuYP369fjoo48qh4YXX3wRgwYNkh0NwP3BZvfu3VizZg1++eUXBAQEYMGCBQgNDeX1NURERPVneMOMWq3G6tWrsXDhQpSWluK1117Dm2++CUdHR9nRanX69GksWrQIMTEx6N69Oz7//HN0795ddiwiIqKmINqg7jNz+vRp9OrVC6+//jrCw8ORmpqKxYsX6/UgAwCBgYHYvXs3Tp06BWtra/Tq1QszZ85Efn6+7GhERER6zyCGGSEEIiIi0KtXL1hZWeHMmTP4+OOP9X6IeVDXrl1x8OBBbNq0Cd999x26dOmCY8eOyY5FRESk15r8MHPr1i0MHToUCxYswJIlS3Do0CH4+fnJjtVgCoUCkydPxrlz5+Dv74+QkBB8/PHHsmMRERHprSZ907yMjAwMGzYMBQUFOHr0qEFdZ+Ls7IyYmBgsX74cb731FlJTU7FixYpqD8UkIiIydk12mLl8+TL69+8PBwcHHD9+HC1btpQdSeMUCgVmz56Ntm3bYuLEicjJycHXX39d5aGYRERExq5Jnma6du0ahgwZAg8PD8THxxvkIPN3o0aNwr59+7B3717MmDEDBvYFNCIiokZpcsPM3bt3MWzYMFhYWOCHH35A8+bNZUfSib59+yI6OhqbN2/GokWLZMchIiLSG01umJkzZw7S09Px008/wdnZWXYcnXr66aexYsUKLF68GIcOHZIdh4iISC80qZvmxcTE4Nlnn0V0dDTGjh0rO44048aNQ0JCAs6dO2c0R6aIiIhq0XRumldSUoI333wTEydO1Okgc+vWLaxatQoDBgyAo6MjrKys0KFDB0yaNAm//fabznL83Zo1a6BSqbB06VIp+xMREemTJjPMfPnll8jKysKHH36o033nzZuHV199Fc8++yzOnz+P3NxcREZG4uzZs+jWrRu+++47neYBAAcHByxcuBArVqxAWlqazvcnIiLSJ03iNJNarcZjjz2G0NBQLFu2TKd7T58+Haampli9enWV13/77Td06dIFHTp0wMWLF3WaCbh/pKpDhw4YP348IiIidL4/ERGRnmgaD5rcv38/hgwZgpSUFPj4+MiOU8na2hoqlQplZWVSnnT9/vvvY9WqVcjIyIC5ubnO9yciItIDTeOamW3btiEoKEivBpmioiLcu3cP/v7+UgYZAAgPD8eNGzcQGxsrZX8iIiJ90CSGmcOHD2Pw4MGyY1QRHR0NAHj33XelZfDy8kL79u1x5MgRaRmIiIhk0/th5ubNm7hy5QqCgoJkR6mUnZ2N+fPnY/r06fif//kfqVl69+6N48ePS81AREQkk94PM2lpaRBCwNvbW3YUAEBubi6GDh2Kfv36YdWqVbLjoGPHjrh69arsGERERNLo/TBz8+ZNAICTk5PkJPevkxkyZAh8fX2xdetWvXiCtZOTE3Jzc2XHICIikkbvh5l79+4BAKysrKTmKCsrw7hx49CyZUts2rRJLwYZALCxsUFRUZHsGERERNLo/TDj4OAA4P6deGWaMWMGVCoVtm/fDjMzs8rX27dvj4SEBGm5cnNz4ejoKG1/IiIi2fR+mKk4vZSTkyMtw/vvv4/k5GTs3r0bSqVSWo6a5OTk6MUpOCIiIlnM6v4RuTp06ABLS0ucOXMGfn5+Ot9/48aNWLRoEQDA1tZW5/vX5fTp0wgICJAdg4iISBq9PzKjVCrRtWtXHDt2TMr+O3bskLJvfQghkJCQoFdfWyciItI1vR9mAGDgwIGIiYlBeXm5zvfes2cPhBAP/dOrVy+d5wKA+Ph45OXlYcCAAVL2JyIi0gdNYpgJDw9HZmYmfv75Z9lR9Mr69evRvXt3+Pv7y45CREQkTZMYZtq2bYvg4GAsX75cdhS98ddff2HHjh2YPn267ChERERSNYmnZgP3T6mEhIRg3759eOqpp2THkS48PByHDh3ChQsX9O4bVkRERDoU3WSGGQAYOXIk/vzzT/z666+wtLSUHUeahIQE9OnTB1FRUZg4caLsOERERDI1rWEmIyMDjz/+OCZPnozPPvtMdhwp7ty5g8DAQLRt2xY//vgjFAqF7EhEREQyRTeJa2YqeHp64ssvv8Tnn3+Ob775RnYcnVOr1Zg6dSoKCwuxadMmDjJERERoAjfNe9CECRNw4sQJTJ06Fc7Ozhg4cKDsSDrzyiuvYO/evdi/fz9atGghOw4REZFeaFJHZiosW7YMoaGhGD16NGJjY2XH0TohBObOnYs1a9bg66+/Rt++fWVHIiIi0htNcpgxMTHBhg0b8Mwzz2DYsGHYtm2b7EhaU1JSgsmTJ2PFihWIiorCqFGjZEciIiLSK01ymAEAc3NzbN26FbNmzcLEiRMxf/58lJaWyo6lUWlpaejfvz/27NmDH374gd9cIiIiqkGTHWaA+0doli1bhnXr1uHzzz9HcHAwrly5IjuWRuzYsQNdu3bF7du3cezYMQwaNEh2JCIiIr3UpIeZCs8//zwSExNx7949BAQEYPHixVCpVLJjNUhqaipGjBiBcePGYdy4cUhMTJTytHAiIqKmwiCGGQDo1KkTEhMTsWjRIkRERMDf3x9btmyR8nDKhsjJycH8+fPh5+eHP//8E7GxsVi9ejWsrKxkRyMiItJrBjPMAPevo5k3bx5SUlLw5JNPIjw8HH5+fti4cSOKi4tlx6tRRkYG3nrrLbRt2xYbNmzA0qVLcfbsWfTr1092NCIioiahSd0B+FFdvnwZS5YswVdffQUbGxuEhYVh+vTp0k/blJaWYt++fVizZg327t0LFxcXzJ07FzNnzoS1tbXUbERERE1M03qcQUNlZ2cjMjISa9euRWpqKnx8fDB27FiMGjUKXbt2hampqdYzFBYWIjY2Fjt37kRMTAxu3bqFAQMGYMaMGXj22WdhYWGh9QxEREQGyDiGmQpqtRpHjx7Fzp07sWvXLqSlpcHe3h59+vRBnz59EBgYCH9/f3h4eDRqn7KyMly6dAlJSUlISEjA4cOHcebMGajVagQFBWHMmDEYM2YM2rRpo5kPRkREZLyMa5h5UFJSEuLi4hAfH48jR44gKysLAODo6IiOHTvCzc0Nnp6ecHV1hb29PZRKJaytraFUKlFYWIiysjIUFhaioKAAGRkZyM7ORnp6Oi5evIiSkhKYmZmhU6dOCAkJQXBwMIKDg/kYAiIiIs0y7mHmQbm5uTh37hySk5Nx+fJlXL9+HZmZmcjOzkZBQQFUKhWKiopQUlICGxsbmJubw9bWFnZ2dmjZsiXc3NzQqlUr+Pj4wM/PD76+vlAqlbI/FhERkSHjMENERERNWrRBfTWbiIiIjA+HGSIiImrSOMwQERFRk2YGIFp2CCIiIqIGSvh/HKXcYSsFjYoAAAAASUVORK5CYII=\"/>"
     },
     "execution_count": 16,
     "metadata": {},
     "output_type": "execute_result"
    }
   ],
   "source": [
    "# Jupyter notebook setup to export images in HTML. \n",
    "import base64, io, IPython\n",
    "from PIL import Image as PILImage\n",
    "from IPython.display import Image\n",
    "from IPython.core.display import HTML\n",
    "\n",
    "image = PILImage.open(\"graph1.png\")\n",
    "output = io.BytesIO()\n",
    "image.save(output, format='PNG')\n",
    "encoded_string = base64.b64encode(output.getvalue()).decode()\n",
    "\n",
    "html = '<img src=\"data:image/png;base64,{}\"/>'.format(encoded_string)\n",
    "IPython.display.HTML(html)"
   ],
   "metadata": {
    "collapsed": false,
    "pycharm": {
     "name": "#%%\n"
    }
   }
  },
  {
   "cell_type": "code",
   "execution_count": 17,
   "outputs": [],
   "source": [
    "# If nlabel, elabel is specified, the corresponding node and edge properties are used to label \n",
    "#   the nodes and edges of the generated graph.\n",
    "# Note: If the mapping from nodes to selected node-properties is not 1-1, then the generated graph can be different\n",
    "#   from the true graph. For example, note the difference between the `graph1.png` and `graph2.png`.\n",
    "loaded_g.to_png(\"graph2.png\", nlabel=[\"name\"], elabel=[\"label\"])"
   ],
   "metadata": {
    "collapsed": false,
    "pycharm": {
     "name": "#%%\n"
    }
   }
  },
  {
   "cell_type": "code",
   "execution_count": 18,
   "outputs": [
    {
     "data": {
      "text/plain": "<IPython.core.display.HTML object>",
      "text/html": "<img src=\"data:image/png;base64,iVBORw0KGgoAAAANSUhEUgAAAXUAAACvCAYAAAACL041AABEuklEQVR4nO3dd1gU1/4/8Pfusiy9iEgHwQKCiAQrahAbdhQFRU3UxHyNJjEaY2KiN8brLxpLboqJxmtJorEbTcReUKQq0pReVaoU6X3h8/vDh72uFGnLsOt5PQ+PMjs78z4sfHb2zJkzPCIiMAzDMIoglc91AoZhGKbzsKLOMAyjQFhRZxiGUSBKXAdgGC7l5ubi6dOnKCoqQnV1NSorK1FVVQVlZWWoq6tDKBRCR0cHBgYGMDAwAI/H4zoyw7SIFXVG4dXV1SEqKgoRERGIiYlBdHQ0EhMTkZ2djZqamlZvRygUwsDAAP3794ednR0GDhwIBwcHODk5QUmJ/Skx3QOPjX5hFFF8fDx8fHzg5+cHf39/lJSUQF1dHQMGDIC9vT2sra1hYmICExMTGBkZQVdXF8rKylBVVYWKigqqq6tRUVEBsViMZ8+e4enTp0hPT0d2djYSEhIQHR2NmJgYlJaWQl1dHc7OznBxccGMGTMwaNAgrpvPvL5SWVFnFEZSUhL++OMPnD17FnFxcdDX14erqyvefPNNjB07FgMGDACf37mnkRISEnDnzh3cuXMHvr6+yMrKQp8+feDh4YG3334bAwcO7NT9McwrsKLOyLe6ujr8/fff+PXXX3Hz5k2YmprCw8MDHh4eGDVqFAQCQZdlISKEhobi7NmzOHPmDFJSUjBq1Ci8//778PLygrKycpdlYV5brKgz8qm+vh5//fUXvvrqKyQmJmLcuHH4v//7P8yePbvb9G+HhYXhxx9/xIkTJ2BoaIi1a9di+fLlUFFR4Toao7hYUWfkz5UrV/Dxxx8jNTUVixYtwoYNG9C3b1+uYzUrPT0d3377LQ4ePAgDAwN89913mDt3LtexGMXErihl5EdmZiY8PT0xZcoUDBo0CPHx8fjtt9+6dUEHADMzM/zyyy9ITk7GuHHj4OXlhcmTJyM5OZnraIwCYkWdkQvnz5+Hg4MDIiMjcfnyZZw+fRp9+vThOlabmJqa4rfffsOdO3eQnZ0NR0dHHD58mOtYjIJhRZ3p1urq6rB69WrMmjUL7u7uiIyMxOTJk7mO1SGjR49GaGgo/u///g9LlizB4sWLUV1dzXUsRkGwPnWm26qoqIC3tzdu3LiBAwcOwNvbm+tIne7SpUtYuHAhHBwc8Pfff0NHR4frSIx8YydKme6prKwMbm5uSEhIgI+PD0aOHMl1JJmJjo7GlClToKurC19fX/Ts2ZPrSIz8YkWd6X5qamowffp0PHjwALdv34aNjQ3XkWQuPT0dLi4u0NfXx82bN6GhocF1JEY+sdEvTPezbNky3L17F5cvX34tCjrwfITM1atX8ejRI8ybNw/19fVcR2LkFCvqTLfy+++/4+jRozh16hQcHR25jtOl+vXrBx8fH9y4cQPfffcd13EYOcW6X5huIzU1FQ4ODlixYgV27NjBdRzO7Ny5Exs3bkRISMhr98bGdBjrU2e6D09PT8TGxiIiIqLbzJMSGRmJDRs2IDAwEHV1dRg+fDg2b96MUaNGyWyf9fX1cHFxgUAgwO3bt2W2H0YhsT51pnsICgrCX3/9he3bt3ebgn737l04OztDU1MTcXFxSEtLg5WVFcaOHYtr167JbL98Ph+7du3CnTt34OPjI7P9MIqJHakz3cLcuXORk5ODgIAArqMAeH60PGjQIDx79gwpKSlQVVUF8PxiKDs7O1RUVCApKQkikUhmGWbNmoXCwkL4+fnJbB+MwmFH6gz3CgoKcOHCBSxfvpzrKBJ37txBTEwM5s6dKynoACAQCODt7Y309HRcuHBBphmWL1+OO3fuID4+Xqb7YRQLK+oM586cOQNlZWXMmTOH6ygSvr6+AIAhQ4Y0eqxh2c2bN2WaYdKkSTAxMcHp06dluh9GsbCiznDO398fzs7OUFNTk8n2//77b/B4PMlXw1hwHR0d6OnpYfr06UhJSZF6TsPRsampaaPtmZiYAAASExNlkreBQCCAq6trt+mSYuQDK+oM50JCQmQ6DcCsWbNARHB3dwcArF69GqtXr0ZmZiZOnjwJX1/fRvPKFBUVAQDU1dUbba/has/CwkKZZW7g7OyMkJAQdjES02qsqDOcIiI8efIE1tbWXbbPZcuWYeTIkVBXV8eECRMwbdo0hIaGIj8/v1XPbxhbwOPxZBkTANC/f3+UlJRI3mQY5lVYUWc4VVxcjNraWujp6XXZPocOHSr1vZmZGQAgKytLsqxhtsTy8vJGz29Y1hUzKjb8XFr7hsMwrKgznKqoqAAAqREmsqatrS31fcO4+Be7OBrmnMnIyGj0/MzMTADPj6JlraGrp6k3F4ZpCivqDKd69OgBoGv6p9vC1dUVwPObR7+sYdn48eNlnqOgoADA/35ODPMqrKgznFJRUYG6ujry8vK4jiLFxcUFtra2OHPmDKqqqiTL6+rqcOLECZiZmWHatGkyz9Hwc2FzrDOtxYo6wzk7OztERERwHUMKn8/HwYMH8ezZMyxduhQ5OTkoKCjABx98gKSkJOzfvx8qKioyzxEeHg5LS8smR+EwTFNYUWc45+zsjKCgIJltPyQkBDweD//88w+A5/33GzduBPB8BMv27dsBAI6Ojpg+fbrkeSNGjEBQUBCKi4thbW2N3r17IykpCbdv34abm5vM8r4oODhYoe/6xHQ+NvcLwykiwm+//Yb33nsPqampsLCw4DpSt1FYWAgTExP8/PPPeOedd7iOw8iHVCWuEzCvB7FYjCdPniA1NRUxMTGIjY1FTEwMHjx4gNLSUqirq+P333/Hpk2buI7abRw9ehR8Ph9z587lOgojR9iROtOpampqkJCQgLi4OMTFxSE2Nhbx8fFISEhAdXU1eDwezM3NYWNjAzs7O9jY2MDW1hanT5/G6dOnkZSUJLPpAuSJWCyGvb09nJ2dcfDgQa7jMPKD3SSDaZ/a2lrExcXhwYMHiImJQXx8PGJiYpCWlgaxWAwlJSVYWlpKFe4BAwbAxsamyZsq5+XloW/fvli3bp2kv/t19uuvv+Ljjz9GTEwM+vbty3UcRn6wos68Wn5+PqKiohAVFYUHDx4gKioKsbGxqKmpgbKyMmxsbKQK94ABA2Btbd3mm11888032L59O6KiomBpaSmj1nR/eXl5sLe3x7x58/Djjz9yHYeRL6yoM/9TV1eHx48fIyYmBmFhYQgLC0NsbCzS0tJARNDV1YWtrS2cnJxgZ2cHW1tbDBkypNOG9lVXV2P48OEQiUQICAiAUCjslO3KEyLCrFmzEBERgcjISHbREdNWrKi/rkpKSvDgwQPJCcuwsDBERESgoqICSkpKMDc3lxTwhiJuZWUl81wxMTEYOnQoVqxYge+++07m++tutm3bhq+++gp+fn5wdnbmOg4jf9jol9dBQUEB7t+/j/v37yMsLAzh4eF4/PgxgOeXnzs4OGDo0KF499134eDgADs7O5nepq0ldnZ2OHDgAN566y0YGxtj7dq1nOTgwu+//44NGzbgp59+YgWdaTdW1BVMUVGRpOskNDQUYWFhSEtLAwCYm5vDyckJ7733HhwcHODg4CCZobA7WbBgAfLy8rBmzRqIRCJ8+OGHXEeSuaNHj2LZsmV4//33X4v2MrLDirocq62tRVRUFEJCQhASEoJ79+4hOTkZRARjY2MMGTIES5cuhZOTE4YMGYJevXpxHbnVPv74Y1RVVWHVqlXIzMzE1q1bu2T+ci7s3LkTn3/+OQwMDHDgwAEIhUJ89dVXXTodMaNAiJEbGRkZdObMGVq7di2NHj2aVFVVCQDp6OiQm5sbffXVV3T+/HnKysriOmqnOXz4MAmFQnJ3d6eCggKu43Sq0tJSevvtt4nP59MPP/xAdXV19Mcff5ChoSFpaGjQpk2bqLKykuuYjHxJYSdKuymxWIzIyEgEBAQgMDAQISEhyMjIgEAggJ2dHUaOHIkRI0Zg+PDhsLGxUdijWOD5PUwXLlwIADhy5AhcXFw4TtRxYWFhWLhwIQoKCvDHH39g6tSpksdKS0uxY8cO/Oc//4GBgQG+//57ya34GOYVUtmRejdRXl5Ot27dos2bN9PEiRNJQ0ODAFDPnj1p5syZtHXrVrp16xaVlpZyHZUT+fn55O7uTjwej5YsWUK5ublcR2qXoqIi+uijj0ggEJCrqytlZGQ0u256ejotXLiQAJC7uzs9fvy4C5MyciqFFXWOPHv2jM6fP0/r1q2jkSNHklAoJABkYWFBixYtol9//ZViYmKovr6e66jdyunTp8nU1JR69OhB3377rdy8yVVWVtJPP/1EhoaGpK+vT4cOHWr1a+vn50cDBgwgNTU12rRpE1VXV8s4LSPHWFHvKuXl5XT9+nXatGkTTZgwQVLErays6K233qJ9+/ZRSkoK1zHlQllZGW3cuJE0NTWpR48etHXrVsrLy+M6VpOKioro+++/J2NjY1JVVaU1a9bQs2fP2rydqqoq2rRpE4lEInJwcKCQkBAZpGUUACvqslJTU0P+/v60efNmevPNN0lZWZkAkI2NDa1cuZLOnDlD+fn5XMeUaw8fPiRNTU1SVVUlkUhECxYsoNu3b1NdXR3X0SgkJITeffddUldXJ3V1dVq9ejVlZ2d3eLsJCQk0btw4EggEtGHDBqqpqemEtIwCYUW9MyUmJtIPP/xAU6ZMkfSJm5mZ0eLFi+nw4cMt9p8ybVNSUkIODg5ka2tLmZmZdODAARo6dCgBICMjI1qxYgVdv369y0aP1NTUkJ+fH61Zs4YsLCwIANnb29PPP/9MRUVFnbqv+vp62rdvH2loaJC9vT1FRUV16vYZucZGv3REZWUlbt++jUuXLuHy5ctISUmBjo4OJkyYgPHjx2P8+PHo168f1zEVTl1dHWbPno3Q0FCEhIRI3VgjJiYGZ8+exdmzZxEZGQmRSIRhw4bBxcUFTk5OsLe3h6WlJfj89t/0i4jw+PFjREdHIywsDHfu3EFISAgqKiowYMAAeHh4YM6cOXB0dOyM5jYrLS0Nb7/9Nu7fv4+vv/4a69at61C7GIXA5n5pq9TUVNy4cQM3btzAlStXUFpaCisrK0yfPh0zZszAm2++2ebZCZm2+fDDD3Ho0CH4+vpixIgRza735MkT+Pn5wc/PD/7+/khKSgIRQU1NDf3794epqSmMjY1hbGwMbW1tqKmpQVlZGerq6qisrERVVRUqKytRXFyMnJwcZGZmIjMzE4mJiSgtLQUAWFlZYfTo0XBxccGbb77Z5dPkisVibN26FVu2bIGrqyuOHDkCAwODLs3AdCusqL8KEeH+/fs4e/Yszp07h4SEBMnR+JQpUzB58mQYGxtzHfO1sWvXLnz++ec4c+YMZs+e3abnlpWVSeaAT0pKQlZWFrKyspCdnY2SkhKUl5ejuroaFRUVUFFRgaqqKtTU1KCpqQlDQ0OYmpqirq4O2dnZ2Lp1K+zs7KClpSWjlrZNaGgoFixYgMrKSpw5c6bFNztGobFx6k0Ri8V069YtWrVqFZmZmREAsrS0pLVr15Kfnx/V1tZyHfG15OPjQwKBgL777jtOM/B4PHr69ClnGZpTXFxMs2fPJiUlJfr222+5jsNwg50obVBVVUUXLlygd999l/T19QkA2dnZ0b/+9S8KDw/nOt5rLzo6mtTV1WnFihWc5igqKiKBQECnT5/mNEdz6uvr6dtvvyU+n0+LFi2i8vJyriMxXYudKA0LC8Phw4dx7Ngx5Ofnw9bWFp6enpg3bx4GDBjAdTwGz7tNhg0bBm1tbfj5+XF+zmLo0KEYMWIEdu/ezWmOlly8eBGLFi1C3759ce7cOZiamnIdiekar2efekJCAv7880/8+eefePToEQYNGoRFixZh/vz53XIq2tedl5cX/Pz8EB4eDhMTE67jYN26dbhy5QoePnzIdZQWJScnY9asWSgpKcHVq1fZQcrr4fXpU3/27Bnt27ePRo0aRTwej4yNjWnVqlXk7+/PdTSmBbt37yaBQEC+vr5cR5Fo6FeXh4vHCgsLacyYMaSrq0sBAQFcx2FkT/H71O/fv09vvfUWCYVCUlVVJU9PTzp//jw72SkHoqOjSVVVlTZv3sx1FCn5+fnE4/Ho4sWLXEdplaqqKpozZw6pqanJTWam3VIU8kqFsrIy/Prrrxg0aBCGDBmCxMREHDhwAPn5+Th16hRmzJgBJSV2f5DurLq6GosWLYKjoyM2bNjAdRwpenp66Nu3L+7evct1lFYRiUQ4efIkFi5cCHd3dxw8eJDrSIwMKVRlS0xMxKFDh7B//36Ul5dj5syZ2Lt3L0aNGsV1NKaN/vWvfyElJQWRkZEQCARcx2lkxIgRCAkJ4TpGqwkEAuzbtw+6urp47733UFtbi/fff5/rWIwscP1ZoTPcvn2bJk6cSDwej/r06UM7d+5UuLvkvE5CQkJIIBDQwYMHuY7SrJ9//pm0tbW7xeRhbbVlyxbi8Xjd+ufLtJt896lfv36d3nzzTQJAY8eOpUuXLsnlHxnzP7W1tTR48GBydXXt1nPJ379/nwBQXFwc11Ha5V//+hfx+Xw6evQo11GYzpUil90vAQEB+Oqrr3Dr1i2MGjUKN27cwPjx47mOxXSCbdu2ITExEQ8ePOjWt+izt7eHsrIyIiMjYWNjw3WcNvv3v/+NyspKLF26FPr6+pg4cSLXkZhOIlcnSi9duoRhw4ZhzJgxUFVVRXBwMAICAlhBVxBJSUn45ptvsHnzZvTp04frOC1SVlZG//798eDBA66jtNuOHTvg7e2NOXPmIDw8nOs4TCeRi6L+8OFDTJo0CdOmTYOxsTHu37+PixcvskmLFMynn36K/v37Y/Xq1VxHaRUHBwdERUVxHaPdeDwe/vvf/2L48OGYMWMGsrOzuY7EdIJuXdSLioqwcuVKODo6orCwEHfu3MHff/8NJycnrqMxnezWrVs4f/48du3aJTfDTQcNGiTXR+rA808cZ8+ehY6ODjw8PFBdXc11JKaDum1RP336NGxtbXH27FkcOnQId+/exZgxY7iOxchAfX09Pv30U0yfPh2TJk3iOk6rOTg4ICMjAwUFBVxH6RBNTU389ddfiIuLw4cffsh1HKaDul1Rz8/Ph4eHB+bNm4cpU6YgNjYWb7/9NrujiwI7cuQIHjx4gB07dnAdpU3s7OwAAHFxcRwn6TgbGxscPnwYBw8exLFjx7iOw3RAt6qU169fh4ODA+7fv48bN27g4MGD6NGjB9exGBmqq6vDtm3b8NZbb8ndhFMmJiZQV1dHcnIy11E6xcyZM/HRRx9h+fLlSExM5DoO007doqgTEbZs2QI3NzeMHj0aUVFRGDduHNexmC5w6tQpJCcnY/369VxHaTMejwcrKyuFKerA8xExffv2xeLFi1FXV8d1HKYdOC/qFRUVmD9/PrZs2YKff/4ZJ0+ehK6uLtexmC5ARNi2bRvmz5+P/v37cx2nXfr27YukpCSuY3QakUiEI0eOIDw8HD/99BPXcZh24LSol5SUYPLkyfD19cXVq1excuVKLuMwXezSpUuIjo7Gl19+yXWUduvXr59CFXUAGDhwIL744gts3LgRKSkpXMdh2oizm2QUFhZi8uTJyMjIwI0bN+SuP5XpuBkzZqCyshI3btzgOkq7HThwAJ988glKSkq4jtKpampq8MYbb6B37964cOEC13GY1kvl5Ei9pqYGs2fPRnZ2Nvz8/FhBfw1lZGTg8uXLWL58OddROsTU1BSlpaUoLS3lOkqnUlZWxu7du3Hx4kVcvXqV6zhMG3BS1N9//31ERETg4sWL6Nu3LxcRGI7t378fPXr0wMyZM7mO0iFGRkYAoJBXY7q6usLd3R1r1qyBWCzmOg7TSl1e1A8ePIg//vgDx48fh729fVfvnukmDh8+jKVLl0IkEnEdpUMMDQ0BKGZRB4CdO3ciKSkJJ0+e5DoK00pdWtRTUlKwZs0afPbZZ5g6darUY48fP8bMmTM73DcZGRmJadOmQUdHB5qampgwYQICAwM7tM2OunTpEvr37y+Ty99b297169d3mz/MsLAwPHr0CJMmTQKPx5N8OTo6oqqqqtH6+fn5UuvxeDwMGTKEg+SN6evrQ0lJCYmJiXLflqb069cPXl5e2LFjB4ioUX5FaadC6apJfmtqamjo0KHk5ORE1dXVUo9FRERQz549affu3R3aR0hICKmqqtK8efMoKyuL8vLy6L333iMlJSW6evVqh7bdHsnJyTRjxgwaNGgQaWlpkUAg6NTtt6W9ycnJZGlpSRs3buzUDO2xefNmMjMzk8yXHhoaSgAIAC1fvrzZ5wUHB5Oenl5XxWw1Y2Nj+v7774lI/tvSlPDwcAIg9TuliO1UEF13k4xdu3aRiopKo5sKFBcXk6mpaYu/GK1RV1dHdnZ2ZGRkRBUVFZLlYrGYrK2tyczMjKqqqjq0j7by9vambdu2UW1tLZmYmHRqUW9PeyMjI4nH49HJkyc7LUd7jB8/nt5++23J96GhoSQSiUhPT48A0LFjx5p8XnctEI6OjvTFF18Qkfy3pTmjR4+mhQsXSr5X1HYqgK658XROTg62bNmC9evXN7qhwI4dO5CTk4OvvvqqQ/u4c+cOYmJiMHfuXKiqqkqWCwQCeHt7Iz09vcuHZh08eBDr16+XSbdLe9rr4OCAuXPnYu3atZyd+Kqvr8fdu3cxevRoqeUqKio4evQo+Hy+3F2mrqGhgbKyMsn38tyW5nh6euL8+fNSXS2K2E5F0CVF/dNPP0WPHj3w2WefSS0nIhw4cADDhw+HsbFxh/bh6+sLAE322zUsu3nzZof20VYvFtvO1t72zp49GxkZGbh48aLMsrXk8ePHKCsrw6BBgxo95ubmho0bN6K0tBSenp5N9tV2R+rq6igvL5daJq9tac6cOXNQXl6OW7duSS1XtHYqApkX9ejoaBw/fhw7d+5sVOSioqLw9OlTODg4SC3/+++/pU6wPHr0CPPmzYOOjg709PQwffr0Rle6xcfHA3g+bvhlJiYmANDuI4n25JG19rZ38ODBAMDZ2OOEhAQAaPYWcJs2bcKkSZPw4MEDfPTRR63aZkFBAT755BP06dMHysrK0NXVxZQpU6QKUHtfw7y8PKxatQq9e/eGsrIy9PX14eHhgcjISMk6Lx+py3NbmmNiYoJ+/fohODhYodupEGTdwTN//nyys7Nr8obQR44cIQC0devWJp/r7u5OAMjd3Z2CgoKorKyMrl+/TqqqqjR06FCpdSdOnEgAKCQkpNF2kpKSCAC98cYbHWpLW/K8rLP71Nvb3uLiYgJAY8aM6bQsbXHw4EHS1NSUWhYaGkra2tqS7/Py8sjMzIwA0J9//ilZ3lT/bHZ2NllaWpKBgQH5+PhQcXExJSQkkIeHB/F4PNq/f7/U+m15DbOyssjCwoIMDAzo4sWLVFpaStHR0eTi4kIqKioUFBRERESLFy+mqVOnKkRbWrJgwYLXop1yTrYnSpOSkkggENCJEyeafHzHjh0EgH755ZcmH294MX18fKSWz507lwBQXl6eZFlLRS4xMZEAkJOTUwda07Y8L+vKov6q9vJ4POrbt2+nZWmL7du3k5WVldSylwsE0fNiIBQKSV1dXXJyvakCsWTJEgJAx48fl1peVVVFxsbGpKqqSjk5OZLlbXkNFy9eTADo6NGjUutmZ2eTSCSS/Hw/+OADcnFxUYi2tGT79u1kbm6u8O2Uc7I9Ufrbb7/ByMgIc+fObfLxhv43oVDY4naGDh0q9b2ZmRkAICsrS7JMR0cHABr1bb64rGGdjmpNHlnrSHuVlJRQWVkpq2gtqq2tfeXrDQAjRozArl27UF5eDk9Pz2bznjt3DgAwbdo0qeUikQjjx49HZWVlk11NrXkN//77b/D5fEyfPl1qXUNDQ9jZ2SEsLAwZGRkQCoWora1ViLa0xNDQEE+fPm32cUVpp7yTWVEnIhw/fhyLFi2CQCBoch0VFRUAaPEPAgC0tbWlvldWVgbwfCRFg4Y+2qZesMzMTADotOldW5NH1jrSXrFYLNOTuC1RUlJq9cibVatWYd68eYiOjm7yNmvV1dUoLi6GiooKNDU1Gz1uYGAA4Pnoq5e96jVs2HZ9fT20tbUbXUgTHh4OAEhKSoJYLH7lCCd5aUtL9PX1UV1d3eT5A0Vqp7yTWVEPCgpCWloaFi1a1Ow6DfNmFBcXd3h/rq6uAJ5frfiyhmXjx4/v8H66i/a2t6SkBEQk+dl3tbYUdeD5LIjW1tY4dOgQjhw5IvWYSCSCtrY2qqqqmpxQq+GosuFS/rYQiUTQ0dGBkpISamtrQURNfrm6ukIsFrfq04c8tKUlDW181esn7+2UdzIr6jdv3oSZmZnkPo5NGThwIICmjzbbysXFBba2tjhz5ozUsKq6ujqcOHECZmZmjT7uybP2trfhKL7hZ9/VXtVV8TINDQ389ddfUFdXx549exo9Pnv2bABoNESzuroaN2/ehKqqKtzc3NqV1cPDA2KxuMlpF7Zv3w5zc3OIxeJWHanLS1ta0tCtp6am1uJ68t5OeSezou7n5/fKd0QHBwf06tULUVFRHd4fn8/HwYMH8ezZMyxduhQ5OTkoKCjABx98gKSkJOzfv1/S3dNg0aJF4PF4SEtL6/D+O0Nb8rSnvQAkw7omTZrU2fFbpUePHsjPz2/TrdLs7Oywb9++Jh/btm0bLC0tsXr1aly4cAGlpaVITEzEggULkJ2djR9//FHykb6ttm3bhj59+uCdd97B5cuXUVxcjGfPnmHfvn3497//jV27dkk+ebT2ArPu3paWlJSUQFlZWdLtoajtlHuyOgWrq6vb7KiWF3355ZekpKREmZmZkmXBwcGSeSUavjZs2EBE1Gj5tGnTpLYXHh5OU6ZMIS0tLdLQ0KBx48ZRQEBAk/seN24caWhokFgsbjFje/P4+Pg0erzh6+VhW23J0972EhF5enqSiYkJ1dTUtHofnSkkJIQAUFpaGuXl5TX6ubQ0OmHFihVNXnKen59Pq1evJktLSxIKhaStrU1ubm508+ZNyTrtfQ0LCgrok08+ISsrKxIKhaSvr0+TJk2i69evS9ZZtGgRTZkyRSHa0pKvvvqK+vfvr/DtlHOyGdLYMBb68uXLr1y3qKiITExMOjz3S1sVFhaSqqoqLVu2rEv325yuyNMw98vLQ8m60rNnzwgAXbt2jbMMnW3q1Km0dOlSrmPInJeXF82ePZvrGEzLZDOk8cmTJwAACwuLV66rra0NHx8fnDlzBr/88oss4jRCRFi1ahW0tLSwZcuWLtkn13lSU1Ph4eGBL774AvPnz5fJPlpDV1cXenp6CjUCITc3F7169eI6hszdvXu30dXfTPcjk6JeXV0NAE326TbF0dER9+/fx+XLl7vkXo9Pnz5Famoqbt682a6z7PKYZ9++ffjmm2/wzTffyGT7bWFvb4/79+9zHaPT5ObmQl9fn+sYMpWQkIDHjx9j4sSJXEdhXqHbnDHoyhvcGhoaIiAgoEv21RpdkWf79u0y3X5bjB07FocOHeI6RqfJy8tT+KJ++fJl6OjoYNiwYVxHYV5BJkfqDRcVFBUVyWLzjJwbP348njx5guTkZK6jdFhJSQkqKysVvvvljz/+wNy5cxV/5IgCkElR7927NwQCAVJTU2WxeUbOjRgxApqaml0+FbIsNNybtDt048lKeHg4IiMjsWTJEq6jMK0gk6KurKwMCwsLxMbGymLzjJxTUlLC2LFj8c8//3AdpcMa7k3ap08frqPIzM6dO2Fvb49Ro0ZxHYVpBZldfDRmzBjJjRwY5mULFy7EtWvXJEe68ioxMRHGxsZNzmOiCOLi4nDq1Cls3LiR6yhMK8msqE+YMAHBwcGdMq8Lo3jc3d2hpaWFo0ePch2lQxITEzttorjuaOPGjbCxsWl2plWm+5FZUZ8xYwaUlJTw559/ymoXjBxTUVHBvHnz8Pvvv3MdpUMUuahfv34dZ8+exc6dO8Hnd8mdL5lOILNXSltbG97e3ti7d2+XTknLyI+lS5ciJiYG/v7+XEdpt4SEBIUs6pWVlfjwww8xe/ZsTJ06les4TBvI9O33448/Rnx8PI4dOybL3TByatiwYRgzZgy+/fZbrqO0S25uLrKzsxXyKsvPPvsMubm5+PHHH7mOwrSRTIv6wIEDsWTJEmzYsAEVFRWy3BUjp9avX49Lly4hIiKC6yht1jDjpb29PbdBOtnly5fxyy+/YM+ePZK7CzHyQ+YdZVu2bEFpaSnWrVsn610xcmjq1KlwdHTEzp07uY7SZlFRUTAxMVGoC4/S0tLw1ltvYdGiRfD29uY6DtMOMi/qRkZG2LNnD/bu3dtl0wAw8uXzzz/HqVOn8ODBA66jNOv777/HtGnT8O233yIgIADV1dWIiopSqK6XyspKeHp6wtTUFHv37uU6DtNeXTUf5JIlS0hbW5uio6O7apeMnKivr6dhw4bRuHHjpJaXlJTQokWLKCgoiKNk/7Nv3z4CQEpKSgSAhEIhGRgYkKurK124cIEKCwu5jtghYrGY3N3dSU9Pj9LS0riOw7SfbOZTb0pVVRWNGTOGLCwspG6IwTBEREFBQcTj8cjHx4eIiO7fv08WFhYEgL744guO0zV/wxOhUEgAiMfjUb9+/WjlypWUkZHBddw2qa+vp2XLlpGqqir5+/tzHYfpmK4r6kTP73Zia2tL/fr1o/T09K7cNSMHPD09ycbGhnbt2kVKSkqSo+J+/fpxHY3Cw8ObvYtVwxePxyMnJ6c23bmqO1i3bh0pKSnR+fPnuY7CdFzXFnUiopycHBo4cCD16dOHkpOTu3r3TDcWFhZGw4YNIz6f36hgJiYmcpotNzf3lUVdIBBQeHg4pznb6vPPPyeBQEBHjhzhOgrTOWRz56OWGBgYwNfXFzo6OhgxYoRcX3jCdJ7bt29j6tSpiIiIaHSxmlAo5Pwke8+ePSEUCpt9XElJCevXr4ejo2MXpmpZfX09tm/fDiJq9BgRYe3atdi1axd+//13LFq0iIOEjExw9XZSXl5OHh4eJBKJaO/evVzFYDgmFotp06ZNxOfzSSAQNNutMXr0aK6jkrGxcbNH6L1796bKykquI0rZvn07AaA9e/ZILa+qqqL58+eTsrIyHTt2jKN0jIx0fffLi+rq6mjTpk0kEAho7ty5cj+CgGm7t95665XdGg2F89mzZ5xmHTp0aLNvOjdu3OA028vCwsIk5yREIhHFxsYS0fMbf7u4uJCmpiZduXKF45SMDHR998uL+Hw+vv76a1y/fh1BQUFwcHDAlStXuIzEdLFffvkFy5YtA4AWJ40iIly6dKmrYjWpd+/ejTIKhUK88847GD9+PEepGquqqsKCBQsk39fV1cHLywuPHj3C2LFjkZSUhDt37sDNzY3DlIysdIup11xdXREVFQVnZ2dMmTIFixcvRkFBAdexmC6gqamJ/fv348qVKy32W/P5fM5vqmFqaip1Ozc+nw8tLa1udzXsmjVrkJKSArFYDAAQi8WIi4vD4MGDAQD37t2T/J9RPN2iqAPPT0QdP34c//zzD27evIn+/ftj9+7dkl9MRrG5ubkhISEBnp6eAAAejyf1uFgsxsWLF1FTU8NFPACAiYmJ1Pf19fXYt28fdHV1OUrU2JUrV7Bv375Gfzd1dXUoKSnB//t//69ROxgFw3UHUFNKS0tp/fr1JBKJyM7Ojs6ePUv19fVcx2K6yKlTp0hbW1tyYc+LX9euXeMs1/Hjx4nH40kuOpo8eTJnWZqSm5tLenp6TQ4JBUB8Pp969epF+fn5XEdlZIfbPvXmaGhoYNu2bYiJiYGdnR3mzp2LwYMH46+//mJzs78GPD09ER8fj4kTJ0odsSsrK8PHx4ezXCYmJpLhgUKhEPv37+csy8uICIsXL0ZJSUmzfyP19fUoLCzEO++808XpmC7F9dtKa8TExNBbb71FAoGA7Ozs6I8//pC7q/aYtquvr6e9e/eSqqqq5KjdyMiIszwpKSmSo96Xhwly7eeff272CL2pr0OHDnEdmZGNFB5RE1cmdFMxMTHYsmULTp8+jQEDBuCTTz6Bt7c3VFVVuY7GyFDDdLCBgYEAgIiIiFad6CssLERtbS3KyspQUVGB6upqyfKXVVVVobKystFyFRUVye9XTU0Npk+fDmtra/z+++9QUlKCsrIy1NXVoa6uDmVlZWhra3f5rd9iY2Ph6OjY4vkGJSUl1NXVgc/nY9SoUfD29sb777/fhSmZLpIqV0W9QWxsLLZt24ZTp05BXV0dS5YswfLly2Ftbc11NKaT1NTUIC8vD9nZ2cjLy8OzZ89w5swZ+Pj4YOTIkbCxsUFRURGKiopQWFiIwsJCSWEuKytDbW0tZ9kFAgG0tLQkbwg6OjrQ0dGBrq5uo/83/KunpwdjY2P06tULIpGo1fuqrq7GkCFDkJCQINVmHo8HJSUl1NbWQldXF9OmTcPMmTMxadIkaGtry6LZTPcgn0W9QWFhIQ4fPowff/wRaWlpGDVqFD7++GPMmjWrxUu6Ge4QEbKzs/Ho0SM8efIE6enpyM7Oltwa7unTp3j69Cny8/OlnqekpAQdHR2oq6ujoqICjo6OjYpjQxHV1NSEkpISdHV1oaSkBE1NTakj7obHX96+pqZmo7wvv0H4+Phg6tSpKCkpAfC8qFZUVKC8vBw1NTUoKiqCWCxGSUmJ5LEX33xe/Lfh/y+/Aenq6sLQ0BC9evWSFHojIyOYmprCwsICvXv3hpGREQQCAdatW4ddu3ZJ2lBXVwcej4chQ4Zg1qxZmDJlChwcHBqNJmIUlnwX9Qb19fW4fPky9uzZgytXrsDQ0BDe3t7w9vaGk5MT1/FeO8XFxUhMTERCQgKSk5Px+PFjPHnyBI8fP0Z6erqkm0BJSQlGRkaSuwcZGho2KmYN379YcGtraxXqTbu8vFzyqSQ3NxdZWVl4+vSp5P8N/2ZlZUneAIRCIfT09JCTkwPgeTfRG2+8gSlTpmDhwoWwtLTkskkMdxSjqL8oLS0Nhw4dwrFjx5Camor+/fvD29sb8+fPh42NDdfxFEp6ejqio6MRHx+PhIQEJCYmIj4+HtnZ2QAAkUgEKysrmJubw8LCAubm5jA3N4elpSXMzc1hbGzc6IiZaV59fb3kU05cXBx++OEHqKqqQiQSoaioCCkpKaiqqgIA6Ovrw8bGBtbW1pKvgQMHsmKv+BSvqL/o7t27OH78OE6dOoXs7GwMHjwY3t7e8PT0ZL/cbSAWi5GQkIDY2FjExMQgLCwMoaGhePr0KYDn3QVWVlawtbWFnZ2d5P82NjYQCAQcp3+9ZGVlITY2FqmpqUhNTUVMTAxiY2Px6NEj1NfXQ0tLC/b29rCzs4OtrS2cnJzg5OTEBhsoDsUu6g3q6+sRFBSE06dP48SJE8jNzYWVlRWmT5+OGTNmwMXFRaE+zndUdnY2AgMDERgYiODgYERGRqK6uhrKysoYOHAgBg8eDAcHBwwePBiDBg2Cjo4O15GZVygtLcXDhw8RGRkp+YqOjkZlZSWEQiHs7e3h7OwMZ2dnjBo1Cubm5lxHZtrn9SjqL6qtrcWdO3dw4cIFXLhwAcnJyejRowfc3NwwY8YMuLm5oUePHlzH7FLx8fG4desWgoKCEBgYiLS0NAgEAtjb22P06NEYOnQoHBwcYGtry978FEjDJ7CoqCjcu3cPQUFBiIiIgFgshqmpKUaNGgVnZ2e4uLhg0KBB7GSrfHj9ivrLEhIScOHCBVy8eBH+/v4gIgwfPhyurq5wdXWFs7Ozwn00LSsrw61bt3DhwgVcvXoVjx8/hrq6OgYPHozRo0dj1KhRGD16dLea04TpGhUVFQgPD0dYWBgCAwPh6+uLgoIC6OvrY+zYsZgwYQKmT58OY2NjrqMyTWNF/UVFRUW4du0abty4gVu3biE5ORkikQgjR46Eq6srxo0bh2HDhkFZWblT9vfZZ59BT08Pq1atkvkbR1JSEk6dOoWLFy/i3r17AIChQ4fCzc0NkyZNwvDhw1n/N9NIfX09wsPDce3aNVy9ehXBwcGoq6uDo6Mjpk2bBk9PTwwcOJDrmMz/sKLekvT0dPj6+uLWrVvw9fVFeno61NXVMXLkSDg7O2PEiBEYMWJEu49ohw0bhtDQUBgZGWH79u1YuHBhp16NmJKSgtOnT+PUqVOIiIiAgYGB5AKU8ePHsyNxps1KS0vh6+uLa9eu4fz588jIyICtrS28vLzg5eWFAQMGcB3xdceKelskJyfj1q1b8Pf3R3BwMJKTk8Hj8WBjY4MRI0Zg5MiRGDlyJGxtbVtVnLW0tFBaWirpq7S1tcX333+PiRMntjtjWVkZjh49ioMHDyI0NBQ9e/bEnDlz4OXlBRcXF3Y0znSahgEIp06dwpkzZ5CdnQ17e3u8++67WLx4MTuBzg1W1DsiLy8PISEhCA4ORnBwMEJDQ1FeXg4tLS0MGTIEb7zxBhwdHfHGG2+gf//+UoU+Kyur0bzWAoEAdXV1GDt2LP7zn/+06SbGsbGx2Lt3L44cOYLq6mp4eXlh4cKFGDduHBsLzshcfX09/P39cezYMRw7dgxEBG9vb6xcubJb3Yz7NcCKemcSi8V4+PAhgoODERYWhvDwcMTExKC2thYaGhoYPHiwpMiLxWK89957TW6n4XJvDw8P7Ny5s8Ux9YGBgdi0aRNu3ryJPn364P3338fSpUuhp6cnq2YyTItKSkpw+PBh7N27F7GxsXB2dsbXX3/doU+gTKuxoi5rtbW1SExMRFhYmOQrIiICvXr1QmZmZosTTwmFQhARVq5cic2bN0t9nI2MjMTGjRtx8eJFuLi4YP369Zg0aVKXzxDIMC25ffs2du7ciUuXLmHMmDHo27cvBg0aBF1dXejq6qJHjx6S//fq1Yt9quw4VtS5IBaL8c477+DEiROtmk1QKBRCVVUVX375JRYuXIjPPvsMJ06cgJOTE7755htMmjSpC1IzTPsFBARg3bp1CAkJgYqKCng8XqOpjgUCAQwMDGBhYQETExOYmppKppgYOHAgrKysWNF/NVbUuTJy5EiEhIS0+XkCgQC6urrYu3cv5syZw8kFISdOnIC3tzeA5/O7NMw30l4nT57Etm3bkJCQINnWw4cPZTJUbteuXVi3bh2A53cyysjI6PR9MM27evUq1qxZg+zsbHz33XeYMmUKCgsL8ezZM2RlZSEzMxNPnjxBRkaG5P/Z2dmor6+HsrIybGxsMGDAAAwcOBDDhg2Ds7MzNDQ02pQhPz8f+vr6ku8HDx6M4OBgqKiotLgeADg5OeH+/fvt/wHIXqpc3PlIEWlpaTV7Vxoej0dCoVByP0xlZWXS0dEhADR06FA6d+4clZWVcd0EGj9+PIlEog5tIyAggHg8Hq1bt45KS0spOTmZTE1N6eHDh52UsmkODg5kYmIi030wTauoqKDVq1cTn88nDw8PKiwsbHH98vJyCgsLoyNHjtD69etp5syZZGVlRQBISUmJhg0bRmvXrqXz589TZWVlq3OEhoZK/uaWL1/e7HrBwcGkp6fX6u1yLIUVdQ7k5ORIfpmEQqHkNmR8Pp/Mzc1p1qxZtGnTJjp9+jSFhITQsGHDqGfPnvTPP/9wHV1KZxT1jz/+mABQRkZGJ6VqneaKurq6Oo0aNapLs7yufH19ycTEhAYOHEjp6eltfn5OTg6dP3+ePv/8c3JyciI+n09qamrk6elJ58+fp9ra2hafHxoaSiKRiPT09AgAHTt2rMn15K2osw4qDsTExMDQ0BC2trZ44403YGdnB3t7e9ja2kpdWVpaWgpXV1c8e/YMgYGB6N+/P4epZSM9PR0A2Gid15CrqytCQkIwefJkTJgwAf7+/o26O1piYGCAGTNmYMaMGQCAnJwcnDx5EsePH8fMmTNhbGyMNWvW4P3332+2i0ZFRQVHjx7F1KlTsXz5cjg5Ocn/3xnXbyuvo/r6+latN2fOHDI0NKSUlBQZJ2qfzjhSd3d3JwBt+tjcGdiReveRnZ1Nffr0obFjx1JdXV2nbDMpKYk+++wz0tTUJBMTEzp37lyjdUJDQ0lbW5uIiL766isCQIMGDWr0uyhvR+qsqHdTJ06cID6fT7du3eI6CsXFxZG7uztpaWmRmpoajR49mvz9/Zst6rm5ufTRRx+RhYUFCYVC6tmzJ82ePZsiIiIk65w7d67J8wnDhw8nIqLa2lo6ceIETZgwgQwMDEhFRYUGDhxIP/zwg9Qf/pYtWyTPfbEYX758WbK8qT/Il4v6zp07m8wjEAha/Nm83I60tDTy8vIibW1t6tGjB02bNo2Sk5OlntPatr287UePHpGXlxdpaGhQjx49aNGiRfTs2TNKS0uj6dOnk4aGBhkaGtKyZcuopKSkXa8LVyIiIkgkEtHu3bs7dbt5eXm0dOlS4vF49Nlnn0kdUL1Y1Ovq6mjSpEkEgJYtWya1jeaKen5+Pq1Zs4asrKxIKBSSjo4OTZ48mXx9fSXrtOf3g6hDrxUr6t3VgAED6O233+Y6BiUlJZGOjg6ZmJjQtWvXqLS0lB48eECTJk2i3r17NyrqWVlZZGFhQQYGBnTx4kUqLS2l6OhocnFxIRUVFQoKCpJav7kjdR8fHwJAW7dupWfPnlFeXh799NNPxOfz6dNPP22Us7kjbCcnp1YV9Vdt51Ua2uHu7k5BQUFUVlZG169fJ1VVVRo6dGiH2tawbQ8PD7p//z6VlZXR4cOHCQBNmTKF3N3dKSIigkpLS+nXX38lALRmzRqpbbT1deHC2rVrycjIiKqrqzt920eOHCGhUEhbt26VLHuxqBM9fwMwMzMjAPTnn39KljdV1LOzs8nS0pIMDAzIx8eHiouLKSEhgTw8PIjH49H+/ful1m/L70cHXytW1LujqKgoAkD37t3jOgp5enoSADpz5ozU8szMTBKJRI2K+uLFiwkAHT16VGp5dnY2iUQicnJyklreUlEfO3ZsozyLFi0ioVBIxcXFUsu7S1H38fGRWj537lwCQHl5eZJlbW1bw7YvXrwotdzOzo4AkJ+fn9RyS0tLsra2llrW1teFC48ePSIAdP36dZls/z//+Q+JRCLJSfmXizrR8wIuFApJXV2d4uLiJMte/h1asmQJAaDjx49LLa+qqiJjY2NSVVWlnJwcyfK2/H508LVKYZcfdkORkZFQU1PDkCFDuI6CK1euAADc3NyklhsbGzd5Qunvv/8Gn8/H9OnTpZYbGhrCzs4OYWFhrRobPn36dNy6davRcgcHB9TW1iImJqYtzeiw6Oho8Hg8qa8PP/yw0XpDhw6V+t7MzAzA87l+GrS3bS//PjTMaf7ychMTE6n9AZ33usiShYUFLCwsEBERIZPtf/DBB1BVVYWPj0+z64wYMQK7du1CeXk5PD09G10g1eDcuXMAgGnTpkktF4lEGD9+PCorK3H16tVGz2vN70dHXys2+qUbKikpgaamJud3mqmurkZpaSlUVFSaHD3Qq1cvJCYmSq1fXFwMANDW1m52u0lJSTA1NW1x38XFxfjuu+9w7tw5ZGRkoKioSOrxioqKNrSk4wYOHAhqxXV6L7e7Ye79+vp6ybL2tk1LS0vqez6fD4FAADU1NanlAoFAan+d+brImra2tiRrZ1NWVoaxsTFycnJaXG/VqlUICgrCyZMn8eGHHzaao6nh56miogJNTc1GzzcwMACAJvfzqt+Pznit2JF6N2RkZISCggKUl5dzmkMkEkFTUxNVVVUoKytr9PizZ88ara+jowMlJSXU1taCiJr8cnV1feW+Z8yYgS1btuC9995DYmIi6uvrQUT4/vvvAaBRgeXz+aipqWm0nZcL5qt0xRtpW9vWUZ35ushSfX090tPTG81e2llycnKQlJQEW1vbV6574MABWFtb49ChQzhy5IjUYyKRCNra2qiqqkJpaWmj5zbckN3Q0LDNGTvjtWJFvRt68803QUS4dOkS11EwZcoUAP/rhmmQn5+PhISERut7eHhALBYjMDCw0WPbt2+Hubk5xGJxi/usq6tDYGAgDA0NsWrVKujr60uKbXMfh42MjJCZmSm1LCcnB0+ePGlxXy9TU1OTenOwtrbGf//73zZtoyXtaVtn6IzXRdb8/f1RWFiIsWPHdvq26+rqsGLFChgZGUnGtbdEQ0MDf/31F9TV1bFnz55Gj8+ePRsAcPHiRanl1dXVuHnzJlRVVRt1WbZWh1+rlnrcGe54eHiQo6MjicViTnMkJydTjx49pEa/xMTEkJubG/Xq1avRidKnT59Snz59yMrKii5dukRFRUVUUFBAv/76K6mpqdHJkyel1m/uROm4ceMIAO3YsYPy8vKooqKCfH19ydzcvMmTaR9++CEBoN27d0umG/Dy8iITE5M2nSidPHkyaWtr05MnTygoKIiUlJQoNjb2lT+n5trx+eefEwCpoWhtbVtz23Zzc2tyyKWLiwupq6tLLWvr69LV6uvrafz48TRmzBip5dXV1ZSfn9+hbefn59OkSZNIVVWV7ty5I1ne1InSl/35559NDot9efRLSUmJ1OiX//73v1Lrt+X3o4OvFRv90l3FxsaSiooKff3111xHoYSEBJo1axZpaWlJhmBduHCBxo8fLxl/++6770rWLygooE8++UQyfldfX58mTZokVayaG6ceHBxMRM+Hly1fvpzMzMxIKBSSgYEBLVmyhNavXy9Z98VRAEVFRbRs2TIyMjIiVVVVGj16NIWGhpKTk5Nk/c8//7zJ8egbNmyQbCc+Pp7GjBlD6urqZGZmRr/88kuLP5vg4OBmt/fy8mnTprWpbc1t+8U5Sxq+tm3bRv7+/o2Wb9q0qU2vC1d++eUXEggEkte/sLCQvv32WzIwMKB9+/a1a5s1NTW0Z88eMjIyot69e1NYWBgRPf/5v/xzamlEyYoVK5odp7569WqytLQkoVBI2tra5ObmRjdv3pSs057fD6IOvVasqHdne/bsIR6PR4cPH+Y6CsPIjI+PDwmFQtq8eTM9fvyYPvnkE1JTUyMlJSXi8/n073//u03bS09Pp61bt5KlpSWJRCL6+OOPqaCgQEbpux0290t3tmLFCjx58gRLly5FSUkJPvjgA64jMUynOnr0KN555x3MmDEDiYmJsLKyAp/Pl9xnQCgUSk48tiQuLg6XL1/GpUuXcPv2bejq6mLBggVYu3YtzM3NZd2MboUV9W5u27ZtkpNqfn5+2Lt3L5v8ipF7lZWVWL9+PXbv3g1zc3OcO3dOchvHuro6yXpisRjZ2dmNnhsREYF79+7h3r17CAwMxJMnT9CjRw9MnDgRp06dwvTp0yXDBV837CYZcuL69et45513IBaLsX///kYXJjCMvAgICICXlxdyc3NRV1cHJSWlFkdz2Nrawt3dHXFxcYiJiUFqairq6urQs2dPDBs2DMOHD8fEiRMxbNgwCASCLmxJt8TufCRPCgsL8cEHH+DEiRPw9PTE5s2bYWNjw3UshmmVmJgYLFmyBPfv35dclfviRVLN0dHRgZmZGQYMGABbW1sMGDAATk5O6NOnTxekljusqMuj8+fP48svv0R8fDzefvttbNq0CRYWFlzHYpgmZWVlYf78+fD392/X89XU1Di/EE+OpLKLj+TQzJkz8eDBA/z222/w8/ND//79sWTJEty9e5fraAwjERUVheXLl6Nfv35ITU3Fli1b8Ouvv2LBggXo1asXAEBJSQlCobDF7VRUVMj0wixFw47U5VxtbS3++OMP/Pzzz4iKioKTkxNWrlyJ+fPnN5oThGFkraamBmfOnMGePXsQGBgIGxsbfPDBB1i2bFmjGzunpqYiICAAAQEB8PHxQU5ODgQCAXg8XqM+9rS0NPTu3bsLWyK3WPeLIgkKCsKePXtw5swZqKqqwsPDA56enhg/fvwrj4YYpr3q6urg7++PU6dO4cyZMygsLIS7uztWrlwJV1fXVs+nk5CQgNu3b+PWrVu4ceMGCgoKwOfzUV9fj+DgYIwYMULGLVEIrKgrotzcXBw5cgSnTp3CvXv3oKenh9mzZ8PLywuurq5QUmIjWZmOqa+vR0BAAE6dOoW//voLOTk5cHBwgJeXFxYvXtwpk3LFxcXh9u3buH37NlasWCGTOWEUECvqiu7Jkyc4d+4cTp8+jaCgIKipqWHkyJGYPn063N3d2UdaptVyc3Ph5+eHGzduwMfHB9nZ2bC1tYWnpyfmz5/PRmJ1D6yov05SU1Nx4cIFXL16FX5+figvL4e1tTXc3NwwYcIEODs7swubGIni4mIEBQXB19cX165dw4MHD6CiooIxY8bAzc0NU6dOxYABA7iOyUhjRf11VV1djYCAAFy9ehVXr17Fw4cPATyfatbZ2RmjRo2Cs7MzrK2tOb9ZB9M1UlJSEBgYiKCgIAQFBSEmJgb19fWwsbGBm5sb3Nzc4OLiwk7Ad2+sqDPPFRQUIDg4GEFBQQgMDERoaCgqKyuhp6eHoUOHYvDgwXB0dMTgwYPRt29f8PlsNKy8IiKkpqYiMjJS8hUaGoqnT59CJBLByckJI0eOxOjRozFy5EjJnXwYucCKOtO02tpahIeHIzg4GGFhYYiMjER8fDzEYjE0NDRgb2+PwYMHw8HBAdbW1rC2toaRkRHXsZmX5OXlIT4+HgkJCXjw4AEiIyMRFRWFkpISCAQC9OvXD4MHD5YU8iFDhkAkEnEdm2k/VtSZ1quqqkJ0dLTUEV50dLTknopaWlqwtrZG//79YWNjA2tra/Tt2xcWFhbo0aMHx+kVV1FREZ48eYKkpCQkJiYiISEB8fHxSExMRGFhIYDnd/Kxs7OTfOJycHDAoEGDWFeK4mFFnem4nJwcSRF5saCkpaVJZtzT1NSEubk5LC0tYW5uLrlzvJmZGYyNjWFgYABVVVWOW9L9VFdXIzc3F5mZmcjIyMDjx4/x+PFjPHr0SPL/hjdVPp8PCwsLqTfV/v37w9ramvMbSjNdhhV1RnZqamqQlpaGJ0+eSArQiwUpMzNTappVTU1NGBsbo1evXjA0NIShoSF69eqFXr16QVdXV/Klo6Mj+Vfe+vYLCwtRWFiIoqIiqf/n5ubi6dOnyM3NRVZWFvLy8pCdnS1142w+nw8jIyP07t1b8qb44peVlRXrOmFYUWe40zBXdmZmJvLy8pCTk4OcnBzk5uYiOztbUuRyc3OlituLtLW1JQVeJBJBU1MTKioqUFVVhYaGBoRCIXR0dCAUCqGpqQkA4PF40NHRabQtLS0tqalbiajJ/RYXF0tmFywrK0NtbS2KioogFotRUlKCqqoqVFZWoqysDDU1NVLFu7k26Ovrw8DAAPr6+jAxMZF8b2RkhF69esHIyAjGxsav7RzhTKuxos7Ij5ePcl8+2q2pqZEqqqWlpRCLxSgsLERtbS3KysoAQOr/DZor4C8XegBQV1eXFFc1NTWIRCJoa2tDKBRCS0tL6k1FJBJJfbJQhE8bTLfGijrDMIwCYVPvMgzDKBJW1BmGYRQIK+oMwzAKRAnAaa5DMAzDMJ3i6f8HrL+/on0/djwAAAAASUVORK5CYII=\"/>"
     },
     "execution_count": 18,
     "metadata": {},
     "output_type": "execute_result"
    }
   ],
   "source": [
    "# Jupyter notebook setup to export images in HTML. \n",
    "image = PILImage.open(\"graph2.png\")\n",
    "output = io.BytesIO()\n",
    "image.save(output, format='PNG')\n",
    "encoded_string = base64.b64encode(output.getvalue()).decode()\n",
    "\n",
    "html = '<img src=\"data:image/png;base64,{}\"/>'.format(encoded_string)\n",
    "IPython.display.HTML(html)"
   ],
   "metadata": {
    "collapsed": false,
    "pycharm": {
     "name": "#%%\n"
    }
   }
  },
  {
   "cell_type": "markdown",
   "source": [
    "We can now check if two `Graphs` are isomorphic to each other."
   ],
   "metadata": {
    "collapsed": false,
    "pycharm": {
     "name": "#%% md\n"
    }
   }
  },
  {
   "cell_type": "code",
   "execution_count": 22,
   "outputs": [
    {
     "data": {
      "text/plain": "True"
     },
     "execution_count": 22,
     "metadata": {},
     "output_type": "execute_result"
    }
   ],
   "source": [
    "g1 = Graph()\n",
    "g1.add_nodes(num_nodes=4)\n",
    "g1.add_edges([(0, 1), (1, 2), (2, 3)])\n",
    "\n",
    "g2 = Graph()\n",
    "g2.add_nodes(num_nodes=4)\n",
    "g2.add_edges([(1, 0), (2, 1), (3, 2)])\n",
    "\n",
    "g1.is_isomorphic_to(g2)"
   ],
   "metadata": {
    "collapsed": false,
    "pycharm": {
     "name": "#%%\n"
    }
   }
  },
  {
   "cell_type": "code",
   "execution_count": null,
   "outputs": [],
   "source": [],
   "metadata": {
    "collapsed": false,
    "pycharm": {
     "name": "#%%\n"
    }
   }
  }
 ],
 "metadata": {
  "kernelspec": {
   "display_name": "Python 3 (ipykernel)",
   "language": "python",
   "name": "python3"
  },
  "language_info": {
   "codemirror_mode": {
    "name": "ipython",
    "version": 3
   },
   "file_extension": ".py",
   "mimetype": "text/x-python",
   "name": "python",
   "nbconvert_exporter": "python",
   "pygments_lexer": "ipython3",
   "version": "3.9.13"
  }
 },
 "nbformat": 4,
 "nbformat_minor": 1
}