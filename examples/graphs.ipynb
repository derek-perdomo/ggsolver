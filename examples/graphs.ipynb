{
 "cells": [
  {
   "cell_type": "markdown",
   "metadata": {
    "pycharm": {
     "name": "#%% md\n"
    }
   },
   "source": [
    "# Graph class"
   ]
  },
  {
   "cell_type": "code",
   "execution_count": 2,
   "metadata": {
    "pycharm": {
     "name": "#%%\n"
    }
   },
   "outputs": [],
   "source": [
    "# This code block is necessary when running in `ggsolver:v0.1` docker image.\n",
    "import sys\n",
    "sys.path.append('/home/ggsolver/')"
   ]
  },
  {
   "cell_type": "code",
   "execution_count": 3,
   "metadata": {
    "pycharm": {
     "name": "#%%\n"
    }
   },
   "outputs": [
    {
     "name": "stdout",
     "output_type": "stream",
     "text": [
      "import ok.\n"
     ]
    }
   ],
   "source": [
    "from ggsolver.graph import Graph, NodePropertyMap, EdgePropertyMap\n",
    "from pprint import pprint\n",
    "print(\"import ok.\")"
   ]
  },
  {
   "cell_type": "code",
   "execution_count": 4,
   "metadata": {
    "pycharm": {
     "name": "#%%\n"
    }
   },
   "outputs": [
    {
     "name": "stdout",
     "output_type": "stream",
     "text": [
      "<Graph with |V|=0, |E|=0>\n"
     ]
    }
   ],
   "source": [
    "# Creating a graph\n",
    "g = Graph()\n",
    "print(g)"
   ]
  },
  {
   "cell_type": "code",
   "execution_count": 5,
   "metadata": {
    "pycharm": {
     "name": "#%%\n"
    }
   },
   "outputs": [
    {
     "name": "stdout",
     "output_type": "stream",
     "text": [
      "g.add_node() -> 0\n",
      "g.add_nodes(num_nodes=2) -> n1:1, n2:2\n",
      "g.add_nodes(num_nodes=5) -> nodes:[3, 4, 5, 6, 7]\n"
     ]
    }
   ],
   "source": [
    "# Add single node\n",
    "n0 = g.add_node()\n",
    "print(f\"g.add_node() -> {n0}\")\n",
    "\n",
    "# Add multiple nodes\n",
    "n1, n2 = g.add_nodes(num_nodes=2)\n",
    "print(f\"g.add_nodes(num_nodes=2) -> n1:{n1}, n2:{n2}\")\n",
    "\n",
    "nodes = g.add_nodes(num_nodes=5)\n",
    "print(f\"g.add_nodes(num_nodes=5) -> nodes:{nodes}\")"
   ]
  },
  {
   "cell_type": "code",
   "execution_count": 6,
   "metadata": {
    "pycharm": {
     "name": "#%%\n"
    }
   },
   "outputs": [
    {
     "name": "stdout",
     "output_type": "stream",
     "text": [
      "g.add_edge(n0, n1) -> key0:0\n",
      "When two edges are added between same nodes, the key is incremented.\n",
      "Every edge is represented by a unique triple: (uid, vid, key).\n",
      "g.add_edge(n0, n1) -> key1:1\n",
      "g.add_edge(n0, n2) -> key2:0\n",
      "g.add_edges([(n0, n1), (n1, n2)]) -> keys:[2, 0]\n"
     ]
    }
   ],
   "source": [
    "# Create an edge (returns a key corresponding to edge).\n",
    "key0 = g.add_edge(n0, n1)\n",
    "print(f\"g.add_edge(n0, n1) -> key0:{key0}\")\n",
    "\n",
    "key1 = g.add_edge(n0, n1)\n",
    "print(f\"When two edges are added between same nodes, the key is incremented.\")\n",
    "print(f\"Every edge is represented by a unique triple: (uid, vid, key).\")\n",
    "print(f\"g.add_edge(n0, n1) -> key1:{key1}\")\n",
    "\n",
    "key2 = g.add_edge(n0, n2)\n",
    "print(f\"g.add_edge(n0, n2) -> key2:{key2}\")\n",
    "\n",
    "# Add multiple edges\n",
    "keys = g.add_edges([(n0, n1), (n1, n2)])\n",
    "print(f\"g.add_edges([(n0, n1), (n1, n2)]) -> keys:{keys}\")"
   ]
  },
  {
   "cell_type": "code",
   "execution_count": 7,
   "metadata": {
    "pycharm": {
     "name": "#%%\n"
    }
   },
   "outputs": [
    {
     "name": "stdout",
     "output_type": "stream",
     "text": [
      "g.successors(n0) -> [1, 2]  ... Node IDs of successors.\n",
      "g.predecessors(n1) -> [0]  ... Node IDs of predecessors.\n"
     ]
    }
   ],
   "source": [
    "# Check successors of a node\n",
    "successors = g.successors(n0)\n",
    "print(f\"g.successors(n0) -> {list(successors)}  ... Node IDs of successors.\")\n",
    "\n",
    "# Check predecessors of a node\n",
    "predecessors = g.predecessors(n1)\n",
    "print(f\"g.predecessors(n1) -> {list(predecessors)}  ... Node IDs of predecessors.\")"
   ]
  },
  {
   "cell_type": "code",
   "execution_count": 8,
   "metadata": {
    "pycharm": {
     "name": "#%%\n"
    }
   },
   "outputs": [
    {
     "name": "stdout",
     "output_type": "stream",
     "text": [
      "g.out_edges(n0) -> [(0, 1, 0), (0, 1, 1), (0, 1, 2), (0, 2, 0)]  ... Edge triples of out edges.\n",
      "g.in_edges(n1) -> [(0, 1, 0), (0, 1, 1), (0, 1, 2)]  ... Edge triples of out edges.\n"
     ]
    }
   ],
   "source": [
    "# Check out_edges from a node\n",
    "out_edges = g.out_edges(n0)\n",
    "print(f\"g.out_edges(n0) -> {list(out_edges)}  ... Edge triples of out edges.\")\n",
    "\n",
    "# Check in_edges to a node\n",
    "in_edges = g.in_edges(n1)\n",
    "print(f\"g.in_edges(n1) -> {list(in_edges)}  ... Edge triples of out edges.\")"
   ]
  },
  {
   "cell_type": "code",
   "execution_count": 9,
   "metadata": {
    "pycharm": {
     "name": "#%%\n"
    }
   },
   "outputs": [
    {
     "name": "stdout",
     "output_type": "stream",
     "text": [
      "g.nodes() -> [0, 1, 2, 3, 4, 5, 6, 7]  ... Node IDs.\n",
      "g.edges() -> [(0, 1, 0), (0, 1, 1), (0, 1, 2), (0, 2, 0), (1, 2, 0)]  ... Edge triples of out edges.\n",
      "g.number_of_nodes() -> 8\n",
      "g.number_of_edges() -> 5\n"
     ]
    }
   ],
   "source": [
    "# Check all nodes\n",
    "nodes = g.nodes()\n",
    "print(f\"g.nodes() -> {list(nodes)}  ... Node IDs.\")\n",
    "\n",
    "# Check all edges\n",
    "edges = g.edges()\n",
    "print(f\"g.edges() -> {list(edges)}  ... Edge triples of out edges.\")\n",
    "\n",
    "# Get number of nodes, edges\n",
    "print(f\"g.number_of_nodes() -> {g.number_of_nodes()}\")\n",
    "print(f\"g.number_of_edges() -> {g.number_of_edges()}\")"
   ]
  },
  {
   "cell_type": "code",
   "execution_count": 10,
   "metadata": {
    "pycharm": {
     "name": "#%%\n"
    }
   },
   "outputs": [
    {
     "name": "stdout",
     "output_type": "stream",
     "text": [
      "g['name'][n0] -> n0  ... If property value is assigned, then the value is returned.\n",
      "g['name'][n1] -> None  ... If property value is NOT assigned, then default value is returned.\n",
      "g['name'][n0] -> n0  ... If property value is assigned, then the value is returned.\n",
      "g['name'][n1] -> default-name  ... If property value is NOT assigned, then default value is returned.\n"
     ]
    }
   ],
   "source": [
    "# Associate a property with nodes\n",
    "# Approach 1: Create the property separately and then associate it with graph.\n",
    "name = NodePropertyMap(g)\n",
    "name[n0] = \"n0\"\n",
    "g[\"name\"] = name\n",
    "print(f\"g['name'][n0] -> {g['name'][n0]}  ... If property value is assigned, then the value is returned.\")\n",
    "print(f\"g['name'][n1] -> {g['name'][n1]}  ... If property value is NOT assigned, then default value is returned.\")\n",
    "\n",
    "# Approach 2: Create the property directly.\n",
    "g[\"name\"] = NodePropertyMap(g, default=\"default-name\")\n",
    "g[\"name\"][n0] = \"n0\"\n",
    "print(f\"g['name'][n0] -> {g['name'][n0]}  ... If property value is assigned, then the value is returned.\")\n",
    "print(f\"g['name'][n1] -> {g['name'][n1]}  ... If property value is NOT assigned, then default value is returned.\")"
   ]
  },
  {
   "cell_type": "code",
   "execution_count": 11,
   "metadata": {
    "pycharm": {
     "name": "#%%\n"
    }
   },
   "outputs": [
    {
     "name": "stdout",
     "output_type": "stream",
     "text": [
      "g['label'][(n0, n1, key0)] -> (n0, n1, 0)  ... If property value is assigned, then the value is returned.\n",
      "g['label'][(n0, n1, key1)] -> None  ... If property value is NOT assigned, then default value is returned.\n"
     ]
    }
   ],
   "source": [
    "# Associate a property with edges (edge properties can also be associated in two ways like node properties).\n",
    "g[\"label\"] = EdgePropertyMap(g)\n",
    "g[\"label\"][(n0, n1, key0)] = \"(n0, n1, 0)\"\n",
    "print(f\"g['label'][(n0, n1, key0)] -> {g['label'][(n0, n1, key0)]}  \"\n",
    "      f\"... If property value is assigned, then the value is returned.\")\n",
    "print(f\"g['label'][(n0, n1, key1)] -> {g['label'][(n0, n1, key1)]}  \"\n",
    "      f\"... If property value is NOT assigned, then default value is returned.\")"
   ]
  },
  {
   "cell_type": "code",
   "execution_count": 12,
   "metadata": {
    "pycharm": {
     "name": "#%%\n"
    }
   },
   "outputs": [
    {
     "name": "stdout",
     "output_type": "stream",
     "text": [
      "g[\"graph_prop0\"] -> 10\n",
      "g[\"graph_prop1\"] -> I am a graph property!\n"
     ]
    }
   ],
   "source": [
    "# Graph properties are assigned similarly, except we do not have GraphPropertyMap class.\n",
    "g[\"graph_prop0\"] = 10\n",
    "g[\"graph_prop1\"] = \"I am a graph property!\"\n",
    "\n",
    "print(f'g[\"graph_prop0\"] -> {g[\"graph_prop0\"]}')\n",
    "print(f'g[\"graph_prop1\"] -> {g[\"graph_prop1\"]}')"
   ]
  },
  {
   "cell_type": "code",
   "execution_count": 13,
   "metadata": {
    "pycharm": {
     "name": "#%%\n"
    }
   },
   "outputs": [
    {
     "name": "stdout",
     "output_type": "stream",
     "text": [
      "{'graph': {'edge_properties': {'label': {'default': None,\n",
      "                                         'dict': [{'edge': (0, 1, 0),\n",
      "                                                   'pvalue': '(n0, n1, 0)'}]}},\n",
      "           'edges': {0: {1: 3, 2: 1}, 1: {2: 1}},\n",
      "           'graph_properties': {'graph_prop0': 10,\n",
      "                                'graph_prop1': 'I am a graph property!'},\n",
      "           'node_properties': {'name': {'default': 'default-name',\n",
      "                                        'dict': {0: 'n0'}}},\n",
      "           'nodes': 8}}\n"
     ]
    }
   ],
   "source": [
    "# A graph object can be serialized into a dictionary.\n",
    "g_dict = g.serialize()\n",
    "pprint(g_dict)"
   ]
  },
  {
   "cell_type": "code",
   "execution_count": 14,
   "metadata": {
    "pycharm": {
     "name": "#%%\n"
    }
   },
   "outputs": [
    {
     "name": "stdout",
     "output_type": "stream",
     "text": [
      "{'graph': {'edge_properties': {'label': {'default': None,\n",
      "                                         'dict': [{'edge': (0, 1, 0),\n",
      "                                                   'pvalue': '(n0, n1, 0)'}]}},\n",
      "           'edges': {0: {1: 3, 2: 1}, 1: {2: 1}},\n",
      "           'graph_properties': {'graph_prop0': 10,\n",
      "                                'graph_prop1': 'I am a graph property!'},\n",
      "           'node_properties': {'name': {'default': 'default-name',\n",
      "                                        'dict': {0: 'n0'}}},\n",
      "           'nodes': 8}}\n"
     ]
    }
   ],
   "source": [
    "# A dictionary can be deserialized to get a graph object.\n",
    "new_g = Graph.deserialize(g_dict)\n",
    "pprint(new_g.serialize())"
   ]
  },
  {
   "cell_type": "code",
   "execution_count": 15,
   "metadata": {
    "pycharm": {
     "name": "#%%\n"
    }
   },
   "outputs": [],
   "source": [
    "# A graph can be saved and loaded to/from a file\n",
    "#   fpath: gives a complete path of the file to which the graph will be saved. (include extension)\n",
    "#   overwrite: if the file should overwrite an existing file.\n",
    "#   protocol: either json or pickle.\n",
    "g.save(fpath=\"mygraph.graph\", overwrite=True, protocol=\"json\")\n",
    "loaded_g = Graph.load(fpath=\"mygraph.graph\", protocol=\"json\")"
   ]
  },
  {
   "cell_type": "code",
   "execution_count": null,
   "outputs": [],
   "source": [
    "# Draw graph. Saves to the given location as PNG image. \n",
    "loaded_g.to_png(\"graph1.png\")"
   ],
   "metadata": {
    "collapsed": false,
    "pycharm": {
     "name": "#%%\n"
    }
   }
  },
  {
   "cell_type": "code",
   "execution_count": null,
   "outputs": [],
   "source": [
    "# Jupyter notebook setup to export images in HTML. \n",
    "import base64, io, IPython\n",
    "from PIL import Image as PILImage\n",
    "from IPython.display import Image\n",
    "from IPython.core.display import HTML\n",
    "\n",
    "image = PILImage.open(\"graph1.png\")\n",
    "output = io.BytesIO()\n",
    "image.save(output, format='PNG')\n",
    "encoded_string = base64.b64encode(output.getvalue()).decode()\n",
    "\n",
    "html = '<img src=\"data:image/png;base64,{}\"/>'.format(encoded_string)\n",
    "IPython.display.HTML(html)"
   ],
   "metadata": {
    "collapsed": false,
    "pycharm": {
     "name": "#%%\n"
    }
   }
  },
  {
   "cell_type": "code",
   "execution_count": null,
   "outputs": [],
   "source": [
    "# If nlabel, elabel is specified, the corresponding node and edge properties are used to label \n",
    "#   the nodes and edges of the generated graph.\n",
    "# Note: If the mapping from nodes to selected node-properties is not 1-1, then the generated graph can be different\n",
    "#   from the true graph. For example, note the difference between the `graph1.png` and `graph2.png`.\n",
    "loaded_g.to_png(\"graph2.png\", nlabel=[\"name\"], elabel=[\"label\"])"
   ],
   "metadata": {
    "collapsed": false,
    "pycharm": {
     "name": "#%%\n"
    }
   }
  },
  {
   "cell_type": "code",
   "execution_count": null,
   "outputs": [],
   "source": [
    "# Jupyter notebook setup to export images in HTML. \n",
    "image = PILImage.open(\"graph2.png\")\n",
    "output = io.BytesIO()\n",
    "image.save(output, format='PNG')\n",
    "encoded_string = base64.b64encode(output.getvalue()).decode()\n",
    "\n",
    "html = '<img src=\"data:image/png;base64,{}\"/>'.format(encoded_string)\n",
    "IPython.display.HTML(html)"
   ],
   "metadata": {
    "collapsed": false,
    "pycharm": {
     "name": "#%%\n"
    }
   }
  }
 ],
 "metadata": {
  "kernelspec": {
   "display_name": "Python 3 (ipykernel)",
   "language": "python",
   "name": "python3"
  },
  "language_info": {
   "codemirror_mode": {
    "name": "ipython",
    "version": 3
   },
   "file_extension": ".py",
   "mimetype": "text/x-python",
   "name": "python",
   "nbconvert_exporter": "python",
   "pygments_lexer": "ipython3",
   "version": "3.9.13"
  }
 },
 "nbformat": 4,
 "nbformat_minor": 1
}