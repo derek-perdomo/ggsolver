{
 "cells": [
  {
   "cell_type": "markdown",
   "source": [
    "# Translating an LTL formula to DFA\n",
    "\n",
    "In this example, we show how to translate an LTL formula to DFA (`ggsolver.automata.DFA` class) using `i_spot` interface."
   ],
   "metadata": {
    "collapsed": false,
    "pycharm": {
     "name": "#%% md\n"
    }
   }
  },
  {
   "cell_type": "code",
   "execution_count": 1,
   "outputs": [],
   "source": [
    "# This code block is necessary only when using `ggsolver:v0.1` or `ggsolver:devel` docker images.\n",
    "import sys\n",
    "sys.path.append('/home/ggsolver/')\n",
    "\n",
    "from examples.jupyter_patch import *"
   ],
   "metadata": {
    "collapsed": false,
    "pycharm": {
     "name": "#%%\n"
    }
   }
  },
  {
   "cell_type": "code",
   "execution_count": 2,
   "outputs": [],
   "source": [
    "from ggsolver.interfaces.i_spot import SpotAutomaton\n",
    "from ggsolver.automata import *"
   ],
   "metadata": {
    "collapsed": false,
    "pycharm": {
     "name": "#%%\n"
    }
   }
  },
  {
   "cell_type": "markdown",
   "source": [
    "First translate the LTL formula to an automaton by creating an instance of `SpotAutomaton`."
   ],
   "metadata": {
    "collapsed": false,
    "pycharm": {
     "name": "#%% md\n"
    }
   }
  },
  {
   "cell_type": "code",
   "execution_count": 3,
   "outputs": [
    {
     "name": "stdout",
     "output_type": "stream",
     "text": [
      "[INFO] Translating Fa with options=('Buchi', 'Deterministic', 'High', 'Complete', 'Unambiguous', 'SBAcc').\n"
     ]
    }
   ],
   "source": [
    "aut = SpotAutomaton(formula=\"Fa\")       # Eventually a: This is a \"guarantee\" formula"
   ],
   "metadata": {
    "collapsed": false,
    "pycharm": {
     "name": "#%%\n"
    }
   }
  },
  {
   "cell_type": "markdown",
   "source": [
    "Now, construct an empty DFA. Then, construct DFA from spot automaton."
   ],
   "metadata": {
    "collapsed": false,
    "pycharm": {
     "name": "#%% md\n"
    }
   }
  },
  {
   "cell_type": "code",
   "execution_count": 5,
   "outputs": [
    {
     "name": "stdout",
     "output_type": "stream",
     "text": [
      "<DFA object at 140520657030976>\n"
     ]
    }
   ],
   "source": [
    "dfa = DFA()\n",
    "dfa.from_automaton(aut)"
   ],
   "metadata": {
    "collapsed": false,
    "pycharm": {
     "name": "#%%\n"
    }
   }
  },
  {
   "cell_type": "markdown",
   "source": [],
   "metadata": {
    "collapsed": false,
    "pycharm": {
     "name": "#%% md\n"
    }
   }
  },
  {
   "cell_type": "markdown",
   "source": [
    "Note that `from_automaton` will raise an AssertionError if the automaton represented by `SpotAutomaton` is not a representable as a DFA. For instance, let's try a safety formula."
   ],
   "metadata": {
    "collapsed": false,
    "pycharm": {
     "name": "#%% md\n"
    }
   }
  },
  {
   "cell_type": "code",
   "execution_count": 6,
   "outputs": [
    {
     "name": "stdout",
     "output_type": "stream",
     "text": [
      "[INFO] Translating Ga with options=('Monitor', 'Deterministic', 'High', 'Complete', 'Unambiguous', 'SBAcc').\n"
     ]
    },
    {
     "ename": "AssertionError",
     "evalue": "aut.acc_cond(): ('Safety', 0), self.acc_cond(): ('Reach', 0)",
     "output_type": "error",
     "traceback": [
      "\u001B[0;31m---------------------------------------------------------------------------\u001B[0m",
      "\u001B[0;31mAssertionError\u001B[0m                            Traceback (most recent call last)",
      "Cell \u001B[0;32mIn [6], line 3\u001B[0m\n\u001B[1;32m      1\u001B[0m aut \u001B[38;5;241m=\u001B[39m SpotAutomaton(formula\u001B[38;5;241m=\u001B[39m\u001B[38;5;124m\"\u001B[39m\u001B[38;5;124mGa\u001B[39m\u001B[38;5;124m\"\u001B[39m)\n\u001B[1;32m      2\u001B[0m dfa \u001B[38;5;241m=\u001B[39m DFA() \n\u001B[0;32m----> 3\u001B[0m \u001B[43mdfa\u001B[49m\u001B[38;5;241;43m.\u001B[39;49m\u001B[43mfrom_automaton\u001B[49m\u001B[43m(\u001B[49m\u001B[43maut\u001B[49m\u001B[43m)\u001B[49m\n",
      "File \u001B[0;32m/home/ggsolver/ggsolver/models.py:1054\u001B[0m, in \u001B[0;36mAutomaton.from_automaton\u001B[0;34m(self, aut)\u001B[0m\n\u001B[1;32m   1049\u001B[0m \u001B[38;5;28;01mdef\u001B[39;00m \u001B[38;5;21mfrom_automaton\u001B[39m(\u001B[38;5;28mself\u001B[39m, aut: \u001B[38;5;124m'\u001B[39m\u001B[38;5;124mAutomaton\u001B[39m\u001B[38;5;124m'\u001B[39m):\n\u001B[1;32m   1050\u001B[0m     \u001B[38;5;124;03m\"\"\"\u001B[39;00m\n\u001B[1;32m   1051\u001B[0m \u001B[38;5;124;03m    Constructs a DFA from another Automaton instance.\u001B[39;00m\n\u001B[1;32m   1052\u001B[0m \u001B[38;5;124;03m    The input automaton's acceptance condition must match that of a DFA.\u001B[39;00m\n\u001B[1;32m   1053\u001B[0m \u001B[38;5;124;03m    \"\"\"\u001B[39;00m\n\u001B[0;32m-> 1054\u001B[0m     \u001B[38;5;28;01massert\u001B[39;00m aut\u001B[38;5;241m.\u001B[39macc_cond() \u001B[38;5;241m==\u001B[39m \u001B[38;5;28mself\u001B[39m\u001B[38;5;241m.\u001B[39macc_cond(), \u001B[38;5;124mf\u001B[39m\u001B[38;5;124m\"\u001B[39m\u001B[38;5;124maut.acc_cond(): \u001B[39m\u001B[38;5;132;01m{\u001B[39;00maut\u001B[38;5;241m.\u001B[39macc_cond()\u001B[38;5;132;01m}\u001B[39;00m\u001B[38;5;124m, self.acc_cond(): \u001B[39m\u001B[38;5;132;01m{\u001B[39;00m\u001B[38;5;28mself\u001B[39m\u001B[38;5;241m.\u001B[39macc_cond()\u001B[38;5;132;01m}\u001B[39;00m\u001B[38;5;124m\"\u001B[39m\n\u001B[1;32m   1056\u001B[0m     \u001B[38;5;66;03m# Copy all functions from automaton.\u001B[39;00m\n\u001B[1;32m   1057\u001B[0m     \u001B[38;5;28mself\u001B[39m\u001B[38;5;241m.\u001B[39mstates \u001B[38;5;241m=\u001B[39m aut\u001B[38;5;241m.\u001B[39mstates\n",
      "\u001B[0;31mAssertionError\u001B[0m: aut.acc_cond(): ('Safety', 0), self.acc_cond(): ('Reach', 0)"
     ]
    }
   ],
   "source": [
    "aut = SpotAutomaton(formula=\"Ga\")\n",
    "dfa = DFA()\n",
    "dfa.from_automaton(aut)"
   ],
   "metadata": {
    "collapsed": false,
    "pycharm": {
     "name": "#%%\n"
    }
   }
  }
 ],
 "metadata": {
  "kernelspec": {
   "display_name": "Python 3",
   "language": "python",
   "name": "python3"
  },
  "language_info": {
   "codemirror_mode": {
    "name": "ipython",
    "version": 2
   },
   "file_extension": ".py",
   "mimetype": "text/x-python",
   "name": "python",
   "nbconvert_exporter": "python",
   "pygments_lexer": "ipython2",
   "version": "2.7.6"
  }
 },
 "nbformat": 4,
 "nbformat_minor": 0
}