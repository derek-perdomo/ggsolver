{
 "cells": [
  {
   "cell_type": "code",
   "execution_count": 2,
   "outputs": [],
   "source": [
    "# This code block is necessary only when using `ggsolver:v0.1` or `ggsolver:devel` docker images.\n",
    "import sys\n",
    "sys.path.append('/home/ggsolver/')"
   ],
   "metadata": {
    "collapsed": false,
    "pycharm": {
     "name": "#%%\n"
    }
   }
  },
  {
   "cell_type": "code",
   "execution_count": 3,
   "outputs": [],
   "source": [
    "# For displaying images in jupyter notebook\n",
    "\n",
    "from IPython.display import Image\n",
    "from IPython.core.display import HTML"
   ],
   "metadata": {
    "collapsed": false,
    "pycharm": {
     "name": "#%%\n"
    }
   }
  },
  {
   "cell_type": "markdown",
   "source": [
    "# Simple Game.\n",
    "\n",
    "Jobstmann Example: We have seen this in class.\n"
   ],
   "metadata": {
    "collapsed": false,
    "pycharm": {
     "name": "#%% md\n"
    }
   }
  },
  {
   "cell_type": "code",
   "execution_count": 4,
   "outputs": [
    {
     "data": {
      "image/png": "[encoded data removed]",
      "text/plain": "<IPython.core.display.Image object>"
     },
     "execution_count": 4,
     "metadata": {},
     "output_type": "execute_result"
    }
   ],
   "source": [
    "Image(\"/home/ggsolver/examples/fmr22_lec14/jobstmann.png\")"
   ],
   "metadata": {
    "collapsed": false,
    "pycharm": {
     "name": "#%%\n"
    }
   }
  },
  {
   "cell_type": "markdown",
   "source": [
    " ## Question 1: What type of game is it?\n"
   ],
   "metadata": {
    "collapsed": false,
    "pycharm": {
     "name": "#%% md\n"
    }
   }
  },
  {
   "cell_type": "code",
   "execution_count": 5,
   "outputs": [],
   "source": [
    "states = list(range(8))\n",
    "actions = [(0, 1), (0, 3), (1, 0), (1, 2), (1, 4), (2, 4), (2, 2), (3, 0), (3, 4), (3, 5), (4, 1), (4, 3), (5, 3),\n",
    "                (5, 6), (6, 6), (6, 7), (7, 0), (7, 3)]\n",
    "trans_dict = {\n",
    "    0: {(0, 1): 1, (0, 3): 3},\n",
    "    1: {(1, 0): 0, (1, 2): 2, (1, 4): 4},\n",
    "    2: {(2, 4): 4, (2, 2): 2},\n",
    "    3: {(3, 0): 0, (3, 4): 4, (3, 5): 5},\n",
    "    4: {(4, 1): 1, (4, 3): 3},\n",
    "    5: {(5, 3): 3, (5, 6): 6},\n",
    "    6: {(6, 6): 6, (6, 7): 7},\n",
    "    7: {(7, 0): 0, (7, 3): 3},\n",
    "}\n",
    "atoms = [f\"p{i}\" for i in states]\n",
    "label = {i: \"p{i}\" for i in states}"
   ],
   "metadata": {
    "collapsed": false,
    "pycharm": {
     "name": "#%%\n"
    }
   }
  },
  {
   "cell_type": "code",
   "execution_count": 6,
   "outputs": [
    {
     "name": "stderr",
     "output_type": "stream",
     "text": [
      "ERROR:root:\u001B[91m[ERROR] logic.pl could not be loaded. Logic functionality will not work. \n",
      "Error: cannot import name 'Automaton' from partially initialized module 'ggsolver.models' (most likely due to a circular import) (/home/ggsolver/ggsolver/models.py)\u001B[0m\n"
     ]
    }
   ],
   "source": [
    "import ggsolver.dtptb as dtptb\n",
    "\n",
    "game = dtptb.DTPTBGame(states=states, actions=actions, trans_dict=trans_dict, atoms=atoms, label=label)"
   ],
   "metadata": {
    "collapsed": false,
    "pycharm": {
     "name": "#%%\n"
    }
   }
  },
  {
   "cell_type": "markdown",
   "source": [
    "## What objective do we want to solve for?\n",
    "\n",
    "Let's choose to visit state 3 or 4. What logic do we need?"
   ],
   "metadata": {
    "collapsed": false,
    "pycharm": {
     "name": "#%% md\n"
    }
   }
  },
  {
   "cell_type": "code",
   "execution_count": 7,
   "outputs": [
    {
     "name": "stdout",
     "output_type": "stream",
     "text": [
      "[INFO] Translating Fp3 | Fp4 with options=('Buchi', 'Deterministic', 'High', 'Complete', 'Unambiguous', 'SBAcc').\n"
     ]
    },
    {
     "data": {
      "text/plain": "<ggsolver.automata.DFA at 0x7f361811cdf0>"
     },
     "execution_count": 7,
     "metadata": {},
     "output_type": "execute_result"
    }
   ],
   "source": [
    "from ggsolver.logic.ltl import ScLTL\n",
    "\n",
    "objective = ScLTL(\"Fp3 | Fp4\")\n",
    "dfa = objective.translate()\n",
    "dfa"
   ],
   "metadata": {
    "collapsed": false,
    "pycharm": {
     "name": "#%%\n"
    }
   }
  },
  {
   "cell_type": "markdown",
   "source": [
    "# How to solve the game?"
   ],
   "metadata": {
    "collapsed": false,
    "pycharm": {
     "name": "#%% md\n"
    }
   }
  },
  {
   "cell_type": "code",
   "execution_count": 8,
   "outputs": [],
   "source": [
    "prod = dtptb.ProductWithDFA(game, dfa)"
   ],
   "metadata": {
    "collapsed": false,
    "pycharm": {
     "name": "#%%\n"
    }
   }
  },
  {
   "cell_type": "code",
   "execution_count": 9,
   "outputs": [
    {
     "data": {
      "text/plain": "[(0, 0),\n (0, 1),\n (1, 0),\n (1, 1),\n (2, 0),\n (2, 1),\n (3, 0),\n (3, 1),\n (4, 0),\n (4, 1),\n (5, 0),\n (5, 1),\n (6, 0),\n (6, 1),\n (7, 0),\n (7, 1)]"
     },
     "execution_count": 9,
     "metadata": {},
     "output_type": "execute_result"
    }
   ],
   "source": [
    "prod.states()"
   ],
   "metadata": {
    "collapsed": false,
    "pycharm": {
     "name": "#%%\n"
    }
   }
  },
  {
   "cell_type": "code",
   "execution_count": 10,
   "outputs": [
    {
     "data": {
      "text/plain": "[(0, 1),\n (0, 3),\n (1, 0),\n (1, 2),\n (1, 4),\n (2, 4),\n (2, 2),\n (3, 0),\n (3, 4),\n (3, 5),\n (4, 1),\n (4, 3),\n (5, 3),\n (5, 6),\n (6, 6),\n (6, 7),\n (7, 0),\n (7, 3)]"
     },
     "execution_count": 10,
     "metadata": {},
     "output_type": "execute_result"
    }
   ],
   "source": [
    "prod.actions()"
   ],
   "metadata": {
    "collapsed": false,
    "pycharm": {
     "name": "#%%\n"
    }
   }
  },
  {
   "cell_type": "code",
   "execution_count": 10,
   "outputs": [],
   "source": [],
   "metadata": {
    "collapsed": false,
    "pycharm": {
     "name": "#%%\n"
    }
   }
  }
 ],
 "metadata": {
  "kernelspec": {
   "display_name": "Python 3",
   "language": "python",
   "name": "python3"
  },
  "language_info": {
   "codemirror_mode": {
    "name": "ipython",
    "version": 2
   },
   "file_extension": ".py",
   "mimetype": "text/x-python",
   "name": "python",
   "nbconvert_exporter": "python",
   "pygments_lexer": "ipython2",
   "version": "2.7.6"
  }
 },
 "nbformat": 4,
 "nbformat_minor": 0
}